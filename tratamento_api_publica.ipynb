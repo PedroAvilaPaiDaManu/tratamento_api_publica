{
 "cells": [
  {
   "cell_type": "code",
   "execution_count": 0,
   "metadata": {
    "application/vnd.databricks.v1+cell": {
     "cellMetadata": {
      "byteLimit": 2048000,
      "rowLimit": 10000
     },
     "inputWidgets": {},
     "nuid": "c3d0eae6-ba5e-4785-98d2-bb0cb26b4786",
     "showTitle": false,
     "title": ""
    }
   },
   "outputs": [
    {
     "output_type": "display_data",
     "data": {
      "text/html": [
       "<style scoped>\n",
       "  .ansiout {\n",
       "    display: block;\n",
       "    unicode-bidi: embed;\n",
       "    white-space: pre-wrap;\n",
       "    word-wrap: break-word;\n",
       "    word-break: break-all;\n",
       "    font-family: \"Source Code Pro\", \"Menlo\", monospace;;\n",
       "    font-size: 13px;\n",
       "    color: #555;\n",
       "    margin-left: 4px;\n",
       "    line-height: 19px;\n",
       "  }\n",
       "</style>\n",
       "<div class=\"ansiout\">Python interpreter will be restarted.\n",
       "Collecting adal\n",
       "  Downloading adal-1.2.7-py2.py3-none-any.whl (55 kB)\n",
       "Requirement already satisfied: PyJWT&lt;3,&gt;=1.0.0 in /databricks/python3/lib/python3.8/site-packages (from adal) (2.7.0)\n",
       "Requirement already satisfied: requests&lt;3,&gt;=2.0.0 in /databricks/python3/lib/python3.8/site-packages (from adal) (2.25.1)\n",
       "Requirement already satisfied: cryptography&gt;=1.1.0 in /databricks/python3/lib/python3.8/site-packages (from adal) (41.0.1)\n",
       "Requirement already satisfied: python-dateutil&lt;3,&gt;=2.1.0 in /databricks/python3/lib/python3.8/site-packages (from adal) (2.8.1)\n",
       "Requirement already satisfied: cffi&gt;=1.12 in /databricks/python3/lib/python3.8/site-packages (from cryptography&gt;=1.1.0-&gt;adal) (1.14.5)\n",
       "Requirement already satisfied: pycparser in /databricks/python3/lib/python3.8/site-packages (from cffi&gt;=1.12-&gt;cryptography&gt;=1.1.0-&gt;adal) (2.20)\n",
       "Requirement already satisfied: six&gt;=1.5 in /databricks/python3/lib/python3.8/site-packages (from python-dateutil&lt;3,&gt;=2.1.0-&gt;adal) (1.15.0)\n",
       "Requirement already satisfied: urllib3&lt;1.27,&gt;=1.21.1 in /databricks/python3/lib/python3.8/site-packages (from requests&lt;3,&gt;=2.0.0-&gt;adal) (1.25.11)\n",
       "Requirement already satisfied: certifi&gt;=2017.4.17 in /databricks/python3/lib/python3.8/site-packages (from requests&lt;3,&gt;=2.0.0-&gt;adal) (2020.12.5)\n",
       "Requirement already satisfied: chardet&lt;5,&gt;=3.0.2 in /databricks/python3/lib/python3.8/site-packages (from requests&lt;3,&gt;=2.0.0-&gt;adal) (4.0.0)\n",
       "Requirement already satisfied: idna&lt;3,&gt;=2.5 in /databricks/python3/lib/python3.8/site-packages (from requests&lt;3,&gt;=2.0.0-&gt;adal) (2.10)\n",
       "Installing collected packages: adal\n",
       "Successfully installed adal-1.2.7\n",
       "WARNING: You are using pip version 21.0.1; however, version 23.1.2 is available.\n",
       "You should consider upgrading via the &#39;/local_disk0/.ephemeral_nfs/envs/pythonEnv-c48475f9-d8cd-4811-800d-e57b3512d0a6/bin/python -m pip install --upgrade pip&#39; command.\n",
       "Python interpreter will be restarted.\n",
       "</div>"
      ]
     },
     "metadata": {
      "application/vnd.databricks.v1+output": {
       "addedWidgets": {},
       "arguments": {},
       "data": "<div class=\"ansiout\">Python interpreter will be restarted.\nCollecting adal\n  Downloading adal-1.2.7-py2.py3-none-any.whl (55 kB)\nRequirement already satisfied: PyJWT&lt;3,&gt;=1.0.0 in /databricks/python3/lib/python3.8/site-packages (from adal) (2.7.0)\nRequirement already satisfied: requests&lt;3,&gt;=2.0.0 in /databricks/python3/lib/python3.8/site-packages (from adal) (2.25.1)\nRequirement already satisfied: cryptography&gt;=1.1.0 in /databricks/python3/lib/python3.8/site-packages (from adal) (41.0.1)\nRequirement already satisfied: python-dateutil&lt;3,&gt;=2.1.0 in /databricks/python3/lib/python3.8/site-packages (from adal) (2.8.1)\nRequirement already satisfied: cffi&gt;=1.12 in /databricks/python3/lib/python3.8/site-packages (from cryptography&gt;=1.1.0-&gt;adal) (1.14.5)\nRequirement already satisfied: pycparser in /databricks/python3/lib/python3.8/site-packages (from cffi&gt;=1.12-&gt;cryptography&gt;=1.1.0-&gt;adal) (2.20)\nRequirement already satisfied: six&gt;=1.5 in /databricks/python3/lib/python3.8/site-packages (from python-dateutil&lt;3,&gt;=2.1.0-&gt;adal) (1.15.0)\nRequirement already satisfied: urllib3&lt;1.27,&gt;=1.21.1 in /databricks/python3/lib/python3.8/site-packages (from requests&lt;3,&gt;=2.0.0-&gt;adal) (1.25.11)\nRequirement already satisfied: certifi&gt;=2017.4.17 in /databricks/python3/lib/python3.8/site-packages (from requests&lt;3,&gt;=2.0.0-&gt;adal) (2020.12.5)\nRequirement already satisfied: chardet&lt;5,&gt;=3.0.2 in /databricks/python3/lib/python3.8/site-packages (from requests&lt;3,&gt;=2.0.0-&gt;adal) (4.0.0)\nRequirement already satisfied: idna&lt;3,&gt;=2.5 in /databricks/python3/lib/python3.8/site-packages (from requests&lt;3,&gt;=2.0.0-&gt;adal) (2.10)\nInstalling collected packages: adal\nSuccessfully installed adal-1.2.7\nWARNING: You are using pip version 21.0.1; however, version 23.1.2 is available.\nYou should consider upgrading via the &#39;/local_disk0/.ephemeral_nfs/envs/pythonEnv-c48475f9-d8cd-4811-800d-e57b3512d0a6/bin/python -m pip install --upgrade pip&#39; command.\nPython interpreter will be restarted.\n</div>",
       "datasetInfos": [],
       "metadata": {},
       "removedWidgets": [],
       "type": "html"
      }
     },
     "output_type": "display_data"
    }
   ],
   "source": [
    "pip install adal"
   ]
  },
  {
   "cell_type": "code",
   "execution_count": 0,
   "metadata": {
    "application/vnd.databricks.v1+cell": {
     "cellMetadata": {
      "byteLimit": 2048000,
      "rowLimit": 10000
     },
     "inputWidgets": {},
     "nuid": "904cd956-9aab-4acf-93eb-ea65d2651dad",
     "showTitle": false,
     "title": ""
    }
   },
   "outputs": [
    {
     "output_type": "display_data",
     "data": {
      "text/html": [
       "<style scoped>\n",
       "  .ansiout {\n",
       "    display: block;\n",
       "    unicode-bidi: embed;\n",
       "    white-space: pre-wrap;\n",
       "    word-wrap: break-word;\n",
       "    word-break: break-all;\n",
       "    font-family: \"Source Code Pro\", \"Menlo\", monospace;;\n",
       "    font-size: 13px;\n",
       "    color: #555;\n",
       "    margin-left: 4px;\n",
       "    line-height: 19px;\n",
       "  }\n",
       "</style>\n",
       "<div class=\"ansiout\">Python interpreter will be restarted.\n",
       "Requirement already satisfied: pandas in /databricks/python3/lib/python3.8/site-packages (1.2.4)\n",
       "Requirement already satisfied: pytz&gt;=2017.3 in /databricks/python3/lib/python3.8/site-packages (from pandas) (2020.5)\n",
       "Requirement already satisfied: python-dateutil&gt;=2.7.3 in /databricks/python3/lib/python3.8/site-packages (from pandas) (2.8.1)\n",
       "Requirement already satisfied: numpy&gt;=1.16.5 in /databricks/python3/lib/python3.8/site-packages (from pandas) (1.19.2)\n",
       "Requirement already satisfied: six&gt;=1.5 in /databricks/python3/lib/python3.8/site-packages (from python-dateutil&gt;=2.7.3-&gt;pandas) (1.15.0)\n",
       "WARNING: You are using pip version 21.0.1; however, version 23.1.2 is available.\n",
       "You should consider upgrading via the &#39;/local_disk0/.ephemeral_nfs/envs/pythonEnv-c48475f9-d8cd-4811-800d-e57b3512d0a6/bin/python -m pip install --upgrade pip&#39; command.\n",
       "Python interpreter will be restarted.\n",
       "</div>"
      ]
     },
     "metadata": {
      "application/vnd.databricks.v1+output": {
       "addedWidgets": {},
       "arguments": {},
       "data": "<div class=\"ansiout\">Python interpreter will be restarted.\nRequirement already satisfied: pandas in /databricks/python3/lib/python3.8/site-packages (1.2.4)\nRequirement already satisfied: pytz&gt;=2017.3 in /databricks/python3/lib/python3.8/site-packages (from pandas) (2020.5)\nRequirement already satisfied: python-dateutil&gt;=2.7.3 in /databricks/python3/lib/python3.8/site-packages (from pandas) (2.8.1)\nRequirement already satisfied: numpy&gt;=1.16.5 in /databricks/python3/lib/python3.8/site-packages (from pandas) (1.19.2)\nRequirement already satisfied: six&gt;=1.5 in /databricks/python3/lib/python3.8/site-packages (from python-dateutil&gt;=2.7.3-&gt;pandas) (1.15.0)\nWARNING: You are using pip version 21.0.1; however, version 23.1.2 is available.\nYou should consider upgrading via the &#39;/local_disk0/.ephemeral_nfs/envs/pythonEnv-c48475f9-d8cd-4811-800d-e57b3512d0a6/bin/python -m pip install --upgrade pip&#39; command.\nPython interpreter will be restarted.\n</div>",
       "datasetInfos": [],
       "metadata": {},
       "removedWidgets": [],
       "type": "html"
      }
     },
     "output_type": "display_data"
    }
   ],
   "source": [
    "pip install pandas"
   ]
  },
  {
   "cell_type": "code",
   "execution_count": 0,
   "metadata": {
    "application/vnd.databricks.v1+cell": {
     "cellMetadata": {
      "byteLimit": 2048000,
      "rowLimit": 10000
     },
     "inputWidgets": {},
     "nuid": "2331d98c-2035-4951-86e3-0af053130624",
     "showTitle": false,
     "title": ""
    }
   },
   "outputs": [
    {
     "output_type": "display_data",
     "data": {
      "text/html": [
       "<style scoped>\n",
       "  .ansiout {\n",
       "    display: block;\n",
       "    unicode-bidi: embed;\n",
       "    white-space: pre-wrap;\n",
       "    word-wrap: break-word;\n",
       "    word-break: break-all;\n",
       "    font-family: \"Source Code Pro\", \"Menlo\", monospace;;\n",
       "    font-size: 13px;\n",
       "    color: #555;\n",
       "    margin-left: 4px;\n",
       "    line-height: 19px;\n",
       "  }\n",
       "</style>\n",
       "<div class=\"ansiout\">Python interpreter will be restarted.\n",
       "Requirement already satisfied: requests in /databricks/python3/lib/python3.8/site-packages (2.25.1)\n",
       "Requirement already satisfied: urllib3&lt;1.27,&gt;=1.21.1 in /databricks/python3/lib/python3.8/site-packages (from requests) (1.25.11)\n",
       "Requirement already satisfied: certifi&gt;=2017.4.17 in /databricks/python3/lib/python3.8/site-packages (from requests) (2020.12.5)\n",
       "Requirement already satisfied: chardet&lt;5,&gt;=3.0.2 in /databricks/python3/lib/python3.8/site-packages (from requests) (4.0.0)\n",
       "Requirement already satisfied: idna&lt;3,&gt;=2.5 in /databricks/python3/lib/python3.8/site-packages (from requests) (2.10)\n",
       "WARNING: You are using pip version 21.0.1; however, version 23.1.2 is available.\n",
       "You should consider upgrading via the &#39;/local_disk0/.ephemeral_nfs/envs/pythonEnv-c48475f9-d8cd-4811-800d-e57b3512d0a6/bin/python -m pip install --upgrade pip&#39; command.\n",
       "Python interpreter will be restarted.\n",
       "</div>"
      ]
     },
     "metadata": {
      "application/vnd.databricks.v1+output": {
       "addedWidgets": {},
       "arguments": {},
       "data": "<div class=\"ansiout\">Python interpreter will be restarted.\nRequirement already satisfied: requests in /databricks/python3/lib/python3.8/site-packages (2.25.1)\nRequirement already satisfied: urllib3&lt;1.27,&gt;=1.21.1 in /databricks/python3/lib/python3.8/site-packages (from requests) (1.25.11)\nRequirement already satisfied: certifi&gt;=2017.4.17 in /databricks/python3/lib/python3.8/site-packages (from requests) (2020.12.5)\nRequirement already satisfied: chardet&lt;5,&gt;=3.0.2 in /databricks/python3/lib/python3.8/site-packages (from requests) (4.0.0)\nRequirement already satisfied: idna&lt;3,&gt;=2.5 in /databricks/python3/lib/python3.8/site-packages (from requests) (2.10)\nWARNING: You are using pip version 21.0.1; however, version 23.1.2 is available.\nYou should consider upgrading via the &#39;/local_disk0/.ephemeral_nfs/envs/pythonEnv-c48475f9-d8cd-4811-800d-e57b3512d0a6/bin/python -m pip install --upgrade pip&#39; command.\nPython interpreter will be restarted.\n</div>",
       "datasetInfos": [],
       "metadata": {},
       "removedWidgets": [],
       "type": "html"
      }
     },
     "output_type": "display_data"
    }
   ],
   "source": [
    "pip install requests"
   ]
  },
  {
   "cell_type": "code",
   "execution_count": 0,
   "metadata": {
    "application/vnd.databricks.v1+cell": {
     "cellMetadata": {
      "byteLimit": 2048000,
      "rowLimit": 10000
     },
     "inputWidgets": {},
     "nuid": "0a0e761e-a0e8-48a7-a4d1-8dc32ea6bf3b",
     "showTitle": false,
     "title": ""
    }
   },
   "outputs": [
    {
     "output_type": "display_data",
     "data": {
      "text/html": [
       "<style scoped>\n",
       "  .ansiout {\n",
       "    display: block;\n",
       "    unicode-bidi: embed;\n",
       "    white-space: pre-wrap;\n",
       "    word-wrap: break-word;\n",
       "    word-break: break-all;\n",
       "    font-family: \"Source Code Pro\", \"Menlo\", monospace;;\n",
       "    font-size: 13px;\n",
       "    color: #555;\n",
       "    margin-left: 4px;\n",
       "    line-height: 19px;\n",
       "  }\n",
       "</style>\n",
       "<div class=\"ansiout\"></div>"
      ]
     },
     "metadata": {
      "application/vnd.databricks.v1+output": {
       "addedWidgets": {},
       "arguments": {},
       "data": "<div class=\"ansiout\"></div>",
       "datasetInfos": [],
       "metadata": {},
       "removedWidgets": [],
       "type": "html"
      }
     },
     "output_type": "display_data"
    }
   ],
   "source": [
    "import adal\n",
    "import pandas as pd\n",
    "from pyspark.sql.types import*\n",
    "from pyspark.sql.functions import*\n",
    "from pyspark.sql import functions as f\n",
    "from pyspark.sql.types import StructType, StructField, StringType, IntegerType"
   ]
  },
  {
   "cell_type": "code",
   "execution_count": 0,
   "metadata": {
    "application/vnd.databricks.v1+cell": {
     "cellMetadata": {
      "byteLimit": 2048000,
      "rowLimit": 10000
     },
     "inputWidgets": {},
     "nuid": "0305e6de-f586-4e2a-a594-1ede45c14ef4",
     "showTitle": false,
     "title": ""
    }
   },
   "outputs": [
    {
     "output_type": "display_data",
     "data": {
      "text/html": [
       "<style scoped>\n",
       "  .ansiout {\n",
       "    display: block;\n",
       "    unicode-bidi: embed;\n",
       "    white-space: pre-wrap;\n",
       "    word-wrap: break-word;\n",
       "    word-break: break-all;\n",
       "    font-family: \"Source Code Pro\", \"Menlo\", monospace;;\n",
       "    font-size: 13px;\n",
       "    color: #555;\n",
       "    margin-left: 4px;\n",
       "    line-height: 19px;\n",
       "  }\n",
       "</style>\n",
       "<div class=\"ansiout\"></div>"
      ]
     },
     "metadata": {
      "application/vnd.databricks.v1+output": {
       "addedWidgets": {},
       "arguments": {},
       "data": "<div class=\"ansiout\"></div>",
       "datasetInfos": [],
       "metadata": {},
       "removedWidgets": [],
       "type": "html"
      }
     },
     "output_type": "display_data"
    }
   ],
   "source": [
    "df = spark.read.option(\"multiline\",\"true\").json(\"wasbs://caminho_do_arquivo\")"
   ]
  },
  {
   "cell_type": "code",
   "execution_count": 0,
   "metadata": {
    "application/vnd.databricks.v1+cell": {
     "cellMetadata": {
      "byteLimit": 2048000,
      "rowLimit": 10000
     },
     "inputWidgets": {},
     "nuid": "1eaad2a9-063e-4e2e-8399-ed1606694958",
     "showTitle": false,
     "title": ""
    }
   },
   "outputs": [
    {
     "output_type": "display_data",
     "data": {
      "text/html": [
       "<style scoped>\n",
       "  .ansiout {\n",
       "    display: block;\n",
       "    unicode-bidi: embed;\n",
       "    white-space: pre-wrap;\n",
       "    word-wrap: break-word;\n",
       "    word-break: break-all;\n",
       "    font-family: \"Source Code Pro\", \"Menlo\", monospace;;\n",
       "    font-size: 13px;\n",
       "    color: #555;\n",
       "    margin-left: 4px;\n",
       "    line-height: 19px;\n",
       "  }\n",
       "</style>\n",
       "<div class=\"ansiout\">+-----------------+---------+--------------------+---------+--------------------+--------------------+------+------------------------------------+------------------------------------+------------------------------------+------------------------------------+------------------------------------+----------------+------------------+--------------+---------------------+----------+-----------+------------------+--------------------+--------------------+--------------------+--------------------+----+---------+--------------------+--------------------+------+-----------+--------------------+--------------------+--------------------+---------------+-------+--------------------+-----------------+\n",
       "        En_Bairro|   En_CEP|      En_Complemento|En_Estado|        En_Municipio|  En_Nome_Logradouro|En_Num|Formulário de Visitação Anual - 2014|Formulário de Visitação Anual - 2015|Formulário de Visitação Anual - 2016|Formulário de Visitação Anual - 2017|Formulário de Visitação Anual - 2018|Museu Cadastrado|Registro de Museus|acessibilidade|acessibilidade_fisica|capacidade|certificado|              cnpj|     createTimestamp|        emailPublico|            endereco|            facebook|  id|instagram|            location|                name|public|razaoSocial|    shortDescription|           singleUrl|                site|telefonePublico|twitter|     updateTimestamp|useOpportunityTab|\n",
       "+-----------------+---------+--------------------+---------+--------------------+--------------------+------+------------------------------------+------------------------------------+------------------------------------+------------------------------------+------------------------------------+----------------+------------------+--------------+---------------------+----------+-----------+------------------+--------------------+--------------------+--------------------+--------------------+----+---------+--------------------+--------------------+------+-----------+--------------------+--------------------+--------------------+---------------+-------+--------------------+-----------------+\n",
       "           Centro| 62766000|Ao lado do Teatro...|       CE|        Guaramiranga|Avenida Vicente S...|   s/n|                                 não|                                 não|                                 não|                                 sim|                                 não|             sim|               não|           Não|           Não possui|      null|       null|              null|{2015-11-10 16:18...|cultura@guaramira...| Avenida Vicente ...|                null|  68|     null|{-4.2618162, -38....|Memorial Juarez B...| false|       null|O Memorial Juarez...|http://museus.cul...|                null|(85) 99707-7232|   null|{2019-05-15 10:46...|             null|\n",
       "Jardim Presidente|79015-350|                    |       MS|        Campo Grande|Rua Josefina Ming...|   s/n|                                 não|                                 não|                                 não|                                 não|                                 não|             sim|               não|           Não|           Não possui|      null|       null|              null|{2015-12-14 18:27...| cadastro@mma.gov.br|Rua Josefina Ming...|                null|6077|     null|{-20.3994566, -54...|Parque Estadual M...| false|       null|Este é outro rema...|http://museus.cul...|                null| (67) 3318-5719|   null|{2017-10-04 09:20...|             null|\n",
       "   Ilha do Fundão|21949-909|Prédio do Centro ...|       RJ|      Rio de Janeiro|UFRJ - Avenida At...|   149|                                 não|                                 não|                                 não|                                 não|                                 não|             sim|               não|           Não|           Não possui|      null|       null|              null|{2015-12-14 18:27...|museu_da_poli@pol...|UFRJ - Avenida At...|                null|6078|     null|{-22.904424, -43....|Museu da Escola P...| false|       null|Museu da Escola P...|http://museus.cul...|http://www.poli.u...| (21) 3938-7723|   null|{2021-08-10 16:39...|             null|\n",
       "           Centro|89820-000|                    |       SC|             Xanxerê|Rua Doutor José d...|   421|                                 não|                                 não|                                 não|                                 não|                                 não|             sim|               não|           Sim|        Não informado|      null|       null|              null|{2015-12-14 18:27...|cultura@xanxere.s...|Rua Doutor José d...|                null|6079|     null|{-26.8775867, -52...|Museu Municipal M...| false|       null|     Museu municipal|http://museus.cul...|                null| (49) 3981-8106|   null|{2021-11-20 18:32...|             null|\n",
       "     Vista Alegre|80820-200|     Jardim Schaffer|       PR|            Curitiba|Rua Francisco Sch...|   s/n|                                 não|                                 não|                                 não|                                 não|                                 não|             sim|               não|           não|                     |      null|       null|              null|{2015-12-14 18:27...|parquesepracas@sm...|Rua Francisco Sch...|                null|6080|     null|{-25.406096, -49....|Memorial Alemão -...| false|       null|                null|http://museus.cul...|http://www.curiti...|               |   null|{2017-05-25 23:22...|             null|\n",
       "           Centro|95020-180|                    |       RS|       Caxias do Sul|Rua Visconde de P...|   586|                                 não|                                 não|                                 sim|                                 sim|                                 não|             sim|               não|           Sim|        não informado|      null|       null|88.830.609/0001-39|{2015-12-14 18:27...|museumunicipal@ca...|Rua Visconde de P...|http://facebook.c...|6081|     null|{-29.1634, -51.17...|Museu Municipal d...| false|       null|Criado por meio d...|http://museus.cul...|http://www.caxias...| (54) 3221-2423|   null|{2019-11-26 12:28...|             null|\n",
       "           Centro|88600-000|                    |       SC|         São Joaquim|Rua Major Jacinto...|   168|                                 não|                                 não|                                 sim|                                 não|                                 não|             sim|               não|           Não|           Não possui|      null|       null|              null|{2015-12-14 18:27...|museusaojoaquim20...|Rua Major Jacinto...|                null|6083|     null|{-28.290464, -49....|Museu Histórico M...| false|       null|Museu Histórico M...|http://museus.cul...|                null| (49) 3233-2798|   null|{2021-02-26 13:55...|             null|\n",
       "      Bom Sucesso|38430-000|                    |       MG|         Tupaciguara|    Praça do Rosário|    12|                                 não|                                 não|                                 não|                                 sim|                                 não|             sim|               sim|           Sim| Circuito de visit...|      null|       null|18.260.489/0001-04|{2015-12-14 18:27...|mariarezendecultu...|Praça do Rosário ...|                null|6084|     null|{-18.589272, -48....|Museu Histórico e...| false|       null|Museu Histórico e...|http://museus.cul...|                    | (34) 3281-0070|   null|{2022-01-11 11:17...|             null|\n",
       "           Centro|62300-000|                    |       CE|     Viçosa do Ceará|Avenida Major Fel...|   s/n|                                 sim|                                 sim|                                 não|                                 sim|                                 não|             sim|               não|           sim| Corrimão nas esca...|      null|       null|              null|{2015-12-14 18:27...|  barretg1@gmail.com|Avenida Major Fel...|https://pt-br.fac...|6085|     null|{-3.5644941, -41....|Memorial Padre An...| false|       null|                   .|http://museus.cul...|                null| (85) 3632-1125|   null|{2017-05-25 23:22...|             null|\n",
       "           Centro|95760-000|                    |       RS|São Sebastião do Caí|Rua Pinheiro Machado|   577|                                 não|                                 não|                                 não|                                 não|                                 não|             sim|               não|           Não|           Não possui|      null|       null|              null|{2015-12-14 18:27...|museu@saosebastia...|Rua Pinheiro Mach...|                null|6087|     null|{-29.5896142, -51...|Museu Histórico V...| false|       null|Museu histórico f...|http://museus.cul...|                null| (51) 3635-2500|   null|{2021-04-13 09:32...|             null|\n",
       "+-----------------+---------+--------------------+---------+--------------------+--------------------+------+------------------------------------+------------------------------------+------------------------------------+------------------------------------+------------------------------------+----------------+------------------+--------------+---------------------+----------+-----------+------------------+--------------------+--------------------+--------------------+--------------------+----+---------+--------------------+--------------------+------+-----------+--------------------+--------------------+--------------------+---------------+-------+--------------------+-----------------+\n",
       "only showing top 10 rows\n",
       "\n",
       "</div>"
      ]
     },
     "metadata": {
      "application/vnd.databricks.v1+output": {
       "addedWidgets": {},
       "arguments": {},
       "data": "<div class=\"ansiout\">+-----------------+---------+--------------------+---------+--------------------+--------------------+------+------------------------------------+------------------------------------+------------------------------------+------------------------------------+------------------------------------+----------------+------------------+--------------+---------------------+----------+-----------+------------------+--------------------+--------------------+--------------------+--------------------+----+---------+--------------------+--------------------+------+-----------+--------------------+--------------------+--------------------+---------------+-------+--------------------+-----------------+\n|        En_Bairro|   En_CEP|      En_Complemento|En_Estado|        En_Municipio|  En_Nome_Logradouro|En_Num|Formulário de Visitação Anual - 2014|Formulário de Visitação Anual - 2015|Formulário de Visitação Anual - 2016|Formulário de Visitação Anual - 2017|Formulário de Visitação Anual - 2018|Museu Cadastrado|Registro de Museus|acessibilidade|acessibilidade_fisica|capacidade|certificado|              cnpj|     createTimestamp|        emailPublico|            endereco|            facebook|  id|instagram|            location|                name|public|razaoSocial|    shortDescription|           singleUrl|                site|telefonePublico|twitter|     updateTimestamp|useOpportunityTab|\n+-----------------+---------+--------------------+---------+--------------------+--------------------+------+------------------------------------+------------------------------------+------------------------------------+------------------------------------+------------------------------------+----------------+------------------+--------------+---------------------+----------+-----------+------------------+--------------------+--------------------+--------------------+--------------------+----+---------+--------------------+--------------------+------+-----------+--------------------+--------------------+--------------------+---------------+-------+--------------------+-----------------+\n|           Centro| 62766000|Ao lado do Teatro...|       CE|        Guaramiranga|Avenida Vicente S...|   s/n|                                 não|                                 não|                                 não|                                 sim|                                 não|             sim|               não|           Não|           Não possui|      null|       null|              null|{2015-11-10 16:18...|cultura@guaramira...| Avenida Vicente ...|                null|  68|     null|{-4.2618162, -38....|Memorial Juarez B...| false|       null|O Memorial Juarez...|http://museus.cul...|                null|(85) 99707-7232|   null|{2019-05-15 10:46...|             null|\n|Jardim Presidente|79015-350|                    |       MS|        Campo Grande|Rua Josefina Ming...|   s/n|                                 não|                                 não|                                 não|                                 não|                                 não|             sim|               não|           Não|           Não possui|      null|       null|              null|{2015-12-14 18:27...| cadastro@mma.gov.br|Rua Josefina Ming...|                null|6077|     null|{-20.3994566, -54...|Parque Estadual M...| false|       null|Este é outro rema...|http://museus.cul...|                null| (67) 3318-5719|   null|{2017-10-04 09:20...|             null|\n|   Ilha do Fundão|21949-909|Prédio do Centro ...|       RJ|      Rio de Janeiro|UFRJ - Avenida At...|   149|                                 não|                                 não|                                 não|                                 não|                                 não|             sim|               não|           Não|           Não possui|      null|       null|              null|{2015-12-14 18:27...|museu_da_poli@pol...|UFRJ - Avenida At...|                null|6078|     null|{-22.904424, -43....|Museu da Escola P...| false|       null|Museu da Escola P...|http://museus.cul...|http://www.poli.u...| (21) 3938-7723|   null|{2021-08-10 16:39...|             null|\n|           Centro|89820-000|                    |       SC|             Xanxerê|Rua Doutor José d...|   421|                                 não|                                 não|                                 não|                                 não|                                 não|             sim|               não|           Sim|        Não informado|      null|       null|              null|{2015-12-14 18:27...|cultura@xanxere.s...|Rua Doutor José d...|                null|6079|     null|{-26.8775867, -52...|Museu Municipal M...| false|       null|     Museu municipal|http://museus.cul...|                null| (49) 3981-8106|   null|{2021-11-20 18:32...|             null|\n|     Vista Alegre|80820-200|     Jardim Schaffer|       PR|            Curitiba|Rua Francisco Sch...|   s/n|                                 não|                                 não|                                 não|                                 não|                                 não|             sim|               não|           não|                     |      null|       null|              null|{2015-12-14 18:27...|parquesepracas@sm...|Rua Francisco Sch...|                null|6080|     null|{-25.406096, -49....|Memorial Alemão -...| false|       null|                null|http://museus.cul...|http://www.curiti...|               |   null|{2017-05-25 23:22...|             null|\n|           Centro|95020-180|                    |       RS|       Caxias do Sul|Rua Visconde de P...|   586|                                 não|                                 não|                                 sim|                                 sim|                                 não|             sim|               não|           Sim|        não informado|      null|       null|88.830.609/0001-39|{2015-12-14 18:27...|museumunicipal@ca...|Rua Visconde de P...|http://facebook.c...|6081|     null|{-29.1634, -51.17...|Museu Municipal d...| false|       null|Criado por meio d...|http://museus.cul...|http://www.caxias...| (54) 3221-2423|   null|{2019-11-26 12:28...|             null|\n|           Centro|88600-000|                    |       SC|         São Joaquim|Rua Major Jacinto...|   168|                                 não|                                 não|                                 sim|                                 não|                                 não|             sim|               não|           Não|           Não possui|      null|       null|              null|{2015-12-14 18:27...|museusaojoaquim20...|Rua Major Jacinto...|                null|6083|     null|{-28.290464, -49....|Museu Histórico M...| false|       null|Museu Histórico M...|http://museus.cul...|                null| (49) 3233-2798|   null|{2021-02-26 13:55...|             null|\n|      Bom Sucesso|38430-000|                    |       MG|         Tupaciguara|    Praça do Rosário|    12|                                 não|                                 não|                                 não|                                 sim|                                 não|             sim|               sim|           Sim| Circuito de visit...|      null|       null|18.260.489/0001-04|{2015-12-14 18:27...|mariarezendecultu...|Praça do Rosário ...|                null|6084|     null|{-18.589272, -48....|Museu Histórico e...| false|       null|Museu Histórico e...|http://museus.cul...|                    | (34) 3281-0070|   null|{2022-01-11 11:17...|             null|\n|           Centro|62300-000|                    |       CE|     Viçosa do Ceará|Avenida Major Fel...|   s/n|                                 sim|                                 sim|                                 não|                                 sim|                                 não|             sim|               não|           sim| Corrimão nas esca...|      null|       null|              null|{2015-12-14 18:27...|  barretg1@gmail.com|Avenida Major Fel...|https://pt-br.fac...|6085|     null|{-3.5644941, -41....|Memorial Padre An...| false|       null|                   .|http://museus.cul...|                null| (85) 3632-1125|   null|{2017-05-25 23:22...|             null|\n|           Centro|95760-000|                    |       RS|São Sebastião do Caí|Rua Pinheiro Machado|   577|                                 não|                                 não|                                 não|                                 não|                                 não|             sim|               não|           Não|           Não possui|      null|       null|              null|{2015-12-14 18:27...|museu@saosebastia...|Rua Pinheiro Mach...|                null|6087|     null|{-29.5896142, -51...|Museu Histórico V...| false|       null|Museu histórico f...|http://museus.cul...|                null| (51) 3635-2500|   null|{2021-04-13 09:32...|             null|\n+-----------------+---------+--------------------+---------+--------------------+--------------------+------+------------------------------------+------------------------------------+------------------------------------+------------------------------------+------------------------------------+----------------+------------------+--------------+---------------------+----------+-----------+------------------+--------------------+--------------------+--------------------+--------------------+----+---------+--------------------+--------------------+------+-----------+--------------------+--------------------+--------------------+---------------+-------+--------------------+-----------------+\nonly showing top 10 rows\n\n</div>",
       "datasetInfos": [],
       "metadata": {},
       "removedWidgets": [],
       "type": "html"
      }
     },
     "output_type": "display_data"
    }
   ],
   "source": [
    "df.show(10)"
   ]
  },
  {
   "cell_type": "code",
   "execution_count": 0,
   "metadata": {
    "application/vnd.databricks.v1+cell": {
     "cellMetadata": {
      "byteLimit": 2048000,
      "rowLimit": 10000
     },
     "inputWidgets": {},
     "nuid": "d0298cc2-d9f1-4bb4-b75b-fb6776eec857",
     "showTitle": false,
     "title": ""
    }
   },
   "outputs": [
    {
     "output_type": "display_data",
     "data": {
      "text/html": [
       "<style scoped>\n",
       "  .ansiout {\n",
       "    display: block;\n",
       "    unicode-bidi: embed;\n",
       "    white-space: pre-wrap;\n",
       "    word-wrap: break-word;\n",
       "    word-break: break-all;\n",
       "    font-family: \"Source Code Pro\", \"Menlo\", monospace;;\n",
       "    font-size: 13px;\n",
       "    color: #555;\n",
       "    margin-left: 4px;\n",
       "    line-height: 19px;\n",
       "  }\n",
       "</style>\n",
       "<div class=\"ansiout\"></div>"
      ]
     },
     "metadata": {
      "application/vnd.databricks.v1+output": {
       "addedWidgets": {},
       "arguments": {},
       "data": "<div class=\"ansiout\"></div>",
       "datasetInfos": [],
       "metadata": {},
       "removedWidgets": [],
       "type": "html"
      }
     },
     "output_type": "display_data"
    }
   ],
   "source": [
    "df2 = df.select(col(\"id\").alias(\"Id\"),\n",
    "               col(\"name\").alias(\"Nome\"),\n",
    "               col(\"En_Nome_Logradouro\").alias(\"Rua\"),\n",
    "               col(\"telefonePublico\").alias(\"Telefone\"),                \n",
    "               col(\"En_Num\").alias(\"Número\"),\n",
    "               col(\"En_Bairro\").alias(\"Bairro\"),\n",
    "               col(\"En_Municipio\").alias(\"Municipio\"),\n",
    "               col(\"En_Estado\").alias(\"Estado\"),\n",
    "               col(\"En_CEP\").alias(\"CEP\"),\n",
    "               col(\"acessibilidade\").alias(\"acessibilidade\"),\n",
    "               col(\"public\").alias(\"publico_ou_privado\"),\n",
    "               col(\"location.latitude\").alias(\"Latitude\"),\n",
    "               col(\"shortDescription\").alias(\"descrição_museu\"),\n",
    "               col(\"endereco\").alias(\"endereco_museu\"),\n",
    "               col(\"location.longitude\").alias(\"Longitude\")\n",
    "              )"
   ]
  },
  {
   "cell_type": "code",
   "execution_count": 0,
   "metadata": {
    "application/vnd.databricks.v1+cell": {
     "cellMetadata": {
      "byteLimit": 2048000,
      "rowLimit": 10000
     },
     "inputWidgets": {},
     "nuid": "adb4d2db-3803-4144-bfa0-4764e994a15b",
     "showTitle": false,
     "title": ""
    }
   },
   "outputs": [
    {
     "output_type": "display_data",
     "data": {
      "text/html": [
       "<style scoped>\n",
       "  .ansiout {\n",
       "    display: block;\n",
       "    unicode-bidi: embed;\n",
       "    white-space: pre-wrap;\n",
       "    word-wrap: break-word;\n",
       "    word-break: break-all;\n",
       "    font-family: \"Source Code Pro\", \"Menlo\", monospace;;\n",
       "    font-size: 13px;\n",
       "    color: #555;\n",
       "    margin-left: 4px;\n",
       "    line-height: 19px;\n",
       "  }\n",
       "</style>\n",
       "<div class=\"ansiout\"></div>"
      ]
     },
     "metadata": {
      "application/vnd.databricks.v1+output": {
       "addedWidgets": {},
       "arguments": {},
       "data": "<div class=\"ansiout\"></div>",
       "datasetInfos": [],
       "metadata": {},
       "removedWidgets": [],
       "type": "html"
      }
     },
     "output_type": "display_data"
    }
   ],
   "source": [
    "#limpando a coluna telefone\n",
    "df2 = df2.withColumn(\"Telefone\", when(df2.Telefone == \"\", \"Não Informado\")\n",
    "                                    .otherwise(df2.Telefone))"
   ]
  },
  {
   "cell_type": "code",
   "execution_count": 0,
   "metadata": {
    "application/vnd.databricks.v1+cell": {
     "cellMetadata": {
      "byteLimit": 2048000,
      "rowLimit": 10000
     },
     "inputWidgets": {},
     "nuid": "60ed9b2e-ed67-4593-aa93-bdcd66d1620e",
     "showTitle": false,
     "title": ""
    }
   },
   "outputs": [
    {
     "output_type": "display_data",
     "data": {
      "text/html": [
       "<style scoped>\n",
       "  .ansiout {\n",
       "    display: block;\n",
       "    unicode-bidi: embed;\n",
       "    white-space: pre-wrap;\n",
       "    word-wrap: break-word;\n",
       "    word-break: break-all;\n",
       "    font-family: \"Source Code Pro\", \"Menlo\", monospace;;\n",
       "    font-size: 13px;\n",
       "    color: #555;\n",
       "    margin-left: 4px;\n",
       "    line-height: 19px;\n",
       "  }\n",
       "</style>\n",
       "<div class=\"ansiout\">+----+--------------------+--------------------+---------------+------+-----------------+--------------------+------+---------+--------------+------------------+-----------+--------------------+--------------------+-----------+\n",
       "  Id|                Nome|                 Rua|       Telefone|Número|           Bairro|           Municipio|Estado|      CEP|acessibilidade|publico_ou_privado|   Latitude|     descrição_museu|      endereco_museu|  Longitude|\n",
       "+----+--------------------+--------------------+---------------+------+-----------------+--------------------+------+---------+--------------+------------------+-----------+--------------------+--------------------+-----------+\n",
       "  68|Memorial Juarez B...|Avenida Vicente S...|(85) 99707-7232|   s/n|           Centro|        Guaramiranga|    CE| 62766000|           Não|             false| -4.2618162|O Memorial Juarez...| Avenida Vicente ...|-38.9330716|\n",
       "6077|Parque Estadual M...|Rua Josefina Ming...| (67) 3318-5719|   s/n|Jardim Presidente|        Campo Grande|    MS|79015-350|           Não|             false|-20.3994566|Este é outro rema...|Rua Josefina Ming...| -54.585565|\n",
       "6078|Museu da Escola P...|UFRJ - Avenida At...| (21) 3938-7723|   149|   Ilha do Fundão|      Rio de Janeiro|    RJ|21949-909|           Não|             false| -22.904424|Museu da Escola P...|UFRJ - Avenida At...| -43.228568|\n",
       "6079|Museu Municipal M...|Rua Doutor José d...| (49) 3981-8106|   421|           Centro|             Xanxerê|    SC|89820-000|           Sim|             false|-26.8775867|     Museu municipal|Rua Doutor José d...|-52.4025932|\n",
       "6080|Memorial Alemão -...|Rua Francisco Sch...|  Não Informado|   s/n|     Vista Alegre|            Curitiba|    PR|80820-200|           não|             false| -25.406096|                null|Rua Francisco Sch...| -49.285545|\n",
       "6081|Museu Municipal d...|Rua Visconde de P...| (54) 3221-2423|   586|           Centro|       Caxias do Sul|    RS|95020-180|           Sim|             false|   -29.1634|Criado por meio d...|Rua Visconde de P...| -51.179675|\n",
       "6083|Museu Histórico M...|Rua Major Jacinto...| (49) 3233-2798|   168|           Centro|         São Joaquim|    SC|88600-000|           Não|             false| -28.290464|Museu Histórico M...|Rua Major Jacinto...| -49.937584|\n",
       "6084|Museu Histórico e...|    Praça do Rosário| (34) 3281-0070|    12|      Bom Sucesso|         Tupaciguara|    MG|38430-000|           Sim|             false| -18.589272|Museu Histórico e...|Praça do Rosário ...| -48.709766|\n",
       "6085|Memorial Padre An...|Avenida Major Fel...| (85) 3632-1125|   s/n|           Centro|     Viçosa do Ceará|    CE|62300-000|           sim|             false| -3.5644941|                   .|Avenida Major Fel...|-41.0921618|\n",
       "6087|Museu Histórico V...|Rua Pinheiro Machado| (51) 3635-2500|   577|           Centro|São Sebastião do Caí|    RS|95760-000|           Não|             false|-29.5896142|Museu histórico f...|Rua Pinheiro Mach...|-51.3764282|\n",
       "+----+--------------------+--------------------+---------------+------+-----------------+--------------------+------+---------+--------------+------------------+-----------+--------------------+--------------------+-----------+\n",
       "only showing top 10 rows\n",
       "\n",
       "</div>"
      ]
     },
     "metadata": {
      "application/vnd.databricks.v1+output": {
       "addedWidgets": {},
       "arguments": {},
       "data": "<div class=\"ansiout\">+----+--------------------+--------------------+---------------+------+-----------------+--------------------+------+---------+--------------+------------------+-----------+--------------------+--------------------+-----------+\n|  Id|                Nome|                 Rua|       Telefone|Número|           Bairro|           Municipio|Estado|      CEP|acessibilidade|publico_ou_privado|   Latitude|     descrição_museu|      endereco_museu|  Longitude|\n+----+--------------------+--------------------+---------------+------+-----------------+--------------------+------+---------+--------------+------------------+-----------+--------------------+--------------------+-----------+\n|  68|Memorial Juarez B...|Avenida Vicente S...|(85) 99707-7232|   s/n|           Centro|        Guaramiranga|    CE| 62766000|           Não|             false| -4.2618162|O Memorial Juarez...| Avenida Vicente ...|-38.9330716|\n|6077|Parque Estadual M...|Rua Josefina Ming...| (67) 3318-5719|   s/n|Jardim Presidente|        Campo Grande|    MS|79015-350|           Não|             false|-20.3994566|Este é outro rema...|Rua Josefina Ming...| -54.585565|\n|6078|Museu da Escola P...|UFRJ - Avenida At...| (21) 3938-7723|   149|   Ilha do Fundão|      Rio de Janeiro|    RJ|21949-909|           Não|             false| -22.904424|Museu da Escola P...|UFRJ - Avenida At...| -43.228568|\n|6079|Museu Municipal M...|Rua Doutor José d...| (49) 3981-8106|   421|           Centro|             Xanxerê|    SC|89820-000|           Sim|             false|-26.8775867|     Museu municipal|Rua Doutor José d...|-52.4025932|\n|6080|Memorial Alemão -...|Rua Francisco Sch...|  Não Informado|   s/n|     Vista Alegre|            Curitiba|    PR|80820-200|           não|             false| -25.406096|                null|Rua Francisco Sch...| -49.285545|\n|6081|Museu Municipal d...|Rua Visconde de P...| (54) 3221-2423|   586|           Centro|       Caxias do Sul|    RS|95020-180|           Sim|             false|   -29.1634|Criado por meio d...|Rua Visconde de P...| -51.179675|\n|6083|Museu Histórico M...|Rua Major Jacinto...| (49) 3233-2798|   168|           Centro|         São Joaquim|    SC|88600-000|           Não|             false| -28.290464|Museu Histórico M...|Rua Major Jacinto...| -49.937584|\n|6084|Museu Histórico e...|    Praça do Rosário| (34) 3281-0070|    12|      Bom Sucesso|         Tupaciguara|    MG|38430-000|           Sim|             false| -18.589272|Museu Histórico e...|Praça do Rosário ...| -48.709766|\n|6085|Memorial Padre An...|Avenida Major Fel...| (85) 3632-1125|   s/n|           Centro|     Viçosa do Ceará|    CE|62300-000|           sim|             false| -3.5644941|                   .|Avenida Major Fel...|-41.0921618|\n|6087|Museu Histórico V...|Rua Pinheiro Machado| (51) 3635-2500|   577|           Centro|São Sebastião do Caí|    RS|95760-000|           Não|             false|-29.5896142|Museu histórico f...|Rua Pinheiro Mach...|-51.3764282|\n+----+--------------------+--------------------+---------------+------+-----------------+--------------------+------+---------+--------------+------------------+-----------+--------------------+--------------------+-----------+\nonly showing top 10 rows\n\n</div>",
       "datasetInfos": [],
       "metadata": {},
       "removedWidgets": [],
       "type": "html"
      }
     },
     "output_type": "display_data"
    }
   ],
   "source": [
    "df2.show(10)"
   ]
  },
  {
   "cell_type": "code",
   "execution_count": 0,
   "metadata": {
    "application/vnd.databricks.v1+cell": {
     "cellMetadata": {
      "byteLimit": 2048000,
      "rowLimit": 10000
     },
     "inputWidgets": {},
     "nuid": "0b397988-14e5-4745-b77b-a468eb2b6b00",
     "showTitle": false,
     "title": ""
    }
   },
   "outputs": [
    {
     "output_type": "display_data",
     "data": {
      "text/html": [
       "<style scoped>\n",
       "  .ansiout {\n",
       "    display: block;\n",
       "    unicode-bidi: embed;\n",
       "    white-space: pre-wrap;\n",
       "    word-wrap: break-word;\n",
       "    word-break: break-all;\n",
       "    font-family: \"Source Code Pro\", \"Menlo\", monospace;;\n",
       "    font-size: 13px;\n",
       "    color: #555;\n",
       "    margin-left: 4px;\n",
       "    line-height: 19px;\n",
       "  }\n",
       "</style>\n",
       "<div class=\"ansiout\">Out[9]: [Row(publico_ou_privado=True), Row(publico_ou_privado=False)]</div>"
      ]
     },
     "metadata": {
      "application/vnd.databricks.v1+output": {
       "addedWidgets": {},
       "arguments": {},
       "data": "<div class=\"ansiout\">Out[9]: [Row(publico_ou_privado=True), Row(publico_ou_privado=False)]</div>",
       "datasetInfos": [],
       "metadata": {},
       "removedWidgets": [],
       "type": "html"
      }
     },
     "output_type": "display_data"
    }
   ],
   "source": [
    "df2.select('publico_ou_privado').distinct().collect()"
   ]
  },
  {
   "cell_type": "code",
   "execution_count": 0,
   "metadata": {
    "application/vnd.databricks.v1+cell": {
     "cellMetadata": {
      "byteLimit": 2048000,
      "rowLimit": 10000
     },
     "inputWidgets": {},
     "nuid": "b83296f5-7e73-45b9-a136-5e54cd17c5c7",
     "showTitle": false,
     "title": ""
    }
   },
   "outputs": [
    {
     "output_type": "display_data",
     "data": {
      "text/html": [
       "<style scoped>\n",
       "  .ansiout {\n",
       "    display: block;\n",
       "    unicode-bidi: embed;\n",
       "    white-space: pre-wrap;\n",
       "    word-wrap: break-word;\n",
       "    word-break: break-all;\n",
       "    font-family: \"Source Code Pro\", \"Menlo\", monospace;;\n",
       "    font-size: 13px;\n",
       "    color: #555;\n",
       "    margin-left: 4px;\n",
       "    line-height: 19px;\n",
       "  }\n",
       "</style>\n",
       "<div class=\"ansiout\"></div>"
      ]
     },
     "metadata": {
      "application/vnd.databricks.v1+output": {
       "addedWidgets": {},
       "arguments": {},
       "data": "<div class=\"ansiout\"></div>",
       "datasetInfos": [],
       "metadata": {},
       "removedWidgets": [],
       "type": "html"
      }
     },
     "output_type": "display_data"
    }
   ],
   "source": [
    "df2 = df2.withColumn(\"publico_ou_privado\", when(df2.publico_ou_privado == \"false\", \"Não\").otherwise(\"Sim\"))"
   ]
  },
  {
   "cell_type": "code",
   "execution_count": 0,
   "metadata": {
    "application/vnd.databricks.v1+cell": {
     "cellMetadata": {
      "byteLimit": 2048000,
      "rowLimit": 10000
     },
     "inputWidgets": {},
     "nuid": "fd2f63a2-c1d7-4580-bb55-3e66ce4acdb6",
     "showTitle": false,
     "title": ""
    }
   },
   "outputs": [
    {
     "output_type": "display_data",
     "data": {
      "text/html": [
       "<style scoped>\n",
       "  .ansiout {\n",
       "    display: block;\n",
       "    unicode-bidi: embed;\n",
       "    white-space: pre-wrap;\n",
       "    word-wrap: break-word;\n",
       "    word-break: break-all;\n",
       "    font-family: \"Source Code Pro\", \"Menlo\", monospace;;\n",
       "    font-size: 13px;\n",
       "    color: #555;\n",
       "    margin-left: 4px;\n",
       "    line-height: 19px;\n",
       "  }\n",
       "</style>\n",
       "<div class=\"ansiout\">+----+--------------------+--------------------+---------------+------+-----------------+--------------------+------+---------+--------------+------------------+-----------+--------------------+--------------------+-----------+\n",
       "  Id|                Nome|                 Rua|       Telefone|Número|           Bairro|           Municipio|Estado|      CEP|acessibilidade|publico_ou_privado|   Latitude|     descrição_museu|      endereco_museu|  Longitude|\n",
       "+----+--------------------+--------------------+---------------+------+-----------------+--------------------+------+---------+--------------+------------------+-----------+--------------------+--------------------+-----------+\n",
       "  68|Memorial Juarez B...|Avenida Vicente S...|(85) 99707-7232|   s/n|           Centro|        Guaramiranga|    CE| 62766000|           Não|               Não| -4.2618162|O Memorial Juarez...| Avenida Vicente ...|-38.9330716|\n",
       "6077|Parque Estadual M...|Rua Josefina Ming...| (67) 3318-5719|   s/n|Jardim Presidente|        Campo Grande|    MS|79015-350|           Não|               Não|-20.3994566|Este é outro rema...|Rua Josefina Ming...| -54.585565|\n",
       "6078|Museu da Escola P...|UFRJ - Avenida At...| (21) 3938-7723|   149|   Ilha do Fundão|      Rio de Janeiro|    RJ|21949-909|           Não|               Não| -22.904424|Museu da Escola P...|UFRJ - Avenida At...| -43.228568|\n",
       "6079|Museu Municipal M...|Rua Doutor José d...| (49) 3981-8106|   421|           Centro|             Xanxerê|    SC|89820-000|           Sim|               Não|-26.8775867|     Museu municipal|Rua Doutor José d...|-52.4025932|\n",
       "6080|Memorial Alemão -...|Rua Francisco Sch...|  Não Informado|   s/n|     Vista Alegre|            Curitiba|    PR|80820-200|           não|               Não| -25.406096|                null|Rua Francisco Sch...| -49.285545|\n",
       "6081|Museu Municipal d...|Rua Visconde de P...| (54) 3221-2423|   586|           Centro|       Caxias do Sul|    RS|95020-180|           Sim|               Não|   -29.1634|Criado por meio d...|Rua Visconde de P...| -51.179675|\n",
       "6083|Museu Histórico M...|Rua Major Jacinto...| (49) 3233-2798|   168|           Centro|         São Joaquim|    SC|88600-000|           Não|               Não| -28.290464|Museu Histórico M...|Rua Major Jacinto...| -49.937584|\n",
       "6084|Museu Histórico e...|    Praça do Rosário| (34) 3281-0070|    12|      Bom Sucesso|         Tupaciguara|    MG|38430-000|           Sim|               Não| -18.589272|Museu Histórico e...|Praça do Rosário ...| -48.709766|\n",
       "6085|Memorial Padre An...|Avenida Major Fel...| (85) 3632-1125|   s/n|           Centro|     Viçosa do Ceará|    CE|62300-000|           sim|               Não| -3.5644941|                   .|Avenida Major Fel...|-41.0921618|\n",
       "6087|Museu Histórico V...|Rua Pinheiro Machado| (51) 3635-2500|   577|           Centro|São Sebastião do Caí|    RS|95760-000|           Não|               Não|-29.5896142|Museu histórico f...|Rua Pinheiro Mach...|-51.3764282|\n",
       "+----+--------------------+--------------------+---------------+------+-----------------+--------------------+------+---------+--------------+------------------+-----------+--------------------+--------------------+-----------+\n",
       "only showing top 10 rows\n",
       "\n",
       "</div>"
      ]
     },
     "metadata": {
      "application/vnd.databricks.v1+output": {
       "addedWidgets": {},
       "arguments": {},
       "data": "<div class=\"ansiout\">+----+--------------------+--------------------+---------------+------+-----------------+--------------------+------+---------+--------------+------------------+-----------+--------------------+--------------------+-----------+\n|  Id|                Nome|                 Rua|       Telefone|Número|           Bairro|           Municipio|Estado|      CEP|acessibilidade|publico_ou_privado|   Latitude|     descrição_museu|      endereco_museu|  Longitude|\n+----+--------------------+--------------------+---------------+------+-----------------+--------------------+------+---------+--------------+------------------+-----------+--------------------+--------------------+-----------+\n|  68|Memorial Juarez B...|Avenida Vicente S...|(85) 99707-7232|   s/n|           Centro|        Guaramiranga|    CE| 62766000|           Não|               Não| -4.2618162|O Memorial Juarez...| Avenida Vicente ...|-38.9330716|\n|6077|Parque Estadual M...|Rua Josefina Ming...| (67) 3318-5719|   s/n|Jardim Presidente|        Campo Grande|    MS|79015-350|           Não|               Não|-20.3994566|Este é outro rema...|Rua Josefina Ming...| -54.585565|\n|6078|Museu da Escola P...|UFRJ - Avenida At...| (21) 3938-7723|   149|   Ilha do Fundão|      Rio de Janeiro|    RJ|21949-909|           Não|               Não| -22.904424|Museu da Escola P...|UFRJ - Avenida At...| -43.228568|\n|6079|Museu Municipal M...|Rua Doutor José d...| (49) 3981-8106|   421|           Centro|             Xanxerê|    SC|89820-000|           Sim|               Não|-26.8775867|     Museu municipal|Rua Doutor José d...|-52.4025932|\n|6080|Memorial Alemão -...|Rua Francisco Sch...|  Não Informado|   s/n|     Vista Alegre|            Curitiba|    PR|80820-200|           não|               Não| -25.406096|                null|Rua Francisco Sch...| -49.285545|\n|6081|Museu Municipal d...|Rua Visconde de P...| (54) 3221-2423|   586|           Centro|       Caxias do Sul|    RS|95020-180|           Sim|               Não|   -29.1634|Criado por meio d...|Rua Visconde de P...| -51.179675|\n|6083|Museu Histórico M...|Rua Major Jacinto...| (49) 3233-2798|   168|           Centro|         São Joaquim|    SC|88600-000|           Não|               Não| -28.290464|Museu Histórico M...|Rua Major Jacinto...| -49.937584|\n|6084|Museu Histórico e...|    Praça do Rosário| (34) 3281-0070|    12|      Bom Sucesso|         Tupaciguara|    MG|38430-000|           Sim|               Não| -18.589272|Museu Histórico e...|Praça do Rosário ...| -48.709766|\n|6085|Memorial Padre An...|Avenida Major Fel...| (85) 3632-1125|   s/n|           Centro|     Viçosa do Ceará|    CE|62300-000|           sim|               Não| -3.5644941|                   .|Avenida Major Fel...|-41.0921618|\n|6087|Museu Histórico V...|Rua Pinheiro Machado| (51) 3635-2500|   577|           Centro|São Sebastião do Caí|    RS|95760-000|           Não|               Não|-29.5896142|Museu histórico f...|Rua Pinheiro Mach...|-51.3764282|\n+----+--------------------+--------------------+---------------+------+-----------------+--------------------+------+---------+--------------+------------------+-----------+--------------------+--------------------+-----------+\nonly showing top 10 rows\n\n</div>",
       "datasetInfos": [],
       "metadata": {},
       "removedWidgets": [],
       "type": "html"
      }
     },
     "output_type": "display_data"
    }
   ],
   "source": [
    "df2.show(10)"
   ]
  },
  {
   "cell_type": "code",
   "execution_count": 0,
   "metadata": {
    "application/vnd.databricks.v1+cell": {
     "cellMetadata": {
      "byteLimit": 2048000,
      "rowLimit": 10000
     },
     "inputWidgets": {},
     "nuid": "5f4e91e7-2cac-461f-9dd4-3fbb73456fff",
     "showTitle": false,
     "title": ""
    }
   },
   "outputs": [
    {
     "output_type": "display_data",
     "data": {
      "text/html": [
       "<style scoped>\n",
       "  .ansiout {\n",
       "    display: block;\n",
       "    unicode-bidi: embed;\n",
       "    white-space: pre-wrap;\n",
       "    word-wrap: break-word;\n",
       "    word-break: break-all;\n",
       "    font-family: \"Source Code Pro\", \"Menlo\", monospace;;\n",
       "    font-size: 13px;\n",
       "    color: #555;\n",
       "    margin-left: 4px;\n",
       "    line-height: 19px;\n",
       "  }\n",
       "</style>\n",
       "<div class=\"ansiout\">Out[13]: [Row(Estado=&#39;SC&#39;),\n",
       " Row(Estado=&#39;RO&#39;),\n",
       " Row(Estado=&#39;Santa Catarina&#39;),\n",
       " Row(Estado=&#39;PI&#39;),\n",
       " Row(Estado=&#39;AM&#39;),\n",
       " Row(Estado=&#39;RR&#39;),\n",
       " Row(Estado=&#39;GO&#39;),\n",
       " Row(Estado=&#39;TO&#39;),\n",
       " Row(Estado=&#39;MT&#39;),\n",
       " Row(Estado=&#39;Alagoas&#39;),\n",
       " Row(Estado=&#39;SP&#39;),\n",
       " Row(Estado=&#39;ES&#39;),\n",
       " Row(Estado=&#39;PB&#39;),\n",
       " Row(Estado=&#39;RS&#39;),\n",
       " Row(Estado=&#39;MS&#39;),\n",
       " Row(Estado=&#39;AL&#39;),\n",
       " Row(Estado=&#39;Rio Grande do Sul&#39;),\n",
       " Row(Estado=&#39;MG&#39;),\n",
       " Row(Estado=&#39;PA&#39;),\n",
       " Row(Estado=&#39;BA&#39;),\n",
       " Row(Estado=&#39;São Paulo&#39;),\n",
       " Row(Estado=&#39;SE&#39;),\n",
       " Row(Estado=&#39;PE&#39;),\n",
       " Row(Estado=&#39;CE&#39;),\n",
       " Row(Estado=&#39;Rio de Janeiro&#39;),\n",
       " Row(Estado=&#39;RN&#39;),\n",
       " Row(Estado=&#39;RJ&#39;),\n",
       " Row(Estado=&#39;Maranhão&#39;),\n",
       " Row(Estado=&#39;MA&#39;),\n",
       " Row(Estado=&#39;AC&#39;),\n",
       " Row(Estado=&#39;DF&#39;),\n",
       " Row(Estado=&#39;PR&#39;),\n",
       " Row(Estado=&#39;AP&#39;)]</div>"
      ]
     },
     "metadata": {
      "application/vnd.databricks.v1+output": {
       "addedWidgets": {},
       "arguments": {},
       "data": "<div class=\"ansiout\">Out[13]: [Row(Estado=&#39;SC&#39;),\n Row(Estado=&#39;RO&#39;),\n Row(Estado=&#39;Santa Catarina&#39;),\n Row(Estado=&#39;PI&#39;),\n Row(Estado=&#39;AM&#39;),\n Row(Estado=&#39;RR&#39;),\n Row(Estado=&#39;GO&#39;),\n Row(Estado=&#39;TO&#39;),\n Row(Estado=&#39;MT&#39;),\n Row(Estado=&#39;Alagoas&#39;),\n Row(Estado=&#39;SP&#39;),\n Row(Estado=&#39;ES&#39;),\n Row(Estado=&#39;PB&#39;),\n Row(Estado=&#39;RS&#39;),\n Row(Estado=&#39;MS&#39;),\n Row(Estado=&#39;AL&#39;),\n Row(Estado=&#39;Rio Grande do Sul&#39;),\n Row(Estado=&#39;MG&#39;),\n Row(Estado=&#39;PA&#39;),\n Row(Estado=&#39;BA&#39;),\n Row(Estado=&#39;São Paulo&#39;),\n Row(Estado=&#39;SE&#39;),\n Row(Estado=&#39;PE&#39;),\n Row(Estado=&#39;CE&#39;),\n Row(Estado=&#39;Rio de Janeiro&#39;),\n Row(Estado=&#39;RN&#39;),\n Row(Estado=&#39;RJ&#39;),\n Row(Estado=&#39;Maranhão&#39;),\n Row(Estado=&#39;MA&#39;),\n Row(Estado=&#39;AC&#39;),\n Row(Estado=&#39;DF&#39;),\n Row(Estado=&#39;PR&#39;),\n Row(Estado=&#39;AP&#39;)]</div>",
       "datasetInfos": [],
       "metadata": {},
       "removedWidgets": [],
       "type": "html"
      }
     },
     "output_type": "display_data"
    }
   ],
   "source": [
    "df2.select('Estado').distinct().collect()"
   ]
  },
  {
   "cell_type": "code",
   "execution_count": 0,
   "metadata": {
    "application/vnd.databricks.v1+cell": {
     "cellMetadata": {
      "byteLimit": 2048000,
      "rowLimit": 10000
     },
     "inputWidgets": {},
     "nuid": "42a5d9c6-3bb0-4285-a22b-9bea105b631d",
     "showTitle": false,
     "title": ""
    }
   },
   "outputs": [
    {
     "output_type": "display_data",
     "data": {
      "text/html": [
       "<style scoped>\n",
       "  .ansiout {\n",
       "    display: block;\n",
       "    unicode-bidi: embed;\n",
       "    white-space: pre-wrap;\n",
       "    word-wrap: break-word;\n",
       "    word-break: break-all;\n",
       "    font-family: \"Source Code Pro\", \"Menlo\", monospace;;\n",
       "    font-size: 13px;\n",
       "    color: #555;\n",
       "    margin-left: 4px;\n",
       "    line-height: 19px;\n",
       "  }\n",
       "</style>\n",
       "<div class=\"ansiout\"></div>"
      ]
     },
     "metadata": {
      "application/vnd.databricks.v1+output": {
       "addedWidgets": {},
       "arguments": {},
       "data": "<div class=\"ansiout\"></div>",
       "datasetInfos": [],
       "metadata": {},
       "removedWidgets": [],
       "type": "html"
      }
     },
     "output_type": "display_data"
    }
   ],
   "source": [
    "di_sg = {\"Santa Catarina\" :\"SC\",\"Alagoas\":\"AL\",\"Rio Grande do Sul\":\"RS\", \"São Paulo\": \"SP\",\"Rio de Janeiro\":\"RJ\", \"Maranhão\" : \"MA\"}\n",
    "for Estado in di_sg.keys():\n",
    "    df2 = df2.withColumn(\"Estado\", regexp_replace(\"Estado\", Estado, di_sg[Estado]))"
   ]
  },
  {
   "cell_type": "code",
   "execution_count": 0,
   "metadata": {
    "application/vnd.databricks.v1+cell": {
     "cellMetadata": {
      "byteLimit": 2048000,
      "rowLimit": 10000
     },
     "inputWidgets": {},
     "nuid": "05f6448d-4321-49ea-b644-2b27c451bbbd",
     "showTitle": false,
     "title": ""
    }
   },
   "outputs": [
    {
     "output_type": "display_data",
     "data": {
      "text/html": [
       "<style scoped>\n",
       "  .ansiout {\n",
       "    display: block;\n",
       "    unicode-bidi: embed;\n",
       "    white-space: pre-wrap;\n",
       "    word-wrap: break-word;\n",
       "    word-break: break-all;\n",
       "    font-family: \"Source Code Pro\", \"Menlo\", monospace;;\n",
       "    font-size: 13px;\n",
       "    color: #555;\n",
       "    margin-left: 4px;\n",
       "    line-height: 19px;\n",
       "  }\n",
       "</style>\n",
       "<div class=\"ansiout\">Out[15]: [Row(Estado=&#39;SC&#39;),\n",
       " Row(Estado=&#39;RO&#39;),\n",
       " Row(Estado=&#39;PI&#39;),\n",
       " Row(Estado=&#39;AM&#39;),\n",
       " Row(Estado=&#39;RR&#39;),\n",
       " Row(Estado=&#39;GO&#39;),\n",
       " Row(Estado=&#39;TO&#39;),\n",
       " Row(Estado=&#39;MT&#39;),\n",
       " Row(Estado=&#39;SP&#39;),\n",
       " Row(Estado=&#39;ES&#39;),\n",
       " Row(Estado=&#39;PB&#39;),\n",
       " Row(Estado=&#39;RS&#39;),\n",
       " Row(Estado=&#39;MS&#39;),\n",
       " Row(Estado=&#39;AL&#39;),\n",
       " Row(Estado=&#39;MG&#39;),\n",
       " Row(Estado=&#39;PA&#39;),\n",
       " Row(Estado=&#39;BA&#39;),\n",
       " Row(Estado=&#39;SE&#39;),\n",
       " Row(Estado=&#39;PE&#39;),\n",
       " Row(Estado=&#39;CE&#39;),\n",
       " Row(Estado=&#39;RN&#39;),\n",
       " Row(Estado=&#39;RJ&#39;),\n",
       " Row(Estado=&#39;MA&#39;),\n",
       " Row(Estado=&#39;AC&#39;),\n",
       " Row(Estado=&#39;DF&#39;),\n",
       " Row(Estado=&#39;PR&#39;),\n",
       " Row(Estado=&#39;AP&#39;)]</div>"
      ]
     },
     "metadata": {
      "application/vnd.databricks.v1+output": {
       "addedWidgets": {},
       "arguments": {},
       "data": "<div class=\"ansiout\">Out[15]: [Row(Estado=&#39;SC&#39;),\n Row(Estado=&#39;RO&#39;),\n Row(Estado=&#39;PI&#39;),\n Row(Estado=&#39;AM&#39;),\n Row(Estado=&#39;RR&#39;),\n Row(Estado=&#39;GO&#39;),\n Row(Estado=&#39;TO&#39;),\n Row(Estado=&#39;MT&#39;),\n Row(Estado=&#39;SP&#39;),\n Row(Estado=&#39;ES&#39;),\n Row(Estado=&#39;PB&#39;),\n Row(Estado=&#39;RS&#39;),\n Row(Estado=&#39;MS&#39;),\n Row(Estado=&#39;AL&#39;),\n Row(Estado=&#39;MG&#39;),\n Row(Estado=&#39;PA&#39;),\n Row(Estado=&#39;BA&#39;),\n Row(Estado=&#39;SE&#39;),\n Row(Estado=&#39;PE&#39;),\n Row(Estado=&#39;CE&#39;),\n Row(Estado=&#39;RN&#39;),\n Row(Estado=&#39;RJ&#39;),\n Row(Estado=&#39;MA&#39;),\n Row(Estado=&#39;AC&#39;),\n Row(Estado=&#39;DF&#39;),\n Row(Estado=&#39;PR&#39;),\n Row(Estado=&#39;AP&#39;)]</div>",
       "datasetInfos": [],
       "metadata": {},
       "removedWidgets": [],
       "type": "html"
      }
     },
     "output_type": "display_data"
    }
   ],
   "source": [
    "df2.select('Estado').distinct().collect()"
   ]
  },
  {
   "cell_type": "code",
   "execution_count": 0,
   "metadata": {
    "application/vnd.databricks.v1+cell": {
     "cellMetadata": {
      "byteLimit": 2048000,
      "rowLimit": 10000
     },
     "inputWidgets": {},
     "nuid": "84b7cfa7-0d4e-4ad5-a22e-c8078a6cc1e2",
     "showTitle": false,
     "title": ""
    }
   },
   "outputs": [
    {
     "output_type": "display_data",
     "data": {
      "text/html": [
       "<style scoped>\n",
       "  .ansiout {\n",
       "    display: block;\n",
       "    unicode-bidi: embed;\n",
       "    white-space: pre-wrap;\n",
       "    word-wrap: break-word;\n",
       "    word-break: break-all;\n",
       "    font-family: \"Source Code Pro\", \"Menlo\", monospace;;\n",
       "    font-size: 13px;\n",
       "    color: #555;\n",
       "    margin-left: 4px;\n",
       "    line-height: 19px;\n",
       "  }\n",
       "</style>\n",
       "<div class=\"ansiout\"></div>"
      ]
     },
     "metadata": {
      "application/vnd.databricks.v1+output": {
       "addedWidgets": {},
       "arguments": {},
       "data": "<div class=\"ansiout\"></div>",
       "datasetInfos": [],
       "metadata": {},
       "removedWidgets": [],
       "type": "html"
      }
     },
     "output_type": "display_data"
    }
   ],
   "source": [
    "from pyspark.sql.functions import col\n",
    "df3 = df2.withColumn('regiao',\n",
    "           when((col('Estado') == 'ES') | (col('Estado') == 'MG') | (col('Estado') == 'RJ') | (col('Estado') == 'SP'), 'Sudeste')\n",
    "          .when((col('Estado') == 'AC') | (col('Estado') == 'PA') | (col('Estado') == 'RO') | (col('Estado') == 'RR') |\n",
    "                (col('Estado') == 'TO') | (col('Estado') == 'AM') | (col('Estado') == 'AP') ,'Norte')\n",
    "          .when((col('Estado') == 'RS') | (col('Estado') == 'SC') | (col('Estado') == 'PR') ,'Sul')\n",
    "          .when((col('Estado') == 'GO') | (col('Estado') == 'MS') | (col('Estado') == 'MT') ,'Centro Oeste')\n",
    "          .when((col('Estado') == 'MA') | (col('Estado') == 'PB') | (col('Estado') == 'PE') | (col('Estado') == 'PI') | \n",
    "                (col('Estado') == 'RN') | (col('Estado') == 'SE') | (col('Estado') == 'AL')| (col('Estado') == 'BA') | (col('Estado') == 'CE')\n",
    "                 ,'Nordeste')                                          \n",
    "          .otherwise('Estado'))"
   ]
  },
  {
   "cell_type": "code",
   "execution_count": 0,
   "metadata": {
    "application/vnd.databricks.v1+cell": {
     "cellMetadata": {
      "byteLimit": 2048000,
      "rowLimit": 10000
     },
     "inputWidgets": {},
     "nuid": "4738b5ae-1afc-4cd5-8cd8-0f3d85efcaf1",
     "showTitle": false,
     "title": ""
    }
   },
   "outputs": [
    {
     "output_type": "display_data",
     "data": {
      "text/html": [
       "<style scoped>\n",
       "  .ansiout {\n",
       "    display: block;\n",
       "    unicode-bidi: embed;\n",
       "    white-space: pre-wrap;\n",
       "    word-wrap: break-word;\n",
       "    word-break: break-all;\n",
       "    font-family: \"Source Code Pro\", \"Menlo\", monospace;;\n",
       "    font-size: 13px;\n",
       "    color: #555;\n",
       "    margin-left: 4px;\n",
       "    line-height: 19px;\n",
       "  }\n",
       "</style>\n",
       "<div class=\"ansiout\">+----+--------------------+--------------------+---------------+------+-----------------+--------------------+------+---------+--------------+------------------+-----------+--------------------+--------------------+-----------+------------+\n",
       "  Id|                Nome|                 Rua|       Telefone|Número|           Bairro|           Municipio|Estado|      CEP|acessibilidade|publico_ou_privado|   Latitude|     descrição_museu|      endereco_museu|  Longitude|      regiao|\n",
       "+----+--------------------+--------------------+---------------+------+-----------------+--------------------+------+---------+--------------+------------------+-----------+--------------------+--------------------+-----------+------------+\n",
       "  68|Memorial Juarez B...|Avenida Vicente S...|(85) 99707-7232|   s/n|           Centro|        Guaramiranga|    CE| 62766000|           Não|               Não| -4.2618162|O Memorial Juarez...| Avenida Vicente ...|-38.9330716|    Nordeste|\n",
       "6077|Parque Estadual M...|Rua Josefina Ming...| (67) 3318-5719|   s/n|Jardim Presidente|        Campo Grande|    MS|79015-350|           Não|               Não|-20.3994566|Este é outro rema...|Rua Josefina Ming...| -54.585565|Centro Oeste|\n",
       "6078|Museu da Escola P...|UFRJ - Avenida At...| (21) 3938-7723|   149|   Ilha do Fundão|      Rio de Janeiro|    RJ|21949-909|           Não|               Não| -22.904424|Museu da Escola P...|UFRJ - Avenida At...| -43.228568|     Sudeste|\n",
       "6079|Museu Municipal M...|Rua Doutor José d...| (49) 3981-8106|   421|           Centro|             Xanxerê|    SC|89820-000|           Sim|               Não|-26.8775867|     Museu municipal|Rua Doutor José d...|-52.4025932|         Sul|\n",
       "6080|Memorial Alemão -...|Rua Francisco Sch...|  Não Informado|   s/n|     Vista Alegre|            Curitiba|    PR|80820-200|           não|               Não| -25.406096|                null|Rua Francisco Sch...| -49.285545|         Sul|\n",
       "6081|Museu Municipal d...|Rua Visconde de P...| (54) 3221-2423|   586|           Centro|       Caxias do Sul|    RS|95020-180|           Sim|               Não|   -29.1634|Criado por meio d...|Rua Visconde de P...| -51.179675|         Sul|\n",
       "6083|Museu Histórico M...|Rua Major Jacinto...| (49) 3233-2798|   168|           Centro|         São Joaquim|    SC|88600-000|           Não|               Não| -28.290464|Museu Histórico M...|Rua Major Jacinto...| -49.937584|         Sul|\n",
       "6084|Museu Histórico e...|    Praça do Rosário| (34) 3281-0070|    12|      Bom Sucesso|         Tupaciguara|    MG|38430-000|           Sim|               Não| -18.589272|Museu Histórico e...|Praça do Rosário ...| -48.709766|     Sudeste|\n",
       "6085|Memorial Padre An...|Avenida Major Fel...| (85) 3632-1125|   s/n|           Centro|     Viçosa do Ceará|    CE|62300-000|           sim|               Não| -3.5644941|                   .|Avenida Major Fel...|-41.0921618|    Nordeste|\n",
       "6087|Museu Histórico V...|Rua Pinheiro Machado| (51) 3635-2500|   577|           Centro|São Sebastião do Caí|    RS|95760-000|           Não|               Não|-29.5896142|Museu histórico f...|Rua Pinheiro Mach...|-51.3764282|         Sul|\n",
       "+----+--------------------+--------------------+---------------+------+-----------------+--------------------+------+---------+--------------+------------------+-----------+--------------------+--------------------+-----------+------------+\n",
       "only showing top 10 rows\n",
       "\n",
       "</div>"
      ]
     },
     "metadata": {
      "application/vnd.databricks.v1+output": {
       "addedWidgets": {},
       "arguments": {},
       "data": "<div class=\"ansiout\">+----+--------------------+--------------------+---------------+------+-----------------+--------------------+------+---------+--------------+------------------+-----------+--------------------+--------------------+-----------+------------+\n|  Id|                Nome|                 Rua|       Telefone|Número|           Bairro|           Municipio|Estado|      CEP|acessibilidade|publico_ou_privado|   Latitude|     descrição_museu|      endereco_museu|  Longitude|      regiao|\n+----+--------------------+--------------------+---------------+------+-----------------+--------------------+------+---------+--------------+------------------+-----------+--------------------+--------------------+-----------+------------+\n|  68|Memorial Juarez B...|Avenida Vicente S...|(85) 99707-7232|   s/n|           Centro|        Guaramiranga|    CE| 62766000|           Não|               Não| -4.2618162|O Memorial Juarez...| Avenida Vicente ...|-38.9330716|    Nordeste|\n|6077|Parque Estadual M...|Rua Josefina Ming...| (67) 3318-5719|   s/n|Jardim Presidente|        Campo Grande|    MS|79015-350|           Não|               Não|-20.3994566|Este é outro rema...|Rua Josefina Ming...| -54.585565|Centro Oeste|\n|6078|Museu da Escola P...|UFRJ - Avenida At...| (21) 3938-7723|   149|   Ilha do Fundão|      Rio de Janeiro|    RJ|21949-909|           Não|               Não| -22.904424|Museu da Escola P...|UFRJ - Avenida At...| -43.228568|     Sudeste|\n|6079|Museu Municipal M...|Rua Doutor José d...| (49) 3981-8106|   421|           Centro|             Xanxerê|    SC|89820-000|           Sim|               Não|-26.8775867|     Museu municipal|Rua Doutor José d...|-52.4025932|         Sul|\n|6080|Memorial Alemão -...|Rua Francisco Sch...|  Não Informado|   s/n|     Vista Alegre|            Curitiba|    PR|80820-200|           não|               Não| -25.406096|                null|Rua Francisco Sch...| -49.285545|         Sul|\n|6081|Museu Municipal d...|Rua Visconde de P...| (54) 3221-2423|   586|           Centro|       Caxias do Sul|    RS|95020-180|           Sim|               Não|   -29.1634|Criado por meio d...|Rua Visconde de P...| -51.179675|         Sul|\n|6083|Museu Histórico M...|Rua Major Jacinto...| (49) 3233-2798|   168|           Centro|         São Joaquim|    SC|88600-000|           Não|               Não| -28.290464|Museu Histórico M...|Rua Major Jacinto...| -49.937584|         Sul|\n|6084|Museu Histórico e...|    Praça do Rosário| (34) 3281-0070|    12|      Bom Sucesso|         Tupaciguara|    MG|38430-000|           Sim|               Não| -18.589272|Museu Histórico e...|Praça do Rosário ...| -48.709766|     Sudeste|\n|6085|Memorial Padre An...|Avenida Major Fel...| (85) 3632-1125|   s/n|           Centro|     Viçosa do Ceará|    CE|62300-000|           sim|               Não| -3.5644941|                   .|Avenida Major Fel...|-41.0921618|    Nordeste|\n|6087|Museu Histórico V...|Rua Pinheiro Machado| (51) 3635-2500|   577|           Centro|São Sebastião do Caí|    RS|95760-000|           Não|               Não|-29.5896142|Museu histórico f...|Rua Pinheiro Mach...|-51.3764282|         Sul|\n+----+--------------------+--------------------+---------------+------+-----------------+--------------------+------+---------+--------------+------------------+-----------+--------------------+--------------------+-----------+------------+\nonly showing top 10 rows\n\n</div>",
       "datasetInfos": [],
       "metadata": {},
       "removedWidgets": [],
       "type": "html"
      }
     },
     "output_type": "display_data"
    }
   ],
   "source": [
    "df3.show(10)"
   ]
  },
  {
   "cell_type": "code",
   "execution_count": 0,
   "metadata": {
    "application/vnd.databricks.v1+cell": {
     "cellMetadata": {
      "byteLimit": 2048000,
      "rowLimit": 10000
     },
     "inputWidgets": {},
     "nuid": "b55da169-e876-4b77-a258-2f36f84e9d3b",
     "showTitle": false,
     "title": ""
    }
   },
   "outputs": [
    {
     "output_type": "display_data",
     "data": {
      "text/html": [
       "<style scoped>\n",
       "  .ansiout {\n",
       "    display: block;\n",
       "    unicode-bidi: embed;\n",
       "    white-space: pre-wrap;\n",
       "    word-wrap: break-word;\n",
       "    word-break: break-all;\n",
       "    font-family: \"Source Code Pro\", \"Menlo\", monospace;;\n",
       "    font-size: 13px;\n",
       "    color: #555;\n",
       "    margin-left: 4px;\n",
       "    line-height: 19px;\n",
       "  }\n",
       "</style>\n",
       "<div class=\"ansiout\">Out[18]: [Row(publico_ou_privado=&#39;Não&#39;), Row(publico_ou_privado=&#39;Sim&#39;)]</div>"
      ]
     },
     "metadata": {
      "application/vnd.databricks.v1+output": {
       "addedWidgets": {},
       "arguments": {},
       "data": "<div class=\"ansiout\">Out[18]: [Row(publico_ou_privado=&#39;Não&#39;), Row(publico_ou_privado=&#39;Sim&#39;)]</div>",
       "datasetInfos": [],
       "metadata": {},
       "removedWidgets": [],
       "type": "html"
      }
     },
     "output_type": "display_data"
    }
   ],
   "source": [
    "df3.select('publico_ou_privado').distinct().collect()"
   ]
  },
  {
   "cell_type": "code",
   "execution_count": 0,
   "metadata": {
    "application/vnd.databricks.v1+cell": {
     "cellMetadata": {
      "byteLimit": 2048000,
      "rowLimit": 10000
     },
     "inputWidgets": {},
     "nuid": "ff448fe0-b2a5-4417-a0b4-8f22e2b034d8",
     "showTitle": false,
     "title": ""
    }
   },
   "outputs": [
    {
     "output_type": "display_data",
     "data": {
      "text/html": [
       "<style scoped>\n",
       "  .ansiout {\n",
       "    display: block;\n",
       "    unicode-bidi: embed;\n",
       "    white-space: pre-wrap;\n",
       "    word-wrap: break-word;\n",
       "    word-break: break-all;\n",
       "    font-family: \"Source Code Pro\", \"Menlo\", monospace;;\n",
       "    font-size: 13px;\n",
       "    color: #555;\n",
       "    margin-left: 4px;\n",
       "    line-height: 19px;\n",
       "  }\n",
       "</style>\n",
       "<div class=\"ansiout\"></div>"
      ]
     },
     "metadata": {
      "application/vnd.databricks.v1+output": {
       "addedWidgets": {},
       "arguments": {},
       "data": "<div class=\"ansiout\"></div>",
       "datasetInfos": [],
       "metadata": {},
       "removedWidgets": [],
       "type": "html"
      }
     },
     "output_type": "display_data"
    }
   ],
   "source": [
    "df_vazios = df3.select([count(when(col(c).isNull() , c)).alias(c) for c in df2.columns])\n",
    "#display(df_vazios)"
   ]
  },
  {
   "cell_type": "code",
   "execution_count": 0,
   "metadata": {
    "application/vnd.databricks.v1+cell": {
     "cellMetadata": {
      "byteLimit": 2048000,
      "rowLimit": 10000
     },
     "inputWidgets": {},
     "nuid": "b4a11630-8f00-4c00-b403-62ee5be547b4",
     "showTitle": false,
     "title": ""
    }
   },
   "outputs": [
    {
     "output_type": "display_data",
     "data": {
      "text/html": [
       "<style scoped>\n",
       "  .ansiout {\n",
       "    display: block;\n",
       "    unicode-bidi: embed;\n",
       "    white-space: pre-wrap;\n",
       "    word-wrap: break-word;\n",
       "    word-break: break-all;\n",
       "    font-family: \"Source Code Pro\", \"Menlo\", monospace;;\n",
       "    font-size: 13px;\n",
       "    color: #555;\n",
       "    margin-left: 4px;\n",
       "    line-height: 19px;\n",
       "  }\n",
       "</style>\n",
       "<div class=\"ansiout\"></div>"
      ]
     },
     "metadata": {
      "application/vnd.databricks.v1+output": {
       "addedWidgets": {},
       "arguments": {},
       "data": "<div class=\"ansiout\"></div>",
       "datasetInfos": [],
       "metadata": {},
       "removedWidgets": [],
       "type": "html"
      }
     },
     "output_type": "display_data"
    }
   ],
   "source": [
    "import adal\n",
    "resource_app_id_url = \"https://database.windows.net/\"\n",
    "service_principal_id = dbutils.secrets.get(scope = \"", key = \"")\n",
    "service_principal_secret = dbutils.secrets.get(scope = \"", key = \"")\n",
    "tenant_id = \"\"\n",
    "authority = \"https://login.windows.net/\" + tenant_id\n",
    "azure_sql_url = \"jdbc:sqlserver://sql-databasepedro.database.windows.net\"\n",
    "database_name = \"\"\n",
    "db_table = \"stage.museu\"\n",
    "encrypt = \"true\"\n",
    "host_name_in_certificate = \"*.database.windows.net\"\n",
    "context = adal.AuthenticationContext(authority)\n",
    "token = context.acquire_token_with_client_credentials(resource_app_id_url, service_principal_id, service_principal_secret)\n",
    "access_token = token[\"accessToken\"]"
   ]
  },
  {
   "cell_type": "code",
   "execution_count": 0,
   "metadata": {
    "application/vnd.databricks.v1+cell": {
     "cellMetadata": {
      "byteLimit": 2048000,
      "rowLimit": 10000
     },
     "inputWidgets": {},
     "nuid": "332b3bb8-8f79-4b5d-8cdb-c68f6c6f72c1",
     "showTitle": false,
     "title": ""
    }
   },
   "outputs": [
    {
     "output_type": "display_data",
     "data": {
      "text/html": [
       "<style scoped>\n",
       "  .ansiout {\n",
       "    display: block;\n",
       "    unicode-bidi: embed;\n",
       "    white-space: pre-wrap;\n",
       "    word-wrap: break-word;\n",
       "    word-break: break-all;\n",
       "    font-family: \"Source Code Pro\", \"Menlo\", monospace;;\n",
       "    font-size: 13px;\n",
       "    color: #555;\n",
       "    margin-left: 4px;\n",
       "    line-height: 19px;\n",
       "  }\n",
       "</style>\n",
       "<div class=\"ansiout\"></div>"
      ]
     },
     "metadata": {
      "application/vnd.databricks.v1+output": {
       "addedWidgets": {},
       "arguments": {},
       "data": "<div class=\"ansiout\"></div>",
       "datasetInfos": [],
       "metadata": {},
       "removedWidgets": [],
       "type": "html"
      }
     },
     "output_type": "display_data"
    }
   ],
   "source": [
    "df3.write \\\n",
    ".format(\"jdbc\")\\\n",
    ".mode(\"overwrite\")\\\n",
    ".partitionBy(\"Estado\")\\\n",
    ".option(\"url\", azure_sql_url) \\\n",
    ".option(\"dbtable\", db_table) \\\n",
    ".option(\"databaseName\", database_name) \\\n",
    ".option(\"accessToken\", access_token) \\\n",
    ".option(\"encrypt\", \"true\") \\\n",
    ".option(\"hostNameInCertificate\", \"*.database.windows.net\") \\\n",
    ".save()"
   ]
  },
  {
   "cell_type": "code",
   "execution_count": 0,
   "metadata": {
    "application/vnd.databricks.v1+cell": {
     "cellMetadata": {
      "byteLimit": 2048000,
      "rowLimit": 10000
     },
     "inputWidgets": {},
     "nuid": "26b36be9-c193-481f-aecc-59cd789eb256",
     "showTitle": false,
     "title": ""
    }
   },
   "outputs": [
    {
     "output_type": "display_data",
     "data": {
      "text/html": [
       "<style scoped>\n",
       "  .ansiout {\n",
       "    display: block;\n",
       "    unicode-bidi: embed;\n",
       "    white-space: pre-wrap;\n",
       "    word-wrap: break-word;\n",
       "    word-break: break-all;\n",
       "    font-family: \"Source Code Pro\", \"Menlo\", monospace;;\n",
       "    font-size: 13px;\n",
       "    color: #555;\n",
       "    margin-left: 4px;\n",
       "    line-height: 19px;\n",
       "  }\n",
       "</style>\n",
       "<div class=\"ansiout\">Out[22]: 3917</div>"
      ]
     },
     "metadata": {
      "application/vnd.databricks.v1+output": {
       "addedWidgets": {},
       "arguments": {},
       "data": "<div class=\"ansiout\">Out[22]: 3917</div>",
       "datasetInfos": [],
       "metadata": {},
       "removedWidgets": [],
       "type": "html"
      }
     },
     "output_type": "display_data"
    }
   ],
   "source": [
    "df2.count()"
   ]
  },
  {
   "cell_type": "code",
   "execution_count": 0,
   "metadata": {
    "application/vnd.databricks.v1+cell": {
     "cellMetadata": {
      "byteLimit": 2048000,
      "rowLimit": 10000
     },
     "inputWidgets": {},
     "nuid": "69d18013-6eee-45c8-be33-0548f9536439",
     "showTitle": false,
     "title": ""
    }
   },
   "outputs": [
    {
     "output_type": "display_data",
     "data": {
      "text/html": [
       "<style scoped>\n",
       "  .table-result-container {\n",
       "    max-height: 300px;\n",
       "    overflow: auto;\n",
       "  }\n",
       "  table, th, td {\n",
       "    border: 1px solid black;\n",
       "    border-collapse: collapse;\n",
       "  }\n",
       "  th, td {\n",
       "    padding: 5px;\n",
       "  }\n",
       "  th {\n",
       "    text-align: left;\n",
       "  }\n",
       "</style><div class='table-result-container'><table class='table-result'><thead style='background-color: white'><tr><th>Telefone</th></tr></thead><tbody><tr><td>(31) 3612-2050</td></tr><tr><td>(32) 3422-1066</td></tr><tr><td>(88) 9950-1157</td></tr><tr><td>(55) 3413-8728</td></tr><tr><td>(31) 3222-3231</td></tr><tr><td>(19) 3295-5850</td></tr><tr><td>(11) 3241-4238</td></tr><tr><td>(85) 3226-8496</td></tr><tr><td>(83) 3221-9630</td></tr><tr><td>(43) 3527-1516</td></tr><tr><td>(47) 9985-5825</td></tr><tr><td>(81) 3543-0258</td></tr><tr><td>(51) 3224-4252</td></tr><tr><td>(84) 3523-2213</td></tr><tr><td>(43) 3178-0215</td></tr><tr><td>(54) 3237-2658</td></tr><tr><td>(71) 3321-8784</td></tr><tr><td>(49) 3222-7603</td></tr><tr><td>(35) 3692-1178</td></tr><tr><td>(82) 3263-2608</td></tr><tr><td>(82) 3285-6010</td></tr><tr><td>(21) 2334-0017</td></tr><tr><td>(11) 3335-5910</td></tr><tr><td>(49) 3339-0982</td></tr><tr><td>(49) 3452-3761</td></tr><tr><td>(79) 3194-6670</td></tr><tr><td>(22) 2644-9129</td></tr><tr><td>(11) 3241-3815</td></tr><tr><td>(55) 3233-3550</td></tr><tr><td>(77) 3432-2362</td></tr><tr><td>(31) 3241-7168</td></tr><tr><td>(15) 3282-1766</td></tr><tr><td>(19) 3252-3596</td></tr><tr><td>(55) 3220-8226</td></tr><tr><td>(51) 3218-6480</td></tr><tr><td>(85) 3242-6082</td></tr><tr><td>(32) 3355-2798</td></tr><tr><td>(61) 3107-6151</td></tr><tr><td>(15) 3236-6856</td></tr><tr><td>(54) 4062-9421</td></tr><tr><td>(27) 3264-1181</td></tr><tr><td>(84) 8876-4075</td></tr><tr><td>(96) 3212-5118</td></tr><tr><td>(51) 3221-5900</td></tr><tr><td>(67) 3410-2190</td></tr><tr><td>(98) 98508-3357</td></tr><tr><td>(41) 3666-6156</td></tr><tr><td>(11) 2189-7000</td></tr><tr><td>(12) 3896-2660</td></tr><tr><td>(31) 8835-7260</td></tr><tr><td>(38) 3749-6141</td></tr><tr><td>(11) 5576-5773</td></tr><tr><td>(61) 3108-7600</td></tr><tr><td>(15) 99692-3672</td></tr><tr><td>(69) 3216-5135</td></tr><tr><td>(84) 3412-3141</td></tr><tr><td>(42) 3232-5233</td></tr><tr><td>(51) 3663-8200</td></tr><tr><td>(47) 3625-1232</td></tr><tr><td>(41) 3266-3277</td></tr><tr><td>(47) 3393-3099</td></tr><tr><td>(14) 3882-0588</td></tr><tr><td>(31) 3277-4699</td></tr><tr><td>(44) 3252-4125</td></tr><tr><td>(54) 3901-1463</td></tr><tr><td>(83) 3322-6995</td></tr><tr><td>(13) 3219-1111</td></tr><tr><td>(51) 3664-1411</td></tr><tr><td>(55) 3744-4466</td></tr><tr><td>(14) 99903-8791</td></tr><tr><td>(45) 3571-3177</td></tr><tr><td>(21) 3295-5058</td></tr><tr><td>(31) 98838-7367</td></tr><tr><td>(62) 3902-2537</td></tr><tr><td>(65) 3611-0500</td></tr><tr><td>(11) 3061-7876</td></tr><tr><td>(27) 4009-2586</td></tr><tr><td>(51) 3214-8255</td></tr><tr><td>(41) 3361-7713</td></tr><tr><td>(13) 3451-1000</td></tr><tr><td>(31) 3577-8882</td></tr><tr><td>(21) 99756-1141</td></tr><tr><td>(21) 2789-2223</td></tr><tr><td>(12) 3686-5494</td></tr><tr><td>(15) 3316-2323</td></tr><tr><td>(71) 3341-9055</td></tr><tr><td>(51) 3662-2738</td></tr><tr><td>(47) 3326-6990</td></tr><tr><td>(44) 3011-4930</td></tr><tr><td>(82) 3322-2494</td></tr><tr><td>(92) 9146-8687</td></tr><tr><td>(19) 3276-5687</td></tr><tr><td>(19) 3816-4917</td></tr><tr><td>(96) 3212-5362</td></tr><tr><td>(21) 3202-8550</td></tr><tr><td>(45) 3029-6522</td></tr><tr><td>(83) 3395-1050</td></tr><tr><td>(35) 3295-9700</td></tr><tr><td>(81) 99977-0501</td></tr><tr><td>(64) 3411-0748</td></tr><tr><td>(79) 3179-8090</td></tr><tr><td>(51) 3671-5288</td></tr><tr><td>(21) 3234-5777</td></tr><tr><td>(49) 3523-2124</td></tr><tr><td>(27) 99869-5107</td></tr><tr><td>(85) 3244-7729</td></tr><tr><td>(35) 3231-2690</td></tr><tr><td>(11) 3886-0533</td></tr><tr><td>(48) 3255-7006</td></tr><tr><td>(85) 3271-6589</td></tr><tr><td>(71) 3322-6903</td></tr><tr><td>(11) 3280-4202</td></tr><tr><td>(19) 3802-2053</td></tr><tr><td>(88) 99704-1678</td></tr><tr><td>(31) 98970-1507</td></tr><tr><td>(84) 3215-2960</td></tr><tr><td>(83) 99630-9664</td></tr><tr><td>(34) 3281-0070</td></tr><tr><td>(85) 3237-2687</td></tr><tr><td>(54) 3286-7587</td></tr><tr><td>(55) 3231-2444</td></tr><tr><td>(31) 9999-9999</td></tr><tr><td>(51) 3215-1834</td></tr><tr><td>(21) 2742-2910</td></tr><tr><td>(41) 3622-2076</td></tr><tr><td>(11) 5522-4440</td></tr><tr><td>(61) 3224-5605</td></tr><tr><td>(11) 2032-4160</td></tr><tr><td>(21) 2524-2034</td></tr><tr><td>(19) 3863-0835</td></tr><tr><td>(11) 4223-4780</td></tr><tr><td>(33) 3621-4882</td></tr><tr><td>(84) 3232-9728</td></tr><tr><td>(34) 3338-3091</td></tr><tr><td>(71) 3283-8573</td></tr><tr><td>(66) 3402-0700</td></tr><tr><td>(86) 3221-6027</td></tr><tr><td>(98) 3243-8057</td></tr><tr><td>(92) 3633-1532</td></tr><tr><td>(45) 3234-1570</td></tr><tr><td>(11) 4519-4011</td></tr><tr><td>(11) 4154-6251</td></tr><tr><td>(47) 3381-7514</td></tr><tr><td>(31) 3651-1024</td></tr><tr><td>(81) 3701-1533</td></tr><tr><td>(62) 3604-6000</td></tr><tr><td>(48) 3525-0710</td></tr><tr><td>(31) 8989-1140</td></tr><tr><td>(11) 5517-6707</td></tr><tr><td>(18) 3324-5874</td></tr><tr><td>(15) 3233-7119</td></tr><tr><td>(49) 3567-1582</td></tr><tr><td>(51) 3210-1674</td></tr><tr><td>(21) 3868-6748</td></tr><tr><td>(87) 99666-7018</td></tr><tr><td>(98) 3272-9361</td></tr><tr><td>(83) 3214-8541</td></tr><tr><td>(84) 3211-7056</td></tr><tr><td>(21) 2532-0422</td></tr><tr><td>(49) 3224-1784</td></tr><tr><td>(38) 3635-2167</td></tr><tr><td>(48) 3348-4328</td></tr><tr><td>(11) 5067-6000</td></tr><tr><td>(54) 3527-1141</td></tr><tr><td>(84) 3224-2177</td></tr><tr><td>(31) 3641-5204</td></tr><tr><td>(13) 3317-4128</td></tr><tr><td>(48) 3721-9325</td></tr><tr><td>(71) 3283-5540</td></tr><tr><td>(88) 9908-9522</td></tr><tr><td>(21)3135-8117</td></tr><tr><td>(88) 3641-1081</td></tr><tr><td>(47) 3387-0408</td></tr><tr><td>(61) 3255-7544</td></tr><tr><td>(21) 3299-0357</td></tr><tr><td>(31) 3277-1586</td></tr><tr><td>(11) 3664-3848</td></tr><tr><td>(11) 2232-3117</td></tr><tr><td>(82) 8834-5145</td></tr><tr><td>(34) 3822-9665</td></tr><tr><td>(31) 3236-7430</td></tr><tr><td>(12) 3111-1818</td></tr><tr><td>(18) 3421-7033</td></tr><tr><td>(21) 2620-2400</td></tr><tr><td>(82) 3641-4045</td></tr><tr><td>(16) 3249-1122</td></tr><tr><td>(61) 3325-2328</td></tr><tr><td>(47) 3631-2414</td></tr><tr><td>(14) 3281-3358</td></tr><tr><td>(35) 3591-1763</td></tr><tr><td>(31) 3465-6222</td></tr><tr><td>(11) 3834-6221</td></tr><tr><td>(19) 3469-1898</td></tr><tr><td>(32) 2102-6913</td></tr><tr><td>(11) 4652-1623</td></tr><tr><td>(28) 3155-5691</td></tr><tr><td>(16) 3203-1126</td></tr><tr><td>(48) 3263-5665</td></tr><tr><td>(45) 3253-1518</td></tr><tr><td>(12) 3631-3955</td></tr><tr><td>(13) 3851-1930</td></tr><tr><td>(61) 3631-4528</td></tr><tr><td>(42) 3254-1349</td></tr><tr><td>(11) 3091-6977</td></tr><tr><td>(73) 3221-8613</td></tr><tr><td>(31) 3715-1078</td></tr><tr><td>(88) 3521-8133</td></tr><tr><td>(16) 3636-2283</td></tr><tr><td>(69) 3224-5357</td></tr><tr><td>(11) 3106-1411</td></tr><tr><td>(31) 3573-1120</td></tr><tr><td>(84) 3377-2196</td></tr><tr><td>(31) 3184-2699</td></tr><tr><td>(82) 3315-7882</td></tr><tr><td>(74) 3627-2121</td></tr><tr><td>(55) 3353-1566</td></tr><tr><td>(68) 3211-5560</td></tr><tr><td>(85) 3263-1115</td></tr><tr><td>(85) 98854-1855</td></tr><tr><td>(48) 3274-1180</td></tr><tr><td>(31) 3535-6468</td></tr><tr><td>(19) 3521-1727</td></tr><tr><td>(31) 3847-8070</td></tr><tr><td>(75) 3698-2156</td></tr><tr><td>(37) 3243-7028</td></tr><tr><td>(88) 3667-1116</td></tr><tr><td>(51) 3439-3146</td></tr><tr><td>(32) 3341-1200</td></tr><tr><td>(61) 3107-2967</td></tr><tr><td>(24) 3326-0405</td></tr><tr><td>(18) 3722-9778</td></tr><tr><td>(31) 3277-7420</td></tr><tr><td>(49) 3458-9570</td></tr><tr><td>(44) 3437-1170</td></tr><tr><td>(35) 3293-1765</td></tr><tr><td>(21) 2562-6681</td></tr><tr><td>(61) 3225-9451</td></tr><tr><td>(73) 3211-1994</td></tr><tr><td>(18) 3284-1175</td></tr><tr><td>(31) 3559-1706</td></tr><tr><td>(11) 2182-3810</td></tr><tr><td>(14) 3523-6647</td></tr><tr><td>(41) 3636-1759</td></tr><tr><td>(21) 3808-2020</td></tr><tr><td>(54) 3292-2777</td></tr><tr><td>(41) 3304-4700</td></tr><tr><td>(75) 3425-1018</td></tr><tr><td>(49) 3343-0002</td></tr><tr><td>(21) 2163-7788</td></tr><tr><td>(71) 99636-6182</td></tr><tr><td>(85) 99696-7673</td></tr><tr><td>(11) 3315-0051</td></tr><tr><td>(11) 6168-0012</td></tr><tr><td>(11) 4229-1988</td></tr><tr><td>(81) 9955-6354</td></tr><tr><td>(24) 3354-7530</td></tr><tr><td>(55) 3332-7950</td></tr><tr><td>(35) 3722-2776</td></tr><tr><td>(48) 3251-1900</td></tr><tr><td>(11) 4586-2326</td></tr><tr><td>(48) 3632-3450</td></tr><tr><td>(61) 3527-5381</td></tr><tr><td>(13) 3842-2124</td></tr><tr><td>(21) 2242-7766</td></tr><tr><td>(63) 98451-9725</td></tr><tr><td>(91) 9992-0120</td></tr><tr><td>(71) 99255-4222</td></tr><tr><td>(51) 3742-1804</td></tr><tr><td>(35) 3624-1679</td></tr><tr><td>(43) 3357-1161</td></tr><tr><td>(11) 3769-5601</td></tr><tr><td>(31) 3837-9363</td></tr><tr><td>(77) 3454-2313</td></tr><tr><td>(32) 3429-6424</td></tr><tr><td>(67) 99944-2072</td></tr><tr><td>(42) 3644-1055</td></tr><tr><td>(24) 2484-6108</td></tr><tr><td>(85) 3361-2535</td></tr><tr><td>(38) 3531-3607</td></tr><tr><td>(24) 2233-1202</td></tr><tr><td>(41) 3271-2356</td></tr><tr><td>(84) 4005-0971</td></tr><tr><td>(82) 3315-1747</td></tr><tr><td>(53) 99997-2033</td></tr><tr><td>(11) 4198-5475</td></tr><tr><td>(24) 2246-2378</td></tr><tr><td>(91) 98382-3559</td></tr><tr><td>(47) 3223-1877</td></tr><tr><td>(38) 3527-1257</td></tr><tr><td>(94) 3322-2315</td></tr><tr><td>(51) 3774-1322</td></tr><tr><td>(34) 3690-3105</td></tr><tr><td>(51) 3343-8068</td></tr><tr><td>(67) 3232-9981</td></tr><tr><td>(34) 3690-3167</td></tr><tr><td>(22) 2777-1333</td></tr><tr><td>(84) 3246-2234</td></tr><tr><td>(53) 3231-3496</td></tr><tr><td>(33) 98828-7506</td></tr><tr><td>(32) 3690-7051</td></tr><tr><td>(98) 3242-9651</td></tr><tr><td>(71) 9261-1026</td></tr><tr><td>(91) 4009-8669</td></tr><tr><td>(38) 3541-1440</td></tr><tr><td>(84) 3222-3293</td></tr><tr><td>(12) 3832-6202</td></tr><tr><td>(48) 3533-0333</td></tr><tr><td>(81) 99788-7117</td></tr><tr><td>(44) 3218-6121</td></tr><tr><td>(81) 3231-6801</td></tr><tr><td>(49) 3541-6249</td></tr><tr><td>(68) 3542-2651</td></tr><tr><td>(51) 3722-2694</td></tr><tr><td>(61) 3338-8563</td></tr><tr><td>(68) 3224-6417</td></tr><tr><td>(98) 3216-6147</td></tr><tr><td>(32) 3441-4555</td></tr><tr><td>(21) 2267-6374</td></tr><tr><td>(53) 9965-7564</td></tr><tr><td>(27) 3227-2531</td></tr><tr><td>(65) 3259-1514</td></tr><tr><td>(22) 99213-3790</td></tr><tr><td>(31) 99994-5728</td></tr><tr><td>(41) 3350-4400</td></tr><tr><td>(27) 3274-1905</td></tr><tr><td>(32) 3371-7198</td></tr><tr><td>(82) 3214-1545</td></tr><tr><td>(31) 3237-6224</td></tr><tr><td>(35) 3332-6477</td></tr><tr><td>(82) 3315-7294</td></tr><tr><td>(65) 98117-6891</td></tr><tr><td>(81) 3441-1733</td></tr><tr><td>(71) 9979-1563</td></tr><tr><td>(11) 3684-0749</td></tr><tr><td>(53) 3233-6333</td></tr><tr><td>(12) 3122-2007</td></tr><tr><td>(31) 3215-7915</td></tr><tr><td>(18) 3644-9677</td></tr><tr><td>(55) 98423-0547</td></tr><tr><td>(99) 9999-9999</td></tr><tr><td>(84) 3216-1400</td></tr><tr><td>(49) 3981-8106</td></tr><tr><td>(54) 3286-1553</td></tr><tr><td>(12) 3947-7844</td></tr><tr><td>(11) 3021-5536</td></tr><tr><td>(85) 8615-2600</td></tr><tr><td>(49) 3438-1111</td></tr><tr><td>(37) 3341-8528</td></tr><tr><td>(84) 8883-9580</td></tr><tr><td>(24) 2254-2848</td></tr><tr><td>(43) 3902-1192</td></tr><tr><td>(47) 3444-5093</td></tr><tr><td>(32) 3556-1215</td></tr><tr><td>(11) 3315-8884</td></tr><tr><td>(71) 3242-6455</td></tr><tr><td>(48) 3236-2015</td></tr><tr><td>(28) 3555-8112</td></tr><tr><td>(12) 3663-3762</td></tr><tr><td>(84) 3332-4525</td></tr><tr><td>(41) 3616-2831</td></tr><tr><td>(91) 3214-2166</td></tr><tr><td>(61) 2103-9293</td></tr><tr><td>(48) 3471-1758</td></tr><tr><td>(32) 3339-2167</td></tr><tr><td>(62) 98134-4313</td></tr><tr><td>(71) 3676-1463</td></tr><tr><td>(53) 3231-1366</td></tr><tr><td>(87) 3869-1156</td></tr><tr><td>(69) 3211-2496</td></tr><tr><td>(47) 3433-3732</td></tr><tr><td>(54) 3026-8356</td></tr><tr><td>(55) 3220-8014</td></tr><tr><td>(11) 3741-6718</td></tr><tr><td>(81) 3493-2753</td></tr><tr><td>(51) 3228-1764</td></tr><tr><td>(24) 2443-5159</td></tr><tr><td>(47) 3329-9084</td></tr><tr><td>(48) 3432-5847</td></tr><tr><td>(11) 3654-3108</td></tr><tr><td>(54) 3316-2700</td></tr><tr><td>(32) 3371-8606</td></tr><tr><td>(79) 3431-4398</td></tr><tr><td>(27) 99807-6376</td></tr><tr><td>(75) 9965-6195</td></tr><tr><td>(31) 3661-8122</td></tr><tr><td>(67) 3431-1902</td></tr><tr><td>(35) 3241-2736</td></tr><tr><td>(81) 3224-3106</td></tr><tr><td>(19) 3895-8344</td></tr><tr><td>(51) 3289-2100</td></tr><tr><td>(53) 3225-8293</td></tr><tr><td>(48) 3664-2630</td></tr><tr><td>(86) 3271-1048</td></tr><tr><td>(38) 3621-3775</td></tr><tr><td>(51) 3210-7176</td></tr><tr><td>(49) 3366-6646</td></tr><tr><td>(47) 3326-6791</td></tr><tr><td>(82) 3281-2660</td></tr><tr><td>(48) 3903-1881</td></tr><tr><td>(33) 3511-2526</td></tr><tr><td>(82) 9306-0330</td></tr><tr><td>(85) 3332-1116</td></tr><tr><td>(83) 3431-2409</td></tr><tr><td>(24) 2465-4801</td></tr><tr><td>(48) 3046-7550</td></tr><tr><td>(15) 3532-8000</td></tr><tr><td>(48) 3251-1516</td></tr><tr><td>(92) 3635-1922</td></tr><tr><td>(21) 2088-0536</td></tr><tr><td>(87) 3876-1156</td></tr><tr><td>(88) 3521-1619</td></tr><tr><td>(64) 3441-3505</td></tr><tr><td>(51) 3716-1166</td></tr><tr><td>(37) 3274-2211</td></tr><tr><td>(83) 3546-1002</td></tr><tr><td>(16) 3373-9146</td></tr><tr><td>(21) 2205-8612</td></tr><tr><td>(35) 3267-3121</td></tr><tr><td>(42) 98425-3021</td></tr><tr><td>(45) 3236-1122</td></tr><tr><td>(62) 3225-8085</td></tr><tr><td>(85) 3488-8622</td></tr><tr><td>(51) 3588-8760</td></tr><tr><td>(11) 4023-0240</td></tr><tr><td>(84) 3231-2586</td></tr><tr><td>(31) 3409-9167</td></tr><tr><td>(35) 3261-3670</td></tr><tr><td>(68) 3224-8786</td></tr><tr><td>(27) 3258-3651</td></tr><tr><td>(38) 3621-2611</td></tr><tr><td>(37) 3434-5209</td></tr><tr><td>(73) 3527-4023</td></tr><tr><td>(87) 9642-0735</td></tr><tr><td>(21) 3432-2402</td></tr><tr><td>(54) 3282-1125</td></tr><tr><td>(41) 2101-9000</td></tr><tr><td>(67) 3251-1166</td></tr><tr><td>(28) 3155-5257</td></tr><tr><td>(86) 3226-4025</td></tr><tr><td>(55) 3263-3700</td></tr><tr><td>(83) 9117-3584</td></tr><tr><td>(54) 3286-5555</td></tr><tr><td>(22) 2664-2120</td></tr><tr><td>(82) 3214-1716</td></tr><tr><td>(45) 3530-5816</td></tr><tr><td>(84) 3382-2411</td></tr><tr><td>(79) 3194-6866</td></tr><tr><td>(47) 98860-4932</td></tr><tr><td>(47) 3522-6746</td></tr><tr><td>(11) 3814-9711</td></tr><tr><td>(32) 3274-1115</td></tr><tr><td>(73) 3288-0660</td></tr><tr><td>(83) 3366-1204</td></tr><tr><td>(28) 3537-2003</td></tr><tr><td>(55) 3231-1292</td></tr><tr><td>(55) 3545-1146</td></tr><tr><td>(49) 3256-4283</td></tr><tr><td>(77) 3454-4114</td></tr><tr><td>(11) 3031-0920</td></tr><tr><td>(85) 99254-9637</td></tr><tr><td>(31) 3352-5323</td></tr><tr><td>(42) 3625-8000</td></tr><tr><td>(47) 3352-1230</td></tr><tr><td>(47) 3339-0590</td></tr><tr><td>(21) 2240-1598</td></tr><tr><td>(51) 3473-1712</td></tr><tr><td>(47) 3631-3000</td></tr><tr><td>(35) 3562-1616</td></tr><tr><td>(91) 3201-7080</td></tr><tr><td>(31) 3559-1603</td></tr><tr><td>(34) 3674-1220</td></tr><tr><td>(21) 2216-8500</td></tr><tr><td>(62) 3339-3120</td></tr><tr><td>(98) 3254-1416</td></tr><tr><td>(85) 3488-8639</td></tr><tr><td>(27) 3542-3257</td></tr><tr><td>(98) 4101-5050</td></tr><tr><td>(35) 3344-1244</td></tr><tr><td>(35) 3341-2066</td></tr><tr><td>(11) 4655-2731</td></tr><tr><td>(41) 3330-7288</td></tr><tr><td>(54) 3527-1060</td></tr><tr><td>(22) 3852-0952</td></tr><tr><td>(12) 3952-5999</td></tr><tr><td>(33) 3341-1900</td></tr><tr><td>(11) 98194-9916</td></tr><tr><td>(88) 3426-1204</td></tr><tr><td>(61) 3107-5909</td></tr><tr><td>(81) 3412-9039</td></tr><tr><td>(11) 3814-4832</td></tr><tr><td>(11) 3941-2162</td></tr><tr><td>(65) 3491-1261</td></tr><tr><td>(15) 3231-1026</td></tr><tr><td>(21) 2262-3609</td></tr><tr><td>(51) 3718-1826</td></tr><tr><td>(85) 3277-3727</td></tr><tr><td>(41) 3547-8013</td></tr><tr><td>(11) 4043-6457</td></tr><tr><td>(82) 3551-2498</td></tr><tr><td>(24) 2453-4178</td></tr><tr><td>(19) 3433-4930</td></tr><tr><td>(35) 3265-1447</td></tr><tr><td>(69) 3471-2892</td></tr><tr><td>(37) 3271-7831</td></tr><tr><td>(81) 3181-4778</td></tr><tr><td>(89) 3422-6380</td></tr><tr><td>(43) 3543-1259</td></tr><tr><td>(62) 3209-6251</td></tr><tr><td>(19) 3441-4805</td></tr><tr><td>(17) 3242-6244</td></tr><tr><td>(55) 3534-1629</td></tr><tr><td>(83) 98180-1832</td></tr><tr><td>(55) 3223-0407</td></tr><tr><td>(19) 3231-9500</td></tr><tr><td>(51) 3637-4237</td></tr><tr><td>(44) 3531-2048</td></tr><tr><td>(84) 3426-2261</td></tr><tr><td>(24) 2442-3194</td></tr><tr><td>(31) 3771-5850</td></tr><tr><td>(95) 99122-8098</td></tr><tr><td>(31) 3224-9891</td></tr><tr><td>(13) 3384-6194</td></tr><tr><td>(69) 2103-0100</td></tr><tr><td>(49) 3566-7700</td></tr><tr><td>(81) 3355-4311</td></tr><tr><td>(21) 8192-5334</td></tr><tr><td>(54) 3266-1321</td></tr><tr><td>(22) 2725-7834</td></tr><tr><td>(16) 3602-0705</td></tr><tr><td>(32) 3741-7884</td></tr><tr><td>(94) 3198-6310</td></tr><tr><td>(48) 99997-7095</td></tr><tr><td>(47) 99266-1005</td></tr><tr><td>(91) 4009-8000</td></tr><tr><td>(81) 3759-1619</td></tr><tr><td>(11) 2095-3000</td></tr><tr><td>(12) 9711-3748</td></tr><tr><td>(49) 3564-0782</td></tr><tr><td>(65) 3029-4262</td></tr><tr><td>(65) 9965-5796</td></tr><tr><td>(17) 3631-1422</td></tr><tr><td>(63) 3363-1505</td></tr><tr><td>(84) 3315-4778</td></tr><tr><td>(49) 9107-5210</td></tr><tr><td>(65) 3682-5103</td></tr><tr><td>(48) 3222-2152</td></tr><tr><td>(81) 3481-4659</td></tr><tr><td>(41) 3623-3715</td></tr><tr><td>(67) 3321-0487</td></tr><tr><td>(14) 3552-2040</td></tr><tr><td>(19) 3871-3419</td></tr><tr><td>(31) 3726-1314</td></tr><tr><td>(88) 99866-0002</td></tr><tr><td>(21) 2629-9768</td></tr><tr><td>(14) 99793-5518</td></tr><tr><td>(92) 3232-1768</td></tr><tr><td>(88) 3555-1935</td></tr><tr><td>(11) 3031-0199</td></tr><tr><td>(65) 3322-5054</td></tr><tr><td>(41) 3324-2456</td></tr><tr><td>(79) 3281-1123</td></tr><tr><td>(65) 3617-1286</td></tr><tr><td>(82) 3686-3013</td></tr><tr><td>(54) 3525-1122</td></tr><tr><td>(55) 3372-2662</td></tr><tr><td>(45) 3521-4000</td></tr><tr><td>(15) 3522-3875</td></tr><tr><td>(85) 3332-1462</td></tr><tr><td>(67) 3240-1400</td></tr><tr><td>(67) 3423-7856</td></tr><tr><td>(71) 3324-8118</td></tr><tr><td>(84) 3535-0005</td></tr><tr><td>(71) 3336-8184</td></tr><tr><td>(91) 4009-9567</td></tr><tr><td>(98) 99108-6844</td></tr><tr><td>(86) 99973-6485</td></tr><tr><td>(11) 4033-1937</td></tr><tr><td>(11) 2065-8000</td></tr><tr><td>(11) 2898-9358</td></tr><tr><td>(51) 3649-8251</td></tr><tr><td>(54) 3286-2719</td></tr><tr><td>(64) 3631-7939</td></tr><tr><td>(53) 3232-9107</td></tr><tr><td>(28) 3553-1893</td></tr><tr><td>(54) 3338-1224</td></tr><tr><td>(88) 3423-1473</td></tr><tr><td>(71) 3283-6564</td></tr><tr><td>(62) 3375-1604</td></tr><tr><td>(12) 3153-1518</td></tr><tr><td>(77) 3481-6806</td></tr><tr><td>(21) 3970-1177</td></tr><tr><td>(83) 99983-8198</td></tr><tr><td>(43) 3423-2944</td></tr><tr><td>(41) 3659-1428</td></tr><tr><td>(93) 99154-8322</td></tr><tr><td>(98) 3256-0430</td></tr><tr><td>(12) 3862-0485</td></tr><tr><td>(61) 2193-9710</td></tr><tr><td>(51) 3220-4728</td></tr><tr><td>(48) 3271-1800</td></tr><tr><td>(48) 3247-0059</td></tr><tr><td>(54) 3242-5536</td></tr><tr><td>(81) 3231-5341</td></tr><tr><td>(55) 3220-5525</td></tr><tr><td>(85) 3488-8611</td></tr><tr><td>(84) 3605-5492</td></tr><tr><td>(85) 98618-8510</td></tr><tr><td>(62) 3371-1207</td></tr><tr><td>(74) 3535-1230</td></tr><tr><td>(41) 3482-1262</td></tr><tr><td>(13) 3469-3520</td></tr><tr><td>(43) 3373-8700</td></tr><tr><td>(83) 3216-7434</td></tr><tr><td>(71) 3329-5522</td></tr><tr><td>(14) 3235-7000</td></tr><tr><td>(24) 2263-1306</td></tr><tr><td>(79) 3281-2418</td></tr><tr><td>(31) 3681-8755</td></tr><tr><td>(41) 3632-1457</td></tr><tr><td>(71) 3336-6081</td></tr><tr><td>(14) 3382-1921</td></tr><tr><td>(42) 3909-5001</td></tr><tr><td>(54) 99199-7676</td></tr><tr><td>(32) 3261-1285</td></tr><tr><td>(19) 3231-2567</td></tr><tr><td>(42) 3627-4656</td></tr><tr><td>(43) 3174-0291</td></tr><tr><td>(51) 3627-1309</td></tr><tr><td>(48) 3431-4517</td></tr><tr><td>(32) 3339-1611</td></tr><tr><td>(71) 3328-1132</td></tr><tr><td>(79) 3194-6453</td></tr><tr><td>(53) 3231-6399</td></tr><tr><td>(84) 3391-2245</td></tr><tr><td>(62) 3331-2487</td></tr><tr><td>(22) 2566-2236</td></tr><tr><td>(82) 3326-0155</td></tr><tr><td>(73) 3313-2001</td></tr><tr><td>(42) 3646-3715</td></tr><tr><td>(49) 3222-7831</td></tr><tr><td>(43) 3512-3002</td></tr><tr><td>(12) 98264-5960</td></tr><tr><td>(28) 3558-2531</td></tr><tr><td>(67) 3234-6813</td></tr><tr><td>(11) 3129-4898</td></tr><tr><td>(19) 3545-1305</td></tr><tr><td>(54) 3524-1322</td></tr><tr><td>(88) 9922-2385</td></tr><tr><td>(85) 3264-7038</td></tr><tr><td>(35) 3571-1529</td></tr><tr><td>(82) 3274-6464</td></tr><tr><td>(27) 3329-0420</td></tr><tr><td>(67) 3231-5757</td></tr><tr><td>(81) 2011-5466</td></tr><tr><td>(71) 3283-6550</td></tr><tr><td>(75) 3266-2529</td></tr><tr><td>(49) 3555-8782</td></tr><tr><td>(31) 3314-4650</td></tr><tr><td>(19) 3499-1555</td></tr><tr><td>(54) 3218-2142</td></tr><tr><td>(51) 3492-0024</td></tr><tr><td>(18) 3361-8449</td></tr><tr><td>(21) 2196-1250</td></tr><tr><td>(75) 2101-8602</td></tr><tr><td>(61) 3217-3590</td></tr><tr><td>(73) 99956-6969</td></tr><tr><td>(88) 98182-0456</td></tr><tr><td>(44) 3642-4372</td></tr><tr><td>(41) 3625-1212</td></tr><tr><td>(62) 98482-2794</td></tr><tr><td>(11) 4886-9746</td></tr><tr><td>(83) 99929-5029</td></tr><tr><td>(38) 3754-5666</td></tr><tr><td>(11) 4204-1443</td></tr><tr><td>(55) 3259-1272</td></tr><tr><td>(42) 3554-1222</td></tr><tr><td>(81) 9643-3654</td></tr><tr><td>(21) 3787-4354</td></tr><tr><td>(69) 99963-4269</td></tr><tr><td>(21) 2334-0522</td></tr><tr><td>(11) 4427-7297</td></tr><tr><td>(55) 3251-1651</td></tr><tr><td>(21) 3948-5444</td></tr><tr><td>(49) 3228-0071</td></tr><tr><td>(55) 3221-4085</td></tr><tr><td>(83) 3271-4351</td></tr><tr><td>(85) 99855-0716</td></tr><tr><td>(54) 3298-8066</td></tr><tr><td>(84) 3479-2470</td></tr><tr><td>(45) 3257-1121</td></tr><tr><td>(81) 3424-8500</td></tr><tr><td>(16) 3761-2642</td></tr><tr><td>(24) 2263-2368</td></tr><tr><td>(84) 3206-5768</td></tr><tr><td>(84) 9196-4662</td></tr><tr><td>(55) 3431-3839</td></tr><tr><td>(82) 3281-3650</td></tr><tr><td>(51) 3452-4526</td></tr><tr><td>(62) 8130-1136</td></tr><tr><td>(22) 2759-5049</td></tr><tr><td>(83) 3351-1515</td></tr><tr><td>(16) 3322-4812</td></tr><tr><td>(53) 3228-4606</td></tr><tr><td>(31) 3846-7701</td></tr><tr><td>(21) 2629-8005</td></tr><tr><td>(35) 3832-5753</td></tr><tr><td>(16) 3307-6903</td></tr><tr><td>(31) 3551-5369</td></tr><tr><td>(17) 99732-1924</td></tr><tr><td>(54) 3313-3822</td></tr><tr><td>(51) 3626-3561</td></tr><tr><td>(62) 3331-1990</td></tr><tr><td>(88) 98809-4527</td></tr><tr><td>(85) 3366-8569</td></tr><tr><td>(65) 3904-2128</td></tr><tr><td>(11) 3829-2959</td></tr><tr><td>(16) 3602-4603</td></tr><tr><td>(31) 3409-9106</td></tr><tr><td>(63) 3372-1290</td></tr><tr><td>(79) 99971-6679</td></tr><tr><td>(88) 3421-3396</td></tr><tr><td>(82) 3351-2008</td></tr><tr><td>(77) 98824-4378</td></tr><tr><td>(21) 2446-4557</td></tr><tr><td>(11) 4577-1171</td></tr><tr><td>(54) 3273-2471</td></tr><tr><td>(31) 3409-6498</td></tr><tr><td>(11) 4446-7699</td></tr><tr><td>(75) 98105-9836</td></tr><tr><td>(47) 3387-0282</td></tr><tr><td>(31) 3352-5357</td></tr><tr><td>(14) 3406-1401</td></tr><tr><td>(87) 3854-1156</td></tr><tr><td>(11) 3704-6260</td></tr><tr><td>(75) 3277-1464</td></tr><tr><td>(21) 2233-3690</td></tr><tr><td>(79) 3431-9701</td></tr><tr><td>(51) 3645-1005</td></tr><tr><td>(98) 98850-0534</td></tr><tr><td>(41) 3975-3102</td></tr><tr><td>(35) 99113-6193</td></tr><tr><td>(11) 4686-1658</td></tr><tr><td>(98) 3216-9263</td></tr><tr><td>(49) 3665-3200</td></tr><tr><td>(48) 3445-8844</td></tr><tr><td>(32) 3348-1566</td></tr><tr><td>(53) 3284-5533</td></tr><tr><td>(33) 99911-7611</td></tr><tr><td>(44) 3528-9172</td></tr><tr><td>(13) 3226-8000</td></tr><tr><td>(19) 3865-2678</td></tr><tr><td>(46) 3252-8019</td></tr><tr><td>(32) 2102-3221</td></tr><tr><td>(21) 2629-2313</td></tr><tr><td>(51) 3632-1987</td></tr><tr><td>(84) 9911-0181</td></tr><tr><td>(55) 3252-2747</td></tr><tr><td>(19) 3308-5656</td></tr><tr><td>(11) 2221-0275</td></tr><tr><td>(19) 3555-1333</td></tr><tr><td>(11) 5073-6220</td></tr><tr><td>(42) 3421-3210</td></tr><tr><td>(42) 3652-1372</td></tr><tr><td>(31) 3559-1597</td></tr><tr><td>(79) 3217-3370</td></tr><tr><td>(62) 3371-1990</td></tr><tr><td>(71) 3106-4659</td></tr><tr><td>(35) 3449-9257</td></tr><tr><td>(45) 3244-2082</td></tr><tr><td>(11) 4154-1874</td></tr><tr><td>(79) 3302-5840</td></tr><tr><td>(21) 2226-9818</td></tr><tr><td>(32) 3741-1969</td></tr><tr><td>(49) 3241-2393</td></tr><tr><td>(53) 3028-8585</td></tr><tr><td>(55) 3426-2639</td></tr><tr><td>(83) 98133-0698</td></tr><tr><td>(12) 3144-1207</td></tr><tr><td>(62) 3331-1012</td></tr><tr><td>(21) 99778-2035</td></tr><tr><td>(81) 3439-3033</td></tr><tr><td>(51) 3221-7147</td></tr><tr><td>(19) 2136-3400</td></tr><tr><td>(79) 3198-1452</td></tr><tr><td>(54) 3901-8940</td></tr><tr><td>(17) 3405-9670</td></tr><tr><td>(16) 3322-9708</td></tr><tr><td>(79) 99868-3256</td></tr><tr><td>(22) 2522-3442</td></tr><tr><td>(82) 98185-0012</td></tr><tr><td>(48) 3222-1333</td></tr><tr><td>(16) 3663-4404</td></tr><tr><td>(19) 3522-4400</td></tr><tr><td>(67) 3326-9788</td></tr><tr><td>(42) 3231-5063</td></tr><tr><td>(55) 3251-2362</td></tr><tr><td>(85) 8725-4437</td></tr><tr><td>(53) 3221-0445</td></tr><tr><td>(17) 3266-9600</td></tr><tr><td>(93) 3544-1397</td></tr><tr><td>(81) 3224-4620</td></tr><tr><td>(99) 3531-3738</td></tr><tr><td>(55) 3544-1099</td></tr><tr><td>(19) 3817-3002</td></tr><tr><td>null</td></tr><tr><td>(49) 3233-2798</td></tr><tr><td>(61) 3521-4367</td></tr><tr><td>(81) 3222-4952</td></tr><tr><td>(88) 3523-5491</td></tr><tr><td>(19) 3874-5700</td></tr><tr><td>(38) 3531-1335</td></tr><tr><td>(12) 3896-3757</td></tr><tr><td>(61) 2024-8885</td></tr><tr><td>(86)3222-0811</td></tr><tr><td>(44) 3323-3033</td></tr><tr><td>(31) 2125-0700</td></tr><tr><td>(12) 3229-7909</td></tr><tr><td>(31) 3899-2586</td></tr><tr><td>(11) 4784-8500</td></tr><tr><td>(21) 2263-0685</td></tr><tr><td>(21) 99999-9999</td></tr><tr><td>(35) 3559-1086</td></tr><tr><td>(31) 3225-2074</td></tr><tr><td>(47) 3357-4442</td></tr><tr><td>(21) 2273-8011</td></tr><tr><td>(63) 3312-5767</td></tr><tr><td>(75) 3422-7084</td></tr><tr><td>(11) 3111-4037</td></tr><tr><td>(51) 3218-2018</td></tr><tr><td>(16) 3668-1295</td></tr><tr><td>(54) 3387-1144</td></tr><tr><td>(49) 3365-3167</td></tr><tr><td>(48) 3466-0011</td></tr><tr><td>(71) 3116-7954</td></tr><tr><td>(88) 3511-4487</td></tr><tr><td>(83) 3310-1591</td></tr><tr><td>(54) 3218-2167</td></tr><tr><td>(98) 3222-9162</td></tr><tr><td>(65) 3617-3516</td></tr><tr><td>(49) 99967-6130</td></tr><tr><td>(43) 3904-1124</td></tr><tr><td>(79) 3243-3214</td></tr><tr><td>(37) 3271-6163</td></tr><tr><td>(38) 9144-5253</td></tr><tr><td>(12) 3634-3447</td></tr><tr><td>(11) 3091-3247</td></tr><tr><td>(11) 3825-2560</td></tr><tr><td>(49) 3643-1745</td></tr><tr><td>(74) 3653-2186</td></tr><tr><td>(27) 3253-1842</td></tr><tr><td>(41) 3244-7463</td></tr><tr><td>(81) 3241-3226</td></tr><tr><td>(46) 3262-5669</td></tr><tr><td>(11) 3311-9955</td></tr><tr><td>(88) 99277-1013</td></tr><tr><td>(69) 98491-3351</td></tr><tr><td>(15) 3212-7282</td></tr><tr><td>(51) 99945-4326</td></tr><tr><td>(51) 3500-3322</td></tr><tr><td>(27) 3251-6636</td></tr><tr><td>(21) 3970-1093</td></tr><tr><td>(15) 3227-2825</td></tr><tr><td>(41) 3554-1531</td></tr><tr><td>(35) 3691-1086</td></tr><tr><td>(75) 3326-2286</td></tr><tr><td>(15) 3262-4544</td></tr><tr><td>(81) 3184-7754</td></tr><tr><td>(55) 3232-5378</td></tr><tr><td>(55) 3431-1687</td></tr><tr><td>(19) 3455-5082</td></tr><tr><td>(55) 3291-7090</td></tr><tr><td>(51) 3455-1858</td></tr><tr><td>(11) 99862-6252</td></tr><tr><td>(47) 3362-1108</td></tr><tr><td>(34) 3331-9999</td></tr><tr><td>(99) 3521-0053</td></tr><tr><td>(18) 3275-5506</td></tr><tr><td>(14) 3662-1317</td></tr><tr><td>(32) 3753-1905</td></tr><tr><td>(81) 98313-2471</td></tr><tr><td>(83) 3341-4581</td></tr><tr><td>(62) 3209-6202</td></tr><tr><td>(67) 3562-1223</td></tr><tr><td>(82) 3644-1122</td></tr><tr><td>(77) 3261-3011</td></tr><tr><td>(71) 3343-1437</td></tr><tr><td>(82) 3223-4298</td></tr><tr><td>(51) 3626-9150</td></tr><tr><td>(42) 3271-5385</td></tr><tr><td>(82) 3264-6474</td></tr><tr><td>(48) 3255-2922</td></tr><tr><td>(32) 3279-5248</td></tr><tr><td>(24) 2458-4720</td></tr><tr><td>(98) 98204-4180</td></tr><tr><td>(37) 3521-9705</td></tr><tr><td>(84) 99952-4226</td></tr><tr><td>(31) 3446-0686</td></tr><tr><td>(51) 3230-4532</td></tr><tr><td>(51) 3457-6432</td></tr><tr><td>(67) 4042-4336</td></tr><tr><td>(27) 3222-4560</td></tr><tr><td>(61) 3107-7001</td></tr><tr><td>(11) 2176-7025</td></tr><tr><td>(91) 3182-3219</td></tr><tr><td>(13) 3362-9364</td></tr><tr><td>(83) 3221-4635</td></tr><tr><td>(82) 3271-1990</td></tr><tr><td>(13) 3233-8113</td></tr><tr><td>(31) 3835-2152</td></tr><tr><td>(21) 2512-9878</td></tr><tr><td>(16) 3944-2132</td></tr><tr><td>(44) 3270-1199</td></tr><tr><td>(42) 3232-5856</td></tr><tr><td>(82) 3281-3167</td></tr><tr><td>(33) 3514-1629</td></tr><tr><td>(21) 2516-7089</td></tr><tr><td>(11) 3747-1233</td></tr><tr><td>(92) 3631-3632 / (92) 9128-5752</td></tr><tr><td>(32) 3273-5700</td></tr><tr><td>(14) 3882-3429</td></tr><tr><td>(85) 3101-2610</td></tr><tr><td>(24) 2438-1134</td></tr><tr><td>(34) 3261-4248</td></tr><tr><td>(11) 4412-7153</td></tr><tr><td>(54) 3279-1298</td></tr><tr><td>(49) 3236-3052</td></tr><tr><td>(24) 3371-6107</td></tr><tr><td>(31) 3409-5179</td></tr><tr><td>(31) 3899-2662</td></tr><tr><td>(49) 3455-9030</td></tr><tr><td>(88) 99628-6702</td></tr><tr><td>(51) 3458-2942</td></tr><tr><td>(11) 3873-3211</td></tr><tr><td>(77) 3623-2910</td></tr><tr><td>(21) 2233-7483</td></tr><tr><td>(22) 2622-9087</td></tr><tr><td>(35) 3265-2627</td></tr><tr><td>(48) 3664-2650</td></tr><tr><td>(14) 3844-1230</td></tr><tr><td>(71) 3264-7262</td></tr><tr><td>(17) 3341-9444</td></tr><tr><td>(82) 3521-2353</td></tr><tr><td>(24) 2463-1108</td></tr><tr><td>(83) 8811-3265</td></tr><tr><td>(84) 3251-2121</td></tr><tr><td>(81) 3355-0002</td></tr><tr><td>(49) 3452-4065</td></tr><tr><td>(97) 3415-6067</td></tr><tr><td>(22) 2621-4133</td></tr><tr><td>(47) 3346-5715</td></tr><tr><td>(61) 3216-5881</td></tr><tr><td>(33) 3271-8560</td></tr><tr><td>(89) 3477-1212</td></tr><tr><td>(31) 3732-2526</td></tr><tr><td>(21) 2233-7754</td></tr><tr><td>(11) 4187-7272</td></tr><tr><td>(31) 99127-3933</td></tr><tr><td>(82) 99827-2033</td></tr><tr><td>(22) 2555-5149</td></tr><tr><td>(34) 3236-3707</td></tr><tr><td>(41) 3677-1706</td></tr><tr><td>(21) 2332-9703</td></tr><tr><td>(53) 3233-8675</td></tr><tr><td>(34) 3411-5325</td></tr><tr><td>(45) 3902-1387</td></tr><tr><td>(55) 3242-3505</td></tr><tr><td>(85) 3101-5507</td></tr><tr><td>(91) 3221-6100</td></tr><tr><td>(37) 3281-7326</td></tr><tr><td>(54) 3612-2102</td></tr><tr><td>(12) 3883-9188</td></tr><tr><td>(14) 99904-0073</td></tr><tr><td>(81) 3184-3154</td></tr><tr><td>(63) 3602-2734</td></tr><tr><td>(47) 3381-6176</td></tr><tr><td>(11) 9974-6300</td></tr><tr><td>(21) 2691-1135</td></tr><tr><td>(86) 3215-7849</td></tr><tr><td>(11) 97390-5119</td></tr><tr><td>(33) 3331-1607</td></tr><tr><td>(64) 3453-7138</td></tr><tr><td>(55) 3537-7575</td></tr><tr><td>(33) 99107-1602</td></tr><tr><td>(13) 3841-3012</td></tr><tr><td>(19) 3622-2105</td></tr><tr><td>(47) 3641-5500</td></tr><tr><td>(81) 3544-1193</td></tr><tr><td>(55) 3220-8412</td></tr><tr><td>(55) 3352-1321</td></tr><tr><td>(51) 3220-4318</td></tr><tr><td>(92) 3622-8387</td></tr><tr><td>(88) 9907-0254</td></tr><tr><td>(63) 3218-6181</td></tr><tr><td>(81) 3543-0729</td></tr><tr><td>(81) 3424-0153</td></tr><tr><td>(47) 3455-0372</td></tr><tr><td>(27) 99600-9248</td></tr><tr><td>(11) 5627-5393</td></tr><tr><td>(54) 3316-8586</td></tr><tr><td>(44) 3273-1161</td></tr><tr><td>(16) 3820-8027</td></tr><tr><td>(51) 3672-1788</td></tr><tr><td>(48) 3449-0492</td></tr><tr><td>(54) 3520-9000</td></tr><tr><td>(00) 00000-0000</td></tr><tr><td>(37) 3221-8881</td></tr><tr><td>(35) 3361-3618</td></tr><tr><td>(86) 3237-2262</td></tr><tr><td>(84) 3315-2097</td></tr><tr><td>(11) 2269-4330</td></tr><tr><td>(98) 3218-9945</td></tr><tr><td>(94) 3346-2007</td></tr><tr><td>(84) 3237-2292</td></tr><tr><td>(47) 3376-0114</td></tr><tr><td>(31) 3621-4444</td></tr><tr><td>(71) 3242-0182</td></tr><tr><td>(44) 3011-4290</td></tr><tr><td>(51) 3653-1951</td></tr><tr><td>(11) 5092-5345</td></tr><tr><td>(51) 3661-2766</td></tr><tr><td>(51) 3227-5196</td></tr><tr><td>(54) 3381-1648</td></tr><tr><td>(35) 3266-6246</td></tr><tr><td>(99) 99999-9999</td></tr><tr><td>(31) 3350-5246</td></tr><tr><td>(41) 3321-3260</td></tr><tr><td>(27) 4009-7658</td></tr><tr><td>(54) 3372-1334</td></tr><tr><td>(53) 3233-8409</td></tr><tr><td>(71) 3319-7047</td></tr><tr><td>(49) 3621-1879</td></tr><tr><td>(19) 3422-8315</td></tr><tr><td>(24) 2453-1460</td></tr><tr><td>(17) 3562-0901</td></tr><tr><td>(48) 3284-9032</td></tr><tr><td>(41) 3547-8073</td></tr><tr><td>(67) 3325-7050</td></tr><tr><td>(32) 3531-5876</td></tr><tr><td>(84) 3232-6380</td></tr><tr><td>(91) 98905-0123</td></tr><tr><td>(41) 3323-5328</td></tr><tr><td>(85) 99707-7232</td></tr><tr><td>(81) 3320-6513</td></tr><tr><td>(34) 3631-4142</td></tr><tr><td>(79) 3211-6913</td></tr><tr><td>(51) 3326-0122</td></tr><tr><td>(51) 3308-3352</td></tr><tr><td>(92) 3621-7306</td></tr><tr><td>(55) 3028-7000</td></tr><tr><td>(71) 3117-4864</td></tr><tr><td>(32) 3371-7836</td></tr><tr><td>(22) 2741-4327</td></tr><tr><td>(45) 3222-4575</td></tr><tr><td>(47) 3433-2522</td></tr><tr><td>(35) 3556-2156</td></tr><tr><td>(41) 3462-3598</td></tr><tr><td>(17) 3101-1174</td></tr><tr><td>(11) 3666-5803</td></tr><tr><td>(21) 97543-8326</td></tr><tr><td>(32) 3288-1112</td></tr><tr><td>(75) 3681-1102</td></tr><tr><td>(32) 3463-1619</td></tr><tr><td>(41) 3547-1049</td></tr><tr><td>(51) 3663-3833</td></tr><tr><td>(54) 3368-1328</td></tr><tr><td>(31) 3319-4152</td></tr><tr><td>(31) 3876-1300</td></tr><tr><td>(16) 3721-6630</td></tr><tr><td>(81) 9982-6111</td></tr><tr><td>(84) 3333-1017</td></tr><tr><td>(31) 3409-2295</td></tr><tr><td>(51) 3248-5310</td></tr><tr><td>(32) 3211-0770</td></tr><tr><td>(87) 3852-1209</td></tr><tr><td>(54) 3281-8419</td></tr><tr><td>(35) 3555-3761</td></tr><tr><td>(51) 3226-5883</td></tr><tr><td>(48) 3252-0111</td></tr><tr><td>(63) 3232-5952</td></tr><tr><td>(47) 3387-0124</td></tr><tr><td>(28) 3536-2467</td></tr><tr><td>(61) 3254-4341</td></tr><tr><td>(61) 3217-3602</td></tr><tr><td>(38) 3759-1267</td></tr><tr><td>(38) 3677-5647</td></tr><tr><td>(62) 3902-2728</td></tr><tr><td>(11) 4725-3448</td></tr><tr><td>(51) 3221-3959</td></tr><tr><td>(48) 3275-1453</td></tr><tr><td>(47) 3431-1165</td></tr><tr><td>(51) 3616-7014</td></tr><tr><td>(68) 3542-2358</td></tr><tr><td>(11) 3872-7743</td></tr><tr><td>(85) 3219-7751</td></tr><tr><td>(11) 4168-6225</td></tr><tr><td>(11) 3749-8000</td></tr><tr><td>(54) 3535-1614</td></tr><tr><td>(11) 4412-3287</td></tr><tr><td>(67) 3025-5036</td></tr><tr><td>(11) 2118-4100</td></tr><tr><td>(31) 3277-4131</td></tr><tr><td>(83) 3341-1947</td></tr><tr><td>(86) 98102-9720</td></tr><tr><td>(16) 3322-2207</td></tr><tr><td>(41) 3555-1939</td></tr><tr><td>(73) 9141-3178</td></tr><tr><td>(31) 3651-1700</td></tr><tr><td>(42) 3523-1515</td></tr><tr><td>(75) 3241-4946</td></tr><tr><td>(85) 3255-7262</td></tr><tr><td>(32) 3571-4927</td></tr><tr><td>(47) 3371-8346</td></tr><tr><td>(54) 3905-4811</td></tr><tr><td>(81) 3224-1110</td></tr><tr><td>(21) 2509-1844</td></tr><tr><td>(71) 3117-6388</td></tr><tr><td>(88) 3611-1236</td></tr><tr><td>(67) 3260-1739</td></tr><tr><td>(38) 3754-6158</td></tr><tr><td>(81) 3534-1400</td></tr><tr><td>(21) 2199-6629</td></tr><tr><td>(35) 3841-1207</td></tr><tr><td>(48) 99626-7470</td></tr><tr><td>(84) 99832-7166</td></tr><tr><td>(82) 3552-1585</td></tr><tr><td>(19) 3417-1766</td></tr><tr><td>(51) 3019-4600</td></tr><tr><td>(49) 3647-9600</td></tr><tr><td>(19) 3521-6385</td></tr><tr><td>(37) 3331-2575</td></tr><tr><td>(51) 3714-7000</td></tr><tr><td>(38) 3531-3919</td></tr><tr><td>(12) 3648-1779</td></tr><tr><td>(91) 3201-7428</td></tr><tr><td>(42) 3907-3157</td></tr><tr><td>(74) 3654-1483</td></tr><tr><td>(82) 3221-8488</td></tr><tr><td>(48) 3431-2573</td></tr><tr><td>(63) 2121-7314</td></tr><tr><td>(69) 3451-2593</td></tr><tr><td>(16) 3332-4933</td></tr><tr><td>(85) 99926-0336</td></tr><tr><td>(21) 3465-3959</td></tr><tr><td>Não Informado</td></tr><tr><td>(47) 3626-7187</td></tr><tr><td>(88) 3667 1116</td></tr><tr><td>(65) 3027-3269</td></tr><tr><td>(92) 2125-5301</td></tr><tr><td>(61) 3103-5894</td></tr><tr><td>(54) 3232-1511</td></tr><tr><td>(86) 3271-2452</td></tr><tr><td>(32) 3371-8485</td></tr><tr><td>(22) 2768-1332</td></tr><tr><td>(11) 3295-5819</td></tr><tr><td>(16) 3373-2700</td></tr><tr><td>(32) 3372-2674</td></tr><tr><td>(79) 3261-1435</td></tr><tr><td>(16) 3951-8407</td></tr><tr><td>(44) 3332-1398</td></tr><tr><td>(55) 3289-1001</td></tr><tr><td>(19) 3631-0314</td></tr><tr><td>(85) 3342-3060</td></tr><tr><td>(65) 3664-2407</td></tr><tr><td>(22) 3852-0542</td></tr><tr><td>(84) 3388-0111</td></tr><tr><td>(34) 3236-8133</td></tr><tr><td>(37) 3323-5112</td></tr><tr><td>(55) 3548-1200</td></tr><tr><td>(47) 3433-0114</td></tr><tr><td>(43) 3378-2053</td></tr><tr><td>(71) 3116-8792</td></tr><tr><td>(42) 3675-1801</td></tr><tr><td>(44) 3261-4040</td></tr><tr><td>(21) 4009-7032</td></tr><tr><td>(51) 3328-7376</td></tr><tr><td>(55) 3279-1033</td></tr><tr><td>(21) 2042-5312</td></tr><tr><td>(51) 3227-4580</td></tr><tr><td>(31) 3379-8593</td></tr><tr><td>(84) 3234-3422</td></tr><tr><td>(16) 3301-6430</td></tr><tr><td>(31) 3330-8301</td></tr><tr><td>(35) 3622-3957</td></tr><tr><td>(51) 3213-6000</td></tr><tr><td>(45) 3232-1181</td></tr><tr><td>(49) 3541-1554</td></tr><tr><td>(88) 99751-0713</td></tr><tr><td>(27) 3335-7853</td></tr><tr><td>(11) 4638-2205</td></tr><tr><td>(21) 3938-6645</td></tr><tr><td>(49) 3050-5518</td></tr><tr><td>(35) 3292-5033</td></tr><tr><td>(27) 98157-4461</td></tr><tr><td>(54) 3314-1888</td></tr><tr><td>(48) 3333-1322</td></tr><tr><td>(73) 8835-5326</td></tr><tr><td>(21) 3322-3581</td></tr><tr><td>(35) 3864-7268</td></tr><tr><td>(16) 3635-2421</td></tr><tr><td>(67) 9937-0434</td></tr><tr><td>(49) 3325-4280</td></tr><tr><td>(41) 3218-1909</td></tr><tr><td>(32) 3441-2090</td></tr><tr><td>(18) 3229-5840</td></tr><tr><td>(21) 3641-9856</td></tr><tr><td>(11) 4616-3009</td></tr><tr><td>(85) 3366-8471</td></tr><tr><td>(53) 3025-4762</td></tr><tr><td>(11) 3149-5959</td></tr><tr><td>(41) 3222-8262</td></tr><tr><td>(47) 3351-2132</td></tr><tr><td>(67) 3326-4166</td></tr><tr><td>(65) 3336-1003</td></tr><tr><td>(98) 3301-8290</td></tr><tr><td>(31) 3612-5310</td></tr><tr><td>(88) 3632-1555</td></tr><tr><td>(15) 3459-9220</td></tr><tr><td>(62) 3935-1020</td></tr><tr><td>(96) 3312-1782</td></tr><tr><td>(85) 3281-6949</td></tr><tr><td>(84) 3211-7710</td></tr><tr><td>(92) 3216-3084</td></tr><tr><td>(62) 3521-1055</td></tr><tr><td>(85) 4005-5491</td></tr><tr><td>(22) 3864-1633</td></tr><tr><td>(44) 3649-1214</td></tr><tr><td>(53) 98135-6341</td></tr><tr><td>(69) 3216-5133</td></tr><tr><td>(34) 99257-1165</td></tr><tr><td>(85) 3324-1327</td></tr><tr><td>(27) 3371-9702</td></tr><tr><td>(51) 3316-1198</td></tr><tr><td>(44) 3011-4554</td></tr><tr><td>(14) 3496-1125</td></tr><tr><td>(84) 3361-2211</td></tr><tr><td>(48) 99954-5453</td></tr><tr><td>(21) 3601-8220</td></tr><tr><td>(21) 3289-8683</td></tr><tr><td>(12) 3921-9460</td></tr><tr><td>(42) 3522-0649</td></tr><tr><td>(19) 3565-3280</td></tr><tr><td>(51) 3782-1212</td></tr><tr><td>(87) 3862-1943</td></tr><tr><td>(12) 3971-1665</td></tr><tr><td>(33) 3267-1671</td></tr><tr><td>(18) 3273-1675</td></tr><tr><td>(21) 3874-1808</td></tr><tr><td>(65) 9979-3495</td></tr><tr><td>(54) 3286-4323</td></tr><tr><td>(31) 3246-8061</td></tr><tr><td>(55) 3367-1450</td></tr><tr><td>(12) 3132-2414</td></tr><tr><td>(21) 99946-7759</td></tr><tr><td>(55) 3430-2953</td></tr><tr><td>(75) 3223-7033</td></tr><tr><td>(92) 3663-1231</td></tr><tr><td>(43) 3904-1110</td></tr><tr><td>(41) 3121-2395</td></tr><tr><td>(38) 3722-2600</td></tr><tr><td>(83) 99982-1837</td></tr><tr><td>(38) 99950-6629</td></tr><tr><td>(51) 3288-8109</td></tr><tr><td>(51) 3216-4636</td></tr><tr><td>(17) 3321-0000</td></tr><tr><td>(19) 3861-0222</td></tr><tr><td>(91) 3481-1228</td></tr><tr><td>(34) 3818-2841</td></tr><tr><td>(13) 3568-8190</td></tr><tr><td>(24) 2231-4722</td></tr><tr><td>(84) 3317-8543</td></tr><tr><td>(27) 99889-2586</td></tr><tr><td>(51) 3382-6000</td></tr><tr><td>(82) 3281-1180</td></tr><tr><td>(65) 3221-0000</td></tr><tr><td>(11) 2032-3921</td></tr><tr><td>(92) 3631-2938</td></tr><tr><td>(19) 3875-8383</td></tr><tr><td>(31) 3835-5532</td></tr><tr><td>(62) 3524-1190</td></tr><tr><td>(21) 2527-4044</td></tr><tr><td>(19) 3733-8800</td></tr><tr><td>(41) 3032-1331</td></tr><tr><td>(13) 3561-1119</td></tr><tr><td>(13) 3426-3682</td></tr><tr><td>(35) 3731-1596</td></tr><tr><td>(19) 3711-9569</td></tr><tr><td>(51) 3545-3435</td></tr><tr><td>(81) 3355-3126</td></tr><tr><td>(55) 3224-4800</td></tr><tr><td>(74) 3655-1104</td></tr><tr><td>(91) 3425-1520</td></tr><tr><td>(12) 3147-1200</td></tr><tr><td>(28) 3522-2259</td></tr><tr><td>(19) 3298-6566</td></tr><tr><td>(55) 3781-4390</td></tr><tr><td>(51) 3762-4040</td></tr><tr><td>(48) 3221-7665</td></tr><tr><td>(27) 3267-1751</td></tr><tr><td>(27) 3767-1020</td></tr><tr><td>(24) 9268-0979</td></tr><tr><td>(41) 3321-3256</td></tr><tr><td>(61) 3214-5641</td></tr><tr><td>(21) 3380-1850</td></tr><tr><td>(34) 3833-1560</td></tr><tr><td>(75) 3221-9611</td></tr><tr><td>(14) 3811-6040</td></tr><tr><td>(49) 0562-1311</td></tr><tr><td>(73) 3211-8248</td></tr><tr><td>(71) 3116-6711</td></tr><tr><td>(88) 3671-2446</td></tr><tr><td>(84) 3472-2560</td></tr><tr><td>(88) 99669-4081</td></tr><tr><td>(27) 99975-3492</td></tr><tr><td>(19) 3735-5898</td></tr><tr><td>(95) 3623-3244</td></tr><tr><td>(92) 3232-5919</td></tr><tr><td>(85) 3369-9195</td></tr><tr><td>(11) 4886-9747</td></tr><tr><td>(31) 3212-4656</td></tr><tr><td>(11) 2594-2601</td></tr><tr><td>(33) 3411-2594</td></tr><tr><td>(83) 99908-2198</td></tr><tr><td>(21) 2215-2093</td></tr><tr><td>(71) 3321-1967</td></tr><tr><td>(31) 99957-6659</td></tr><tr><td>(41) 3304-3300</td></tr><tr><td>(31) 3308-4000</td></tr><tr><td>(11) 3224-1489</td></tr><tr><td>(71) 3116-6743</td></tr><tr><td>(11) 4591-8537</td></tr><tr><td>(92) 3622-0034</td></tr><tr><td>(55) 3251-3151</td></tr><tr><td>(11) 5085-1301</td></tr><tr><td>(11) 3396-2596</td></tr><tr><td>(35) 98806-1353</td></tr><tr><td>(54) 3450-0034</td></tr><tr><td>(81) 3224-0994</td></tr><tr><td>(11) 3321-4400</td></tr><tr><td>(84) 3391-2306</td></tr><tr><td>(47) 3645-0623</td></tr><tr><td>(28) 3155-5258</td></tr><tr><td>(35) 99163-5355</td></tr><tr><td>(49) 3561-6813</td></tr><tr><td>(11) 4825-9049</td></tr><tr><td>(64) 3491-4679</td></tr><tr><td>(27) 99626-8905</td></tr><tr><td>(88) 3422-1463</td></tr><tr><td>(67) 3326-7449</td></tr><tr><td>(46) 3242-2781</td></tr><tr><td>(24) 2263-6116</td></tr><tr><td>(21) 2522-6966</td></tr><tr><td>(31) 3593-1397</td></tr><tr><td>(92) 3622-0618</td></tr><tr><td>(22) 9881-6025</td></tr><tr><td>(21) 2253-1580</td></tr><tr><td>(21) 2557-4600</td></tr><tr><td>(51) 3308-6284</td></tr><tr><td>(49) 3521-8509</td></tr><tr><td>(71) 3116-1511</td></tr><tr><td>(54) 3293-5656</td></tr><tr><td>(53) 3226-2888</td></tr><tr><td>(11) 2958-1477</td></tr><tr><td>(55) 3278-1123</td></tr><tr><td>(16) 99344-3948</td></tr><tr><td>(41) 3321-3255</td></tr><tr><td>(54) 3288-2298</td></tr><tr><td>(98) 3218-8952</td></tr><tr><td>(88) 3611-3525</td></tr><tr><td>(67) 3441-1596</td></tr><tr><td>(61) 3314-6440</td></tr><tr><td>(17) 3562-0706</td></tr><tr><td>(11) 4029-3473</td></tr><tr><td>(51) 3214-8503</td></tr><tr><td>(93) 99010-3283</td></tr><tr><td>(73) 3288-0828</td></tr><tr><td>(27) 3636-1032</td></tr><tr><td>(31) 3521-9531</td></tr><tr><td>(91) 98141-0011</td></tr><tr><td>(87) 3838-2790</td></tr><tr><td>(54) 3376-1825</td></tr><tr><td>(84) 3654-5645</td></tr><tr><td>(21) 2511-1533</td></tr><tr><td>(61) 3107-0912</td></tr><tr><td>(55) 3375-3292</td></tr><tr><td>(21) 2215-0621</td></tr><tr><td>(48) 3338-3031</td></tr><tr><td>(55) 3422-3318</td></tr><tr><td>(53) 3257-1481</td></tr><tr><td>(19) 3451-5714</td></tr><tr><td>(11) 2613-9500</td></tr><tr><td>(73) 3231-7531</td></tr><tr><td>(85) 3017-3661</td></tr><tr><td>(14) 3103-6030</td></tr><tr><td>(89) 98108-8615</td></tr><tr><td>(54) 3392-1162</td></tr><tr><td>(85) 3632-1125</td></tr><tr><td>(11) 2159-0400</td></tr><tr><td>(88) 99442-0061</td></tr><tr><td>(53) 3238-1502</td></tr><tr><td>(43) 3903-1291</td></tr><tr><td>(47) 3340-3242</td></tr><tr><td>(87) 99919-0803</td></tr><tr><td>(33) 3743-1205</td></tr><tr><td>(54) 3278-3035</td></tr><tr><td>(55) 3961-1667</td></tr><tr><td>(54) 3285-2147</td></tr><tr><td>(54) 3316-7000</td></tr><tr><td>(46) 3525-8130</td></tr><tr><td>(31) 3557-3259</td></tr><tr><td>(82) 3273-8084</td></tr><tr><td>(91) 99267-8819</td></tr><tr><td>(81) 3355-3155</td></tr><tr><td>(91) 4009-8513</td></tr><tr><td>(49) 3432-3200</td></tr><tr><td>(85) 3101-6767</td></tr><tr><td>(18) 3743-1143</td></tr><tr><td>(48) 3721-8302</td></tr><tr><td>(21) 2787-6178</td></tr><tr><td>(51) 3494-8082</td></tr><tr><td>(13) 3496-5708</td></tr><tr><td>(21) 2691-9804</td></tr><tr><td>(51) 99651-4400</td></tr><tr><td>(17) 3816-1331</td></tr><tr><td>(65) 3617-1225</td></tr><tr><td>(41) 3224-5597</td></tr><tr><td>(21) 3284-7400</td></tr><tr><td>(14) 3491-5896</td></tr><tr><td>(65) 3644-4269</td></tr><tr><td>(21) 2504-0002</td></tr><tr><td>(32) 3332-2047</td></tr><tr><td>(74) 3643-1393</td></tr><tr><td>(83) 3218-7880</td></tr><tr><td>(51) 3308-4087</td></tr><tr><td>(65) 3224-1873</td></tr><tr><td>(34) 3318-1756</td></tr><tr><td>(19) 3646-9700</td></tr><tr><td>(71) 3321-0383</td></tr><tr><td>(12) 3111-1499</td></tr><tr><td>(18) 3321-1891</td></tr><tr><td>(42) 3901-1584</td></tr><tr><td>(32) 3281-1101</td></tr><tr><td>(11) 4165-1286</td></tr><tr><td>(69) 3422-3900</td></tr><tr><td>(91) 3182-9064</td></tr><tr><td>(69) 3535-2545</td></tr><tr><td>(54) 3391-1200</td></tr><tr><td>(42) 3618-1017</td></tr><tr><td>(32) 3355-1549</td></tr><tr><td>(51) 3462-1626</td></tr><tr><td>(85) 8631-3064</td></tr><tr><td>(55) 3243-1080</td></tr><tr><td>(41) 3373-5757</td></tr><tr><td>(11) 99309-1857</td></tr><tr><td>(55) 3961-1132</td></tr><tr><td>(53) 3243-1805</td></tr><tr><td>(21) 3707-9504</td></tr><tr><td>(81) 3184-3090</td></tr><tr><td>(42) 3229-2109</td></tr><tr><td>(41) 3323-5643</td></tr><tr><td>(31) 3277-7251</td></tr><tr><td>(51) 3224-6661</td></tr><tr><td>(21) 2410-1384</td></tr><tr><td>(81) 3631-0599</td></tr><tr><td>(87) 99601-9508</td></tr><tr><td>(83) 3310-6171</td></tr><tr><td>(16) 3244-4060</td></tr><tr><td>(71) 3360-6668</td></tr><tr><td>(53) 3228-2024</td></tr><tr><td>(11) 3396-6047</td></tr><tr><td>(55) 3513-1417</td></tr><tr><td>(11) 2408-9222</td></tr><tr><td>(88) 3696-1126</td></tr><tr><td>(51) 98603-6584</td></tr><tr><td>(64) 3442-3998</td></tr><tr><td>(47) 3622-0609</td></tr><tr><td>(82) 3553-1136</td></tr><tr><td>(81) 3721-2545</td></tr><tr><td>(21) 2242-1130</td></tr><tr><td>(12) 3101-1333</td></tr><tr><td>(71) 3371-0148</td></tr><tr><td>(31) 3776-3129</td></tr><tr><td>(51) 3958-8470</td></tr><tr><td>(51) 3542-1553</td></tr><tr><td>(51) 3224-3760</td></tr><tr><td>(54) 3332-3388</td></tr><tr><td>(31) 3296-1197</td></tr><tr><td>(21) 3298-9449</td></tr><tr><td>(21) 3938-0944</td></tr><tr><td>(54) 3261-2766</td></tr><tr><td>(51) 3045-4780</td></tr><tr><td>(12) 3662-2334</td></tr><tr><td>(41) 3364-3931</td></tr><tr><td>(93) 3523-0658</td></tr><tr><td>(83) 33323-8737</td></tr><tr><td>(11) 3258-1396</td></tr><tr><td>(16) 3984-9064</td></tr><tr><td>(88) 3658-1435</td></tr><tr><td>(71) 3321-8023</td></tr><tr><td>(21) 2242-1012</td></tr><tr><td>(13) 3822-2393</td></tr><tr><td>(11) 4666-7545</td></tr><tr><td>(42) 3252-2231</td></tr><tr><td>(61) 3274-9608</td></tr><tr><td>(34) 3336-5214</td></tr><tr><td>(11) 3468-3360</td></tr><tr><td>(32) 3690-2200</td></tr><tr><td>(15) 3233-1692</td></tr><tr><td>(12) 3646-2071</td></tr><tr><td>(16) 3171-1118</td></tr><tr><td>(47) 3444-5443</td></tr><tr><td>(73) 3234-3500</td></tr><tr><td>(88) 3111-1661</td></tr><tr><td>(24) 2235-5813</td></tr><tr><td>(34) 3351-1022</td></tr><tr><td>(81) 3320-6068</td></tr><tr><td>(31) 3551-4736</td></tr><tr><td>(79) 4102-0344</td></tr><tr><td>(84) 99229-6575</td></tr><tr><td>(51) 3295-8669</td></tr><tr><td>(84) 3317-5183</td></tr><tr><td>(65) 3313-3335</td></tr><tr><td>(47) 3387-2613</td></tr><tr><td>(83) 3228-3959</td></tr><tr><td>(61) 3348-7424</td></tr><tr><td>(33) 3323-1200</td></tr><tr><td>(51) 3228-6012</td></tr><tr><td>(41) 3321-4743</td></tr><tr><td>(41) 3322-9480</td></tr><tr><td>(21) 3331-0025</td></tr><tr><td>(71) 3117-6987</td></tr><tr><td>(11) 5576-4258</td></tr><tr><td>(31) 3829-8365</td></tr><tr><td>(88) 3611-6725</td></tr><tr><td>(31) 3409-2451</td></tr><tr><td>(11) 4642-5076</td></tr><tr><td>(81) 99444-6655</td></tr><tr><td>(11) 4524-1264</td></tr><tr><td>(41) 3335-2112</td></tr><tr><td>(68) 3221-1933</td></tr><tr><td>(11) 5575-5425</td></tr><tr><td>(73) 3205 1124 / (73) 3205-1133 / (73) 3205-1168</td></tr><tr><td>(87) </td></tr><tr><td>(31) 3516-7200</td></tr><tr><td>(11) 3061-7542</td></tr><tr><td>(33) 3511-1236</td></tr><tr><td>(46) 3220-6026</td></tr><tr><td>(44) 3311-1177</td></tr><tr><td>(35) 3429-6511</td></tr><tr><td>(21) 2589-8773</td></tr><tr><td>(34) 3354-1310</td></tr><tr><td>(81) 3224-8351</td></tr><tr><td>(44) 3906-1120</td></tr><tr><td>(22) 2655-6000</td></tr><tr><td>(21) 2254-4320</td></tr><tr><td>(44) 3029-9674</td></tr><tr><td>(19) 3821-7032</td></tr><tr><td>(82) 3214-1283</td></tr><tr><td>(82) 3315-7869</td></tr><tr><td>(49) 3321-8593</td></tr><tr><td>(31) 3832-1616</td></tr><tr><td>(53) 3261-1746</td></tr><tr><td>(19) 3584-5974</td></tr><tr><td>(88) 3565-0338</td></tr><tr><td>(82) 9657-5789</td></tr><tr><td>(11) 2627-9525</td></tr><tr><td>(92) 3305-1181</td></tr><tr><td>(81) 3621-8208</td></tr><tr><td>(31) 3612-2048</td></tr><tr><td>(31) 3829-8349</td></tr><tr><td>(62) 3201-4933</td></tr><tr><td>(53) 2128-8289</td></tr><tr><td>(19) 3582-1807</td></tr><tr><td>(13) 3261-5260</td></tr><tr><td>(61) 3348-8000</td></tr><tr><td>(67) 3907-5960</td></tr><tr><td>(37) 3553-1200</td></tr><tr><td>(21) 3805-2003</td></tr><tr><td>(11) 2193-8282</td></tr><tr><td>(55) 3312-7193</td></tr><tr><td>(19) 3231-3387</td></tr><tr><td>(19) 3641-6199</td></tr><tr><td>(21) 3902-8575</td></tr><tr><td>(51) 3308-6710</td></tr><tr><td>(47) 3433-3811</td></tr><tr><td>(61) 3316-3525</td></tr><tr><td>(81) 3268-2211</td></tr><tr><td>(31) 3261-3992</td></tr><tr><td>(77) 3421-4271</td></tr><tr><td>(47) 3399-2074</td></tr><tr><td>(31) 3718-7120</td></tr><tr><td>(61) 3445-7000</td></tr><tr><td>(13) 3261-4808</td></tr><tr><td>(19) 3526-4243</td></tr><tr><td>(37) 3381-2569</td></tr><tr><td>(45) 3284-8760</td></tr><tr><td>(17) 3324-4255</td></tr><tr><td>(21) 2589-9581</td></tr><tr><td>(81) 3524-9077</td></tr><tr><td>(51) 3547-1351</td></tr><tr><td>(54) 3291-1262</td></tr><tr><td>(66) 3478-1212</td></tr><tr><td>(71) 3369-2813</td></tr><tr><td>(22) 2758-6829</td></tr><tr><td>(31) 3731-3133</td></tr><tr><td>(27) 99780-1627</td></tr><tr><td>(63) 3538-1264</td></tr><tr><td>(62) 3371-1667</td></tr><tr><td>(31) 3499-4312</td></tr><tr><td>(67) 8408-1476</td></tr><tr><td>(27) 3381-3521</td></tr><tr><td>(47) 98828-0262</td></tr><tr><td>(21) 2178-9211</td></tr><tr><td>(82) 3326-1604</td></tr><tr><td>(11) 4412-7186</td></tr><tr><td>(61) 3303-4029</td></tr><tr><td>(62) 3331-1166</td></tr><tr><td>(83) 3220-1138</td></tr><tr><td>(13) 3821-4130</td></tr><tr><td>(62) 3524-2370</td></tr><tr><td>(71) 3363-4054</td></tr><tr><td>(51) 3210-5623</td></tr><tr><td>(16) 3244-4065</td></tr><tr><td>(51) 3772-2227</td></tr><tr><td>(48) 3229-6960</td></tr><tr><td>(22) 2622-1650</td></tr><tr><td>(11) 4798-5085</td></tr><tr><td>(18) 3637-3354</td></tr><tr><td>(83) 3322-8699</td></tr><tr><td>(85) 3341-0407</td></tr><tr><td>(42) 3446-3327</td></tr><tr><td>(22) 2785-1147</td></tr><tr><td>(42) 3237-1628</td></tr><tr><td>(31) 3557-1149</td></tr><tr><td>(81) 99846-5048</td></tr><tr><td>(47) 3644-5513</td></tr><tr><td>(31) 3409-6841</td></tr><tr><td>(12) 3662-1832</td></tr><tr><td>(32) 3422-5599</td></tr><tr><td>(51) 3741-5713</td></tr><tr><td>(21) 3514-5200</td></tr><tr><td>(51) 3627-4377</td></tr><tr><td>(11) 3673-1883</td></tr><tr><td>(21) 2127-0324</td></tr><tr><td>(28) 3542-0394</td></tr><tr><td>(49) 3664-1215</td></tr><tr><td>(88) 3512-2855</td></tr><tr><td>(11) 3872-6358</td></tr><tr><td>(14) 3882-0133</td></tr><tr><td>(41) 3622-6906</td></tr><tr><td>(75) 3425-3178</td></tr><tr><td>(47) 3387-2072</td></tr><tr><td>(81) 3183-2367</td></tr><tr><td>(19) 3886-3528</td></tr><tr><td>(81) 3181-1141</td></tr><tr><td>(64) 3461-5504</td></tr><tr><td>(51) 3656-1211</td></tr><tr><td>(48) 3209-8010</td></tr><tr><td>(51) 3662-1046</td></tr><tr><td>(92) 3361-2123</td></tr><tr><td>(84) 3654-5646</td></tr><tr><td>(32) 3729-7094</td></tr><tr><td>(21) 2544-4777</td></tr><tr><td>(61) 3319-8021</td></tr><tr><td>(55) 3511-7660</td></tr><tr><td>(41) 3234-7314</td></tr><tr><td>(42) 3234-1231</td></tr><tr><td>(91) 3276-2778</td></tr><tr><td>(61) 3317-2454</td></tr><tr><td>(47) 3531-6000</td></tr><tr><td>(54) 3362-1122</td></tr><tr><td>(51) 3288-2400</td></tr><tr><td>(67) 3291-0200</td></tr><tr><td>(14) 98122-1278</td></tr><tr><td>(34) 3332-9409</td></tr><tr><td>(98) 3218-9920</td></tr><tr><td>(32) 3751-2119</td></tr><tr><td>(48) 3445-8840</td></tr><tr><td>(43) 3525-1678</td></tr><tr><td>(61) 3244-1156</td></tr><tr><td>(51) 3724-6017</td></tr><tr><td>(27) 3132-5295</td></tr><tr><td>(21) 2582-0140</td></tr><tr><td>(11) 4521-6259</td></tr><tr><td>(49) 3444-0314</td></tr><tr><td>(92) 3312-1154</td></tr><tr><td>(44) 3025-1666</td></tr><tr><td>(55) 3524-1822</td></tr><tr><td>(89) 3582-1612</td></tr><tr><td>(71) 3117-6928</td></tr><tr><td>(21) 3865-2124</td></tr><tr><td>(21) 2555-3785</td></tr><tr><td>(67) 3466-2807</td></tr><tr><td>(41) 3329-2801</td></tr><tr><td>(61) 3414-2093</td></tr><tr><td>(22) 2543-2191</td></tr><tr><td>(47) 3274-8024</td></tr><tr><td>(42) 9981-2789</td></tr><tr><td>(68) 3322-6720</td></tr><tr><td>(34) 3316-9886</td></tr><tr><td>(43) 3524-2597</td></tr><tr><td>(55) 3272-1811</td></tr><tr><td>(88) 9711-0410</td></tr><tr><td>(22) 2561-1192</td></tr><tr><td>(16) 3258-1138</td></tr><tr><td>(84) 3394-0225</td></tr><tr><td>(82) 3597-8558</td></tr><tr><td>(64) 3632-4049</td></tr><tr><td>(88) 3411-0017</td></tr><tr><td>(51) 3308-6785</td></tr><tr><td>(27) 3636-2522</td></tr><tr><td>(24) 3351-1374</td></tr><tr><td>(31) 3072-7401</td></tr><tr><td>(15) 3211-0143</td></tr><tr><td>(31) 98722-8487</td></tr><tr><td>(21) 97532-4428</td></tr><tr><td>(32) 3212-7658</td></tr><tr><td>(61) 3362-4164</td></tr><tr><td>(34) 3261-1212</td></tr><tr><td>(69) 3214-7443</td></tr><tr><td>(54) 3281-1254</td></tr><tr><td>(44) 3243-1568</td></tr><tr><td>(49) 3632-1680</td></tr><tr><td>(12) 3921-7587</td></tr><tr><td>(16) 3633-1986</td></tr><tr><td>(17) 3522-4321</td></tr><tr><td>(41) 3028-5807</td></tr><tr><td>(34) 3224-6932</td></tr><tr><td>(81) 3425-1900</td></tr><tr><td>(32) 3264-1185</td></tr><tr><td>(11) 4798-6900</td></tr><tr><td>(61) 2104-4600</td></tr><tr><td>(35) 3432-1588</td></tr><tr><td>(21)97165-8655</td></tr><tr><td>(98) 3221-3724</td></tr><tr><td>(16) 3664-4284</td></tr><tr><td>(43) 3344-1145</td></tr><tr><td>(44) 3621-2828</td></tr><tr><td>(37) 3234-2308</td></tr><tr><td>(53) 3255-1773</td></tr><tr><td>(54) 3385-2323</td></tr><tr><td>(98) 3232-8897</td></tr><tr><td>(28) 3543-1422</td></tr><tr><td>(62) 3459-0014</td></tr><tr><td>(15) 3552-4139</td></tr><tr><td>(11) 3337-2916</td></tr><tr><td>(67) 3669-0040</td></tr><tr><td>(11) 2899-7379</td></tr><tr><td>(32) 3690-7245</td></tr><tr><td>(11) 3091-7545</td></tr><tr><td>(55) 3312-0184</td></tr><tr><td>(51) 3225-0793</td></tr><tr><td>(61) 3245-1070</td></tr><tr><td>(51) 3476-8690</td></tr><tr><td>(21) 2224-2900</td></tr><tr><td>(51) 3229-2098</td></tr><tr><td>(65) 3617-1238</td></tr><tr><td>(54) 3282-1121</td></tr><tr><td>(35) 3295-6757</td></tr><tr><td>(84) 3351-3148</td></tr><tr><td>(62) 3212-9528</td></tr><tr><td>(21) 2237-5234</td></tr><tr><td>(85) 3323-1156</td></tr><tr><td>(38) 3423-2670</td></tr><tr><td>(84) 3202-1497</td></tr><tr><td>(61) 3034-9800</td></tr><tr><td>(54) 3329-6439</td></tr><tr><td>(71) 3283-6715</td></tr><tr><td>(65) 3901-8290</td></tr><tr><td>(11) 2223-2355</td></tr><tr><td>(49) 3674-1144</td></tr><tr><td>(68) 3224-5668</td></tr><tr><td>(61) 3325-5220</td></tr><tr><td>(13) 3257-4099</td></tr><tr><td>(71) 2203-4023</td></tr><tr><td>(24) 3387-1378</td></tr><tr><td>(47) 3393-7112</td></tr><tr><td>(73) 8133-2526</td></tr><tr><td>(61) 3043-3355</td></tr><tr><td>(46) 3563-2257</td></tr><tr><td>(83) 3310-9738</td></tr><tr><td>(21) 98495-2488</td></tr><tr><td>(84) 98188-8933</td></tr><tr><td>(41) 3321-3265</td></tr><tr><td>(11) 5579-8542</td></tr><tr><td>(24) 3360-6155</td></tr><tr><td>(31) 2512-5194</td></tr><tr><td>(34) 3239-4229</td></tr><tr><td>(35) 3571-3145</td></tr><tr><td>(82) 3317-6693</td></tr><tr><td>(81) 3619-1365</td></tr><tr><td>(31) 3551-1444</td></tr><tr><td>(38) 3238-1110</td></tr><tr><td>(31) 3557-2581</td></tr><tr><td>(83) 2101-1320</td></tr><tr><td>(21) 3938-1997</td></tr><tr><td>(19) 3202-1812</td></tr><tr><td>(94) 3321-2355</td></tr><tr><td>(21) 2159-0111</td></tr><tr><td>(38) 3614-1528</td></tr><tr><td>(54) 3286-3775</td></tr><tr><td>(55) 3742-1257</td></tr><tr><td>(22) 2796-7850</td></tr><tr><td>(71) 3421-4200</td></tr><tr><td>(49) 3452-1191</td></tr><tr><td>(44) 3447-1122</td></tr><tr><td>(16) 3749-1009</td></tr><tr><td>(11) 99184-9136</td></tr><tr><td>(83) 3221-8741</td></tr><tr><td>(31) 3248-8600</td></tr><tr><td>(13) 3221-8595</td></tr><tr><td>(81) 3527-4025</td></tr><tr><td>(83) 9969-0801</td></tr><tr><td>(12) 3686-4864</td></tr><tr><td>(11) 2155-3308</td></tr><tr><td>(67) 3326-1370</td></tr><tr><td>(81) 3355-6870</td></tr><tr><td>(71) 3331-9231</td></tr><tr><td>(98) 3301-7758</td></tr><tr><td>(53) 3226-1047</td></tr><tr><td>(16) 3942-7223</td></tr><tr><td>(12) 3104-3536</td></tr><tr><td>(46) 3523-6347</td></tr><tr><td>(14) 3491-2333</td></tr><tr><td>(61) 8133-8588</td></tr><tr><td>(45) 3541-1690</td></tr><tr><td>(41) 3256-6491</td></tr><tr><td>(55) 3254-1659</td></tr><tr><td>(27) 3320-1502</td></tr><tr><td>(96) 3241-6011</td></tr><tr><td>(84) 3216-6470</td></tr><tr><td>(19) 3805-4730</td></tr><tr><td>(47) 3321-3340</td></tr><tr><td>(81) 99750-3564</td></tr><tr><td>(94) 3331-1734</td></tr><tr><td>(21) 2705-3929</td></tr><tr><td>(21) 2332-5515</td></tr><tr><td>(44) 3027-6360</td></tr><tr><td>(84) 3201-3985</td></tr><tr><td>(32) 3283-1020</td></tr><tr><td>(15) 3285-3338</td></tr><tr><td>(83) 3218-9707</td></tr><tr><td>(51) 3762-7775</td></tr><tr><td>(66) 3419-3383</td></tr><tr><td>(51) 3272-3800</td></tr><tr><td>(87) 98822-8581</td></tr><tr><td>(21) 99462-1415</td></tr><tr><td>(73) 98883-1178</td></tr><tr><td>(41) 3674-1408</td></tr><tr><td>(11) 4033-7566</td></tr><tr><td>(47) 3396-0296</td></tr><tr><td>(44) 3224-1752</td></tr><tr><td>(13) 3455-9426</td></tr><tr><td>(19) 3932-4062</td></tr><tr><td>(31) 3409-2776</td></tr><tr><td>(12) 3833-7000</td></tr><tr><td>(85) 3366-7481</td></tr><tr><td>(71) 3264-3296</td></tr><tr><td>(16) 3839-1147</td></tr><tr><td>(31) 3772-9987</td></tr><tr><td>(71) 8122-6074</td></tr><tr><td>(41) 3335-1440</td></tr><tr><td>(81) 3658-1630</td></tr><tr><td>(51) 3217-3487</td></tr><tr><td>(11) 3743-3875</td></tr><tr><td>(62) 3702-9511</td></tr><tr><td>(22) 2651-9178</td></tr><tr><td>(21) 2245-3616</td></tr><tr><td>(88) 99271-0838</td></tr><tr><td>(82) 3355-1179</td></tr><tr><td>(67) 3410-2207</td></tr><tr><td>(45) 3565-8159</td></tr><tr><td>(38) 3228-1378</td></tr><tr><td>(43) 3256-1449</td></tr><tr><td>(51) 3314-3310</td></tr><tr><td>(12) 3921-4112</td></tr><tr><td>(86) 3223-6622</td></tr><tr><td>(77) 3414-2113</td></tr><tr><td>(82) 3265-3043</td></tr><tr><td>(53) 3231-1678</td></tr><tr><td>(84) 3405-2737</td></tr><tr><td>(73) 98863-0048</td></tr><tr><td>(47) 3626-6734</td></tr><tr><td>(47) 3633-5924</td></tr><tr><td>(31) 3277-7946</td></tr><tr><td>(54) 3221-2423</td></tr><tr><td>(11) 4704-3278</td></tr><tr><td>(24) 2242-6564</td></tr><tr><td>(22) 2643-0562</td></tr><tr><td>(48) 3027-7008</td></tr><tr><td>(21) 3766-6729</td></tr><tr><td>(54) 3261-6914</td></tr><tr><td>(31) 3714-6227</td></tr><tr><td>(43) 3536-2102</td></tr><tr><td>(12) 3621-6044</td></tr><tr><td>(22) 9982-6037</td></tr><tr><td>(31) 3274-3869</td></tr><tr><td>(11) 4449-5545</td></tr><tr><td>(42) 3446-1228</td></tr><tr><td>(42) 3915-1020</td></tr><tr><td>(17) 3261-2329</td></tr><tr><td>(91) 3758-1102</td></tr><tr><td>(54) 3421-0800</td></tr><tr><td>(91) 3267-1444</td></tr><tr><td>(42) 3228-1539</td></tr><tr><td>(83) 3218-9710</td></tr><tr><td>(85) 3401-2361</td></tr><tr><td>(51) 3213-3884</td></tr><tr><td>(33) 3315-1511</td></tr><tr><td>(81) 3728-3676</td></tr><tr><td>(14) 3282-8289</td></tr><tr><td>(35) 3835-2213</td></tr><tr><td>(82) 3625-1260</td></tr><tr><td>(11) 3091-7360</td></tr><tr><td>(71) 3017-6722</td></tr><tr><td>(14) 3351-3622</td></tr><tr><td>(19) 3124-1889</td></tr><tr><td>(21) 2410-3000</td></tr><tr><td>(88) 3437-2115</td></tr><tr><td>(54) 3449-2234</td></tr><tr><td>(11) 2231-8555</td></tr><tr><td>(31) 3431-9400</td></tr><tr><td>(11) 5080-7300</td></tr><tr><td>(41) 3304-7938</td></tr><tr><td>(49) 3346-3242</td></tr><tr><td>(66) 3451-1349</td></tr><tr><td>(85) 3453-3874</td></tr><tr><td>(61) 3272-3627</td></tr><tr><td>(67) 9244-9266</td></tr><tr><td>(66) 3566-1800</td></tr><tr><td>(85) 3366-7414</td></tr><tr><td>(13) 3847-7000</td></tr><tr><td>(51) 3320-2016</td></tr><tr><td>(47) 98811-3263</td></tr><tr><td>(85) 9171-9490</td></tr><tr><td>(51) 3565-1309</td></tr><tr><td>(11) 6251-2744</td></tr><tr><td>(21) 2588-1186</td></tr><tr><td>(61) 3340-1600</td></tr><tr><td>(12) 3922-0004</td></tr><tr><td>(53) 3251-9573</td></tr><tr><td>(86) 3221-6969</td></tr><tr><td>(44) 3272-1352</td></tr><tr><td>(41) 3622-3524</td></tr><tr><td>(19) 3432-8063</td></tr><tr><td>(88) 3628-2341</td></tr><tr><td>(71) 3322-2552</td></tr><tr><td>(87) 3822-1255</td></tr><tr><td>(88) 3611-2712</td></tr><tr><td>(24) 2453-4042</td></tr><tr><td>(67) 3255-4758</td></tr><tr><td>(54) 3298-8092</td></tr><tr><td>(41) 3901-5037</td></tr><tr><td>(47) 3563-0271</td></tr><tr><td>(14) 3641-2888</td></tr><tr><td>(47) 3533-3732</td></tr><tr><td>(21) 3980-3815</td></tr><tr><td>(71) 3333-1919</td></tr><tr><td>(11) 4798-6902</td></tr><tr><td>(12) 3971-1255</td></tr><tr><td>(21) 2976-1245</td></tr><tr><td>(21) 2717-1000</td></tr><tr><td>(41) 3628-1363</td></tr><tr><td>(35) 3561-2020</td></tr><tr><td>(15) 3251-4969</td></tr><tr><td>(51) 3401-1133</td></tr><tr><td>(21) 3358-0809</td></tr><tr><td>(81) 2126-7387</td></tr><tr><td>(21) 2668-7950</td></tr><tr><td>(63) 3534-1072</td></tr><tr><td>(83) 3431-2229</td></tr><tr><td>(21) 2506-7600</td></tr><tr><td>(11) 3091-2352</td></tr><tr><td>(32) 3212-2078</td></tr><tr><td>(53) 3921-6615</td></tr><tr><td>(71) 3401-7804</td></tr><tr><td>(81) 3194-9554</td></tr><tr><td>(82) 3522-2620</td></tr><tr><td>(00) 0000-0000</td></tr><tr><td>(32) 3690-7055</td></tr><tr><td>(11) 3016-4231</td></tr><tr><td>(35) 3226-1349</td></tr><tr><td>(43) 3255-5516</td></tr><tr><td>(16) 3373-9162</td></tr><tr><td>(41) 3331-8090</td></tr><tr><td>(83) 3216-7070</td></tr><tr><td>(24) 2243-6259</td></tr><tr><td>(17) 3202-2310</td></tr><tr><td>(11) 3224-1472</td></tr><tr><td>(41) 2105-0256</td></tr><tr><td>(37) 3351-3125</td></tr><tr><td>(92) 2123-5246</td></tr><tr><td>(64) 3651-8840</td></tr><tr><td>(18) 3624-5581</td></tr><tr><td>(67) 3596-1301</td></tr><tr><td>(11) 3091-6587</td></tr><tr><td>(83) 3367-1476</td></tr><tr><td>(81) 3184-3197</td></tr><tr><td>(21) 3782-9000</td></tr><tr><td>(51) 3638-1221</td></tr><tr><td>(53) 3275-7268</td></tr><tr><td>(11) 4242-5993</td></tr><tr><td>(81) 3184-3159</td></tr><tr><td>(18) 3652-7715</td></tr><tr><td>(51) 3247-8000</td></tr><tr><td>(69) 8428-1281</td></tr><tr><td>(81) 99166-2914</td></tr><tr><td>(41) 3200-2000</td></tr><tr><td>(88) 3686-1023</td></tr><tr><td>(12) 3924-7318</td></tr><tr><td>(21) 3826-4325</td></tr><tr><td>(35) 3271-4100</td></tr><tr><td>(82) 3273-1824</td></tr><tr><td>(77) 3473-1430</td></tr><tr><td>(21) 2204-0599</td></tr><tr><td>(31) 3837-7619</td></tr><tr><td>(35) 3473-1071</td></tr><tr><td>(19) 2515-7095</td></tr><tr><td>(61) 3105-5100</td></tr><tr><td>(85) 3352-1235</td></tr><tr><td>(51) 3224-7159</td></tr><tr><td>(71) 3241-8135</td></tr><tr><td>(92) 3542-1520</td></tr><tr><td>(88) 9859-9951</td></tr><tr><td>(35) 3729-0008</td></tr><tr><td>(81) 3184-3153</td></tr><tr><td>(83) 3221-0779</td></tr><tr><td>(77) 3441-2587</td></tr><tr><td>(85) 98694-6340</td></tr><tr><td>(31) 3833-9213</td></tr><tr><td>(14) 9965-7964</td></tr><tr><td>(27) 98119-9292</td></tr><tr><td>(18) 3636-1270</td></tr><tr><td>(19) 3665-6023</td></tr><tr><td>(27) 3251-5874</td></tr><tr><td>(81) 3181-9440</td></tr><tr><td>(17) 3232-9426</td></tr><tr><td>(79) 3281-1332</td></tr><tr><td>(19) 3892-4937</td></tr><tr><td>(21) 2126-5053</td></tr><tr><td>(79) 3522-3046</td></tr><tr><td>(41) 3442-2766</td></tr><tr><td>(55) 3282-2234</td></tr><tr><td>(81) 3355-9540</td></tr><tr><td>(51) 3029-2900</td></tr><tr><td>(48) 3431-0153</td></tr><tr><td>(54) 3343-2099</td></tr><tr><td>(35) 3454-1000</td></tr><tr><td>(37) 3431-4986</td></tr><tr><td>(67) 3474-1681</td></tr><tr><td>(21) 3111-7467</td></tr><tr><td>(61) 3361-6810</td></tr><tr><td>(35) 3346-1260</td></tr><tr><td>(27) 3132-8393</td></tr><tr><td>(87) 3838-1221</td></tr><tr><td>(11) 3670-8559</td></tr><tr><td>(51) 3594-3022</td></tr><tr><td>(21) 2644-7076</td></tr><tr><td>(31) 99924-9601</td></tr><tr><td>(24) 3371-2800</td></tr><tr><td>(42) 3916-2191</td></tr><tr><td>(11) 3091-4223</td></tr><tr><td>(11) 2715-4608</td></tr><tr><td>(35) 3346-1022</td></tr><tr><td>(21) 3938-7723</td></tr><tr><td>(64) 3433-0314</td></tr><tr><td>(81) 3184-3165</td></tr><tr><td>(41) 3656-8639</td></tr><tr><td>(34) 99257-0870</td></tr><tr><td>(18) 3322-7015</td></tr><tr><td>(11) 3091-1309</td></tr><tr><td>(84) 3232-5356</td></tr><tr><td>(14) 3372-8302</td></tr><tr><td>(71) 3525-7142</td></tr><tr><td>(45) 3902-1445</td></tr><tr><td>(61) 3313-9223</td></tr><tr><td>(12) 98179-8749</td></tr><tr><td>(51) 3485-1173</td></tr><tr><td>(98) 3218-9953</td></tr><tr><td>(67) 3453-1455</td></tr><tr><td>(11) 3065-2000</td></tr><tr><td>(67) 3291-2716</td></tr><tr><td>(53) 3284-4319</td></tr><tr><td>(41) 3321-3313</td></tr><tr><td>(64) 3661-0005</td></tr><tr><td>(61) 3338-8694</td></tr><tr><td>(87) 99642-0735</td></tr><tr><td>(86) 99936-7258</td></tr><tr><td>(32) 3371-7663</td></tr><tr><td>(11) 3255-4990</td></tr><tr><td>(71) 3322-7355</td></tr><tr><td>(81) 3341-1932</td></tr><tr><td>(42) 3225-2757</td></tr><tr><td>(21) 2551-9242</td></tr><tr><td>(88) 9282-8976</td></tr><tr><td>(65) 3688-3000</td></tr><tr><td>(54) 3378-1053</td></tr><tr><td>(51) 3222-9580</td></tr><tr><td>(48) 3235-1076</td></tr><tr><td>(12) 3625-5058</td></tr><tr><td>(34) 3230-9517</td></tr><tr><td>(33) 99962-5433</td></tr><tr><td>(79) 99899-7192</td></tr><tr><td>(24) 2485-1475</td></tr><tr><td>(19) 3492-2722</td></tr><tr><td>(88) 99765-0038</td></tr><tr><td>(11) 4798-6914</td></tr><tr><td>(14) 3264-1442</td></tr><tr><td>(49) 3677-0423</td></tr><tr><td>(54) 3242-8230</td></tr><tr><td>(24) 2247-3715</td></tr><tr><td>(65) 3623-4965</td></tr><tr><td>(41) 3351-3024</td></tr><tr><td>(55) 3281-3936</td></tr><tr><td>(32) 3355-1552</td></tr><tr><td>(88) 99605-3311</td></tr><tr><td>(21) 2544-2374</td></tr><tr><td>(83) 99890-8685</td></tr><tr><td>(94) 2101-5908</td></tr><tr><td>(38) 3671-4797</td></tr><tr><td>(21) 3002-4284</td></tr><tr><td>(47) 3521-7702</td></tr><tr><td>(38) 3531-1382</td></tr><tr><td>(51) 3564-8812</td></tr><tr><td>(48) 3878-3956</td></tr><tr><td>(54) 3286-5100</td></tr><tr><td>(24) 2453-3033</td></tr><tr><td>(19) 3867-4221</td></tr><tr><td>(71) 3312-4512</td></tr><tr><td>(32) 3251-5000</td></tr><tr><td>(84) 99971-5578</td></tr><tr><td>(72) 3624-1921</td></tr><tr><td>(35) 3281-1962</td></tr><tr><td>(51) 3289-3735</td></tr><tr><td>(38) 3229-8087</td></tr><tr><td>(31) 3277-8573</td></tr><tr><td>(49) 3367-0030</td></tr><tr><td>(67) 3255-4646</td></tr><tr><td>(82) 3643-1161</td></tr><tr><td>(92) 3622-1260</td></tr><tr><td>(45) 9962-4097</td></tr><tr><td>(55) 3232-5297</td></tr><tr><td>(19) 3408-8034</td></tr><tr><td>(11) 2215-6900</td></tr><tr><td>(11) 4747-4180</td></tr><tr><td>(24) 2453-1645</td></tr><tr><td>(62) 3567-4594</td></tr><tr><td>(62) 3505-1783</td></tr><tr><td>(61) 3314-5347</td></tr><tr><td>(41) 3582-2102</td></tr><tr><td>(21) 2334-4293</td></tr><tr><td>(54) 3316-8587</td></tr><tr><td>(61) 3207-5481</td></tr><tr><td>(11) 3068-2854</td></tr><tr><td>(68) 3223-9939</td></tr><tr><td>(21) 2334-0939</td></tr><tr><td>(54) 3285-2161</td></tr><tr><td>(84) 4005-2600</td></tr><tr><td>(61) 99204-4525</td></tr><tr><td>(21) 2295-7596</td></tr><tr><td>(11) 3091-3677</td></tr><tr><td>(48) 3621-9083</td></tr><tr><td>(48) 3622-5910</td></tr><tr><td>(21) 2252-4430</td></tr><tr><td>(27) 3288-3085</td></tr><tr><td>(19) 3526-2809</td></tr><tr><td>(51) 3311-5156</td></tr><tr><td>(45) 3029-1535</td></tr><tr><td>(49) 3195-2030</td></tr><tr><td>(24) 3371-8328</td></tr><tr><td>(53) 3222-4385</td></tr><tr><td>(31) 3835-2102</td></tr><tr><td>(31) 98416-2312</td></tr><tr><td>(41) 3643-2954</td></tr><tr><td>(19) 3524-5700</td></tr><tr><td>(51) 3288-2940</td></tr><tr><td>(16) 3133-1340</td></tr><tr><td>(28) 99999-0639</td></tr><tr><td>(83) 3218-4167</td></tr><tr><td>(51) 3743-1201</td></tr><tr><td>(49) 99936-0280</td></tr><tr><td>(48) 3235-1566</td></tr><tr><td>(19) 3834-9400</td></tr><tr><td>(31) 98607-6883</td></tr><tr><td>(47) 3382-9458</td></tr><tr><td>(88) 98114-2660</td></tr><tr><td>(71) 3103-3947</td></tr><tr><td>(34) 3336-5967</td></tr><tr><td>(11) 4018-4349</td></tr><tr><td>(31) 3689-8592</td></tr><tr><td>(35) 3722-4456</td></tr><tr><td>(18) 3265-7704</td></tr><tr><td>(88) 3521-1110</td></tr><tr><td>(34) 3225-8543</td></tr><tr><td>(21) 3698-6680</td></tr><tr><td>(35) 3690-2716</td></tr><tr><td>(16) 3610-8679</td></tr><tr><td>(21) 2240-2869</td></tr><tr><td>(89) 99475-9075</td></tr><tr><td>(17) 99676-0560</td></tr><tr><td>(43) 3357-9273</td></tr><tr><td>(61) 3190-6903</td></tr><tr><td>(38) 3221-9404</td></tr><tr><td>(31) 3409-6079</td></tr><tr><td>(12) 3921-7226</td></tr><tr><td>(68) 3224-2503</td></tr><tr><td>(55) 3271-1015</td></tr><tr><td>(14) 3406-1971</td></tr><tr><td>(13) 3851-1108</td></tr><tr><td>(55) 3220-9306</td></tr><tr><td>(44) 3676-4754</td></tr><tr><td>(55) 9619-8428</td></tr><tr><td>(55) 3375-0310</td></tr><tr><td>(84) 3271-6524</td></tr><tr><td>(48) 3463-8100</td></tr><tr><td>(32) 3799-8033</td></tr><tr><td>(61) 3323-6658</td></tr><tr><td>(35) 3431-6086</td></tr><tr><td>(77) 3454-1227</td></tr><tr><td>(51) 3632-4564</td></tr><tr><td>(27) 3225-3787</td></tr><tr><td>(11) 3044-0000</td></tr><tr><td>(19) 3257-1076</td></tr><tr><td>(88) 98857-2611</td></tr><tr><td>(32) 98452-9330</td></tr><tr><td>(84) 3232-4956</td></tr><tr><td>(54) 3311-4411</td></tr><tr><td>(15) 3220-5511</td></tr><tr><td>(88) 3424-4333</td></tr><tr><td>(31) 3532-2911</td></tr><tr><td>(21) 2653-7681</td></tr><tr><td>(51) 3696-1124</td></tr><tr><td>(83) 3222-0513</td></tr><tr><td>(84) 9406-9454</td></tr><tr><td>(11) 3645-0516</td></tr><tr><td>(41) 3018-6194</td></tr><tr><td>(22) 2537-1245</td></tr><tr><td>(54) 3443-5470</td></tr><tr><td>(68) 3901-2531</td></tr><tr><td>(88) 3411-0509</td></tr><tr><td>(54) 3322-1099</td></tr><tr><td>(51) 3287-5500</td></tr><tr><td>(61) 3030-9285</td></tr><tr><td>(98) 3232-7884</td></tr><tr><td>(82) 9940-0389</td></tr><tr><td>(75) 98807-4138</td></tr><tr><td>(19) 3234-1295</td></tr><tr><td>(55) 3365-1000</td></tr><tr><td>(19) 3422-3069</td></tr><tr><td>(48) 3659-0145</td></tr><tr><td>(75) 3275-1070</td></tr><tr><td>(43) 3145-1182</td></tr><tr><td>(51) 3336-5600</td></tr><tr><td>(84) 3232-8149</td></tr><tr><td>(71) 3310-1115</td></tr><tr><td>(18) 3652-7034</td></tr><tr><td>(73) 3662-5026</td></tr><tr><td>(11) 5067-6220</td></tr><tr><td>(85) 8605-0137</td></tr><tr><td>(22) 99209-5020</td></tr><tr><td>(21) 3219-6262</td></tr><tr><td>(11) 2692-1866</td></tr><tr><td>(69) 99964-5133</td></tr><tr><td>(24) 3371-9654</td></tr><tr><td>(14) 3326-6244</td></tr><tr><td>(83) 9999-1018</td></tr><tr><td>(61) 35333800 (Ramal 239)</td></tr><tr><td>(61) 3906-3279</td></tr><tr><td>(42) 3220-3470</td></tr><tr><td>(92) 3232-3085</td></tr><tr><td>(65) 3615-8355</td></tr><tr><td>(31) 3839-2992</td></tr><tr><td>(11) 3871-6750</td></tr><tr><td>(31) 3589-1716</td></tr><tr><td>(53) 3243-3177</td></tr><tr><td>(51) 3751-3400</td></tr><tr><td>(24) 2438-0124</td></tr><tr><td>(55) 3221-4648</td></tr><tr><td>(45) 3902-1370</td></tr><tr><td>(81) 98803-4169</td></tr><tr><td>(34) 3813-0108</td></tr><tr><td>(13) 3299-5471</td></tr><tr><td>(83) 3310-6808</td></tr><tr><td>(47) 3481-2155</td></tr><tr><td>(38) 3614-1408</td></tr><tr><td>(34) 3355-2000</td></tr><tr><td>(22) 2741-7878</td></tr><tr><td>(77) 3614-3500</td></tr><tr><td>(41) 3422-8233</td></tr><tr><td>(41) 3643-7233</td></tr><tr><td>(15) 3231-1669</td></tr><tr><td>(31) 3296-6690</td></tr><tr><td>(14) 3252-2281</td></tr><tr><td>(41) 3310-2603</td></tr><tr><td>(84) 3472-3900</td></tr><tr><td>(55) 3430-3542</td></tr><tr><td>(71) 3283-5592</td></tr><tr><td>(47) 3338-6044</td></tr><tr><td>(98) 3082-7665</td></tr><tr><td>(32) 3215-2826</td></tr><tr><td>(16) 3262-2218</td></tr><tr><td>(21) 2629-5809</td></tr><tr><td>(53) 3252-9527</td></tr><tr><td>(22) 2765-1592</td></tr><tr><td>(48) 3721-4133</td></tr><tr><td>(81) 3443-1115</td></tr><tr><td>(14) 3769-1469</td></tr><tr><td>(15) 99786-4860</td></tr><tr><td>(34) 3233-2567</td></tr><tr><td>(84) 3521-6651</td></tr><tr><td>(61) 9970-2964</td></tr><tr><td>(32) 3229-7606</td></tr><tr><td>(38) 3521-1812</td></tr><tr><td>(53) 3284-4324</td></tr><tr><td>(54) 3286-3697</td></tr><tr><td>(11) 4422-2005</td></tr><tr><td>(41) 3310-7000</td></tr><tr><td>(35) 8813-4091</td></tr><tr><td>(41) 3320-3502</td></tr><tr><td>(22) 2768-1306</td></tr><tr><td>(21) 2333-7472</td></tr><tr><td>(68) 3612-2838</td></tr><tr><td>(16) 3720-4562</td></tr><tr><td>(12) 3674-4391</td></tr><tr><td>(34) 3248-1111</td></tr><tr><td>(31) 99125-3400</td></tr><tr><td>(55) 5325-1236</td></tr><tr><td>(71) 3283-5530</td></tr><tr><td>(11) 4084-1918</td></tr><tr><td>(11) 3180-3764</td></tr><tr><td>(21) 2245-3110</td></tr><tr><td>(81) 3721-4451</td></tr><tr><td>(62) 3201-4680</td></tr><tr><td>(44) 3448-1788</td></tr><tr><td>(98) 8102-1205</td></tr><tr><td>(21) 2332-6668</td></tr><tr><td>(19) 3841-2300</td></tr><tr><td>(21) 2222-1003</td></tr><tr><td>(55) 3422-5990</td></tr><tr><td>(68) 3223-1202</td></tr><tr><td>(81) 3563-9075</td></tr><tr><td>(11) 99752-0262</td></tr><tr><td>(98) 3221-5832</td></tr><tr><td>(21) 2457-2000</td></tr><tr><td>(55) 3381-1291</td></tr><tr><td>(73) 8838-8105</td></tr><tr><td>(69) 3441-1192</td></tr><tr><td>(55) 3242-1383</td></tr><tr><td>(21) 2274-0046</td></tr><tr><td>(48) 3276-1775</td></tr><tr><td>(16) 3722-5004</td></tr><tr><td>(47) 2106-8719</td></tr><tr><td>(79) 3301-9100</td></tr><tr><td>(75) 3425-8380</td></tr><tr><td>(19) 3429-4305</td></tr><tr><td>(32) 3214-4161</td></tr><tr><td>(81) 99959-9021</td></tr><tr><td>(99) 98508-3357</td></tr><tr><td>(21) 98743-0444</td></tr><tr><td>(13) 3213-1750</td></tr><tr><td>(48) 3624-1238</td></tr><tr><td>(14) 3653-1122</td></tr><tr><td>(24) 2249-1595</td></tr><tr><td>(35) 3531-7634</td></tr><tr><td>(71) 3324-9608</td></tr><tr><td>(62) 3438-2032</td></tr><tr><td>(41) 3240-1103</td></tr><tr><td>(83) 3218-5981</td></tr><tr><td>(43) 3371-4804</td></tr><tr><td>(41) 3381-5900</td></tr><tr><td>(41) 3662-1722</td></tr><tr><td>(33) 3721-1041</td></tr><tr><td>(91) 98123-3482</td></tr><tr><td>(55) 3312-8104</td></tr><tr><td>(83) 3216-1450</td></tr><tr><td>(11) 4792-2164</td></tr><tr><td>(67) 3295-3977</td></tr><tr><td>(81) 3183-5539</td></tr><tr><td>(73) 99932-2433</td></tr><tr><td>(19) 3879-2174</td></tr><tr><td>(34) 3338-1526</td></tr><tr><td>(11) 3333-5600</td></tr><tr><td>(61) 3035-7576</td></tr><tr><td>(41) 3313-5481</td></tr><tr><td>(69) 3224-7484</td></tr><tr><td>(34) 3356-8063</td></tr><tr><td>(87) 2101-4821</td></tr><tr><td>(47) 3387-2659</td></tr><tr><td>(45) 3902-1394</td></tr><tr><td>(83) 3356-1117</td></tr><tr><td>(22) 9278-2970</td></tr><tr><td>(75) 3161-8769</td></tr><tr><td>(21) 2205-0655</td></tr><tr><td>(49) 3334-0256</td></tr><tr><td>(11) 3061-7249</td></tr><tr><td>(21) 2285-4299</td></tr><tr><td>(31) 3899-2093</td></tr><tr><td>(51) 3959-1020</td></tr><tr><td>(55) 3276-6145</td></tr><tr><td>(17) 3522-5715</td></tr><tr><td>(51) 3546-3257</td></tr><tr><td>(83) 3214-8303</td></tr><tr><td>(55) 3332-0257</td></tr><tr><td>(85) 3105-6112</td></tr><tr><td>(14) 3841-4900</td></tr><tr><td>(31) 3551-5155</td></tr><tr><td>(53) 3232-1900</td></tr><tr><td>(51) 3734-1602</td></tr><tr><td>(14) 3232-1552</td></tr><tr><td>(21) 99797-8674</td></tr><tr><td>(37) 99988-1818</td></tr><tr><td>(55) 3269-1155</td></tr><tr><td>(66) 3461-4556</td></tr><tr><td>(41) 3213-7500</td></tr><tr><td>(31) 99703-9388</td></tr><tr><td>(21) 3873-9450</td></tr><tr><td>(21) 3204-2504</td></tr><tr><td>(83) 3337-3637</td></tr><tr><td>(27) 3333-2484</td></tr><tr><td>(24) 9215-6979</td></tr><tr><td>(24) 3342-6450</td></tr><tr><td>(42) 99101-9098</td></tr><tr><td>(43) 3464-1920</td></tr><tr><td>(37) 3421-3068</td></tr><tr><td>(49) 3321-8509</td></tr><tr><td>(11) 94011-2408</td></tr><tr><td>(81) 3355-4720</td></tr><tr><td>(21) 3701-2994</td></tr><tr><td>(55) 3412-1633</td></tr><tr><td>(81) 2119-4144</td></tr><tr><td>(19) 3608-8888</td></tr><tr><td>(45) 3901-3383</td></tr><tr><td>(47) 3322-3099</td></tr><tr><td>(67) 3907-5143</td></tr><tr><td>(51) 3590-8409</td></tr><tr><td>(48) 3348-7370</td></tr><tr><td>(67) 3321-5751</td></tr><tr><td>(16) 3723-9141</td></tr><tr><td>(51) 3715-0496</td></tr><tr><td>(55) 3359-1732</td></tr><tr><td>(35) 3697-2197</td></tr><tr><td>(71) 3320-0100</td></tr><tr><td>(48) 3225-3896</td></tr><tr><td>(34) 3700-6423</td></tr><tr><td>(21) 2671-7797</td></tr><tr><td>(55) 3263-2518</td></tr><tr><td>(11) 3339-8078</td></tr><tr><td>(42) 3252-3362</td></tr><tr><td>(42) 3626-2426</td></tr><tr><td>(14) 3212-8262</td></tr><tr><td>(11) 4298-1270</td></tr><tr><td>(43) 3255-2293</td></tr><tr><td>(54) 3354-1222</td></tr><tr><td>(33) 9114-5645</td></tr><tr><td>(17) 3341-8622</td></tr><tr><td>(61) 3301-3590</td></tr><tr><td>(85) 99650-0954</td></tr><tr><td>(54) 3218-2781</td></tr><tr><td>(19) 3207-3637</td></tr><tr><td>(54) 3422-3617</td></tr><tr><td>(82) 3315-7874</td></tr><tr><td>(21) 3433-4990</td></tr><tr><td>(71) 3117-6447</td></tr><tr><td>(83) 3522-2980</td></tr><tr><td>(48) 3877-9018</td></tr><tr><td>(41) 3462-1155</td></tr><tr><td>(65) 3356-1808</td></tr><tr><td>(81) 3326-8136</td></tr><tr><td>(82) 9998-3520</td></tr><tr><td>(24) 2443-1221</td></tr><tr><td>(43) 3242-1531</td></tr><tr><td>(88) 99725-8854</td></tr><tr><td>(11) 95494-5004</td></tr><tr><td>(48) 3272-8600</td></tr><tr><td>(31) 3671-1848</td></tr><tr><td>(31) 2531-3317</td></tr><tr><td>(44) 3675-1572</td></tr><tr><td>(82) 3522-5122</td></tr><tr><td>(51) 3286-3145</td></tr><tr><td>(82) 3279-1491</td></tr><tr><td>(54) 3220-9565</td></tr><tr><td>(11) 5627-0233</td></tr><tr><td>(17) 3281-6436</td></tr><tr><td>(71) 3291-8631</td></tr><tr><td>(21) 2263-0791</td></tr><tr><td>(83) 3221-4555</td></tr><tr><td>(81) 99561-1682</td></tr><tr><td>(34) 3671-7162</td></tr><tr><td>(43) 3902-1764</td></tr><tr><td>(35) 3464-1200</td></tr><tr><td>(33) 3314-1028</td></tr><tr><td>(83) 3216-7330</td></tr><tr><td>(54) 3233-1522</td></tr><tr><td>(99) 98500-6265</td></tr><tr><td>(55) 3792-1102</td></tr><tr><td>(61) 3307-2900</td></tr><tr><td>(92) 3643-3192</td></tr><tr><td>(81) 3184-3152</td></tr><tr><td>(61) 3316-5381</td></tr><tr><td>(53) 3263-1276</td></tr><tr><td>(27) 3636-2990</td></tr><tr><td>(55) 3414-1703</td></tr><tr><td>(63) 3218-2660</td></tr><tr><td>(51) 3333-2140</td></tr><tr><td>(21) 3938-7188</td></tr><tr><td>(71) 3202-7890</td></tr><tr><td>(49) 3652-3228</td></tr><tr><td>(18) 3375-1063</td></tr><tr><td>(51) 3214-9687</td></tr><tr><td>(85) 99989-4009</td></tr><tr><td>(81) 2126-8719</td></tr><tr><td>(88) 8130-9012</td></tr><tr><td>(45) 3559-1240</td></tr><tr><td>(11) 4711-3001</td></tr><tr><td>(33) 3734-1643</td></tr><tr><td>(11) 3897-3232</td></tr><tr><td>(14) 3811-1480</td></tr><tr><td>(24) 9997-0979</td></tr><tr><td>(47) 3632-7053</td></tr><tr><td>(32) 3379-8000</td></tr><tr><td>(51) 3747-1122</td></tr><tr><td>(53) 8124-7973</td></tr><tr><td>(84) 3212-1083</td></tr><tr><td>(83) 9984-7256</td></tr><tr><td>(32) 3721-7491</td></tr><tr><td>(53) 98474-2599</td></tr><tr><td>(28) 3545-1322</td></tr><tr><td>(77) 98802-0428</td></tr><tr><td>(47) 3399-0418</td></tr><tr><td>(51) 3731-2285</td></tr><tr><td>(49) 3019-7498</td></tr><tr><td>(31) 3553-5182</td></tr><tr><td>(47) 3623-1137</td></tr><tr><td>(49) 3323-4779</td></tr><tr><td>(81) 2121-0365</td></tr><tr><td>(81) 9272-0251</td></tr><tr><td>(51) 3320-3521</td></tr><tr><td>(22) 2726-3021</td></tr><tr><td>(79) 3261-1605</td></tr><tr><td>(51) 3308-4506</td></tr><tr><td>(34) 3831-5192</td></tr><tr><td>(19) 3876-5393</td></tr><tr><td>(37) 99106-5309</td></tr><tr><td>(19) 3790-3950</td></tr><tr><td>(51) 99855-8232</td></tr><tr><td>(73) 3632-3474</td></tr><tr><td>(35) 3829-1205</td></tr><tr><td>(32) 3537-1206</td></tr><tr><td>(62) 3371-4856</td></tr><tr><td>(27) 3235-7444</td></tr><tr><td>(51) 3663-1157</td></tr><tr><td>(71) 3329-4463</td></tr><tr><td>(11) 2630-8037</td></tr><tr><td>(11) 4703-6460</td></tr><tr><td>(41) 3622-2442</td></tr><tr><td>(34) 3231-9121</td></tr><tr><td>(19) 3544-8156</td></tr><tr><td>(47) 3542-0529</td></tr><tr><td>(41) 3321-3367</td></tr><tr><td>(67) 3316-9178</td></tr><tr><td>(11) 6236-6121</td></tr><tr><td>(79) 3281-2486</td></tr><tr><td>(51) 3308-3390</td></tr><tr><td>(69) 3216-7301</td></tr><tr><td>(98) 98732-0229</td></tr><tr><td>(19) 3272-4400</td></tr><tr><td>(12) 3862-6936</td></tr><tr><td>(71) 3117-6902</td></tr><tr><td>(32) 2101-1831</td></tr><tr><td>(18) 3269-1415</td></tr><tr><td>(55) 3222-7669</td></tr><tr><td>(42) 3459-1159</td></tr><tr><td>(31) 3561-1979</td></tr><tr><td>(98) 3212-8298</td></tr><tr><td>(61) 3206-9450</td></tr><tr><td>(85) 3374-0039</td></tr><tr><td>(43) 3378-2000</td></tr><tr><td>(47) 3386-1050</td></tr><tr><td>(11) 3664-3859</td></tr><tr><td>(43) 3337-6238</td></tr><tr><td>(51) 3635-2500</td></tr><tr><td>(35) 3829-1206</td></tr><tr><td>(55) 3798-1155</td></tr><tr><td>(44) 3909-3012</td></tr><tr><td>(88) 3511-2876</td></tr><tr><td>(91) 4009-8678</td></tr><tr><td>(92) 3644-2799</td></tr><tr><td>(54) 3322-1500</td></tr><tr><td>(83) 8812-9799</td></tr><tr><td>(88) 8131-7177</td></tr><tr><td>(24) 2237-3860</td></tr><tr><td>(73) 98818-3207</td></tr><tr><td>(11) 5576-4848</td></tr><tr><td>(69) 3421-2390</td></tr><tr><td>(16) 3041-0047</td></tr><tr><td>(61) 3629-1143</td></tr><tr><td>(62) 3224-8096</td></tr><tr><td>(83) 3099-0482</td></tr><tr><td>(33) 3267-2078</td></tr><tr><td>(11) 99212-7375</td></tr><tr><td>(98) 3232-2428</td></tr><tr><td>(32) 3279-1255</td></tr><tr><td>(11) 2144-7150</td></tr><tr><td>(21) 3131-3060</td></tr><tr><td>(45) 3576-7203</td></tr><tr><td>(48) 3646-2542</td></tr><tr><td>(13) 3233-6565</td></tr><tr><td>(51) 3755-2006</td></tr><tr><td>(82) 2121-8122</td></tr><tr><td>(84) 4005-9310</td></tr><tr><td>(31) 3559-1995</td></tr><tr><td>(62) 3241-4069</td></tr><tr><td>(31) 3839-2991</td></tr><tr><td>(63) 3212-7314</td></tr><tr><td>(12) 3834-1382</td></tr><tr><td>(51) 3240-1312</td></tr><tr><td>(19) 3826-4636</td></tr><tr><td>(55) 3422-1459</td></tr><tr><td>(79) 3179-1308</td></tr><tr><td>(24) 3111-4944</td></tr><tr><td>(68) 3233-1146</td></tr><tr><td>(12) 3892-2621</td></tr><tr><td>(12) 3671-7000</td></tr><tr><td>(48) 3657-1504</td></tr><tr><td>(84) 3531-3951</td></tr><tr><td>(21) 2333-5194</td></tr><tr><td>(83) 3383-1593</td></tr><tr><td>(11) 2648-0254</td></tr><tr><td>(71) 2203-4065</td></tr><tr><td>(91) 3210-0555</td></tr><tr><td>(71) 98791-5170</td></tr><tr><td>(88) 3546-1432</td></tr><tr><td>(62) 3251-0721</td></tr><tr><td>(35) 3741-2384</td></tr><tr><td>(31) 98733-1335</td></tr><tr><td>(61) 3445-8549</td></tr><tr><td>(11) 4131-1292</td></tr><tr><td>(38) 3531-1624</td></tr><tr><td>(85) 3253-2801</td></tr><tr><td>(19) 3466-9400</td></tr><tr><td>(49) 3442-4645</td></tr><tr><td>(51) 3086-3868</td></tr><tr><td>(53) 3284-3990</td></tr><tr><td>(82) 99324-3269</td></tr><tr><td>(71) 3115-4045</td></tr><tr><td>(31) 3269-1103</td></tr><tr><td>(12) 3668-9700</td></tr><tr><td>(21) 9926-5852</td></tr><tr><td>(47) 3535-0229</td></tr><tr><td>(53) 3242-8244</td></tr><tr><td>(49) 9104-5124</td></tr><tr><td>(55) 3784-1623</td></tr><tr><td>(16) 3382-6640</td></tr><tr><td>(55) 3377-1200</td></tr><tr><td>(24) 3361-5540</td></tr><tr><td>(31) 3557-2778</td></tr><tr><td>(11) 2203-0115</td></tr><tr><td>(92) 3582-3188</td></tr><tr><td>(31) 3341-5144</td></tr><tr><td>(85) 3388-9306</td></tr><tr><td>(91) 98861-6467</td></tr><tr><td>(54) 3381-9066</td></tr><tr><td>(21) 2756-7635</td></tr><tr><td>(67) 3345-3532</td></tr><tr><td>(64) 3668-1457</td></tr><tr><td>(88) 3611-2956</td></tr><tr><td>(46) 3524-4441</td></tr><tr><td>(31) 3846-5531</td></tr><tr><td>(18) 3625-3392</td></tr><tr><td>(24) 2438-0060</td></tr><tr><td>(55) 3505-4826</td></tr><tr><td>(92) 3633-1951</td></tr><tr><td>(55) 3221-2695</td></tr><tr><td>(51) 3592-4557</td></tr><tr><td>(67) 99902-3761</td></tr><tr><td>(91) 8858-5472</td></tr><tr><td>(88) 3102-1212</td></tr><tr><td>(91) 3184-3624</td></tr><tr><td>(63) 3379-1438</td></tr><tr><td>(12) 3105-7719</td></tr><tr><td>(87) 3861-3431</td></tr><tr><td>(54) 3333-1166</td></tr><tr><td>(14) 3413-9930</td></tr><tr><td>(27) 3323-9993</td></tr><tr><td>(18) 3282-1599</td></tr><tr><td>(22) 2764-1768</td></tr><tr><td>(91) 3085-1133</td></tr><tr><td>(21) 3527-1435</td></tr><tr><td>(47) 3422-5222</td></tr><tr><td>(83) 3354-1313</td></tr><tr><td>(21) 2233-9165</td></tr><tr><td>(45) 3121-4106</td></tr><tr><td>(19) 3656-0109</td></tr><tr><td>(13) 3448-7619</td></tr><tr><td>(41) 3381-5903</td></tr><tr><td>(48) 3621-3000</td></tr><tr><td>(21) 2562-7555</td></tr><tr><td>(84) 9645-9771</td></tr><tr><td>(81) 2126-8225</td></tr><tr><td>(48) 3267-1956</td></tr><tr><td>(47) 3363-5786</td></tr><tr><td>(53) 2128-1176</td></tr><tr><td>(31) 3551-1121</td></tr><tr><td>(21) 3787-4028</td></tr><tr><td>(84) 3202-5282</td></tr><tr><td>(21) 3789-0717</td></tr><tr><td>(37) 3277-1344</td></tr><tr><td>(24) 3340-8400</td></tr><tr><td>(32) 3371-6397</td></tr><tr><td>(11) 4701-6723</td></tr><tr><td>(83) 3457-2231</td></tr><tr><td>(85) 3273-3129</td></tr><tr><td>(68) 3901-2500</td></tr><tr><td>(41) 3432-1227</td></tr><tr><td>(51) 3982-1081</td></tr><tr><td>(35) 3349-8433</td></tr><tr><td>(43) 3371-4000</td></tr><tr><td>(81) 3184-3170</td></tr><tr><td>(43) 3371-5151</td></tr><tr><td>(31) 99920-8069</td></tr><tr><td>(28) 3522-5737</td></tr><tr><td>(65) 3056-1373</td></tr><tr><td>(38) 3621-1471</td></tr><tr><td>(84) 3211-9294</td></tr><tr><td>(19) 3255-7017</td></tr><tr><td>(48) 3431-7500</td></tr><tr><td>(22) 2534-1212</td></tr><tr><td>(91) 3241-2604</td></tr><tr><td>(42) 3624-0193</td></tr><tr><td>(22) 2770-3024</td></tr><tr><td>(21) 2717-0154</td></tr><tr><td>(31) 3822-3006</td></tr><tr><td>(84) 3342-4900</td></tr><tr><td>(82) 3372-3228</td></tr><tr><td>(83) 3362-2360</td></tr><tr><td>(71) 3322-9674</td></tr><tr><td>(74) 3541-9517</td></tr><tr><td>(37) 9988-2828</td></tr><tr><td>(38) 3531-1191</td></tr><tr><td>(71) 3283-5509</td></tr><tr><td>(31) 3769-2830</td></tr><tr><td>(51) 3308-4303</td></tr><tr><td>(41) 3232-9113</td></tr><tr><td>(34) 3239-4501</td></tr><tr><td>(38) 3428-1372</td></tr><tr><td>(34) 3663-1341</td></tr><tr><td>(51) 3733-1249</td></tr><tr><td>(51) 3637-7557</td></tr><tr><td>(67) 3316-9167</td></tr><tr><td>(55) 3358-1101</td></tr><tr><td>(54) 3445-1066</td></tr><tr><td>(35) 3690-2700</td></tr><tr><td>(45) 3277-1328</td></tr><tr><td>(47) 3394-0708</td></tr><tr><td>(19) 3813-1090</td></tr><tr><td>(19) 3758-8600</td></tr><tr><td>(16) 3397-8406</td></tr><tr><td>(27) 99952-0273</td></tr><tr><td>(47) 3367-0033</td></tr><tr><td>(19) 3844-4168</td></tr><tr><td>(85) 3229-1898</td></tr><tr><td>(71) 3321-4573</td></tr><tr><td>(62) 3209-6010</td></tr><tr><td>(47) 3384-1343</td></tr><tr><td>(44) 9963-1718</td></tr><tr><td>(55) 3322-6448</td></tr><tr><td>(17) 3342-2255</td></tr><tr><td>(75) 3335-2510</td></tr><tr><td>(17) 99140-7553</td></tr><tr><td>(12) 3971-2686</td></tr><tr><td>(85) 3361-1010</td></tr><tr><td>(44) 3293-1889</td></tr><tr><td>(53) 98121-5855</td></tr><tr><td>(32) 3462-4113</td></tr><tr><td>(62) 3371-1087</td></tr><tr><td>(51) 3228-7664</td></tr><tr><td>(18) 3362-2772</td></tr><tr><td>(83) 3218-5615</td></tr><tr><td>(41) 3323-3530</td></tr><tr><td>(27) 3382-6771</td></tr><tr><td>(35) 3533-1130</td></tr><tr><td>(61) 3376-1043</td></tr><tr><td>(81) 3221-8571</td></tr><tr><td>(16) 3332-3739</td></tr><tr><td>(67) 8475-3740</td></tr><tr><td>(53) 3233-8408</td></tr><tr><td>(16) 3382-1066</td></tr><tr><td>(46) 3560-1122</td></tr><tr><td>(11) 5576-2728</td></tr><tr><td>(21) 2229-3387</td></tr><tr><td>(51) 3462-1621</td></tr><tr><td>(54) 99981-4928</td></tr><tr><td>(21) 3731-1432</td></tr><tr><td>(91) 4009-8802</td></tr><tr><td>(48) 3665-6363</td></tr><tr><td>(77) 3421-3894</td></tr><tr><td>(16) 3253-9100</td></tr><tr><td>(34) 99971-3798</td></tr><tr><td>(41) 3361-1628</td></tr><tr><td>(14) 3342-9200</td></tr><tr><td>(51) 3289-8292</td></tr><tr><td>(85) 3207-7424</td></tr><tr><td>(65) 3266-6765</td></tr><tr><td>(34) 3214-0068</td></tr><tr><td>(11) 3091-3952</td></tr><tr><td>(62) 3201-4625</td></tr><tr><td>(51) 3216-9420</td></tr><tr><td>(11) 2296-4330</td></tr><tr><td>(48) 3721-9310</td></tr><tr><td>(34) 3356-8003</td></tr><tr><td>(31) 3571-9700</td></tr><tr><td>(49) 3552-0206</td></tr><tr><td>(77) 3451-1372</td></tr><tr><td>(48) 3445-8468</td></tr><tr><td>(85) 8753-8353</td></tr><tr><td>(14) 3529-2302</td></tr><tr><td>(17) 3661-1547</td></tr><tr><td>(79) 3231-1675</td></tr><tr><td>(46) 3552-1282</td></tr><tr><td>(12) 99762-2966</td></tr><tr><td>(32) 3379-2510</td></tr><tr><td>(21) 2332-9068</td></tr><tr><td>(67) 3291-4778</td></tr><tr><td>(21) 3133-3366</td></tr><tr><td>(71) 3241-6811</td></tr><tr><td>(32) 2102-7761</td></tr><tr><td>(62) 3201-4676</td></tr><tr><td>(31) 3752-1279</td></tr><tr><td>(24) 3064-9127</td></tr><tr><td>(87) 3871-7070</td></tr><tr><td>(47) 3632-2490</td></tr><tr><td>(42) 3523-6535</td></tr><tr><td>(55) 3361-4015</td></tr><tr><td>(83) 8787-8787</td></tr><tr><td>(48) 3523-1111</td></tr><tr><td>(24) 2233-0300</td></tr><tr><td>(41) 3304-8955</td></tr><tr><td>(44) 3649-0597</td></tr><tr><td>(21) 2590-6747</td></tr><tr><td>(37) 3222-7629</td></tr><tr><td>(11) 4495-8299</td></tr><tr><td>(22) 98175-0616</td></tr><tr><td>(48) 3535-1732</td></tr><tr><td>(75) 3241-1900</td></tr><tr><td>(33) 3764-2451</td></tr><tr><td>(98) 3224-0107</td></tr><tr><td>(11) 4824-1412</td></tr><tr><td>(31) 3409-5129</td></tr><tr><td>(83) 99638-1697</td></tr><tr><td>(62) 3357-5190</td></tr><tr><td>(84) 3232-6334</td></tr><tr><td>(65) 3644-1320</td></tr><tr><td>(82) 3551-2008</td></tr><tr><td>(54) 3358-1653</td></tr><tr><td>(14) 3492-1770</td></tr><tr><td>(24) 3353-3495</td></tr><tr><td>(82) 3214-1629</td></tr><tr><td>(54) 3041-1511</td></tr><tr><td>(16) 3984-9120</td></tr><tr><td>(21) 3395-1489</td></tr><tr><td>(88) 36441509</td></tr><tr><td>(65) 3261-1153</td></tr><tr><td>(55) 3220-8108</td></tr><tr><td>(83) 8838-9336</td></tr><tr><td>(41) 3372-4411</td></tr><tr><td>(11) 2627-9452</td></tr><tr><td>(41) 3313-7194</td></tr><tr><td>(35) 3863-1538</td></tr><tr><td>(87) 3831-3454</td></tr><tr><td>(14) 3493-2132</td></tr><tr><td>(11) 2065-8100</td></tr><tr><td>(67) 3932-1107</td></tr><tr><td>(53) 3503-2417</td></tr><tr><td>(15) 3542-1245</td></tr><tr><td>(49) 3642-0286</td></tr><tr><td>(32) 2102-3263</td></tr><tr><td>(55) 3257-3278</td></tr><tr><td>(62) 3524-1189</td></tr><tr><td>(62) 3901-1338</td></tr><tr><td>(22) 9215-2400</td></tr><tr><td>(63) 3363-3928</td></tr><tr><td>(16) 3636-6969</td></tr><tr><td>(49) 98818-9764</td></tr><tr><td>(88) 3545-1206</td></tr><tr><td>(47) 3375-1194</td></tr><tr><td>(16) 3835-5464</td></tr><tr><td>(98) 99189-0199</td></tr><tr><td>(12) 3625-5062</td></tr><tr><td>(83) 3255-8721</td></tr><tr><td>(43) 3535-4226</td></tr><tr><td>(42) 3457-2288</td></tr><tr><td>(85) 3101-1201</td></tr><tr><td>(88) 3564-0655</td></tr><tr><td>(68) 3212-4432</td></tr><tr><td>(84) 3211-6889</td></tr><tr><td>(88) 3581-6583</td></tr><tr><td>(18) 3264-1726</td></tr><tr><td>(71) 3336-3498</td></tr><tr><td>(88) 9983-5947</td></tr><tr><td>(61) 3325-6244</td></tr><tr><td>(35) 3235-2590</td></tr><tr><td>(81) 99944-1465</td></tr><tr><td>(21) 2262-0197</td></tr><tr><td>(83) 3221-1418</td></tr><tr><td>(11) 4584-1799</td></tr><tr><td>(92) 3643-3252</td></tr><tr><td>(21) 2240-2669</td></tr><tr><td>(81) 3743-1122</td></tr><tr><td>(31) 3307-1176</td></tr><tr><td>(12) 3625-5059</td></tr><tr><td>(11) 3091-3252</td></tr><tr><td>(31) 3835-3894</td></tr><tr><td>(48) 3261-1768</td></tr><tr><td>(83) 3232-9724</td></tr><tr><td>(71) 99924-1798</td></tr><tr><td>(62) 3946-1723</td></tr><tr><td>(31) 3651-8757</td></tr><tr><td>(82) 99645-0323</td></tr><tr><td>(54) 3453-2210</td></tr><tr><td>(62) 3356-1120</td></tr><tr><td>(54) 3446-2822</td></tr><tr><td>(93) 3522-1026</td></tr><tr><td>(64) 3632-4048</td></tr><tr><td>(54) 3261-6997</td></tr><tr><td>(11) 2627-3880</td></tr><tr><td>(79) 3226-3488</td></tr><tr><td>(49) 3321-7100</td></tr><tr><td>(11) 2627-9541</td></tr><tr><td>(87) 3843-1731</td></tr><tr><td>(66) 3531-8166</td></tr><tr><td>(54) 3324-3007</td></tr><tr><td>(21) 2234-2501</td></tr><tr><td>(14) 3733-1587</td></tr><tr><td>(21) 3890-6027</td></tr><tr><td>(85) 8736-5696</td></tr><tr><td>(55) 3421-4296</td></tr><tr><td>(48) 3465-1313</td></tr><tr><td>(51) 3677-1142</td></tr><tr><td>(68) 3222-7269</td></tr><tr><td>(82) 3338-3437</td></tr><tr><td>(81) 3320-6044</td></tr><tr><td>(48) 3665-6195</td></tr><tr><td>(19) 3671-9770</td></tr><tr><td>(21) 2221-9883</td></tr><tr><td>(81) 3626-8421</td></tr><tr><td>(41) 3281-5600</td></tr><tr><td>(51) 3214-9094</td></tr><tr><td>(42) 3912-7050</td></tr><tr><td>(85) 3101-8827</td></tr><tr><td>(32) 3462-9614</td></tr><tr><td>(21) 3835-1044</td></tr><tr><td>(11) 3646-4000</td></tr><tr><td>(38) 2101-7720</td></tr><tr><td>(67) 98446-3469</td></tr><tr><td>(11) 3032-3727</td></tr><tr><td>(41) 3462-3620</td></tr><tr><td>(51) 9864-9612</td></tr><tr><td>(22) 3831-1056</td></tr><tr><td>(15) 3243-1191</td></tr><tr><td>(41) 3362-1800</td></tr><tr><td>(81) 3322-5696</td></tr><tr><td>(44) 3523-7889</td></tr><tr><td>(82) 3421-2083</td></tr><tr><td>(61) 3388-4648</td></tr><tr><td>(83) 3221-6046</td></tr><tr><td>(84) 4006-5340</td></tr><tr><td>(91) 98415-2558</td></tr><tr><td>(13) 3288-2260</td></tr><tr><td>(91) 3216-6300</td></tr><tr><td>(85) 3366-9216</td></tr><tr><td>(83) 9903-2392</td></tr><tr><td>(83) 8398-8455</td></tr><tr><td>(11) 2749-2272</td></tr><tr><td>(48) 3355-8122</td></tr><tr><td>(81) 2126-8353</td></tr><tr><td>(24) 3371-4516</td></tr><tr><td>(51) 3664-1221</td></tr><tr><td>(11) 5212-3700</td></tr><tr><td>(92) 3301-8180</td></tr><tr><td>(68) 3227-4977</td></tr><tr><td>(87) 99943-0072</td></tr><tr><td>(49) 3453-1091</td></tr><tr><td>(53) 2128-2128</td></tr><tr><td>(44) 9958-5079</td></tr><tr><td>(51) 3714-1866</td></tr><tr><td>(31) 3409-7650</td></tr><tr><td>(31) 3861-4228</td></tr><tr><td>(81) 3182-8268</td></tr><tr><td>(13) 99778-7986</td></tr><tr><td>(16) 3667-0024</td></tr><tr><td>(55) 3328-1133</td></tr><tr><td>(14) 3811-6265</td></tr><tr><td>(62) 3506-7226</td></tr><tr><td>(65) 3613-9234</td></tr><tr><td>(96) 3223-5441</td></tr><tr><td>(75) 3621-4329</td></tr><tr><td>(19) 3481-9205</td></tr><tr><td>(16) 3761-7071</td></tr><tr><td>(27) 3327-4353</td></tr><tr><td>(21) 2490-2429</td></tr><tr><td>(88) 3631-7255</td></tr><tr><td>(21) 22111-7424</td></tr><tr><td>(88) 3628-0035</td></tr><tr><td>(74) 3531-1120</td></tr><tr><td>(21) 2253-2828</td></tr><tr><td>(41) 3271-9065</td></tr><tr><td>(54) 3278-1304</td></tr><tr><td>(88) 99969-5131</td></tr><tr><td>(11) 4761-9335</td></tr><tr><td>(83) 98787-1533</td></tr><tr><td>(19) 3296-1104</td></tr><tr><td>(47) 3381-7516</td></tr><tr><td>(88) 9618-3600</td></tr><tr><td>(89) 9985-5283</td></tr><tr><td>(41) 3310-3460</td></tr><tr><td>(22) 2774-5293</td></tr><tr><td>(16) 3711-9320</td></tr><tr><td>(82) 2122-7760</td></tr><tr><td>(51) 3479-2141</td></tr><tr><td>(83) 3362-2288</td></tr><tr><td>(92) 3582-2929</td></tr><tr><td>(47) 3433-4677</td></tr><tr><td>(12) 3895-8599</td></tr><tr><td>(62) 3371-7382</td></tr><tr><td>(83) 98853-4966</td></tr><tr><td>(83) 8893-1583</td></tr><tr><td>(13) 3568-8948</td></tr><tr><td>(31) 3769-2603</td></tr><tr><td>(32) 3234-1824</td></tr><tr><td>(41) 3271-1515</td></tr><tr><td>(27) 4009-7877</td></tr><tr><td>(22) 3843-3537</td></tr><tr><td>(54) 3462-8118</td></tr><tr><td>(19) 3585-5961</td></tr><tr><td>(35) 9709-9107</td></tr><tr><td>(17) 3212-7666</td></tr><tr><td>(21) 2153-1400</td></tr><tr><td>(88) 3529-1559</td></tr><tr><td>(22) 2778-4915</td></tr><tr><td>(86) 3252-2751</td></tr><tr><td>(51) 3320-2033</td></tr><tr><td>(11) 2159-3297</td></tr><tr><td>(48) 3222-0692</td></tr><tr><td>(88) 3515-2444</td></tr><tr><td>(51) 3731-1225</td></tr><tr><td>(84) 99167-6531</td></tr><tr><td>(27) 3266-1250</td></tr><tr><td>(31) 3734-1649</td></tr><tr><td>(83) 9101-6735</td></tr><tr><td>(45) 3252-2270</td></tr><tr><td>(27) 3145-5439</td></tr><tr><td>(19) 3843-4317</td></tr><tr><td>(43) 3557-1193</td></tr><tr><td>(55) 3221-3154</td></tr><tr><td>(47) 3381-7979</td></tr><tr><td>(38) 3546-1260</td></tr><tr><td>(16) 3761-2260</td></tr><tr><td>(65) 99955-4352</td></tr><tr><td>(92) 3621-6700</td></tr><tr><td>(21) 2652-5631</td></tr><tr><td>(24) 2247-5222</td></tr><tr><td>(37) 3523-2266</td></tr><tr><td>(91) 3205-3318</td></tr><tr><td>(16) 3711-9247</td></tr><tr><td>(88) 99642-9923</td></tr><tr><td>(21) 2717-2919</td></tr><tr><td>(81) 3355-3158</td></tr><tr><td>(67) 3318-5719</td></tr><tr><td>(55) 3535-2451</td></tr><tr><td>(82) 2122-3500</td></tr><tr><td>(11) 4521-6848</td></tr><tr><td>(53) 3232-6111</td></tr><tr><td>(54) 3771-4230</td></tr><tr><td>(92) 3622-4991</td></tr><tr><td>(71) 3384-5229</td></tr><tr><td>(85) 98749-5286</td></tr><tr><td>(32) 3371-7005</td></tr><tr><td>(11) 3662-7198</td></tr><tr><td>(16) 3602-3481</td></tr><tr><td>(16) 3623-2261</td></tr><tr><td>(21) 2299-2936</td></tr><tr><td>(55) 3541-1875</td></tr><tr><td>(87) 9991-6473</td></tr><tr><td>(19) 3852-3674</td></tr><tr><td>(11) 4799-2221</td></tr><tr><td>(31) 3581-3523</td></tr><tr><td>(35) 3326-1698</td></tr><tr><td>(71) 3117-6147</td></tr><tr><td>(82) 3223-7797</td></tr><tr><td>(51) 3592-1584</td></tr><tr><td>(54) 3441-2232</td></tr><tr><td>(51) 3653-1536</td></tr><tr><td>(48) 3237-8148</td></tr><tr><td>(11) 3815-9511</td></tr><tr><td>(47) 3222-0162</td></tr><tr><td>(27) 3753-1001</td></tr><tr><td>(35) 3453-1212</td></tr><tr><td>(61) 98451-6807</td></tr><tr><td>(53) 3223-0269</td></tr><tr><td>(11) 2117-4777</td></tr><tr><td>(37) 3521-4238</td></tr><tr><td>(49) 3566-6133</td></tr><tr><td>(51) 3210-5615</td></tr><tr><td>(85) 9476-8363</td></tr><tr><td>(66) 3521-9555</td></tr><tr><td>(19) 3878-4166</td></tr><tr><td>(31) 99618-3291</td></tr><tr><td>(51) 3406-7300</td></tr><tr><td>(31) 3273-3489</td></tr><tr><td>(88) 3647-1685</td></tr><tr><td>(51) 3352-7131</td></tr><tr><td>(51) 3407-9758</td></tr><tr><td>(41) 2118-5232</td></tr><tr><td>(19) 3735-5065</td></tr><tr><td>(17) 3525-0911</td></tr><tr><td>(31) 3484-1067</td></tr><tr><td>(32) 3333-2810</td></tr><tr><td>(11) 3331-4507</td></tr><tr><td>(43) 3440-1468</td></tr><tr><td>(24) 3342-9870</td></tr><tr><td>(31) 3409-8280</td></tr><tr><td>(97) 98412-4115</td></tr><tr><td>(81) 3728-6651</td></tr><tr><td>(13) 3871-1242</td></tr><tr><td>(75) 3338-2313</td></tr><tr><td>(61) 3445-7025</td></tr><tr><td>(71) 3117-6383</td></tr><tr><td>(48)  3645-6100 (Ramal 230)</td></tr><tr><td>(82) 3221-2658</td></tr><tr><td>(73) 3086-1871</td></tr><tr><td>(16) 3209-7638</td></tr><tr><td>(86) 98142-1361</td></tr><tr><td>(41) 3361-7229</td></tr><tr><td>(22) 2646-7340</td></tr><tr><td>(21) 2157-2895</td></tr><tr><td>(86) 3256-1433</td></tr><tr><td>(75) 3338-2156</td></tr><tr><td>(42) 3642-2469</td></tr><tr><td>(49) 0000-0000</td></tr><tr><td>(75) 99950-9604</td></tr><tr><td>(41) 3263-2757</td></tr><tr><td>(47) 3321-0200</td></tr><tr><td>(43) 3625-1115</td></tr><tr><td>(31) 3277-9248</td></tr><tr><td>(55) 3222-9962</td></tr><tr><td>(19) 3844-7786</td></tr><tr><td>(11) 3188-4303</td></tr><tr><td>(88) 9265-8330</td></tr><tr><td>(61) 3314-9674</td></tr><tr><td>(37) 3221-5729</td></tr><tr><td>(61) 3274-1727</td></tr><tr><td>(86) 9917-2992</td></tr><tr><td>(21) 2784-6900</td></tr><tr><td>(19) 3849-3051</td></tr><tr><td>(27) 3263-4863</td></tr><tr><td>(89) 3522-0804</td></tr><tr><td>(71) 3481-9232</td></tr><tr><td>(83) 9612-2244</td></tr><tr><td>(83) 3512-1228</td></tr><tr><td>(11) 3061-8419</td></tr><tr><td>(67) 3314-3693</td></tr><tr><td>(66) 3522-1008</td></tr><tr><td>(49) 3645-0159</td></tr><tr><td>(41) 3093-7461</td></tr><tr><td>(65) 3224-1438</td></tr><tr><td>(33) 99929-1274</td></tr><tr><td>(41) 3304-8912</td></tr><tr><td>(11) 3772-4301</td></tr><tr><td>(16) 3322-4887</td></tr><tr><td>(11) 4704-4621</td></tr><tr><td>(53) 3232-7507</td></tr><tr><td>(51) 9164-9136</td></tr><tr><td>(43) 3535-1233</td></tr><tr><td>(19) 3525-7036</td></tr><tr><td>(11) 4604-2999</td></tr><tr><td>(19) 3459-5911</td></tr><tr><td>(61) 3901-8680</td></tr><tr><td>(98) 3218-9906</td></tr><tr><td>(51) 3600-7890</td></tr><tr><td>(85) 3252-3741</td></tr><tr><td>(11) 2245-1900</td></tr><tr><td>(83) 3221-5346</td></tr><tr><td>(42) 3904-1614</td></tr><tr><td>(34) 3212-1692</td></tr><tr><td>(92) 3631-6047</td></tr><tr><td>(42) 2122-5534</td></tr><tr><td>(11) 4521-3020</td></tr><tr><td>(28) 99939-4243</td></tr><tr><td>(14) 3714-7200</td></tr><tr><td>(75) 3337-1152</td></tr><tr><td>(21) 2599-7100</td></tr><tr><td>(51) 3228-1445</td></tr><tr><td>(73) 3534-1413</td></tr><tr><td>(89) 99443-5634</td></tr><tr><td>(47) 3461-0133</td></tr><tr><td>(65) 3313-7387</td></tr><tr><td>(21) 3436-8220</td></tr><tr><td>(11) 2630-9600</td></tr><tr><td>(42) 3623-2072</td></tr><tr><td>(67) 3314-3544</td></tr><tr><td>(12) 3652-9222</td></tr><tr><td>(14) 3351-5199</td></tr><tr><td>(27) 3636-2587</td></tr><tr><td>(48) 3664-8110</td></tr><tr><td>(83) 3533-6000</td></tr><tr><td>(21) 2295-2532</td></tr><tr><td>(71) 3321-4477</td></tr><tr><td>(51) 2886-0634</td></tr><tr><td>(16) 3945-9363</td></tr><tr><td>(75) 3494-2000</td></tr><tr><td>(77) 3613-4417</td></tr><tr><td>(64) 3658-1396</td></tr><tr><td>(71) 3283-7634</td></tr><tr><td>(11) 5087-0955</td></tr><tr><td>(21) 3214-8702</td></tr><tr><td>(35) 3522-7050</td></tr><tr><td>(19) 3681-6424</td></tr><tr><td>(49) 3321-3235</td></tr><tr><td>(27) 3349-5328</td></tr><tr><td>(86) 3332-1764</td></tr><tr><td>(37) 3231-7790</td></tr><tr><td>(62) 3902-1193</td></tr><tr><td>(51) 3673-1316</td></tr><tr><td>(43) 3339-0808</td></tr><tr><td>(81) 3073-6340</td></tr><tr><td>(31) 3409-7633</td></tr><tr><td>(62) 3362-5095</td></tr><tr><td>(32) 3229-9070</td></tr><tr><td>(68) 3901-2680</td></tr><tr><td>(18) 3704-6888</td></tr><tr><td>(41) 3423-2892</td></tr><tr><td>(54) 3313-1436</td></tr><tr><td>(51) 3308-9855</td></tr><tr><td>(42) 3275-2269</td></tr><tr><td>(55) 3220-8339</td></tr><tr><td>(53) 3921-6291</td></tr><tr><td>(55) 9608-6790</td></tr><tr><td>(11) 4693-8000</td></tr><tr><td>(83) 3372-1900</td></tr><tr><td>(91) 4009-8813</td></tr><tr><td>(13) 3864-3094</td></tr><tr><td>(31) 3835-2156</td></tr><tr><td>(51) 3652-2034</td></tr><tr><td>(91) 3241-9700</td></tr><tr><td>(51) 3591-8853</td></tr><tr><td>(31) 3942-1656</td></tr><tr><td>(83) 3218-4505</td></tr><tr><td>(91) 3221-2552</td></tr><tr><td>(67) 3232-0303</td></tr><tr><td>(19) 3526-9312</td></tr><tr><td>(11) 3326-2700</td></tr><tr><td>(11) 3222-8049</td></tr><tr><td>(19) 3252-2598</td></tr><tr><td>(27) 3200-2711</td></tr><tr><td>(44) 3422-5018</td></tr><tr><td>(51) 3476-8366</td></tr><tr><td>(67) 3541-2122</td></tr><tr><td>(49) 3553-6283</td></tr><tr><td>(71) 98670-1205</td></tr><tr><td>(31) 3574-1277</td></tr><tr><td>(31) 3651-2388</td></tr><tr><td>(67) 3242-2471</td></tr><tr><td>(48) 3468-4105</td></tr><tr><td>(41) 3321-4783</td></tr><tr><td>(79) 3179-7471</td></tr><tr><td>(14) 3626-8569</td></tr><tr><td>(33) 98834-1217</td></tr><tr><td>(31) 3409-2396</td></tr><tr><td>(73) 9929-5897</td></tr><tr><td>(55) 3255-1506</td></tr><tr><td>(41) 3256-6443</td></tr><tr><td>(37) 3755-1100</td></tr><tr><td>(31) 3551-4661</td></tr><tr><td>(83) 3283-3869</td></tr><tr><td>(61) 3225-3000</td></tr><tr><td>(83) 3211-6207</td></tr><tr><td>(55) 3422-4585</td></tr><tr><td>(15) 3552-1875</td></tr><tr><td>(11) 3684-3822</td></tr><tr><td>(32) 3426-2115</td></tr><tr><td>(63) 3218-3312</td></tr><tr><td>(65) 3025-3221</td></tr><tr><td>(85) 3342-0906</td></tr><tr><td>(51) 3586-8800</td></tr><tr><td>(48) 2107-6230</td></tr><tr><td>(21) 8596-5184</td></tr><tr><td>(19) 3834-9433</td></tr><tr><td>(84) 4006-3002</td></tr><tr><td>(54) 3286-4040</td></tr><tr><td>(98) 3337-1515</td></tr><tr><td>(81) 3228-3248</td></tr><tr><td>(24) 2471-2961</td></tr><tr><td>(13) 3203-2905</td></tr><tr><td>(84) 3521-2756</td></tr><tr><td>(51) 3563-7946</td></tr><tr><td>(32) 3559-1901</td></tr><tr><td>(11) 2455-6497</td></tr><tr><td>(73) 3634-4242</td></tr><tr><td>(32) 3333-4820</td></tr><tr><td>(45) 3282-1355</td></tr><tr><td>(11) 2168-1876</td></tr><tr><td>(65) 3661-7160</td></tr><tr><td>(35) 3629-1100</td></tr><tr><td>(81) 2126-8708</td></tr><tr><td>(61) 3107-7963</td></tr><tr><td>(43) 3546-2343</td></tr><tr><td>(48) 3211-6061</td></tr><tr><td>(24) 3387-2214</td></tr><tr><td>(91) 3344-3526</td></tr><tr><td>(92) 3642-4607</td></tr><tr><td>(54) 3901-1316</td></tr><tr><td>(11) 3209-5465</td></tr><tr><td>(77) 3422-2559</td></tr><tr><td>(22) 3842-2900</td></tr><tr><td>(53) 3222-3856</td></tr><tr><td>(41) 3213-3700</td></tr><tr><td>(11) 3105-6899</td></tr><tr><td>(71) 3321-0070</td></tr><tr><td>(21) 2109-2222</td></tr><tr><td>(88) 3675-1044</td></tr><tr><td>(43) 3623-3100</td></tr><tr><td>(38) 99724-5512</td></tr><tr><td>(75) 3423-0307</td></tr><tr><td>(91) 4009-8677</td></tr><tr><td>(11) 4582-2468</td></tr><tr><td>(27) 3248-1156</td></tr><tr><td>(54) 3207-5117</td></tr><tr><td>(83) 3321-3906</td></tr><tr><td>(19) 3804-1078</td></tr><tr><td>(14) 3346-2010</td></tr><tr><td>(41) 3653-9910</td></tr><tr><td>(27) 3132-8395</td></tr><tr><td>(62) 3561-1128</td></tr><tr><td>(11) 3598-9715</td></tr><tr><td>(38) 3722-1758</td></tr><tr><td>(85) 3105-1291</td></tr><tr><td>(12) 3122-3674</td></tr><tr><td>(79) 3211-3579</td></tr><tr><td>(21) 2576-4296</td></tr><tr><td>(11) 3149-4000</td></tr><tr><td>(63) 3653-1987</td></tr><tr><td>(21) 3572-1963</td></tr><tr><td>(54) 2104-2988</td></tr><tr><td>(62) 3394-0086</td></tr><tr><td>(19) 3496-1438</td></tr><tr><td>(19) 3672-6529</td></tr><tr><td>(51) 3289-8275</td></tr><tr><td>(24) 9998-8901</td></tr><tr><td>(14) 3232-4721</td></tr><tr><td>(54) 3901-1422</td></tr><tr><td>(21) 3878-4200</td></tr><tr><td>(12) 3141-1100</td></tr><tr><td>(21) 2635-4291</td></tr><tr><td>(11) 4704-2654</td></tr><tr><td>(53) 3263-8043</td></tr><tr><td>(24) 3353-6455</td></tr><tr><td>(81) 99972-2214</td></tr><tr><td>(71) 3324-6760</td></tr><tr><td>(62) 3524-1196</td></tr><tr><td>(34) 3821-3756</td></tr><tr><td>(21) 3883-5600</td></tr><tr><td>(21) 3213-5161</td></tr><tr><td>(41) 3442-8246</td></tr><tr><td>(14) 3441-2321</td></tr><tr><td>(87) 3831-3860</td></tr><tr><td>(75) 3241-1450</td></tr><tr><td>(84) 3315-1734</td></tr><tr><td>(79) 3214-8491</td></tr><tr><td>(12) 3631-2928</td></tr><tr><td>(85) 3101-4934</td></tr><tr><td>(48) 9972-1735</td></tr><tr><td>(47) 3348-1335</td></tr><tr><td>(15) 3272-5879</td></tr><tr><td>(21) 2333-1188</td></tr><tr><td>(85) 3366-9245</td></tr><tr><td>(47) 3453-3499</td></tr><tr><td>(55) 3020-6423</td></tr><tr><td>(27) 3270-7076</td></tr><tr><td>(31) 3409-5810</td></tr><tr><td>(31) 3534-9000</td></tr><tr><td>(31) 3277-7443</td></tr><tr><td>(61) 3213-9276</td></tr><tr><td>(85) 9457-4026</td></tr><tr><td>(11) 4022-6832</td></tr><tr><td>(86) 9801-0710</td></tr><tr><td>(88) 3631-3211</td></tr><tr><td>(34) 3351-3186</td></tr><tr><td>(71) 3644-9830</td></tr><tr><td>(77) 3421-9165</td></tr><tr><td>(65) 3336-1213</td></tr><tr><td>(31) 3724-1765</td></tr><tr><td>(27) 3762-5196</td></tr><tr><td>(55) 3241-8674</td></tr><tr><td>(61) 3391-2342</td></tr><tr><td>(21) 3938-9461</td></tr><tr><td>(84) 3232-6864</td></tr><tr><td>(66) 98420-0763</td></tr><tr><td>(48) 3464-3430</td></tr><tr><td>(21) 3299-0600</td></tr><tr><td>(31) 3621-0467</td></tr><tr><td>(27) 3322-4807</td></tr><tr><td>(42) 3232-2297</td></tr><tr><td>(11) 3742-0077</td></tr><tr><td>(41) 3222-5193</td></tr><tr><td>(91) 3224-0871</td></tr><tr><td>(61) 98287-2545</td></tr><tr><td>(88) 3511-6006</td></tr><tr><td>(55) 3265-3103</td></tr><tr><td>(71) 3117-6139</td></tr><tr><td>(62) 3224-4622</td></tr><tr><td>(19) 3898-9900</td></tr><tr><td>(44) 3543-1260</td></tr><tr><td>(51) 3772-1283</td></tr><tr><td>(18) 3321-3957</td></tr><tr><td>(11) 4022-1248</td></tr><tr><td>(47) 3369-1681</td></tr><tr><td>(19) 3673-9500</td></tr><tr><td>(85) 3252-3561</td></tr><tr><td>(88) 99726-6170</td></tr><tr><td>(24) 2484-2273</td></tr><tr><td>(41) 3313-2045</td></tr><tr><td>(62) 3524-3758</td></tr><tr><td>(91) 4009-2213</td></tr><tr><td>(19) 3584-8300</td></tr><tr><td>(21) 3422-0831</td></tr><tr><td>(68) 3212-5875</td></tr><tr><td>(67) 3315-1885</td></tr><tr><td>(88) 8107-3055</td></tr><tr><td>(43) 3258-4366</td></tr><tr><td>(47) 3349-1665</td></tr><tr><td>(11) 98205-9817</td></tr><tr><td>(88) 9642-0654</td></tr><tr><td>(19) 3306-2934</td></tr><tr><td>(85) 3347-0364</td></tr><tr><td>(98) 3212-8296</td></tr><tr><td>(41) 3232-8367</td></tr><tr><td>(41) 9678-4399</td></tr><tr><td>(96) 3521-3293</td></tr><tr><td>(61) 2195-9797</td></tr><tr><td>(43) 3323-0082</td></tr><tr><td>(62) 3553-8553</td></tr><tr><td>(54) 3342-4068</td></tr><tr><td>(51) 3477-9144</td></tr><tr><td>(38) 98429-6612</td></tr><tr><td>(17) 3843-1481</td></tr><tr><td>(68) 3227-4455</td></tr><tr><td>(54) 3361-4475</td></tr><tr><td>(13) 3856-1002</td></tr><tr><td>(43) 3232-8121</td></tr><tr><td>(11) 9588-7725</td></tr><tr><td>(83) 3211-6263</td></tr><tr><td>(44) 3523-8280</td></tr><tr><td>(35) 3465-2467</td></tr><tr><td>(21) 2976-2548</td></tr><tr><td>(19) 3583-5637</td></tr><tr><td>(27) 3276-1031</td></tr><tr><td>(11) 99127-9841</td></tr><tr><td>(11) 3105-6118</td></tr><tr><td>(31) 3213-4320</td></tr><tr><td>(17) 3622-3000</td></tr><tr><td>(75) 3641-3727</td></tr><tr><td>(83) 8815-2972</td></tr><tr><td>(34) 99257-0982</td></tr><tr><td>(11) 4992-7730</td></tr><tr><td>(34) 99257-1160</td></tr><tr><td>(48) 3287-2436</td></tr><tr><td>(88) 3565-0334</td></tr><tr><td>(33) 3261-1048</td></tr><tr><td>(62) 3331-1299</td></tr><tr><td>(85) 9604-4482</td></tr><tr><td>(91) 4009-3024</td></tr><tr><td>(85) 3345-2300</td></tr><tr><td>(94) 3331-1197</td></tr><tr><td>(85) 3453-2770</td></tr><tr><td>(88) 99623-0051</td></tr><tr><td>(51) 3308-5384</td></tr><tr><td>(83) 3421-3639</td></tr><tr><td>(11) 2995-3254</td></tr><tr><td>(27) 3268-2550</td></tr><tr><td>(69) 3541-5534</td></tr><tr><td>(35) 3341-2832</td></tr><tr><td>(82) 3621-1824</td></tr><tr><td>(11) 5973-8490</td></tr><tr><td>(18) 3652-0590</td></tr><tr><td>(38) 3841-4800</td></tr><tr><td>(81) 9986-7358</td></tr><tr><td>(16) 3721-8692</td></tr><tr><td>(85) 3101-5550</td></tr><tr><td>(53) 3262-5033</td></tr><tr><td>(47) 3305-0019</td></tr><tr><td>(27) 3288-3067</td></tr><tr><td>(99) 3525-4719</td></tr><tr><td>(83) 3684-1000</td></tr><tr><td>(65) 3624-8374</td></tr><tr><td>(83) 3522-2675</td></tr><tr><td>(79) 3645-3093</td></tr><tr><td>(84) 3433-3988</td></tr><tr><td>(43) 3321-4224</td></tr><tr><td>(51) 3723-6003</td></tr><tr><td>(11) 99105-3470</td></tr><tr><td>(31) 3516-1025</td></tr><tr><td>(54) 3278-3208</td></tr><tr><td>(31) 3551-2739</td></tr><tr><td>(81) 3072-4386</td></tr><tr><td>(82) 3624-8008</td></tr><tr><td>(51) 3593-6233</td></tr><tr><td>(27) 3259-2357</td></tr><tr><td>(84) 99131-9932</td></tr><tr><td>(82) 3327-0728</td></tr><tr><td>(22) 2561-3311</td></tr><tr><td>(75) 99123-7570</td></tr><tr><td>(83) 3362-2300</td></tr><tr><td>(47) 3276-4550</td></tr><tr><td>(21) 2233-9338</td></tr><tr><td>(85) 3201-3901</td></tr><tr><td>(35) 3653-1856</td></tr><tr><td>(65) 3626-4186</td></tr><tr><td>(54) 3221-2426</td></tr><tr><td>(54) 3375-1188</td></tr><tr><td>(11) 4051-5408</td></tr><tr><td>(43) 3178-0392</td></tr><tr><td>(88) 3427-1399</td></tr><tr><td>(62) 3371-1200</td></tr><tr><td>(19) 3562-1207</td></tr><tr><td>(53) 3226-2127</td></tr><tr><td>(32) 99885-3578</td></tr><tr><td>(31) 3842-1400</td></tr><tr><td>(53) 3284-5513</td></tr><tr><td>(32) 3215-3850</td></tr><tr><td>(67) 3357-1500</td></tr><tr><td>(41) 9604-3992</td></tr><tr><td>(19) 3665-8044</td></tr><tr><td>(17) 3392-8800</td></tr><tr><td>(55) 3267-1100</td></tr><tr><td>(63) 3218-2419</td></tr><tr><td>(19) 3521-1472</td></tr><tr><td>(35) 3332-8038</td></tr><tr><td>(83) 3255-8705</td></tr><tr><td>(81) 3619-1145</td></tr><tr><td>(79) 3218-1551</td></tr><tr><td>(51) 3541-9200</td></tr><tr><td>(14) 99637-0460</td></tr><tr><td>(67) 3314-4630</td></tr><tr><td>(42) 3677-8440</td></tr><tr><td>(31) 98875-0892</td></tr><tr><td>(48) 3534-8000</td></tr><tr><td>(18) 3226-3399</td></tr><tr><td>(65) 3634-4858</td></tr><tr><td>(75) 3161-8750</td></tr><tr><td>(42) 3906-2179</td></tr><tr><td>(11) 2125-9400</td></tr><tr><td>(61) 3107-1920</td></tr><tr><td>(71) 3373-7154</td></tr><tr><td>(47) 3026-8000</td></tr><tr><td>(51) 3395-2718</td></tr><tr><td>(51) 2129-1199</td></tr><tr><td>(67) 3435-1165</td></tr><tr><td>(42) 9917-1930</td></tr><tr><td>(84) 3362-2317</td></tr><tr><td>(81) 3444-5174</td></tr><tr><td>(47) 3562-2353</td></tr><tr><td>(61) 3226-7753</td></tr><tr><td>(21) 2240-4747</td></tr><tr><td>(31) 3409-8352</td></tr><tr><td>(12) 3156-1000</td></tr><tr><td>(42) 3916-2189</td></tr><tr><td>(81) 3222-0431</td></tr><tr><td>(11) 3397-4001</td></tr><tr><td>(55) 3220-4565</td></tr><tr><td>(49) 3538-0176</td></tr><tr><td>(91) 3212-5525</td></tr><tr><td>(71) 3676-0321</td></tr><tr><td>(19) 3444-7962</td></tr><tr><td>(33) 3531-1290</td></tr><tr><td>(85) 3326-1120</td></tr><tr><td>(67) 3261-1203</td></tr><tr><td>(21) 2333-3130</td></tr><tr><td>(54) 3254-0113</td></tr><tr><td>(21) 3031-2741</td></tr><tr><td>(27) 3252-6029</td></tr><tr><td>(85) 3464-3108</td></tr><tr><td>(81) 3523-1147</td></tr><tr><td>(88) 99780-8062</td></tr><tr><td>(54) 3251-1557</td></tr><tr><td>(11) 4696-1332</td></tr><tr><td>(83) 3366-1121</td></tr><tr><td>(75) 3337-1020</td></tr><tr><td>(54) 3286-7307</td></tr><tr><td>(11) 3568-8200</td></tr><tr><td>(42) 3522-3031</td></tr><tr><td>(12) 3104-1505</td></tr><tr><td>(55) 3269-1022</td></tr><tr><td>(61) 3468-1262</td></tr><tr><td>(11) 9728-8195</td></tr><tr><td>(16) 3342-6002</td></tr><tr><td>(16) 3904-2750</td></tr><tr><td>(11) 3324-1000</td></tr><tr><td>(27) 3332-1612</td></tr><tr><td>(62) 0000-0000</td></tr><tr><td>(92) 3234-7821</td></tr><tr><td>(61) 3321-7353</td></tr><tr><td>(47) 3261-1287</td></tr><tr><td>(17) 3442-3797</td></tr><tr><td>(35) 3691-1010</td></tr><tr><td>(85) 3304-4130</td></tr><tr><td>(53) 3261-9063</td></tr><tr><td>(75) 3438-3442</td></tr><tr><td>(49) 3644-4024</td></tr><tr><td>(49) 3441-8566</td></tr><tr><td>(11) 3051-6986</td></tr><tr><td>(55) 3431-5730</td></tr><tr><td>(21) 2791-2866</td></tr><tr><td>(82) 3279-3461</td></tr><tr><td>(61) 3441-9618</td></tr><tr><td>(62) 3233-5773</td></tr><tr><td>(82) 9933-4926</td></tr><tr><td>(91) 98106-1856</td></tr><tr><td>(67) 3287-2904</td></tr><tr><td>(83) 3534-2206</td></tr><tr><td>(38) 3671-6237</td></tr><tr><td>(82) 3283-1459</td></tr><tr><td>(98) 3231-2943</td></tr><tr><td>(55) 3536-1250</td></tr><tr><td>(11) 3285-6986</td></tr><tr><td>(11) 5083-0199</td></tr><tr><td>(22) 99926-1322</td></tr><tr><td>(84) 99934-3677</td></tr><tr><td>(11) 7742-2507</td></tr><tr><td>(51) 3054-7695</td></tr><tr><td>(47) 3643-7664</td></tr><tr><td>(68) 3223-9240</td></tr><tr><td>(24) 3369-7693</td></tr><tr><td>(21) 3938-8230</td></tr><tr><td>(17) 3212-9152</td></tr><tr><td>(27) 3259-1182</td></tr><tr><td>(31) 98858-1060</td></tr><tr><td>(15) 3271-0955</td></tr></tbody></table></div>"
      ]
     },
     "metadata": {
      "application/vnd.databricks.v1+output": {
       "addedWidgets": {},
       "aggData": [],
       "aggError": "",
       "aggOverflow": false,
       "aggSchema": [],
       "aggSeriesLimitReached": false,
       "aggType": "",
       "arguments": {},
       "columnCustomDisplayInfos": {},
       "data": [
        [
         "(31) 3612-2050"
        ],
        [
         "(32) 3422-1066"
        ],
        [
         "(88) 9950-1157"
        ],
        [
         "(55) 3413-8728"
        ],
        [
         "(31) 3222-3231"
        ],
        [
         "(19) 3295-5850"
        ],
        [
         "(11) 3241-4238"
        ],
        [
         "(85) 3226-8496"
        ],
        [
         "(83) 3221-9630"
        ],
        [
         "(43) 3527-1516"
        ],
        [
         "(47) 9985-5825"
        ],
        [
         "(81) 3543-0258"
        ],
        [
         "(51) 3224-4252"
        ],
        [
         "(84) 3523-2213"
        ],
        [
         "(43) 3178-0215"
        ],
        [
         "(54) 3237-2658"
        ],
        [
         "(71) 3321-8784"
        ],
        [
         "(49) 3222-7603"
        ],
        [
         "(35) 3692-1178"
        ],
        [
         "(82) 3263-2608"
        ],
        [
         "(82) 3285-6010"
        ],
        [
         "(21) 2334-0017"
        ],
        [
         "(11) 3335-5910"
        ],
        [
         "(49) 3339-0982"
        ],
        [
         "(49) 3452-3761"
        ],
        [
         "(79) 3194-6670"
        ],
        [
         "(22) 2644-9129"
        ],
        [
         "(11) 3241-3815"
        ],
        [
         "(55) 3233-3550"
        ],
        [
         "(77) 3432-2362"
        ],
        [
         "(31) 3241-7168"
        ],
        [
         "(15) 3282-1766"
        ],
        [
         "(19) 3252-3596"
        ],
        [
         "(55) 3220-8226"
        ],
        [
         "(51) 3218-6480"
        ],
        [
         "(85) 3242-6082"
        ],
        [
         "(32) 3355-2798"
        ],
        [
         "(61) 3107-6151"
        ],
        [
         "(15) 3236-6856"
        ],
        [
         "(54) 4062-9421"
        ],
        [
         "(27) 3264-1181"
        ],
        [
         "(84) 8876-4075"
        ],
        [
         "(96) 3212-5118"
        ],
        [
         "(51) 3221-5900"
        ],
        [
         "(67) 3410-2190"
        ],
        [
         "(98) 98508-3357"
        ],
        [
         "(41) 3666-6156"
        ],
        [
         "(11) 2189-7000"
        ],
        [
         "(12) 3896-2660"
        ],
        [
         "(31) 8835-7260"
        ],
        [
         "(38) 3749-6141"
        ],
        [
         "(11) 5576-5773"
        ],
        [
         "(61) 3108-7600"
        ],
        [
         "(15) 99692-3672"
        ],
        [
         "(69) 3216-5135"
        ],
        [
         "(84) 3412-3141"
        ],
        [
         "(42) 3232-5233"
        ],
        [
         "(51) 3663-8200"
        ],
        [
         "(47) 3625-1232"
        ],
        [
         "(41) 3266-3277"
        ],
        [
         "(47) 3393-3099"
        ],
        [
         "(14) 3882-0588"
        ],
        [
         "(31) 3277-4699"
        ],
        [
         "(44) 3252-4125"
        ],
        [
         "(54) 3901-1463"
        ],
        [
         "(83) 3322-6995"
        ],
        [
         "(13) 3219-1111"
        ],
        [
         "(51) 3664-1411"
        ],
        [
         "(55) 3744-4466"
        ],
        [
         "(14) 99903-8791"
        ],
        [
         "(45) 3571-3177"
        ],
        [
         "(21) 3295-5058"
        ],
        [
         "(31) 98838-7367"
        ],
        [
         "(62) 3902-2537"
        ],
        [
         "(65) 3611-0500"
        ],
        [
         "(11) 3061-7876"
        ],
        [
         "(27) 4009-2586"
        ],
        [
         "(51) 3214-8255"
        ],
        [
         "(41) 3361-7713"
        ],
        [
         "(13) 3451-1000"
        ],
        [
         "(31) 3577-8882"
        ],
        [
         "(21) 99756-1141"
        ],
        [
         "(21) 2789-2223"
        ],
        [
         "(12) 3686-5494"
        ],
        [
         "(15) 3316-2323"
        ],
        [
         "(71) 3341-9055"
        ],
        [
         "(51) 3662-2738"
        ],
        [
         "(47) 3326-6990"
        ],
        [
         "(44) 3011-4930"
        ],
        [
         "(82) 3322-2494"
        ],
        [
         "(92) 9146-8687"
        ],
        [
         "(19) 3276-5687"
        ],
        [
         "(19) 3816-4917"
        ],
        [
         "(96) 3212-5362"
        ],
        [
         "(21) 3202-8550"
        ],
        [
         "(45) 3029-6522"
        ],
        [
         "(83) 3395-1050"
        ],
        [
         "(35) 3295-9700"
        ],
        [
         "(81) 99977-0501"
        ],
        [
         "(64) 3411-0748"
        ],
        [
         "(79) 3179-8090"
        ],
        [
         "(51) 3671-5288"
        ],
        [
         "(21) 3234-5777"
        ],
        [
         "(49) 3523-2124"
        ],
        [
         "(27) 99869-5107"
        ],
        [
         "(85) 3244-7729"
        ],
        [
         "(35) 3231-2690"
        ],
        [
         "(11) 3886-0533"
        ],
        [
         "(48) 3255-7006"
        ],
        [
         "(85) 3271-6589"
        ],
        [
         "(71) 3322-6903"
        ],
        [
         "(11) 3280-4202"
        ],
        [
         "(19) 3802-2053"
        ],
        [
         "(88) 99704-1678"
        ],
        [
         "(31) 98970-1507"
        ],
        [
         "(84) 3215-2960"
        ],
        [
         "(83) 99630-9664"
        ],
        [
         "(34) 3281-0070"
        ],
        [
         "(85) 3237-2687"
        ],
        [
         "(54) 3286-7587"
        ],
        [
         "(55) 3231-2444"
        ],
        [
         "(31) 9999-9999"
        ],
        [
         "(51) 3215-1834"
        ],
        [
         "(21) 2742-2910"
        ],
        [
         "(41) 3622-2076"
        ],
        [
         "(11) 5522-4440"
        ],
        [
         "(61) 3224-5605"
        ],
        [
         "(11) 2032-4160"
        ],
        [
         "(21) 2524-2034"
        ],
        [
         "(19) 3863-0835"
        ],
        [
         "(11) 4223-4780"
        ],
        [
         "(33) 3621-4882"
        ],
        [
         "(84) 3232-9728"
        ],
        [
         "(34) 3338-3091"
        ],
        [
         "(71) 3283-8573"
        ],
        [
         "(66) 3402-0700"
        ],
        [
         "(86) 3221-6027"
        ],
        [
         "(98) 3243-8057"
        ],
        [
         "(92) 3633-1532"
        ],
        [
         "(45) 3234-1570"
        ],
        [
         "(11) 4519-4011"
        ],
        [
         "(11) 4154-6251"
        ],
        [
         "(47) 3381-7514"
        ],
        [
         "(31) 3651-1024"
        ],
        [
         "(81) 3701-1533"
        ],
        [
         "(62) 3604-6000"
        ],
        [
         "(48) 3525-0710"
        ],
        [
         "(31) 8989-1140"
        ],
        [
         "(11) 5517-6707"
        ],
        [
         "(18) 3324-5874"
        ],
        [
         "(15) 3233-7119"
        ],
        [
         "(49) 3567-1582"
        ],
        [
         "(51) 3210-1674"
        ],
        [
         "(21) 3868-6748"
        ],
        [
         "(87) 99666-7018"
        ],
        [
         "(98) 3272-9361"
        ],
        [
         "(83) 3214-8541"
        ],
        [
         "(84) 3211-7056"
        ],
        [
         "(21) 2532-0422"
        ],
        [
         "(49) 3224-1784"
        ],
        [
         "(38) 3635-2167"
        ],
        [
         "(48) 3348-4328"
        ],
        [
         "(11) 5067-6000"
        ],
        [
         "(54) 3527-1141"
        ],
        [
         "(84) 3224-2177"
        ],
        [
         "(31) 3641-5204"
        ],
        [
         "(13) 3317-4128"
        ],
        [
         "(48) 3721-9325"
        ],
        [
         "(71) 3283-5540"
        ],
        [
         "(88) 9908-9522"
        ],
        [
         "(21)3135-8117"
        ],
        [
         "(88) 3641-1081"
        ],
        [
         "(47) 3387-0408"
        ],
        [
         "(61) 3255-7544"
        ],
        [
         "(21) 3299-0357"
        ],
        [
         "(31) 3277-1586"
        ],
        [
         "(11) 3664-3848"
        ],
        [
         "(11) 2232-3117"
        ],
        [
         "(82) 8834-5145"
        ],
        [
         "(34) 3822-9665"
        ],
        [
         "(31) 3236-7430"
        ],
        [
         "(12) 3111-1818"
        ],
        [
         "(18) 3421-7033"
        ],
        [
         "(21) 2620-2400"
        ],
        [
         "(82) 3641-4045"
        ],
        [
         "(16) 3249-1122"
        ],
        [
         "(61) 3325-2328"
        ],
        [
         "(47) 3631-2414"
        ],
        [
         "(14) 3281-3358"
        ],
        [
         "(35) 3591-1763"
        ],
        [
         "(31) 3465-6222"
        ],
        [
         "(11) 3834-6221"
        ],
        [
         "(19) 3469-1898"
        ],
        [
         "(32) 2102-6913"
        ],
        [
         "(11) 4652-1623"
        ],
        [
         "(28) 3155-5691"
        ],
        [
         "(16) 3203-1126"
        ],
        [
         "(48) 3263-5665"
        ],
        [
         "(45) 3253-1518"
        ],
        [
         "(12) 3631-3955"
        ],
        [
         "(13) 3851-1930"
        ],
        [
         "(61) 3631-4528"
        ],
        [
         "(42) 3254-1349"
        ],
        [
         "(11) 3091-6977"
        ],
        [
         "(73) 3221-8613"
        ],
        [
         "(31) 3715-1078"
        ],
        [
         "(88) 3521-8133"
        ],
        [
         "(16) 3636-2283"
        ],
        [
         "(69) 3224-5357"
        ],
        [
         "(11) 3106-1411"
        ],
        [
         "(31) 3573-1120"
        ],
        [
         "(84) 3377-2196"
        ],
        [
         "(31) 3184-2699"
        ],
        [
         "(82) 3315-7882"
        ],
        [
         "(74) 3627-2121"
        ],
        [
         "(55) 3353-1566"
        ],
        [
         "(68) 3211-5560"
        ],
        [
         "(85) 3263-1115"
        ],
        [
         "(85) 98854-1855"
        ],
        [
         "(48) 3274-1180"
        ],
        [
         "(31) 3535-6468"
        ],
        [
         "(19) 3521-1727"
        ],
        [
         "(31) 3847-8070"
        ],
        [
         "(75) 3698-2156"
        ],
        [
         "(37) 3243-7028"
        ],
        [
         "(88) 3667-1116"
        ],
        [
         "(51) 3439-3146"
        ],
        [
         "(32) 3341-1200"
        ],
        [
         "(61) 3107-2967"
        ],
        [
         "(24) 3326-0405"
        ],
        [
         "(18) 3722-9778"
        ],
        [
         "(31) 3277-7420"
        ],
        [
         "(49) 3458-9570"
        ],
        [
         "(44) 3437-1170"
        ],
        [
         "(35) 3293-1765"
        ],
        [
         "(21) 2562-6681"
        ],
        [
         "(61) 3225-9451"
        ],
        [
         "(73) 3211-1994"
        ],
        [
         "(18) 3284-1175"
        ],
        [
         "(31) 3559-1706"
        ],
        [
         "(11) 2182-3810"
        ],
        [
         "(14) 3523-6647"
        ],
        [
         "(41) 3636-1759"
        ],
        [
         "(21) 3808-2020"
        ],
        [
         "(54) 3292-2777"
        ],
        [
         "(41) 3304-4700"
        ],
        [
         "(75) 3425-1018"
        ],
        [
         "(49) 3343-0002"
        ],
        [
         "(21) 2163-7788"
        ],
        [
         "(71) 99636-6182"
        ],
        [
         "(85) 99696-7673"
        ],
        [
         "(11) 3315-0051"
        ],
        [
         "(11) 6168-0012"
        ],
        [
         "(11) 4229-1988"
        ],
        [
         "(81) 9955-6354"
        ],
        [
         "(24) 3354-7530"
        ],
        [
         "(55) 3332-7950"
        ],
        [
         "(35) 3722-2776"
        ],
        [
         "(48) 3251-1900"
        ],
        [
         "(11) 4586-2326"
        ],
        [
         "(48) 3632-3450"
        ],
        [
         "(61) 3527-5381"
        ],
        [
         "(13) 3842-2124"
        ],
        [
         "(21) 2242-7766"
        ],
        [
         "(63) 98451-9725"
        ],
        [
         "(91) 9992-0120"
        ],
        [
         "(71) 99255-4222"
        ],
        [
         "(51) 3742-1804"
        ],
        [
         "(35) 3624-1679"
        ],
        [
         "(43) 3357-1161"
        ],
        [
         "(11) 3769-5601"
        ],
        [
         "(31) 3837-9363"
        ],
        [
         "(77) 3454-2313"
        ],
        [
         "(32) 3429-6424"
        ],
        [
         "(67) 99944-2072"
        ],
        [
         "(42) 3644-1055"
        ],
        [
         "(24) 2484-6108"
        ],
        [
         "(85) 3361-2535"
        ],
        [
         "(38) 3531-3607"
        ],
        [
         "(24) 2233-1202"
        ],
        [
         "(41) 3271-2356"
        ],
        [
         "(84) 4005-0971"
        ],
        [
         "(82) 3315-1747"
        ],
        [
         "(53) 99997-2033"
        ],
        [
         "(11) 4198-5475"
        ],
        [
         "(24) 2246-2378"
        ],
        [
         "(91) 98382-3559"
        ],
        [
         "(47) 3223-1877"
        ],
        [
         "(38) 3527-1257"
        ],
        [
         "(94) 3322-2315"
        ],
        [
         "(51) 3774-1322"
        ],
        [
         "(34) 3690-3105"
        ],
        [
         "(51) 3343-8068"
        ],
        [
         "(67) 3232-9981"
        ],
        [
         "(34) 3690-3167"
        ],
        [
         "(22) 2777-1333"
        ],
        [
         "(84) 3246-2234"
        ],
        [
         "(53) 3231-3496"
        ],
        [
         "(33) 98828-7506"
        ],
        [
         "(32) 3690-7051"
        ],
        [
         "(98) 3242-9651"
        ],
        [
         "(71) 9261-1026"
        ],
        [
         "(91) 4009-8669"
        ],
        [
         "(38) 3541-1440"
        ],
        [
         "(84) 3222-3293"
        ],
        [
         "(12) 3832-6202"
        ],
        [
         "(48) 3533-0333"
        ],
        [
         "(81) 99788-7117"
        ],
        [
         "(44) 3218-6121"
        ],
        [
         "(81) 3231-6801"
        ],
        [
         "(49) 3541-6249"
        ],
        [
         "(68) 3542-2651"
        ],
        [
         "(51) 3722-2694"
        ],
        [
         "(61) 3338-8563"
        ],
        [
         "(68) 3224-6417"
        ],
        [
         "(98) 3216-6147"
        ],
        [
         "(32) 3441-4555"
        ],
        [
         "(21) 2267-6374"
        ],
        [
         "(53) 9965-7564"
        ],
        [
         "(27) 3227-2531"
        ],
        [
         "(65) 3259-1514"
        ],
        [
         "(22) 99213-3790"
        ],
        [
         "(31) 99994-5728"
        ],
        [
         "(41) 3350-4400"
        ],
        [
         "(27) 3274-1905"
        ],
        [
         "(32) 3371-7198"
        ],
        [
         "(82) 3214-1545"
        ],
        [
         "(31) 3237-6224"
        ],
        [
         "(35) 3332-6477"
        ],
        [
         "(82) 3315-7294"
        ],
        [
         "(65) 98117-6891"
        ],
        [
         "(81) 3441-1733"
        ],
        [
         "(71) 9979-1563"
        ],
        [
         "(11) 3684-0749"
        ],
        [
         "(53) 3233-6333"
        ],
        [
         "(12) 3122-2007"
        ],
        [
         "(31) 3215-7915"
        ],
        [
         "(18) 3644-9677"
        ],
        [
         "(55) 98423-0547"
        ],
        [
         "(99) 9999-9999"
        ],
        [
         "(84) 3216-1400"
        ],
        [
         "(49) 3981-8106"
        ],
        [
         "(54) 3286-1553"
        ],
        [
         "(12) 3947-7844"
        ],
        [
         "(11) 3021-5536"
        ],
        [
         "(85) 8615-2600"
        ],
        [
         "(49) 3438-1111"
        ],
        [
         "(37) 3341-8528"
        ],
        [
         "(84) 8883-9580"
        ],
        [
         "(24) 2254-2848"
        ],
        [
         "(43) 3902-1192"
        ],
        [
         "(47) 3444-5093"
        ],
        [
         "(32) 3556-1215"
        ],
        [
         "(11) 3315-8884"
        ],
        [
         "(71) 3242-6455"
        ],
        [
         "(48) 3236-2015"
        ],
        [
         "(28) 3555-8112"
        ],
        [
         "(12) 3663-3762"
        ],
        [
         "(84) 3332-4525"
        ],
        [
         "(41) 3616-2831"
        ],
        [
         "(91) 3214-2166"
        ],
        [
         "(61) 2103-9293"
        ],
        [
         "(48) 3471-1758"
        ],
        [
         "(32) 3339-2167"
        ],
        [
         "(62) 98134-4313"
        ],
        [
         "(71) 3676-1463"
        ],
        [
         "(53) 3231-1366"
        ],
        [
         "(87) 3869-1156"
        ],
        [
         "(69) 3211-2496"
        ],
        [
         "(47) 3433-3732"
        ],
        [
         "(54) 3026-8356"
        ],
        [
         "(55) 3220-8014"
        ],
        [
         "(11) 3741-6718"
        ],
        [
         "(81) 3493-2753"
        ],
        [
         "(51) 3228-1764"
        ],
        [
         "(24) 2443-5159"
        ],
        [
         "(47) 3329-9084"
        ],
        [
         "(48) 3432-5847"
        ],
        [
         "(11) 3654-3108"
        ],
        [
         "(54) 3316-2700"
        ],
        [
         "(32) 3371-8606"
        ],
        [
         "(79) 3431-4398"
        ],
        [
         "(27) 99807-6376"
        ],
        [
         "(75) 9965-6195"
        ],
        [
         "(31) 3661-8122"
        ],
        [
         "(67) 3431-1902"
        ],
        [
         "(35) 3241-2736"
        ],
        [
         "(81) 3224-3106"
        ],
        [
         "(19) 3895-8344"
        ],
        [
         "(51) 3289-2100"
        ],
        [
         "(53) 3225-8293"
        ],
        [
         "(48) 3664-2630"
        ],
        [
         "(86) 3271-1048"
        ],
        [
         "(38) 3621-3775"
        ],
        [
         "(51) 3210-7176"
        ],
        [
         "(49) 3366-6646"
        ],
        [
         "(47) 3326-6791"
        ],
        [
         "(82) 3281-2660"
        ],
        [
         "(48) 3903-1881"
        ],
        [
         "(33) 3511-2526"
        ],
        [
         "(82) 9306-0330"
        ],
        [
         "(85) 3332-1116"
        ],
        [
         "(83) 3431-2409"
        ],
        [
         "(24) 2465-4801"
        ],
        [
         "(48) 3046-7550"
        ],
        [
         "(15) 3532-8000"
        ],
        [
         "(48) 3251-1516"
        ],
        [
         "(92) 3635-1922"
        ],
        [
         "(21) 2088-0536"
        ],
        [
         "(87) 3876-1156"
        ],
        [
         "(88) 3521-1619"
        ],
        [
         "(64) 3441-3505"
        ],
        [
         "(51) 3716-1166"
        ],
        [
         "(37) 3274-2211"
        ],
        [
         "(83) 3546-1002"
        ],
        [
         "(16) 3373-9146"
        ],
        [
         "(21) 2205-8612"
        ],
        [
         "(35) 3267-3121"
        ],
        [
         "(42) 98425-3021"
        ],
        [
         "(45) 3236-1122"
        ],
        [
         "(62) 3225-8085"
        ],
        [
         "(85) 3488-8622"
        ],
        [
         "(51) 3588-8760"
        ],
        [
         "(11) 4023-0240"
        ],
        [
         "(84) 3231-2586"
        ],
        [
         "(31) 3409-9167"
        ],
        [
         "(35) 3261-3670"
        ],
        [
         "(68) 3224-8786"
        ],
        [
         "(27) 3258-3651"
        ],
        [
         "(38) 3621-2611"
        ],
        [
         "(37) 3434-5209"
        ],
        [
         "(73) 3527-4023"
        ],
        [
         "(87) 9642-0735"
        ],
        [
         "(21) 3432-2402"
        ],
        [
         "(54) 3282-1125"
        ],
        [
         "(41) 2101-9000"
        ],
        [
         "(67) 3251-1166"
        ],
        [
         "(28) 3155-5257"
        ],
        [
         "(86) 3226-4025"
        ],
        [
         "(55) 3263-3700"
        ],
        [
         "(83) 9117-3584"
        ],
        [
         "(54) 3286-5555"
        ],
        [
         "(22) 2664-2120"
        ],
        [
         "(82) 3214-1716"
        ],
        [
         "(45) 3530-5816"
        ],
        [
         "(84) 3382-2411"
        ],
        [
         "(79) 3194-6866"
        ],
        [
         "(47) 98860-4932"
        ],
        [
         "(47) 3522-6746"
        ],
        [
         "(11) 3814-9711"
        ],
        [
         "(32) 3274-1115"
        ],
        [
         "(73) 3288-0660"
        ],
        [
         "(83) 3366-1204"
        ],
        [
         "(28) 3537-2003"
        ],
        [
         "(55) 3231-1292"
        ],
        [
         "(55) 3545-1146"
        ],
        [
         "(49) 3256-4283"
        ],
        [
         "(77) 3454-4114"
        ],
        [
         "(11) 3031-0920"
        ],
        [
         "(85) 99254-9637"
        ],
        [
         "(31) 3352-5323"
        ],
        [
         "(42) 3625-8000"
        ],
        [
         "(47) 3352-1230"
        ],
        [
         "(47) 3339-0590"
        ],
        [
         "(21) 2240-1598"
        ],
        [
         "(51) 3473-1712"
        ],
        [
         "(47) 3631-3000"
        ],
        [
         "(35) 3562-1616"
        ],
        [
         "(91) 3201-7080"
        ],
        [
         "(31) 3559-1603"
        ],
        [
         "(34) 3674-1220"
        ],
        [
         "(21) 2216-8500"
        ],
        [
         "(62) 3339-3120"
        ],
        [
         "(98) 3254-1416"
        ],
        [
         "(85) 3488-8639"
        ],
        [
         "(27) 3542-3257"
        ],
        [
         "(98) 4101-5050"
        ],
        [
         "(35) 3344-1244"
        ],
        [
         "(35) 3341-2066"
        ],
        [
         "(11) 4655-2731"
        ],
        [
         "(41) 3330-7288"
        ],
        [
         "(54) 3527-1060"
        ],
        [
         "(22) 3852-0952"
        ],
        [
         "(12) 3952-5999"
        ],
        [
         "(33) 3341-1900"
        ],
        [
         "(11) 98194-9916"
        ],
        [
         "(88) 3426-1204"
        ],
        [
         "(61) 3107-5909"
        ],
        [
         "(81) 3412-9039"
        ],
        [
         "(11) 3814-4832"
        ],
        [
         "(11) 3941-2162"
        ],
        [
         "(65) 3491-1261"
        ],
        [
         "(15) 3231-1026"
        ],
        [
         "(21) 2262-3609"
        ],
        [
         "(51) 3718-1826"
        ],
        [
         "(85) 3277-3727"
        ],
        [
         "(41) 3547-8013"
        ],
        [
         "(11) 4043-6457"
        ],
        [
         "(82) 3551-2498"
        ],
        [
         "(24) 2453-4178"
        ],
        [
         "(19) 3433-4930"
        ],
        [
         "(35) 3265-1447"
        ],
        [
         "(69) 3471-2892"
        ],
        [
         "(37) 3271-7831"
        ],
        [
         "(81) 3181-4778"
        ],
        [
         "(89) 3422-6380"
        ],
        [
         "(43) 3543-1259"
        ],
        [
         "(62) 3209-6251"
        ],
        [
         "(19) 3441-4805"
        ],
        [
         "(17) 3242-6244"
        ],
        [
         "(55) 3534-1629"
        ],
        [
         "(83) 98180-1832"
        ],
        [
         "(55) 3223-0407"
        ],
        [
         "(19) 3231-9500"
        ],
        [
         "(51) 3637-4237"
        ],
        [
         "(44) 3531-2048"
        ],
        [
         "(84) 3426-2261"
        ],
        [
         "(24) 2442-3194"
        ],
        [
         "(31) 3771-5850"
        ],
        [
         "(95) 99122-8098"
        ],
        [
         "(31) 3224-9891"
        ],
        [
         "(13) 3384-6194"
        ],
        [
         "(69) 2103-0100"
        ],
        [
         "(49) 3566-7700"
        ],
        [
         "(81) 3355-4311"
        ],
        [
         "(21) 8192-5334"
        ],
        [
         "(54) 3266-1321"
        ],
        [
         "(22) 2725-7834"
        ],
        [
         "(16) 3602-0705"
        ],
        [
         "(32) 3741-7884"
        ],
        [
         "(94) 3198-6310"
        ],
        [
         "(48) 99997-7095"
        ],
        [
         "(47) 99266-1005"
        ],
        [
         "(91) 4009-8000"
        ],
        [
         "(81) 3759-1619"
        ],
        [
         "(11) 2095-3000"
        ],
        [
         "(12) 9711-3748"
        ],
        [
         "(49) 3564-0782"
        ],
        [
         "(65) 3029-4262"
        ],
        [
         "(65) 9965-5796"
        ],
        [
         "(17) 3631-1422"
        ],
        [
         "(63) 3363-1505"
        ],
        [
         "(84) 3315-4778"
        ],
        [
         "(49) 9107-5210"
        ],
        [
         "(65) 3682-5103"
        ],
        [
         "(48) 3222-2152"
        ],
        [
         "(81) 3481-4659"
        ],
        [
         "(41) 3623-3715"
        ],
        [
         "(67) 3321-0487"
        ],
        [
         "(14) 3552-2040"
        ],
        [
         "(19) 3871-3419"
        ],
        [
         "(31) 3726-1314"
        ],
        [
         "(88) 99866-0002"
        ],
        [
         "(21) 2629-9768"
        ],
        [
         "(14) 99793-5518"
        ],
        [
         "(92) 3232-1768"
        ],
        [
         "(88) 3555-1935"
        ],
        [
         "(11) 3031-0199"
        ],
        [
         "(65) 3322-5054"
        ],
        [
         "(41) 3324-2456"
        ],
        [
         "(79) 3281-1123"
        ],
        [
         "(65) 3617-1286"
        ],
        [
         "(82) 3686-3013"
        ],
        [
         "(54) 3525-1122"
        ],
        [
         "(55) 3372-2662"
        ],
        [
         "(45) 3521-4000"
        ],
        [
         "(15) 3522-3875"
        ],
        [
         "(85) 3332-1462"
        ],
        [
         "(67) 3240-1400"
        ],
        [
         "(67) 3423-7856"
        ],
        [
         "(71) 3324-8118"
        ],
        [
         "(84) 3535-0005"
        ],
        [
         "(71) 3336-8184"
        ],
        [
         "(91) 4009-9567"
        ],
        [
         "(98) 99108-6844"
        ],
        [
         "(86) 99973-6485"
        ],
        [
         "(11) 4033-1937"
        ],
        [
         "(11) 2065-8000"
        ],
        [
         "(11) 2898-9358"
        ],
        [
         "(51) 3649-8251"
        ],
        [
         "(54) 3286-2719"
        ],
        [
         "(64) 3631-7939"
        ],
        [
         "(53) 3232-9107"
        ],
        [
         "(28) 3553-1893"
        ],
        [
         "(54) 3338-1224"
        ],
        [
         "(88) 3423-1473"
        ],
        [
         "(71) 3283-6564"
        ],
        [
         "(62) 3375-1604"
        ],
        [
         "(12) 3153-1518"
        ],
        [
         "(77) 3481-6806"
        ],
        [
         "(21) 3970-1177"
        ],
        [
         "(83) 99983-8198"
        ],
        [
         "(43) 3423-2944"
        ],
        [
         "(41) 3659-1428"
        ],
        [
         "(93) 99154-8322"
        ],
        [
         "(98) 3256-0430"
        ],
        [
         "(12) 3862-0485"
        ],
        [
         "(61) 2193-9710"
        ],
        [
         "(51) 3220-4728"
        ],
        [
         "(48) 3271-1800"
        ],
        [
         "(48) 3247-0059"
        ],
        [
         "(54) 3242-5536"
        ],
        [
         "(81) 3231-5341"
        ],
        [
         "(55) 3220-5525"
        ],
        [
         "(85) 3488-8611"
        ],
        [
         "(84) 3605-5492"
        ],
        [
         "(85) 98618-8510"
        ],
        [
         "(62) 3371-1207"
        ],
        [
         "(74) 3535-1230"
        ],
        [
         "(41) 3482-1262"
        ],
        [
         "(13) 3469-3520"
        ],
        [
         "(43) 3373-8700"
        ],
        [
         "(83) 3216-7434"
        ],
        [
         "(71) 3329-5522"
        ],
        [
         "(14) 3235-7000"
        ],
        [
         "(24) 2263-1306"
        ],
        [
         "(79) 3281-2418"
        ],
        [
         "(31) 3681-8755"
        ],
        [
         "(41) 3632-1457"
        ],
        [
         "(71) 3336-6081"
        ],
        [
         "(14) 3382-1921"
        ],
        [
         "(42) 3909-5001"
        ],
        [
         "(54) 99199-7676"
        ],
        [
         "(32) 3261-1285"
        ],
        [
         "(19) 3231-2567"
        ],
        [
         "(42) 3627-4656"
        ],
        [
         "(43) 3174-0291"
        ],
        [
         "(51) 3627-1309"
        ],
        [
         "(48) 3431-4517"
        ],
        [
         "(32) 3339-1611"
        ],
        [
         "(71) 3328-1132"
        ],
        [
         "(79) 3194-6453"
        ],
        [
         "(53) 3231-6399"
        ],
        [
         "(84) 3391-2245"
        ],
        [
         "(62) 3331-2487"
        ],
        [
         "(22) 2566-2236"
        ],
        [
         "(82) 3326-0155"
        ],
        [
         "(73) 3313-2001"
        ],
        [
         "(42) 3646-3715"
        ],
        [
         "(49) 3222-7831"
        ],
        [
         "(43) 3512-3002"
        ],
        [
         "(12) 98264-5960"
        ],
        [
         "(28) 3558-2531"
        ],
        [
         "(67) 3234-6813"
        ],
        [
         "(11) 3129-4898"
        ],
        [
         "(19) 3545-1305"
        ],
        [
         "(54) 3524-1322"
        ],
        [
         "(88) 9922-2385"
        ],
        [
         "(85) 3264-7038"
        ],
        [
         "(35) 3571-1529"
        ],
        [
         "(82) 3274-6464"
        ],
        [
         "(27) 3329-0420"
        ],
        [
         "(67) 3231-5757"
        ],
        [
         "(81) 2011-5466"
        ],
        [
         "(71) 3283-6550"
        ],
        [
         "(75) 3266-2529"
        ],
        [
         "(49) 3555-8782"
        ],
        [
         "(31) 3314-4650"
        ],
        [
         "(19) 3499-1555"
        ],
        [
         "(54) 3218-2142"
        ],
        [
         "(51) 3492-0024"
        ],
        [
         "(18) 3361-8449"
        ],
        [
         "(21) 2196-1250"
        ],
        [
         "(75) 2101-8602"
        ],
        [
         "(61) 3217-3590"
        ],
        [
         "(73) 99956-6969"
        ],
        [
         "(88) 98182-0456"
        ],
        [
         "(44) 3642-4372"
        ],
        [
         "(41) 3625-1212"
        ],
        [
         "(62) 98482-2794"
        ],
        [
         "(11) 4886-9746"
        ],
        [
         "(83) 99929-5029"
        ],
        [
         "(38) 3754-5666"
        ],
        [
         "(11) 4204-1443"
        ],
        [
         "(55) 3259-1272"
        ],
        [
         "(42) 3554-1222"
        ],
        [
         "(81) 9643-3654"
        ],
        [
         "(21) 3787-4354"
        ],
        [
         "(69) 99963-4269"
        ],
        [
         "(21) 2334-0522"
        ],
        [
         "(11) 4427-7297"
        ],
        [
         "(55) 3251-1651"
        ],
        [
         "(21) 3948-5444"
        ],
        [
         "(49) 3228-0071"
        ],
        [
         "(55) 3221-4085"
        ],
        [
         "(83) 3271-4351"
        ],
        [
         "(85) 99855-0716"
        ],
        [
         "(54) 3298-8066"
        ],
        [
         "(84) 3479-2470"
        ],
        [
         "(45) 3257-1121"
        ],
        [
         "(81) 3424-8500"
        ],
        [
         "(16) 3761-2642"
        ],
        [
         "(24) 2263-2368"
        ],
        [
         "(84) 3206-5768"
        ],
        [
         "(84) 9196-4662"
        ],
        [
         "(55) 3431-3839"
        ],
        [
         "(82) 3281-3650"
        ],
        [
         "(51) 3452-4526"
        ],
        [
         "(62) 8130-1136"
        ],
        [
         "(22) 2759-5049"
        ],
        [
         "(83) 3351-1515"
        ],
        [
         "(16) 3322-4812"
        ],
        [
         "(53) 3228-4606"
        ],
        [
         "(31) 3846-7701"
        ],
        [
         "(21) 2629-8005"
        ],
        [
         "(35) 3832-5753"
        ],
        [
         "(16) 3307-6903"
        ],
        [
         "(31) 3551-5369"
        ],
        [
         "(17) 99732-1924"
        ],
        [
         "(54) 3313-3822"
        ],
        [
         "(51) 3626-3561"
        ],
        [
         "(62) 3331-1990"
        ],
        [
         "(88) 98809-4527"
        ],
        [
         "(85) 3366-8569"
        ],
        [
         "(65) 3904-2128"
        ],
        [
         "(11) 3829-2959"
        ],
        [
         "(16) 3602-4603"
        ],
        [
         "(31) 3409-9106"
        ],
        [
         "(63) 3372-1290"
        ],
        [
         "(79) 99971-6679"
        ],
        [
         "(88) 3421-3396"
        ],
        [
         "(82) 3351-2008"
        ],
        [
         "(77) 98824-4378"
        ],
        [
         "(21) 2446-4557"
        ],
        [
         "(11) 4577-1171"
        ],
        [
         "(54) 3273-2471"
        ],
        [
         "(31) 3409-6498"
        ],
        [
         "(11) 4446-7699"
        ],
        [
         "(75) 98105-9836"
        ],
        [
         "(47) 3387-0282"
        ],
        [
         "(31) 3352-5357"
        ],
        [
         "(14) 3406-1401"
        ],
        [
         "(87) 3854-1156"
        ],
        [
         "(11) 3704-6260"
        ],
        [
         "(75) 3277-1464"
        ],
        [
         "(21) 2233-3690"
        ],
        [
         "(79) 3431-9701"
        ],
        [
         "(51) 3645-1005"
        ],
        [
         "(98) 98850-0534"
        ],
        [
         "(41) 3975-3102"
        ],
        [
         "(35) 99113-6193"
        ],
        [
         "(11) 4686-1658"
        ],
        [
         "(98) 3216-9263"
        ],
        [
         "(49) 3665-3200"
        ],
        [
         "(48) 3445-8844"
        ],
        [
         "(32) 3348-1566"
        ],
        [
         "(53) 3284-5533"
        ],
        [
         "(33) 99911-7611"
        ],
        [
         "(44) 3528-9172"
        ],
        [
         "(13) 3226-8000"
        ],
        [
         "(19) 3865-2678"
        ],
        [
         "(46) 3252-8019"
        ],
        [
         "(32) 2102-3221"
        ],
        [
         "(21) 2629-2313"
        ],
        [
         "(51) 3632-1987"
        ],
        [
         "(84) 9911-0181"
        ],
        [
         "(55) 3252-2747"
        ],
        [
         "(19) 3308-5656"
        ],
        [
         "(11) 2221-0275"
        ],
        [
         "(19) 3555-1333"
        ],
        [
         "(11) 5073-6220"
        ],
        [
         "(42) 3421-3210"
        ],
        [
         "(42) 3652-1372"
        ],
        [
         "(31) 3559-1597"
        ],
        [
         "(79) 3217-3370"
        ],
        [
         "(62) 3371-1990"
        ],
        [
         "(71) 3106-4659"
        ],
        [
         "(35) 3449-9257"
        ],
        [
         "(45) 3244-2082"
        ],
        [
         "(11) 4154-1874"
        ],
        [
         "(79) 3302-5840"
        ],
        [
         "(21) 2226-9818"
        ],
        [
         "(32) 3741-1969"
        ],
        [
         "(49) 3241-2393"
        ],
        [
         "(53) 3028-8585"
        ],
        [
         "(55) 3426-2639"
        ],
        [
         "(83) 98133-0698"
        ],
        [
         "(12) 3144-1207"
        ],
        [
         "(62) 3331-1012"
        ],
        [
         "(21) 99778-2035"
        ],
        [
         "(81) 3439-3033"
        ],
        [
         "(51) 3221-7147"
        ],
        [
         "(19) 2136-3400"
        ],
        [
         "(79) 3198-1452"
        ],
        [
         "(54) 3901-8940"
        ],
        [
         "(17) 3405-9670"
        ],
        [
         "(16) 3322-9708"
        ],
        [
         "(79) 99868-3256"
        ],
        [
         "(22) 2522-3442"
        ],
        [
         "(82) 98185-0012"
        ],
        [
         "(48) 3222-1333"
        ],
        [
         "(16) 3663-4404"
        ],
        [
         "(19) 3522-4400"
        ],
        [
         "(67) 3326-9788"
        ],
        [
         "(42) 3231-5063"
        ],
        [
         "(55) 3251-2362"
        ],
        [
         "(85) 8725-4437"
        ],
        [
         "(53) 3221-0445"
        ],
        [
         "(17) 3266-9600"
        ],
        [
         "(93) 3544-1397"
        ],
        [
         "(81) 3224-4620"
        ],
        [
         "(99) 3531-3738"
        ],
        [
         "(55) 3544-1099"
        ],
        [
         "(19) 3817-3002"
        ],
        [
         null
        ],
        [
         "(49) 3233-2798"
        ],
        [
         "(61) 3521-4367"
        ],
        [
         "(81) 3222-4952"
        ],
        [
         "(88) 3523-5491"
        ],
        [
         "(19) 3874-5700"
        ],
        [
         "(38) 3531-1335"
        ],
        [
         "(12) 3896-3757"
        ],
        [
         "(61) 2024-8885"
        ],
        [
         "(86)3222-0811"
        ],
        [
         "(44) 3323-3033"
        ],
        [
         "(31) 2125-0700"
        ],
        [
         "(12) 3229-7909"
        ],
        [
         "(31) 3899-2586"
        ],
        [
         "(11) 4784-8500"
        ],
        [
         "(21) 2263-0685"
        ],
        [
         "(21) 99999-9999"
        ],
        [
         "(35) 3559-1086"
        ],
        [
         "(31) 3225-2074"
        ],
        [
         "(47) 3357-4442"
        ],
        [
         "(21) 2273-8011"
        ],
        [
         "(63) 3312-5767"
        ],
        [
         "(75) 3422-7084"
        ],
        [
         "(11) 3111-4037"
        ],
        [
         "(51) 3218-2018"
        ],
        [
         "(16) 3668-1295"
        ],
        [
         "(54) 3387-1144"
        ],
        [
         "(49) 3365-3167"
        ],
        [
         "(48) 3466-0011"
        ],
        [
         "(71) 3116-7954"
        ],
        [
         "(88) 3511-4487"
        ],
        [
         "(83) 3310-1591"
        ],
        [
         "(54) 3218-2167"
        ],
        [
         "(98) 3222-9162"
        ],
        [
         "(65) 3617-3516"
        ],
        [
         "(49) 99967-6130"
        ],
        [
         "(43) 3904-1124"
        ],
        [
         "(79) 3243-3214"
        ],
        [
         "(37) 3271-6163"
        ],
        [
         "(38) 9144-5253"
        ],
        [
         "(12) 3634-3447"
        ],
        [
         "(11) 3091-3247"
        ],
        [
         "(11) 3825-2560"
        ],
        [
         "(49) 3643-1745"
        ],
        [
         "(74) 3653-2186"
        ],
        [
         "(27) 3253-1842"
        ],
        [
         "(41) 3244-7463"
        ],
        [
         "(81) 3241-3226"
        ],
        [
         "(46) 3262-5669"
        ],
        [
         "(11) 3311-9955"
        ],
        [
         "(88) 99277-1013"
        ],
        [
         "(69) 98491-3351"
        ],
        [
         "(15) 3212-7282"
        ],
        [
         "(51) 99945-4326"
        ],
        [
         "(51) 3500-3322"
        ],
        [
         "(27) 3251-6636"
        ],
        [
         "(21) 3970-1093"
        ],
        [
         "(15) 3227-2825"
        ],
        [
         "(41) 3554-1531"
        ],
        [
         "(35) 3691-1086"
        ],
        [
         "(75) 3326-2286"
        ],
        [
         "(15) 3262-4544"
        ],
        [
         "(81) 3184-7754"
        ],
        [
         "(55) 3232-5378"
        ],
        [
         "(55) 3431-1687"
        ],
        [
         "(19) 3455-5082"
        ],
        [
         "(55) 3291-7090"
        ],
        [
         "(51) 3455-1858"
        ],
        [
         "(11) 99862-6252"
        ],
        [
         "(47) 3362-1108"
        ],
        [
         "(34) 3331-9999"
        ],
        [
         "(99) 3521-0053"
        ],
        [
         "(18) 3275-5506"
        ],
        [
         "(14) 3662-1317"
        ],
        [
         "(32) 3753-1905"
        ],
        [
         "(81) 98313-2471"
        ],
        [
         "(83) 3341-4581"
        ],
        [
         "(62) 3209-6202"
        ],
        [
         "(67) 3562-1223"
        ],
        [
         "(82) 3644-1122"
        ],
        [
         "(77) 3261-3011"
        ],
        [
         "(71) 3343-1437"
        ],
        [
         "(82) 3223-4298"
        ],
        [
         "(51) 3626-9150"
        ],
        [
         "(42) 3271-5385"
        ],
        [
         "(82) 3264-6474"
        ],
        [
         "(48) 3255-2922"
        ],
        [
         "(32) 3279-5248"
        ],
        [
         "(24) 2458-4720"
        ],
        [
         "(98) 98204-4180"
        ],
        [
         "(37) 3521-9705"
        ],
        [
         "(84) 99952-4226"
        ],
        [
         "(31) 3446-0686"
        ],
        [
         "(51) 3230-4532"
        ],
        [
         "(51) 3457-6432"
        ],
        [
         "(67) 4042-4336"
        ],
        [
         "(27) 3222-4560"
        ],
        [
         "(61) 3107-7001"
        ],
        [
         "(11) 2176-7025"
        ],
        [
         "(91) 3182-3219"
        ],
        [
         "(13) 3362-9364"
        ],
        [
         "(83) 3221-4635"
        ],
        [
         "(82) 3271-1990"
        ],
        [
         "(13) 3233-8113"
        ],
        [
         "(31) 3835-2152"
        ],
        [
         "(21) 2512-9878"
        ],
        [
         "(16) 3944-2132"
        ],
        [
         "(44) 3270-1199"
        ],
        [
         "(42) 3232-5856"
        ],
        [
         "(82) 3281-3167"
        ],
        [
         "(33) 3514-1629"
        ],
        [
         "(21) 2516-7089"
        ],
        [
         "(11) 3747-1233"
        ],
        [
         "(92) 3631-3632 / (92) 9128-5752"
        ],
        [
         "(32) 3273-5700"
        ],
        [
         "(14) 3882-3429"
        ],
        [
         "(85) 3101-2610"
        ],
        [
         "(24) 2438-1134"
        ],
        [
         "(34) 3261-4248"
        ],
        [
         "(11) 4412-7153"
        ],
        [
         "(54) 3279-1298"
        ],
        [
         "(49) 3236-3052"
        ],
        [
         "(24) 3371-6107"
        ],
        [
         "(31) 3409-5179"
        ],
        [
         "(31) 3899-2662"
        ],
        [
         "(49) 3455-9030"
        ],
        [
         "(88) 99628-6702"
        ],
        [
         "(51) 3458-2942"
        ],
        [
         "(11) 3873-3211"
        ],
        [
         "(77) 3623-2910"
        ],
        [
         "(21) 2233-7483"
        ],
        [
         "(22) 2622-9087"
        ],
        [
         "(35) 3265-2627"
        ],
        [
         "(48) 3664-2650"
        ],
        [
         "(14) 3844-1230"
        ],
        [
         "(71) 3264-7262"
        ],
        [
         "(17) 3341-9444"
        ],
        [
         "(82) 3521-2353"
        ],
        [
         "(24) 2463-1108"
        ],
        [
         "(83) 8811-3265"
        ],
        [
         "(84) 3251-2121"
        ],
        [
         "(81) 3355-0002"
        ],
        [
         "(49) 3452-4065"
        ],
        [
         "(97) 3415-6067"
        ],
        [
         "(22) 2621-4133"
        ],
        [
         "(47) 3346-5715"
        ],
        [
         "(61) 3216-5881"
        ],
        [
         "(33) 3271-8560"
        ],
        [
         "(89) 3477-1212"
        ],
        [
         "(31) 3732-2526"
        ],
        [
         "(21) 2233-7754"
        ],
        [
         "(11) 4187-7272"
        ],
        [
         "(31) 99127-3933"
        ],
        [
         "(82) 99827-2033"
        ],
        [
         "(22) 2555-5149"
        ],
        [
         "(34) 3236-3707"
        ],
        [
         "(41) 3677-1706"
        ],
        [
         "(21) 2332-9703"
        ],
        [
         "(53) 3233-8675"
        ],
        [
         "(34) 3411-5325"
        ],
        [
         "(45) 3902-1387"
        ],
        [
         "(55) 3242-3505"
        ],
        [
         "(85) 3101-5507"
        ],
        [
         "(91) 3221-6100"
        ],
        [
         "(37) 3281-7326"
        ],
        [
         "(54) 3612-2102"
        ],
        [
         "(12) 3883-9188"
        ],
        [
         "(14) 99904-0073"
        ],
        [
         "(81) 3184-3154"
        ],
        [
         "(63) 3602-2734"
        ],
        [
         "(47) 3381-6176"
        ],
        [
         "(11) 9974-6300"
        ],
        [
         "(21) 2691-1135"
        ],
        [
         "(86) 3215-7849"
        ],
        [
         "(11) 97390-5119"
        ],
        [
         "(33) 3331-1607"
        ],
        [
         "(64) 3453-7138"
        ],
        [
         "(55) 3537-7575"
        ],
        [
         "(33) 99107-1602"
        ],
        [
         "(13) 3841-3012"
        ],
        [
         "(19) 3622-2105"
        ],
        [
         "(47) 3641-5500"
        ],
        [
         "(81) 3544-1193"
        ],
        [
         "(55) 3220-8412"
        ],
        [
         "(55) 3352-1321"
        ],
        [
         "(51) 3220-4318"
        ],
        [
         "(92) 3622-8387"
        ],
        [
         "(88) 9907-0254"
        ],
        [
         "(63) 3218-6181"
        ],
        [
         "(81) 3543-0729"
        ],
        [
         "(81) 3424-0153"
        ],
        [
         "(47) 3455-0372"
        ],
        [
         "(27) 99600-9248"
        ],
        [
         "(11) 5627-5393"
        ],
        [
         "(54) 3316-8586"
        ],
        [
         "(44) 3273-1161"
        ],
        [
         "(16) 3820-8027"
        ],
        [
         "(51) 3672-1788"
        ],
        [
         "(48) 3449-0492"
        ],
        [
         "(54) 3520-9000"
        ],
        [
         "(00) 00000-0000"
        ],
        [
         "(37) 3221-8881"
        ],
        [
         "(35) 3361-3618"
        ],
        [
         "(86) 3237-2262"
        ],
        [
         "(84) 3315-2097"
        ],
        [
         "(11) 2269-4330"
        ],
        [
         "(98) 3218-9945"
        ],
        [
         "(94) 3346-2007"
        ],
        [
         "(84) 3237-2292"
        ],
        [
         "(47) 3376-0114"
        ],
        [
         "(31) 3621-4444"
        ],
        [
         "(71) 3242-0182"
        ],
        [
         "(44) 3011-4290"
        ],
        [
         "(51) 3653-1951"
        ],
        [
         "(11) 5092-5345"
        ],
        [
         "(51) 3661-2766"
        ],
        [
         "(51) 3227-5196"
        ],
        [
         "(54) 3381-1648"
        ],
        [
         "(35) 3266-6246"
        ],
        [
         "(99) 99999-9999"
        ],
        [
         "(31) 3350-5246"
        ],
        [
         "(41) 3321-3260"
        ],
        [
         "(27) 4009-7658"
        ],
        [
         "(54) 3372-1334"
        ],
        [
         "(53) 3233-8409"
        ],
        [
         "(71) 3319-7047"
        ],
        [
         "(49) 3621-1879"
        ],
        [
         "(19) 3422-8315"
        ],
        [
         "(24) 2453-1460"
        ],
        [
         "(17) 3562-0901"
        ],
        [
         "(48) 3284-9032"
        ],
        [
         "(41) 3547-8073"
        ],
        [
         "(67) 3325-7050"
        ],
        [
         "(32) 3531-5876"
        ],
        [
         "(84) 3232-6380"
        ],
        [
         "(91) 98905-0123"
        ],
        [
         "(41) 3323-5328"
        ],
        [
         "(85) 99707-7232"
        ],
        [
         "(81) 3320-6513"
        ],
        [
         "(34) 3631-4142"
        ],
        [
         "(79) 3211-6913"
        ],
        [
         "(51) 3326-0122"
        ],
        [
         "(51) 3308-3352"
        ],
        [
         "(92) 3621-7306"
        ],
        [
         "(55) 3028-7000"
        ],
        [
         "(71) 3117-4864"
        ],
        [
         "(32) 3371-7836"
        ],
        [
         "(22) 2741-4327"
        ],
        [
         "(45) 3222-4575"
        ],
        [
         "(47) 3433-2522"
        ],
        [
         "(35) 3556-2156"
        ],
        [
         "(41) 3462-3598"
        ],
        [
         "(17) 3101-1174"
        ],
        [
         "(11) 3666-5803"
        ],
        [
         "(21) 97543-8326"
        ],
        [
         "(32) 3288-1112"
        ],
        [
         "(75) 3681-1102"
        ],
        [
         "(32) 3463-1619"
        ],
        [
         "(41) 3547-1049"
        ],
        [
         "(51) 3663-3833"
        ],
        [
         "(54) 3368-1328"
        ],
        [
         "(31) 3319-4152"
        ],
        [
         "(31) 3876-1300"
        ],
        [
         "(16) 3721-6630"
        ],
        [
         "(81) 9982-6111"
        ],
        [
         "(84) 3333-1017"
        ],
        [
         "(31) 3409-2295"
        ],
        [
         "(51) 3248-5310"
        ],
        [
         "(32) 3211-0770"
        ],
        [
         "(87) 3852-1209"
        ],
        [
         "(54) 3281-8419"
        ],
        [
         "(35) 3555-3761"
        ],
        [
         "(51) 3226-5883"
        ],
        [
         "(48) 3252-0111"
        ],
        [
         "(63) 3232-5952"
        ],
        [
         "(47) 3387-0124"
        ],
        [
         "(28) 3536-2467"
        ],
        [
         "(61) 3254-4341"
        ],
        [
         "(61) 3217-3602"
        ],
        [
         "(38) 3759-1267"
        ],
        [
         "(38) 3677-5647"
        ],
        [
         "(62) 3902-2728"
        ],
        [
         "(11) 4725-3448"
        ],
        [
         "(51) 3221-3959"
        ],
        [
         "(48) 3275-1453"
        ],
        [
         "(47) 3431-1165"
        ],
        [
         "(51) 3616-7014"
        ],
        [
         "(68) 3542-2358"
        ],
        [
         "(11) 3872-7743"
        ],
        [
         "(85) 3219-7751"
        ],
        [
         "(11) 4168-6225"
        ],
        [
         "(11) 3749-8000"
        ],
        [
         "(54) 3535-1614"
        ],
        [
         "(11) 4412-3287"
        ],
        [
         "(67) 3025-5036"
        ],
        [
         "(11) 2118-4100"
        ],
        [
         "(31) 3277-4131"
        ],
        [
         "(83) 3341-1947"
        ],
        [
         "(86) 98102-9720"
        ],
        [
         "(16) 3322-2207"
        ],
        [
         "(41) 3555-1939"
        ],
        [
         "(73) 9141-3178"
        ],
        [
         "(31) 3651-1700"
        ],
        [
         "(42) 3523-1515"
        ],
        [
         "(75) 3241-4946"
        ],
        [
         "(85) 3255-7262"
        ],
        [
         "(32) 3571-4927"
        ],
        [
         "(47) 3371-8346"
        ],
        [
         "(54) 3905-4811"
        ],
        [
         "(81) 3224-1110"
        ],
        [
         "(21) 2509-1844"
        ],
        [
         "(71) 3117-6388"
        ],
        [
         "(88) 3611-1236"
        ],
        [
         "(67) 3260-1739"
        ],
        [
         "(38) 3754-6158"
        ],
        [
         "(81) 3534-1400"
        ],
        [
         "(21) 2199-6629"
        ],
        [
         "(35) 3841-1207"
        ],
        [
         "(48) 99626-7470"
        ],
        [
         "(84) 99832-7166"
        ],
        [
         "(82) 3552-1585"
        ],
        [
         "(19) 3417-1766"
        ],
        [
         "(51) 3019-4600"
        ],
        [
         "(49) 3647-9600"
        ],
        [
         "(19) 3521-6385"
        ],
        [
         "(37) 3331-2575"
        ],
        [
         "(51) 3714-7000"
        ],
        [
         "(38) 3531-3919"
        ],
        [
         "(12) 3648-1779"
        ],
        [
         "(91) 3201-7428"
        ],
        [
         "(42) 3907-3157"
        ],
        [
         "(74) 3654-1483"
        ],
        [
         "(82) 3221-8488"
        ],
        [
         "(48) 3431-2573"
        ],
        [
         "(63) 2121-7314"
        ],
        [
         "(69) 3451-2593"
        ],
        [
         "(16) 3332-4933"
        ],
        [
         "(85) 99926-0336"
        ],
        [
         "(21) 3465-3959"
        ],
        [
         "Não Informado"
        ],
        [
         "(47) 3626-7187"
        ],
        [
         "(88) 3667 1116"
        ],
        [
         "(65) 3027-3269"
        ],
        [
         "(92) 2125-5301"
        ],
        [
         "(61) 3103-5894"
        ],
        [
         "(54) 3232-1511"
        ],
        [
         "(86) 3271-2452"
        ],
        [
         "(32) 3371-8485"
        ],
        [
         "(22) 2768-1332"
        ],
        [
         "(11) 3295-5819"
        ],
        [
         "(16) 3373-2700"
        ],
        [
         "(32) 3372-2674"
        ],
        [
         "(79) 3261-1435"
        ],
        [
         "(16) 3951-8407"
        ],
        [
         "(44) 3332-1398"
        ],
        [
         "(55) 3289-1001"
        ],
        [
         "(19) 3631-0314"
        ],
        [
         "(85) 3342-3060"
        ],
        [
         "(65) 3664-2407"
        ],
        [
         "(22) 3852-0542"
        ],
        [
         "(84) 3388-0111"
        ],
        [
         "(34) 3236-8133"
        ],
        [
         "(37) 3323-5112"
        ],
        [
         "(55) 3548-1200"
        ],
        [
         "(47) 3433-0114"
        ],
        [
         "(43) 3378-2053"
        ],
        [
         "(71) 3116-8792"
        ],
        [
         "(42) 3675-1801"
        ],
        [
         "(44) 3261-4040"
        ],
        [
         "(21) 4009-7032"
        ],
        [
         "(51) 3328-7376"
        ],
        [
         "(55) 3279-1033"
        ],
        [
         "(21) 2042-5312"
        ],
        [
         "(51) 3227-4580"
        ],
        [
         "(31) 3379-8593"
        ],
        [
         "(84) 3234-3422"
        ],
        [
         "(16) 3301-6430"
        ],
        [
         "(31) 3330-8301"
        ],
        [
         "(35) 3622-3957"
        ],
        [
         "(51) 3213-6000"
        ],
        [
         "(45) 3232-1181"
        ],
        [
         "(49) 3541-1554"
        ],
        [
         "(88) 99751-0713"
        ],
        [
         "(27) 3335-7853"
        ],
        [
         "(11) 4638-2205"
        ],
        [
         "(21) 3938-6645"
        ],
        [
         "(49) 3050-5518"
        ],
        [
         "(35) 3292-5033"
        ],
        [
         "(27) 98157-4461"
        ],
        [
         "(54) 3314-1888"
        ],
        [
         "(48) 3333-1322"
        ],
        [
         "(73) 8835-5326"
        ],
        [
         "(21) 3322-3581"
        ],
        [
         "(35) 3864-7268"
        ],
        [
         "(16) 3635-2421"
        ],
        [
         "(67) 9937-0434"
        ],
        [
         "(49) 3325-4280"
        ],
        [
         "(41) 3218-1909"
        ],
        [
         "(32) 3441-2090"
        ],
        [
         "(18) 3229-5840"
        ],
        [
         "(21) 3641-9856"
        ],
        [
         "(11) 4616-3009"
        ],
        [
         "(85) 3366-8471"
        ],
        [
         "(53) 3025-4762"
        ],
        [
         "(11) 3149-5959"
        ],
        [
         "(41) 3222-8262"
        ],
        [
         "(47) 3351-2132"
        ],
        [
         "(67) 3326-4166"
        ],
        [
         "(65) 3336-1003"
        ],
        [
         "(98) 3301-8290"
        ],
        [
         "(31) 3612-5310"
        ],
        [
         "(88) 3632-1555"
        ],
        [
         "(15) 3459-9220"
        ],
        [
         "(62) 3935-1020"
        ],
        [
         "(96) 3312-1782"
        ],
        [
         "(85) 3281-6949"
        ],
        [
         "(84) 3211-7710"
        ],
        [
         "(92) 3216-3084"
        ],
        [
         "(62) 3521-1055"
        ],
        [
         "(85) 4005-5491"
        ],
        [
         "(22) 3864-1633"
        ],
        [
         "(44) 3649-1214"
        ],
        [
         "(53) 98135-6341"
        ],
        [
         "(69) 3216-5133"
        ],
        [
         "(34) 99257-1165"
        ],
        [
         "(85) 3324-1327"
        ],
        [
         "(27) 3371-9702"
        ],
        [
         "(51) 3316-1198"
        ],
        [
         "(44) 3011-4554"
        ],
        [
         "(14) 3496-1125"
        ],
        [
         "(84) 3361-2211"
        ],
        [
         "(48) 99954-5453"
        ],
        [
         "(21) 3601-8220"
        ],
        [
         "(21) 3289-8683"
        ],
        [
         "(12) 3921-9460"
        ],
        [
         "(42) 3522-0649"
        ],
        [
         "(19) 3565-3280"
        ],
        [
         "(51) 3782-1212"
        ],
        [
         "(87) 3862-1943"
        ],
        [
         "(12) 3971-1665"
        ],
        [
         "(33) 3267-1671"
        ],
        [
         "(18) 3273-1675"
        ],
        [
         "(21) 3874-1808"
        ],
        [
         "(65) 9979-3495"
        ],
        [
         "(54) 3286-4323"
        ],
        [
         "(31) 3246-8061"
        ],
        [
         "(55) 3367-1450"
        ],
        [
         "(12) 3132-2414"
        ],
        [
         "(21) 99946-7759"
        ],
        [
         "(55) 3430-2953"
        ],
        [
         "(75) 3223-7033"
        ],
        [
         "(92) 3663-1231"
        ],
        [
         "(43) 3904-1110"
        ],
        [
         "(41) 3121-2395"
        ],
        [
         "(38) 3722-2600"
        ],
        [
         "(83) 99982-1837"
        ],
        [
         "(38) 99950-6629"
        ],
        [
         "(51) 3288-8109"
        ],
        [
         "(51) 3216-4636"
        ],
        [
         "(17) 3321-0000"
        ],
        [
         "(19) 3861-0222"
        ],
        [
         "(91) 3481-1228"
        ],
        [
         "(34) 3818-2841"
        ],
        [
         "(13) 3568-8190"
        ],
        [
         "(24) 2231-4722"
        ],
        [
         "(84) 3317-8543"
        ],
        [
         "(27) 99889-2586"
        ],
        [
         "(51) 3382-6000"
        ],
        [
         "(82) 3281-1180"
        ],
        [
         "(65) 3221-0000"
        ],
        [
         "(11) 2032-3921"
        ],
        [
         "(92) 3631-2938"
        ],
        [
         "(19) 3875-8383"
        ],
        [
         "(31) 3835-5532"
        ],
        [
         "(62) 3524-1190"
        ],
        [
         "(21) 2527-4044"
        ],
        [
         "(19) 3733-8800"
        ],
        [
         "(41) 3032-1331"
        ],
        [
         "(13) 3561-1119"
        ],
        [
         "(13) 3426-3682"
        ],
        [
         "(35) 3731-1596"
        ],
        [
         "(19) 3711-9569"
        ],
        [
         "(51) 3545-3435"
        ],
        [
         "(81) 3355-3126"
        ],
        [
         "(55) 3224-4800"
        ],
        [
         "(74) 3655-1104"
        ],
        [
         "(91) 3425-1520"
        ],
        [
         "(12) 3147-1200"
        ],
        [
         "(28) 3522-2259"
        ],
        [
         "(19) 3298-6566"
        ],
        [
         "(55) 3781-4390"
        ],
        [
         "(51) 3762-4040"
        ],
        [
         "(48) 3221-7665"
        ],
        [
         "(27) 3267-1751"
        ],
        [
         "(27) 3767-1020"
        ],
        [
         "(24) 9268-0979"
        ],
        [
         "(41) 3321-3256"
        ],
        [
         "(61) 3214-5641"
        ],
        [
         "(21) 3380-1850"
        ],
        [
         "(34) 3833-1560"
        ],
        [
         "(75) 3221-9611"
        ],
        [
         "(14) 3811-6040"
        ],
        [
         "(49) 0562-1311"
        ],
        [
         "(73) 3211-8248"
        ],
        [
         "(71) 3116-6711"
        ],
        [
         "(88) 3671-2446"
        ],
        [
         "(84) 3472-2560"
        ],
        [
         "(88) 99669-4081"
        ],
        [
         "(27) 99975-3492"
        ],
        [
         "(19) 3735-5898"
        ],
        [
         "(95) 3623-3244"
        ],
        [
         "(92) 3232-5919"
        ],
        [
         "(85) 3369-9195"
        ],
        [
         "(11) 4886-9747"
        ],
        [
         "(31) 3212-4656"
        ],
        [
         "(11) 2594-2601"
        ],
        [
         "(33) 3411-2594"
        ],
        [
         "(83) 99908-2198"
        ],
        [
         "(21) 2215-2093"
        ],
        [
         "(71) 3321-1967"
        ],
        [
         "(31) 99957-6659"
        ],
        [
         "(41) 3304-3300"
        ],
        [
         "(31) 3308-4000"
        ],
        [
         "(11) 3224-1489"
        ],
        [
         "(71) 3116-6743"
        ],
        [
         "(11) 4591-8537"
        ],
        [
         "(92) 3622-0034"
        ],
        [
         "(55) 3251-3151"
        ],
        [
         "(11) 5085-1301"
        ],
        [
         "(11) 3396-2596"
        ],
        [
         "(35) 98806-1353"
        ],
        [
         "(54) 3450-0034"
        ],
        [
         "(81) 3224-0994"
        ],
        [
         "(11) 3321-4400"
        ],
        [
         "(84) 3391-2306"
        ],
        [
         "(47) 3645-0623"
        ],
        [
         "(28) 3155-5258"
        ],
        [
         "(35) 99163-5355"
        ],
        [
         "(49) 3561-6813"
        ],
        [
         "(11) 4825-9049"
        ],
        [
         "(64) 3491-4679"
        ],
        [
         "(27) 99626-8905"
        ],
        [
         "(88) 3422-1463"
        ],
        [
         "(67) 3326-7449"
        ],
        [
         "(46) 3242-2781"
        ],
        [
         "(24) 2263-6116"
        ],
        [
         "(21) 2522-6966"
        ],
        [
         "(31) 3593-1397"
        ],
        [
         "(92) 3622-0618"
        ],
        [
         "(22) 9881-6025"
        ],
        [
         "(21) 2253-1580"
        ],
        [
         "(21) 2557-4600"
        ],
        [
         "(51) 3308-6284"
        ],
        [
         "(49) 3521-8509"
        ],
        [
         "(71) 3116-1511"
        ],
        [
         "(54) 3293-5656"
        ],
        [
         "(53) 3226-2888"
        ],
        [
         "(11) 2958-1477"
        ],
        [
         "(55) 3278-1123"
        ],
        [
         "(16) 99344-3948"
        ],
        [
         "(41) 3321-3255"
        ],
        [
         "(54) 3288-2298"
        ],
        [
         "(98) 3218-8952"
        ],
        [
         "(88) 3611-3525"
        ],
        [
         "(67) 3441-1596"
        ],
        [
         "(61) 3314-6440"
        ],
        [
         "(17) 3562-0706"
        ],
        [
         "(11) 4029-3473"
        ],
        [
         "(51) 3214-8503"
        ],
        [
         "(93) 99010-3283"
        ],
        [
         "(73) 3288-0828"
        ],
        [
         "(27) 3636-1032"
        ],
        [
         "(31) 3521-9531"
        ],
        [
         "(91) 98141-0011"
        ],
        [
         "(87) 3838-2790"
        ],
        [
         "(54) 3376-1825"
        ],
        [
         "(84) 3654-5645"
        ],
        [
         "(21) 2511-1533"
        ],
        [
         "(61) 3107-0912"
        ],
        [
         "(55) 3375-3292"
        ],
        [
         "(21) 2215-0621"
        ],
        [
         "(48) 3338-3031"
        ],
        [
         "(55) 3422-3318"
        ],
        [
         "(53) 3257-1481"
        ],
        [
         "(19) 3451-5714"
        ],
        [
         "(11) 2613-9500"
        ],
        [
         "(73) 3231-7531"
        ],
        [
         "(85) 3017-3661"
        ],
        [
         "(14) 3103-6030"
        ],
        [
         "(89) 98108-8615"
        ],
        [
         "(54) 3392-1162"
        ],
        [
         "(85) 3632-1125"
        ],
        [
         "(11) 2159-0400"
        ],
        [
         "(88) 99442-0061"
        ],
        [
         "(53) 3238-1502"
        ],
        [
         "(43) 3903-1291"
        ],
        [
         "(47) 3340-3242"
        ],
        [
         "(87) 99919-0803"
        ],
        [
         "(33) 3743-1205"
        ],
        [
         "(54) 3278-3035"
        ],
        [
         "(55) 3961-1667"
        ],
        [
         "(54) 3285-2147"
        ],
        [
         "(54) 3316-7000"
        ],
        [
         "(46) 3525-8130"
        ],
        [
         "(31) 3557-3259"
        ],
        [
         "(82) 3273-8084"
        ],
        [
         "(91) 99267-8819"
        ],
        [
         "(81) 3355-3155"
        ],
        [
         "(91) 4009-8513"
        ],
        [
         "(49) 3432-3200"
        ],
        [
         "(85) 3101-6767"
        ],
        [
         "(18) 3743-1143"
        ],
        [
         "(48) 3721-8302"
        ],
        [
         "(21) 2787-6178"
        ],
        [
         "(51) 3494-8082"
        ],
        [
         "(13) 3496-5708"
        ],
        [
         "(21) 2691-9804"
        ],
        [
         "(51) 99651-4400"
        ],
        [
         "(17) 3816-1331"
        ],
        [
         "(65) 3617-1225"
        ],
        [
         "(41) 3224-5597"
        ],
        [
         "(21) 3284-7400"
        ],
        [
         "(14) 3491-5896"
        ],
        [
         "(65) 3644-4269"
        ],
        [
         "(21) 2504-0002"
        ],
        [
         "(32) 3332-2047"
        ],
        [
         "(74) 3643-1393"
        ],
        [
         "(83) 3218-7880"
        ],
        [
         "(51) 3308-4087"
        ],
        [
         "(65) 3224-1873"
        ],
        [
         "(34) 3318-1756"
        ],
        [
         "(19) 3646-9700"
        ],
        [
         "(71) 3321-0383"
        ],
        [
         "(12) 3111-1499"
        ],
        [
         "(18) 3321-1891"
        ],
        [
         "(42) 3901-1584"
        ],
        [
         "(32) 3281-1101"
        ],
        [
         "(11) 4165-1286"
        ],
        [
         "(69) 3422-3900"
        ],
        [
         "(91) 3182-9064"
        ],
        [
         "(69) 3535-2545"
        ],
        [
         "(54) 3391-1200"
        ],
        [
         "(42) 3618-1017"
        ],
        [
         "(32) 3355-1549"
        ],
        [
         "(51) 3462-1626"
        ],
        [
         "(85) 8631-3064"
        ],
        [
         "(55) 3243-1080"
        ],
        [
         "(41) 3373-5757"
        ],
        [
         "(11) 99309-1857"
        ],
        [
         "(55) 3961-1132"
        ],
        [
         "(53) 3243-1805"
        ],
        [
         "(21) 3707-9504"
        ],
        [
         "(81) 3184-3090"
        ],
        [
         "(42) 3229-2109"
        ],
        [
         "(41) 3323-5643"
        ],
        [
         "(31) 3277-7251"
        ],
        [
         "(51) 3224-6661"
        ],
        [
         "(21) 2410-1384"
        ],
        [
         "(81) 3631-0599"
        ],
        [
         "(87) 99601-9508"
        ],
        [
         "(83) 3310-6171"
        ],
        [
         "(16) 3244-4060"
        ],
        [
         "(71) 3360-6668"
        ],
        [
         "(53) 3228-2024"
        ],
        [
         "(11) 3396-6047"
        ],
        [
         "(55) 3513-1417"
        ],
        [
         "(11) 2408-9222"
        ],
        [
         "(88) 3696-1126"
        ],
        [
         "(51) 98603-6584"
        ],
        [
         "(64) 3442-3998"
        ],
        [
         "(47) 3622-0609"
        ],
        [
         "(82) 3553-1136"
        ],
        [
         "(81) 3721-2545"
        ],
        [
         "(21) 2242-1130"
        ],
        [
         "(12) 3101-1333"
        ],
        [
         "(71) 3371-0148"
        ],
        [
         "(31) 3776-3129"
        ],
        [
         "(51) 3958-8470"
        ],
        [
         "(51) 3542-1553"
        ],
        [
         "(51) 3224-3760"
        ],
        [
         "(54) 3332-3388"
        ],
        [
         "(31) 3296-1197"
        ],
        [
         "(21) 3298-9449"
        ],
        [
         "(21) 3938-0944"
        ],
        [
         "(54) 3261-2766"
        ],
        [
         "(51) 3045-4780"
        ],
        [
         "(12) 3662-2334"
        ],
        [
         "(41) 3364-3931"
        ],
        [
         "(93) 3523-0658"
        ],
        [
         "(83) 33323-8737"
        ],
        [
         "(11) 3258-1396"
        ],
        [
         "(16) 3984-9064"
        ],
        [
         "(88) 3658-1435"
        ],
        [
         "(71) 3321-8023"
        ],
        [
         "(21) 2242-1012"
        ],
        [
         "(13) 3822-2393"
        ],
        [
         "(11) 4666-7545"
        ],
        [
         "(42) 3252-2231"
        ],
        [
         "(61) 3274-9608"
        ],
        [
         "(34) 3336-5214"
        ],
        [
         "(11) 3468-3360"
        ],
        [
         "(32) 3690-2200"
        ],
        [
         "(15) 3233-1692"
        ],
        [
         "(12) 3646-2071"
        ],
        [
         "(16) 3171-1118"
        ],
        [
         "(47) 3444-5443"
        ],
        [
         "(73) 3234-3500"
        ],
        [
         "(88) 3111-1661"
        ],
        [
         "(24) 2235-5813"
        ],
        [
         "(34) 3351-1022"
        ],
        [
         "(81) 3320-6068"
        ],
        [
         "(31) 3551-4736"
        ],
        [
         "(79) 4102-0344"
        ],
        [
         "(84) 99229-6575"
        ],
        [
         "(51) 3295-8669"
        ],
        [
         "(84) 3317-5183"
        ],
        [
         "(65) 3313-3335"
        ],
        [
         "(47) 3387-2613"
        ],
        [
         "(83) 3228-3959"
        ],
        [
         "(61) 3348-7424"
        ],
        [
         "(33) 3323-1200"
        ],
        [
         "(51) 3228-6012"
        ],
        [
         "(41) 3321-4743"
        ],
        [
         "(41) 3322-9480"
        ],
        [
         "(21) 3331-0025"
        ],
        [
         "(71) 3117-6987"
        ],
        [
         "(11) 5576-4258"
        ],
        [
         "(31) 3829-8365"
        ],
        [
         "(88) 3611-6725"
        ],
        [
         "(31) 3409-2451"
        ],
        [
         "(11) 4642-5076"
        ],
        [
         "(81) 99444-6655"
        ],
        [
         "(11) 4524-1264"
        ],
        [
         "(41) 3335-2112"
        ],
        [
         "(68) 3221-1933"
        ],
        [
         "(11) 5575-5425"
        ],
        [
         "(73) 3205 1124 / (73) 3205-1133 / (73) 3205-1168"
        ],
        [
         "(87) "
        ],
        [
         "(31) 3516-7200"
        ],
        [
         "(11) 3061-7542"
        ],
        [
         "(33) 3511-1236"
        ],
        [
         "(46) 3220-6026"
        ],
        [
         "(44) 3311-1177"
        ],
        [
         "(35) 3429-6511"
        ],
        [
         "(21) 2589-8773"
        ],
        [
         "(34) 3354-1310"
        ],
        [
         "(81) 3224-8351"
        ],
        [
         "(44) 3906-1120"
        ],
        [
         "(22) 2655-6000"
        ],
        [
         "(21) 2254-4320"
        ],
        [
         "(44) 3029-9674"
        ],
        [
         "(19) 3821-7032"
        ],
        [
         "(82) 3214-1283"
        ],
        [
         "(82) 3315-7869"
        ],
        [
         "(49) 3321-8593"
        ],
        [
         "(31) 3832-1616"
        ],
        [
         "(53) 3261-1746"
        ],
        [
         "(19) 3584-5974"
        ],
        [
         "(88) 3565-0338"
        ],
        [
         "(82) 9657-5789"
        ],
        [
         "(11) 2627-9525"
        ],
        [
         "(92) 3305-1181"
        ],
        [
         "(81) 3621-8208"
        ],
        [
         "(31) 3612-2048"
        ],
        [
         "(31) 3829-8349"
        ],
        [
         "(62) 3201-4933"
        ],
        [
         "(53) 2128-8289"
        ],
        [
         "(19) 3582-1807"
        ],
        [
         "(13) 3261-5260"
        ],
        [
         "(61) 3348-8000"
        ],
        [
         "(67) 3907-5960"
        ],
        [
         "(37) 3553-1200"
        ],
        [
         "(21) 3805-2003"
        ],
        [
         "(11) 2193-8282"
        ],
        [
         "(55) 3312-7193"
        ],
        [
         "(19) 3231-3387"
        ],
        [
         "(19) 3641-6199"
        ],
        [
         "(21) 3902-8575"
        ],
        [
         "(51) 3308-6710"
        ],
        [
         "(47) 3433-3811"
        ],
        [
         "(61) 3316-3525"
        ],
        [
         "(81) 3268-2211"
        ],
        [
         "(31) 3261-3992"
        ],
        [
         "(77) 3421-4271"
        ],
        [
         "(47) 3399-2074"
        ],
        [
         "(31) 3718-7120"
        ],
        [
         "(61) 3445-7000"
        ],
        [
         "(13) 3261-4808"
        ],
        [
         "(19) 3526-4243"
        ],
        [
         "(37) 3381-2569"
        ],
        [
         "(45) 3284-8760"
        ],
        [
         "(17) 3324-4255"
        ],
        [
         "(21) 2589-9581"
        ],
        [
         "(81) 3524-9077"
        ],
        [
         "(51) 3547-1351"
        ],
        [
         "(54) 3291-1262"
        ],
        [
         "(66) 3478-1212"
        ],
        [
         "(71) 3369-2813"
        ],
        [
         "(22) 2758-6829"
        ],
        [
         "(31) 3731-3133"
        ],
        [
         "(27) 99780-1627"
        ],
        [
         "(63) 3538-1264"
        ],
        [
         "(62) 3371-1667"
        ],
        [
         "(31) 3499-4312"
        ],
        [
         "(67) 8408-1476"
        ],
        [
         "(27) 3381-3521"
        ],
        [
         "(47) 98828-0262"
        ],
        [
         "(21) 2178-9211"
        ],
        [
         "(82) 3326-1604"
        ],
        [
         "(11) 4412-7186"
        ],
        [
         "(61) 3303-4029"
        ],
        [
         "(62) 3331-1166"
        ],
        [
         "(83) 3220-1138"
        ],
        [
         "(13) 3821-4130"
        ],
        [
         "(62) 3524-2370"
        ],
        [
         "(71) 3363-4054"
        ],
        [
         "(51) 3210-5623"
        ],
        [
         "(16) 3244-4065"
        ],
        [
         "(51) 3772-2227"
        ],
        [
         "(48) 3229-6960"
        ],
        [
         "(22) 2622-1650"
        ],
        [
         "(11) 4798-5085"
        ],
        [
         "(18) 3637-3354"
        ],
        [
         "(83) 3322-8699"
        ],
        [
         "(85) 3341-0407"
        ],
        [
         "(42) 3446-3327"
        ],
        [
         "(22) 2785-1147"
        ],
        [
         "(42) 3237-1628"
        ],
        [
         "(31) 3557-1149"
        ],
        [
         "(81) 99846-5048"
        ],
        [
         "(47) 3644-5513"
        ],
        [
         "(31) 3409-6841"
        ],
        [
         "(12) 3662-1832"
        ],
        [
         "(32) 3422-5599"
        ],
        [
         "(51) 3741-5713"
        ],
        [
         "(21) 3514-5200"
        ],
        [
         "(51) 3627-4377"
        ],
        [
         "(11) 3673-1883"
        ],
        [
         "(21) 2127-0324"
        ],
        [
         "(28) 3542-0394"
        ],
        [
         "(49) 3664-1215"
        ],
        [
         "(88) 3512-2855"
        ],
        [
         "(11) 3872-6358"
        ],
        [
         "(14) 3882-0133"
        ],
        [
         "(41) 3622-6906"
        ],
        [
         "(75) 3425-3178"
        ],
        [
         "(47) 3387-2072"
        ],
        [
         "(81) 3183-2367"
        ],
        [
         "(19) 3886-3528"
        ],
        [
         "(81) 3181-1141"
        ],
        [
         "(64) 3461-5504"
        ],
        [
         "(51) 3656-1211"
        ],
        [
         "(48) 3209-8010"
        ],
        [
         "(51) 3662-1046"
        ],
        [
         "(92) 3361-2123"
        ],
        [
         "(84) 3654-5646"
        ],
        [
         "(32) 3729-7094"
        ],
        [
         "(21) 2544-4777"
        ],
        [
         "(61) 3319-8021"
        ],
        [
         "(55) 3511-7660"
        ],
        [
         "(41) 3234-7314"
        ],
        [
         "(42) 3234-1231"
        ],
        [
         "(91) 3276-2778"
        ],
        [
         "(61) 3317-2454"
        ],
        [
         "(47) 3531-6000"
        ],
        [
         "(54) 3362-1122"
        ],
        [
         "(51) 3288-2400"
        ],
        [
         "(67) 3291-0200"
        ],
        [
         "(14) 98122-1278"
        ],
        [
         "(34) 3332-9409"
        ],
        [
         "(98) 3218-9920"
        ],
        [
         "(32) 3751-2119"
        ],
        [
         "(48) 3445-8840"
        ],
        [
         "(43) 3525-1678"
        ],
        [
         "(61) 3244-1156"
        ],
        [
         "(51) 3724-6017"
        ],
        [
         "(27) 3132-5295"
        ],
        [
         "(21) 2582-0140"
        ],
        [
         "(11) 4521-6259"
        ],
        [
         "(49) 3444-0314"
        ],
        [
         "(92) 3312-1154"
        ],
        [
         "(44) 3025-1666"
        ],
        [
         "(55) 3524-1822"
        ],
        [
         "(89) 3582-1612"
        ],
        [
         "(71) 3117-6928"
        ],
        [
         "(21) 3865-2124"
        ],
        [
         "(21) 2555-3785"
        ],
        [
         "(67) 3466-2807"
        ],
        [
         "(41) 3329-2801"
        ],
        [
         "(61) 3414-2093"
        ],
        [
         "(22) 2543-2191"
        ],
        [
         "(47) 3274-8024"
        ],
        [
         "(42) 9981-2789"
        ],
        [
         "(68) 3322-6720"
        ],
        [
         "(34) 3316-9886"
        ],
        [
         "(43) 3524-2597"
        ],
        [
         "(55) 3272-1811"
        ],
        [
         "(88) 9711-0410"
        ],
        [
         "(22) 2561-1192"
        ],
        [
         "(16) 3258-1138"
        ],
        [
         "(84) 3394-0225"
        ],
        [
         "(82) 3597-8558"
        ],
        [
         "(64) 3632-4049"
        ],
        [
         "(88) 3411-0017"
        ],
        [
         "(51) 3308-6785"
        ],
        [
         "(27) 3636-2522"
        ],
        [
         "(24) 3351-1374"
        ],
        [
         "(31) 3072-7401"
        ],
        [
         "(15) 3211-0143"
        ],
        [
         "(31) 98722-8487"
        ],
        [
         "(21) 97532-4428"
        ],
        [
         "(32) 3212-7658"
        ],
        [
         "(61) 3362-4164"
        ],
        [
         "(34) 3261-1212"
        ],
        [
         "(69) 3214-7443"
        ],
        [
         "(54) 3281-1254"
        ],
        [
         "(44) 3243-1568"
        ],
        [
         "(49) 3632-1680"
        ],
        [
         "(12) 3921-7587"
        ],
        [
         "(16) 3633-1986"
        ],
        [
         "(17) 3522-4321"
        ],
        [
         "(41) 3028-5807"
        ],
        [
         "(34) 3224-6932"
        ],
        [
         "(81) 3425-1900"
        ],
        [
         "(32) 3264-1185"
        ],
        [
         "(11) 4798-6900"
        ],
        [
         "(61) 2104-4600"
        ],
        [
         "(35) 3432-1588"
        ],
        [
         "(21)97165-8655"
        ],
        [
         "(98) 3221-3724"
        ],
        [
         "(16) 3664-4284"
        ],
        [
         "(43) 3344-1145"
        ],
        [
         "(44) 3621-2828"
        ],
        [
         "(37) 3234-2308"
        ],
        [
         "(53) 3255-1773"
        ],
        [
         "(54) 3385-2323"
        ],
        [
         "(98) 3232-8897"
        ],
        [
         "(28) 3543-1422"
        ],
        [
         "(62) 3459-0014"
        ],
        [
         "(15) 3552-4139"
        ],
        [
         "(11) 3337-2916"
        ],
        [
         "(67) 3669-0040"
        ],
        [
         "(11) 2899-7379"
        ],
        [
         "(32) 3690-7245"
        ],
        [
         "(11) 3091-7545"
        ],
        [
         "(55) 3312-0184"
        ],
        [
         "(51) 3225-0793"
        ],
        [
         "(61) 3245-1070"
        ],
        [
         "(51) 3476-8690"
        ],
        [
         "(21) 2224-2900"
        ],
        [
         "(51) 3229-2098"
        ],
        [
         "(65) 3617-1238"
        ],
        [
         "(54) 3282-1121"
        ],
        [
         "(35) 3295-6757"
        ],
        [
         "(84) 3351-3148"
        ],
        [
         "(62) 3212-9528"
        ],
        [
         "(21) 2237-5234"
        ],
        [
         "(85) 3323-1156"
        ],
        [
         "(38) 3423-2670"
        ],
        [
         "(84) 3202-1497"
        ],
        [
         "(61) 3034-9800"
        ],
        [
         "(54) 3329-6439"
        ],
        [
         "(71) 3283-6715"
        ],
        [
         "(65) 3901-8290"
        ],
        [
         "(11) 2223-2355"
        ],
        [
         "(49) 3674-1144"
        ],
        [
         "(68) 3224-5668"
        ],
        [
         "(61) 3325-5220"
        ],
        [
         "(13) 3257-4099"
        ],
        [
         "(71) 2203-4023"
        ],
        [
         "(24) 3387-1378"
        ],
        [
         "(47) 3393-7112"
        ],
        [
         "(73) 8133-2526"
        ],
        [
         "(61) 3043-3355"
        ],
        [
         "(46) 3563-2257"
        ],
        [
         "(83) 3310-9738"
        ],
        [
         "(21) 98495-2488"
        ],
        [
         "(84) 98188-8933"
        ],
        [
         "(41) 3321-3265"
        ],
        [
         "(11) 5579-8542"
        ],
        [
         "(24) 3360-6155"
        ],
        [
         "(31) 2512-5194"
        ],
        [
         "(34) 3239-4229"
        ],
        [
         "(35) 3571-3145"
        ],
        [
         "(82) 3317-6693"
        ],
        [
         "(81) 3619-1365"
        ],
        [
         "(31) 3551-1444"
        ],
        [
         "(38) 3238-1110"
        ],
        [
         "(31) 3557-2581"
        ],
        [
         "(83) 2101-1320"
        ],
        [
         "(21) 3938-1997"
        ],
        [
         "(19) 3202-1812"
        ],
        [
         "(94) 3321-2355"
        ],
        [
         "(21) 2159-0111"
        ],
        [
         "(38) 3614-1528"
        ],
        [
         "(54) 3286-3775"
        ],
        [
         "(55) 3742-1257"
        ],
        [
         "(22) 2796-7850"
        ],
        [
         "(71) 3421-4200"
        ],
        [
         "(49) 3452-1191"
        ],
        [
         "(44) 3447-1122"
        ],
        [
         "(16) 3749-1009"
        ],
        [
         "(11) 99184-9136"
        ],
        [
         "(83) 3221-8741"
        ],
        [
         "(31) 3248-8600"
        ],
        [
         "(13) 3221-8595"
        ],
        [
         "(81) 3527-4025"
        ],
        [
         "(83) 9969-0801"
        ],
        [
         "(12) 3686-4864"
        ],
        [
         "(11) 2155-3308"
        ],
        [
         "(67) 3326-1370"
        ],
        [
         "(81) 3355-6870"
        ],
        [
         "(71) 3331-9231"
        ],
        [
         "(98) 3301-7758"
        ],
        [
         "(53) 3226-1047"
        ],
        [
         "(16) 3942-7223"
        ],
        [
         "(12) 3104-3536"
        ],
        [
         "(46) 3523-6347"
        ],
        [
         "(14) 3491-2333"
        ],
        [
         "(61) 8133-8588"
        ],
        [
         "(45) 3541-1690"
        ],
        [
         "(41) 3256-6491"
        ],
        [
         "(55) 3254-1659"
        ],
        [
         "(27) 3320-1502"
        ],
        [
         "(96) 3241-6011"
        ],
        [
         "(84) 3216-6470"
        ],
        [
         "(19) 3805-4730"
        ],
        [
         "(47) 3321-3340"
        ],
        [
         "(81) 99750-3564"
        ],
        [
         "(94) 3331-1734"
        ],
        [
         "(21) 2705-3929"
        ],
        [
         "(21) 2332-5515"
        ],
        [
         "(44) 3027-6360"
        ],
        [
         "(84) 3201-3985"
        ],
        [
         "(32) 3283-1020"
        ],
        [
         "(15) 3285-3338"
        ],
        [
         "(83) 3218-9707"
        ],
        [
         "(51) 3762-7775"
        ],
        [
         "(66) 3419-3383"
        ],
        [
         "(51) 3272-3800"
        ],
        [
         "(87) 98822-8581"
        ],
        [
         "(21) 99462-1415"
        ],
        [
         "(73) 98883-1178"
        ],
        [
         "(41) 3674-1408"
        ],
        [
         "(11) 4033-7566"
        ],
        [
         "(47) 3396-0296"
        ],
        [
         "(44) 3224-1752"
        ],
        [
         "(13) 3455-9426"
        ],
        [
         "(19) 3932-4062"
        ],
        [
         "(31) 3409-2776"
        ],
        [
         "(12) 3833-7000"
        ],
        [
         "(85) 3366-7481"
        ],
        [
         "(71) 3264-3296"
        ],
        [
         "(16) 3839-1147"
        ],
        [
         "(31) 3772-9987"
        ],
        [
         "(71) 8122-6074"
        ],
        [
         "(41) 3335-1440"
        ],
        [
         "(81) 3658-1630"
        ],
        [
         "(51) 3217-3487"
        ],
        [
         "(11) 3743-3875"
        ],
        [
         "(62) 3702-9511"
        ],
        [
         "(22) 2651-9178"
        ],
        [
         "(21) 2245-3616"
        ],
        [
         "(88) 99271-0838"
        ],
        [
         "(82) 3355-1179"
        ],
        [
         "(67) 3410-2207"
        ],
        [
         "(45) 3565-8159"
        ],
        [
         "(38) 3228-1378"
        ],
        [
         "(43) 3256-1449"
        ],
        [
         "(51) 3314-3310"
        ],
        [
         "(12) 3921-4112"
        ],
        [
         "(86) 3223-6622"
        ],
        [
         "(77) 3414-2113"
        ],
        [
         "(82) 3265-3043"
        ],
        [
         "(53) 3231-1678"
        ],
        [
         "(84) 3405-2737"
        ],
        [
         "(73) 98863-0048"
        ],
        [
         "(47) 3626-6734"
        ],
        [
         "(47) 3633-5924"
        ],
        [
         "(31) 3277-7946"
        ],
        [
         "(54) 3221-2423"
        ],
        [
         "(11) 4704-3278"
        ],
        [
         "(24) 2242-6564"
        ],
        [
         "(22) 2643-0562"
        ],
        [
         "(48) 3027-7008"
        ],
        [
         "(21) 3766-6729"
        ],
        [
         "(54) 3261-6914"
        ],
        [
         "(31) 3714-6227"
        ],
        [
         "(43) 3536-2102"
        ],
        [
         "(12) 3621-6044"
        ],
        [
         "(22) 9982-6037"
        ],
        [
         "(31) 3274-3869"
        ],
        [
         "(11) 4449-5545"
        ],
        [
         "(42) 3446-1228"
        ],
        [
         "(42) 3915-1020"
        ],
        [
         "(17) 3261-2329"
        ],
        [
         "(91) 3758-1102"
        ],
        [
         "(54) 3421-0800"
        ],
        [
         "(91) 3267-1444"
        ],
        [
         "(42) 3228-1539"
        ],
        [
         "(83) 3218-9710"
        ],
        [
         "(85) 3401-2361"
        ],
        [
         "(51) 3213-3884"
        ],
        [
         "(33) 3315-1511"
        ],
        [
         "(81) 3728-3676"
        ],
        [
         "(14) 3282-8289"
        ],
        [
         "(35) 3835-2213"
        ],
        [
         "(82) 3625-1260"
        ],
        [
         "(11) 3091-7360"
        ],
        [
         "(71) 3017-6722"
        ],
        [
         "(14) 3351-3622"
        ],
        [
         "(19) 3124-1889"
        ],
        [
         "(21) 2410-3000"
        ],
        [
         "(88) 3437-2115"
        ],
        [
         "(54) 3449-2234"
        ],
        [
         "(11) 2231-8555"
        ],
        [
         "(31) 3431-9400"
        ],
        [
         "(11) 5080-7300"
        ],
        [
         "(41) 3304-7938"
        ],
        [
         "(49) 3346-3242"
        ],
        [
         "(66) 3451-1349"
        ],
        [
         "(85) 3453-3874"
        ],
        [
         "(61) 3272-3627"
        ],
        [
         "(67) 9244-9266"
        ],
        [
         "(66) 3566-1800"
        ],
        [
         "(85) 3366-7414"
        ],
        [
         "(13) 3847-7000"
        ],
        [
         "(51) 3320-2016"
        ],
        [
         "(47) 98811-3263"
        ],
        [
         "(85) 9171-9490"
        ],
        [
         "(51) 3565-1309"
        ],
        [
         "(11) 6251-2744"
        ],
        [
         "(21) 2588-1186"
        ],
        [
         "(61) 3340-1600"
        ],
        [
         "(12) 3922-0004"
        ],
        [
         "(53) 3251-9573"
        ],
        [
         "(86) 3221-6969"
        ],
        [
         "(44) 3272-1352"
        ],
        [
         "(41) 3622-3524"
        ],
        [
         "(19) 3432-8063"
        ],
        [
         "(88) 3628-2341"
        ],
        [
         "(71) 3322-2552"
        ],
        [
         "(87) 3822-1255"
        ],
        [
         "(88) 3611-2712"
        ],
        [
         "(24) 2453-4042"
        ],
        [
         "(67) 3255-4758"
        ],
        [
         "(54) 3298-8092"
        ],
        [
         "(41) 3901-5037"
        ],
        [
         "(47) 3563-0271"
        ],
        [
         "(14) 3641-2888"
        ],
        [
         "(47) 3533-3732"
        ],
        [
         "(21) 3980-3815"
        ],
        [
         "(71) 3333-1919"
        ],
        [
         "(11) 4798-6902"
        ],
        [
         "(12) 3971-1255"
        ],
        [
         "(21) 2976-1245"
        ],
        [
         "(21) 2717-1000"
        ],
        [
         "(41) 3628-1363"
        ],
        [
         "(35) 3561-2020"
        ],
        [
         "(15) 3251-4969"
        ],
        [
         "(51) 3401-1133"
        ],
        [
         "(21) 3358-0809"
        ],
        [
         "(81) 2126-7387"
        ],
        [
         "(21) 2668-7950"
        ],
        [
         "(63) 3534-1072"
        ],
        [
         "(83) 3431-2229"
        ],
        [
         "(21) 2506-7600"
        ],
        [
         "(11) 3091-2352"
        ],
        [
         "(32) 3212-2078"
        ],
        [
         "(53) 3921-6615"
        ],
        [
         "(71) 3401-7804"
        ],
        [
         "(81) 3194-9554"
        ],
        [
         "(82) 3522-2620"
        ],
        [
         "(00) 0000-0000"
        ],
        [
         "(32) 3690-7055"
        ],
        [
         "(11) 3016-4231"
        ],
        [
         "(35) 3226-1349"
        ],
        [
         "(43) 3255-5516"
        ],
        [
         "(16) 3373-9162"
        ],
        [
         "(41) 3331-8090"
        ],
        [
         "(83) 3216-7070"
        ],
        [
         "(24) 2243-6259"
        ],
        [
         "(17) 3202-2310"
        ],
        [
         "(11) 3224-1472"
        ],
        [
         "(41) 2105-0256"
        ],
        [
         "(37) 3351-3125"
        ],
        [
         "(92) 2123-5246"
        ],
        [
         "(64) 3651-8840"
        ],
        [
         "(18) 3624-5581"
        ],
        [
         "(67) 3596-1301"
        ],
        [
         "(11) 3091-6587"
        ],
        [
         "(83) 3367-1476"
        ],
        [
         "(81) 3184-3197"
        ],
        [
         "(21) 3782-9000"
        ],
        [
         "(51) 3638-1221"
        ],
        [
         "(53) 3275-7268"
        ],
        [
         "(11) 4242-5993"
        ],
        [
         "(81) 3184-3159"
        ],
        [
         "(18) 3652-7715"
        ],
        [
         "(51) 3247-8000"
        ],
        [
         "(69) 8428-1281"
        ],
        [
         "(81) 99166-2914"
        ],
        [
         "(41) 3200-2000"
        ],
        [
         "(88) 3686-1023"
        ],
        [
         "(12) 3924-7318"
        ],
        [
         "(21) 3826-4325"
        ],
        [
         "(35) 3271-4100"
        ],
        [
         "(82) 3273-1824"
        ],
        [
         "(77) 3473-1430"
        ],
        [
         "(21) 2204-0599"
        ],
        [
         "(31) 3837-7619"
        ],
        [
         "(35) 3473-1071"
        ],
        [
         "(19) 2515-7095"
        ],
        [
         "(61) 3105-5100"
        ],
        [
         "(85) 3352-1235"
        ],
        [
         "(51) 3224-7159"
        ],
        [
         "(71) 3241-8135"
        ],
        [
         "(92) 3542-1520"
        ],
        [
         "(88) 9859-9951"
        ],
        [
         "(35) 3729-0008"
        ],
        [
         "(81) 3184-3153"
        ],
        [
         "(83) 3221-0779"
        ],
        [
         "(77) 3441-2587"
        ],
        [
         "(85) 98694-6340"
        ],
        [
         "(31) 3833-9213"
        ],
        [
         "(14) 9965-7964"
        ],
        [
         "(27) 98119-9292"
        ],
        [
         "(18) 3636-1270"
        ],
        [
         "(19) 3665-6023"
        ],
        [
         "(27) 3251-5874"
        ],
        [
         "(81) 3181-9440"
        ],
        [
         "(17) 3232-9426"
        ],
        [
         "(79) 3281-1332"
        ],
        [
         "(19) 3892-4937"
        ],
        [
         "(21) 2126-5053"
        ],
        [
         "(79) 3522-3046"
        ],
        [
         "(41) 3442-2766"
        ],
        [
         "(55) 3282-2234"
        ],
        [
         "(81) 3355-9540"
        ],
        [
         "(51) 3029-2900"
        ],
        [
         "(48) 3431-0153"
        ],
        [
         "(54) 3343-2099"
        ],
        [
         "(35) 3454-1000"
        ],
        [
         "(37) 3431-4986"
        ],
        [
         "(67) 3474-1681"
        ],
        [
         "(21) 3111-7467"
        ],
        [
         "(61) 3361-6810"
        ],
        [
         "(35) 3346-1260"
        ],
        [
         "(27) 3132-8393"
        ],
        [
         "(87) 3838-1221"
        ],
        [
         "(11) 3670-8559"
        ],
        [
         "(51) 3594-3022"
        ],
        [
         "(21) 2644-7076"
        ],
        [
         "(31) 99924-9601"
        ],
        [
         "(24) 3371-2800"
        ],
        [
         "(42) 3916-2191"
        ],
        [
         "(11) 3091-4223"
        ],
        [
         "(11) 2715-4608"
        ],
        [
         "(35) 3346-1022"
        ],
        [
         "(21) 3938-7723"
        ],
        [
         "(64) 3433-0314"
        ],
        [
         "(81) 3184-3165"
        ],
        [
         "(41) 3656-8639"
        ],
        [
         "(34) 99257-0870"
        ],
        [
         "(18) 3322-7015"
        ],
        [
         "(11) 3091-1309"
        ],
        [
         "(84) 3232-5356"
        ],
        [
         "(14) 3372-8302"
        ],
        [
         "(71) 3525-7142"
        ],
        [
         "(45) 3902-1445"
        ],
        [
         "(61) 3313-9223"
        ],
        [
         "(12) 98179-8749"
        ],
        [
         "(51) 3485-1173"
        ],
        [
         "(98) 3218-9953"
        ],
        [
         "(67) 3453-1455"
        ],
        [
         "(11) 3065-2000"
        ],
        [
         "(67) 3291-2716"
        ],
        [
         "(53) 3284-4319"
        ],
        [
         "(41) 3321-3313"
        ],
        [
         "(64) 3661-0005"
        ],
        [
         "(61) 3338-8694"
        ],
        [
         "(87) 99642-0735"
        ],
        [
         "(86) 99936-7258"
        ],
        [
         "(32) 3371-7663"
        ],
        [
         "(11) 3255-4990"
        ],
        [
         "(71) 3322-7355"
        ],
        [
         "(81) 3341-1932"
        ],
        [
         "(42) 3225-2757"
        ],
        [
         "(21) 2551-9242"
        ],
        [
         "(88) 9282-8976"
        ],
        [
         "(65) 3688-3000"
        ],
        [
         "(54) 3378-1053"
        ],
        [
         "(51) 3222-9580"
        ],
        [
         "(48) 3235-1076"
        ],
        [
         "(12) 3625-5058"
        ],
        [
         "(34) 3230-9517"
        ],
        [
         "(33) 99962-5433"
        ],
        [
         "(79) 99899-7192"
        ],
        [
         "(24) 2485-1475"
        ],
        [
         "(19) 3492-2722"
        ],
        [
         "(88) 99765-0038"
        ],
        [
         "(11) 4798-6914"
        ],
        [
         "(14) 3264-1442"
        ],
        [
         "(49) 3677-0423"
        ],
        [
         "(54) 3242-8230"
        ],
        [
         "(24) 2247-3715"
        ],
        [
         "(65) 3623-4965"
        ],
        [
         "(41) 3351-3024"
        ],
        [
         "(55) 3281-3936"
        ],
        [
         "(32) 3355-1552"
        ],
        [
         "(88) 99605-3311"
        ],
        [
         "(21) 2544-2374"
        ],
        [
         "(83) 99890-8685"
        ],
        [
         "(94) 2101-5908"
        ],
        [
         "(38) 3671-4797"
        ],
        [
         "(21) 3002-4284"
        ],
        [
         "(47) 3521-7702"
        ],
        [
         "(38) 3531-1382"
        ],
        [
         "(51) 3564-8812"
        ],
        [
         "(48) 3878-3956"
        ],
        [
         "(54) 3286-5100"
        ],
        [
         "(24) 2453-3033"
        ],
        [
         "(19) 3867-4221"
        ],
        [
         "(71) 3312-4512"
        ],
        [
         "(32) 3251-5000"
        ],
        [
         "(84) 99971-5578"
        ],
        [
         "(72) 3624-1921"
        ],
        [
         "(35) 3281-1962"
        ],
        [
         "(51) 3289-3735"
        ],
        [
         "(38) 3229-8087"
        ],
        [
         "(31) 3277-8573"
        ],
        [
         "(49) 3367-0030"
        ],
        [
         "(67) 3255-4646"
        ],
        [
         "(82) 3643-1161"
        ],
        [
         "(92) 3622-1260"
        ],
        [
         "(45) 9962-4097"
        ],
        [
         "(55) 3232-5297"
        ],
        [
         "(19) 3408-8034"
        ],
        [
         "(11) 2215-6900"
        ],
        [
         "(11) 4747-4180"
        ],
        [
         "(24) 2453-1645"
        ],
        [
         "(62) 3567-4594"
        ],
        [
         "(62) 3505-1783"
        ],
        [
         "(61) 3314-5347"
        ],
        [
         "(41) 3582-2102"
        ],
        [
         "(21) 2334-4293"
        ],
        [
         "(54) 3316-8587"
        ],
        [
         "(61) 3207-5481"
        ],
        [
         "(11) 3068-2854"
        ],
        [
         "(68) 3223-9939"
        ],
        [
         "(21) 2334-0939"
        ],
        [
         "(54) 3285-2161"
        ],
        [
         "(84) 4005-2600"
        ],
        [
         "(61) 99204-4525"
        ],
        [
         "(21) 2295-7596"
        ],
        [
         "(11) 3091-3677"
        ],
        [
         "(48) 3621-9083"
        ],
        [
         "(48) 3622-5910"
        ],
        [
         "(21) 2252-4430"
        ],
        [
         "(27) 3288-3085"
        ],
        [
         "(19) 3526-2809"
        ],
        [
         "(51) 3311-5156"
        ],
        [
         "(45) 3029-1535"
        ],
        [
         "(49) 3195-2030"
        ],
        [
         "(24) 3371-8328"
        ],
        [
         "(53) 3222-4385"
        ],
        [
         "(31) 3835-2102"
        ],
        [
         "(31) 98416-2312"
        ],
        [
         "(41) 3643-2954"
        ],
        [
         "(19) 3524-5700"
        ],
        [
         "(51) 3288-2940"
        ],
        [
         "(16) 3133-1340"
        ],
        [
         "(28) 99999-0639"
        ],
        [
         "(83) 3218-4167"
        ],
        [
         "(51) 3743-1201"
        ],
        [
         "(49) 99936-0280"
        ],
        [
         "(48) 3235-1566"
        ],
        [
         "(19) 3834-9400"
        ],
        [
         "(31) 98607-6883"
        ],
        [
         "(47) 3382-9458"
        ],
        [
         "(88) 98114-2660"
        ],
        [
         "(71) 3103-3947"
        ],
        [
         "(34) 3336-5967"
        ],
        [
         "(11) 4018-4349"
        ],
        [
         "(31) 3689-8592"
        ],
        [
         "(35) 3722-4456"
        ],
        [
         "(18) 3265-7704"
        ],
        [
         "(88) 3521-1110"
        ],
        [
         "(34) 3225-8543"
        ],
        [
         "(21) 3698-6680"
        ],
        [
         "(35) 3690-2716"
        ],
        [
         "(16) 3610-8679"
        ],
        [
         "(21) 2240-2869"
        ],
        [
         "(89) 99475-9075"
        ],
        [
         "(17) 99676-0560"
        ],
        [
         "(43) 3357-9273"
        ],
        [
         "(61) 3190-6903"
        ],
        [
         "(38) 3221-9404"
        ],
        [
         "(31) 3409-6079"
        ],
        [
         "(12) 3921-7226"
        ],
        [
         "(68) 3224-2503"
        ],
        [
         "(55) 3271-1015"
        ],
        [
         "(14) 3406-1971"
        ],
        [
         "(13) 3851-1108"
        ],
        [
         "(55) 3220-9306"
        ],
        [
         "(44) 3676-4754"
        ],
        [
         "(55) 9619-8428"
        ],
        [
         "(55) 3375-0310"
        ],
        [
         "(84) 3271-6524"
        ],
        [
         "(48) 3463-8100"
        ],
        [
         "(32) 3799-8033"
        ],
        [
         "(61) 3323-6658"
        ],
        [
         "(35) 3431-6086"
        ],
        [
         "(77) 3454-1227"
        ],
        [
         "(51) 3632-4564"
        ],
        [
         "(27) 3225-3787"
        ],
        [
         "(11) 3044-0000"
        ],
        [
         "(19) 3257-1076"
        ],
        [
         "(88) 98857-2611"
        ],
        [
         "(32) 98452-9330"
        ],
        [
         "(84) 3232-4956"
        ],
        [
         "(54) 3311-4411"
        ],
        [
         "(15) 3220-5511"
        ],
        [
         "(88) 3424-4333"
        ],
        [
         "(31) 3532-2911"
        ],
        [
         "(21) 2653-7681"
        ],
        [
         "(51) 3696-1124"
        ],
        [
         "(83) 3222-0513"
        ],
        [
         "(84) 9406-9454"
        ],
        [
         "(11) 3645-0516"
        ],
        [
         "(41) 3018-6194"
        ],
        [
         "(22) 2537-1245"
        ],
        [
         "(54) 3443-5470"
        ],
        [
         "(68) 3901-2531"
        ],
        [
         "(88) 3411-0509"
        ],
        [
         "(54) 3322-1099"
        ],
        [
         "(51) 3287-5500"
        ],
        [
         "(61) 3030-9285"
        ],
        [
         "(98) 3232-7884"
        ],
        [
         "(82) 9940-0389"
        ],
        [
         "(75) 98807-4138"
        ],
        [
         "(19) 3234-1295"
        ],
        [
         "(55) 3365-1000"
        ],
        [
         "(19) 3422-3069"
        ],
        [
         "(48) 3659-0145"
        ],
        [
         "(75) 3275-1070"
        ],
        [
         "(43) 3145-1182"
        ],
        [
         "(51) 3336-5600"
        ],
        [
         "(84) 3232-8149"
        ],
        [
         "(71) 3310-1115"
        ],
        [
         "(18) 3652-7034"
        ],
        [
         "(73) 3662-5026"
        ],
        [
         "(11) 5067-6220"
        ],
        [
         "(85) 8605-0137"
        ],
        [
         "(22) 99209-5020"
        ],
        [
         "(21) 3219-6262"
        ],
        [
         "(11) 2692-1866"
        ],
        [
         "(69) 99964-5133"
        ],
        [
         "(24) 3371-9654"
        ],
        [
         "(14) 3326-6244"
        ],
        [
         "(83) 9999-1018"
        ],
        [
         "(61) 35333800 (Ramal 239)"
        ],
        [
         "(61) 3906-3279"
        ],
        [
         "(42) 3220-3470"
        ],
        [
         "(92) 3232-3085"
        ],
        [
         "(65) 3615-8355"
        ],
        [
         "(31) 3839-2992"
        ],
        [
         "(11) 3871-6750"
        ],
        [
         "(31) 3589-1716"
        ],
        [
         "(53) 3243-3177"
        ],
        [
         "(51) 3751-3400"
        ],
        [
         "(24) 2438-0124"
        ],
        [
         "(55) 3221-4648"
        ],
        [
         "(45) 3902-1370"
        ],
        [
         "(81) 98803-4169"
        ],
        [
         "(34) 3813-0108"
        ],
        [
         "(13) 3299-5471"
        ],
        [
         "(83) 3310-6808"
        ],
        [
         "(47) 3481-2155"
        ],
        [
         "(38) 3614-1408"
        ],
        [
         "(34) 3355-2000"
        ],
        [
         "(22) 2741-7878"
        ],
        [
         "(77) 3614-3500"
        ],
        [
         "(41) 3422-8233"
        ],
        [
         "(41) 3643-7233"
        ],
        [
         "(15) 3231-1669"
        ],
        [
         "(31) 3296-6690"
        ],
        [
         "(14) 3252-2281"
        ],
        [
         "(41) 3310-2603"
        ],
        [
         "(84) 3472-3900"
        ],
        [
         "(55) 3430-3542"
        ],
        [
         "(71) 3283-5592"
        ],
        [
         "(47) 3338-6044"
        ],
        [
         "(98) 3082-7665"
        ],
        [
         "(32) 3215-2826"
        ],
        [
         "(16) 3262-2218"
        ],
        [
         "(21) 2629-5809"
        ],
        [
         "(53) 3252-9527"
        ],
        [
         "(22) 2765-1592"
        ],
        [
         "(48) 3721-4133"
        ],
        [
         "(81) 3443-1115"
        ],
        [
         "(14) 3769-1469"
        ],
        [
         "(15) 99786-4860"
        ],
        [
         "(34) 3233-2567"
        ],
        [
         "(84) 3521-6651"
        ],
        [
         "(61) 9970-2964"
        ],
        [
         "(32) 3229-7606"
        ],
        [
         "(38) 3521-1812"
        ],
        [
         "(53) 3284-4324"
        ],
        [
         "(54) 3286-3697"
        ],
        [
         "(11) 4422-2005"
        ],
        [
         "(41) 3310-7000"
        ],
        [
         "(35) 8813-4091"
        ],
        [
         "(41) 3320-3502"
        ],
        [
         "(22) 2768-1306"
        ],
        [
         "(21) 2333-7472"
        ],
        [
         "(68) 3612-2838"
        ],
        [
         "(16) 3720-4562"
        ],
        [
         "(12) 3674-4391"
        ],
        [
         "(34) 3248-1111"
        ],
        [
         "(31) 99125-3400"
        ],
        [
         "(55) 5325-1236"
        ],
        [
         "(71) 3283-5530"
        ],
        [
         "(11) 4084-1918"
        ],
        [
         "(11) 3180-3764"
        ],
        [
         "(21) 2245-3110"
        ],
        [
         "(81) 3721-4451"
        ],
        [
         "(62) 3201-4680"
        ],
        [
         "(44) 3448-1788"
        ],
        [
         "(98) 8102-1205"
        ],
        [
         "(21) 2332-6668"
        ],
        [
         "(19) 3841-2300"
        ],
        [
         "(21) 2222-1003"
        ],
        [
         "(55) 3422-5990"
        ],
        [
         "(68) 3223-1202"
        ],
        [
         "(81) 3563-9075"
        ],
        [
         "(11) 99752-0262"
        ],
        [
         "(98) 3221-5832"
        ],
        [
         "(21) 2457-2000"
        ],
        [
         "(55) 3381-1291"
        ],
        [
         "(73) 8838-8105"
        ],
        [
         "(69) 3441-1192"
        ],
        [
         "(55) 3242-1383"
        ],
        [
         "(21) 2274-0046"
        ],
        [
         "(48) 3276-1775"
        ],
        [
         "(16) 3722-5004"
        ],
        [
         "(47) 2106-8719"
        ],
        [
         "(79) 3301-9100"
        ],
        [
         "(75) 3425-8380"
        ],
        [
         "(19) 3429-4305"
        ],
        [
         "(32) 3214-4161"
        ],
        [
         "(81) 99959-9021"
        ],
        [
         "(99) 98508-3357"
        ],
        [
         "(21) 98743-0444"
        ],
        [
         "(13) 3213-1750"
        ],
        [
         "(48) 3624-1238"
        ],
        [
         "(14) 3653-1122"
        ],
        [
         "(24) 2249-1595"
        ],
        [
         "(35) 3531-7634"
        ],
        [
         "(71) 3324-9608"
        ],
        [
         "(62) 3438-2032"
        ],
        [
         "(41) 3240-1103"
        ],
        [
         "(83) 3218-5981"
        ],
        [
         "(43) 3371-4804"
        ],
        [
         "(41) 3381-5900"
        ],
        [
         "(41) 3662-1722"
        ],
        [
         "(33) 3721-1041"
        ],
        [
         "(91) 98123-3482"
        ],
        [
         "(55) 3312-8104"
        ],
        [
         "(83) 3216-1450"
        ],
        [
         "(11) 4792-2164"
        ],
        [
         "(67) 3295-3977"
        ],
        [
         "(81) 3183-5539"
        ],
        [
         "(73) 99932-2433"
        ],
        [
         "(19) 3879-2174"
        ],
        [
         "(34) 3338-1526"
        ],
        [
         "(11) 3333-5600"
        ],
        [
         "(61) 3035-7576"
        ],
        [
         "(41) 3313-5481"
        ],
        [
         "(69) 3224-7484"
        ],
        [
         "(34) 3356-8063"
        ],
        [
         "(87) 2101-4821"
        ],
        [
         "(47) 3387-2659"
        ],
        [
         "(45) 3902-1394"
        ],
        [
         "(83) 3356-1117"
        ],
        [
         "(22) 9278-2970"
        ],
        [
         "(75) 3161-8769"
        ],
        [
         "(21) 2205-0655"
        ],
        [
         "(49) 3334-0256"
        ],
        [
         "(11) 3061-7249"
        ],
        [
         "(21) 2285-4299"
        ],
        [
         "(31) 3899-2093"
        ],
        [
         "(51) 3959-1020"
        ],
        [
         "(55) 3276-6145"
        ],
        [
         "(17) 3522-5715"
        ],
        [
         "(51) 3546-3257"
        ],
        [
         "(83) 3214-8303"
        ],
        [
         "(55) 3332-0257"
        ],
        [
         "(85) 3105-6112"
        ],
        [
         "(14) 3841-4900"
        ],
        [
         "(31) 3551-5155"
        ],
        [
         "(53) 3232-1900"
        ],
        [
         "(51) 3734-1602"
        ],
        [
         "(14) 3232-1552"
        ],
        [
         "(21) 99797-8674"
        ],
        [
         "(37) 99988-1818"
        ],
        [
         "(55) 3269-1155"
        ],
        [
         "(66) 3461-4556"
        ],
        [
         "(41) 3213-7500"
        ],
        [
         "(31) 99703-9388"
        ],
        [
         "(21) 3873-9450"
        ],
        [
         "(21) 3204-2504"
        ],
        [
         "(83) 3337-3637"
        ],
        [
         "(27) 3333-2484"
        ],
        [
         "(24) 9215-6979"
        ],
        [
         "(24) 3342-6450"
        ],
        [
         "(42) 99101-9098"
        ],
        [
         "(43) 3464-1920"
        ],
        [
         "(37) 3421-3068"
        ],
        [
         "(49) 3321-8509"
        ],
        [
         "(11) 94011-2408"
        ],
        [
         "(81) 3355-4720"
        ],
        [
         "(21) 3701-2994"
        ],
        [
         "(55) 3412-1633"
        ],
        [
         "(81) 2119-4144"
        ],
        [
         "(19) 3608-8888"
        ],
        [
         "(45) 3901-3383"
        ],
        [
         "(47) 3322-3099"
        ],
        [
         "(67) 3907-5143"
        ],
        [
         "(51) 3590-8409"
        ],
        [
         "(48) 3348-7370"
        ],
        [
         "(67) 3321-5751"
        ],
        [
         "(16) 3723-9141"
        ],
        [
         "(51) 3715-0496"
        ],
        [
         "(55) 3359-1732"
        ],
        [
         "(35) 3697-2197"
        ],
        [
         "(71) 3320-0100"
        ],
        [
         "(48) 3225-3896"
        ],
        [
         "(34) 3700-6423"
        ],
        [
         "(21) 2671-7797"
        ],
        [
         "(55) 3263-2518"
        ],
        [
         "(11) 3339-8078"
        ],
        [
         "(42) 3252-3362"
        ],
        [
         "(42) 3626-2426"
        ],
        [
         "(14) 3212-8262"
        ],
        [
         "(11) 4298-1270"
        ],
        [
         "(43) 3255-2293"
        ],
        [
         "(54) 3354-1222"
        ],
        [
         "(33) 9114-5645"
        ],
        [
         "(17) 3341-8622"
        ],
        [
         "(61) 3301-3590"
        ],
        [
         "(85) 99650-0954"
        ],
        [
         "(54) 3218-2781"
        ],
        [
         "(19) 3207-3637"
        ],
        [
         "(54) 3422-3617"
        ],
        [
         "(82) 3315-7874"
        ],
        [
         "(21) 3433-4990"
        ],
        [
         "(71) 3117-6447"
        ],
        [
         "(83) 3522-2980"
        ],
        [
         "(48) 3877-9018"
        ],
        [
         "(41) 3462-1155"
        ],
        [
         "(65) 3356-1808"
        ],
        [
         "(81) 3326-8136"
        ],
        [
         "(82) 9998-3520"
        ],
        [
         "(24) 2443-1221"
        ],
        [
         "(43) 3242-1531"
        ],
        [
         "(88) 99725-8854"
        ],
        [
         "(11) 95494-5004"
        ],
        [
         "(48) 3272-8600"
        ],
        [
         "(31) 3671-1848"
        ],
        [
         "(31) 2531-3317"
        ],
        [
         "(44) 3675-1572"
        ],
        [
         "(82) 3522-5122"
        ],
        [
         "(51) 3286-3145"
        ],
        [
         "(82) 3279-1491"
        ],
        [
         "(54) 3220-9565"
        ],
        [
         "(11) 5627-0233"
        ],
        [
         "(17) 3281-6436"
        ],
        [
         "(71) 3291-8631"
        ],
        [
         "(21) 2263-0791"
        ],
        [
         "(83) 3221-4555"
        ],
        [
         "(81) 99561-1682"
        ],
        [
         "(34) 3671-7162"
        ],
        [
         "(43) 3902-1764"
        ],
        [
         "(35) 3464-1200"
        ],
        [
         "(33) 3314-1028"
        ],
        [
         "(83) 3216-7330"
        ],
        [
         "(54) 3233-1522"
        ],
        [
         "(99) 98500-6265"
        ],
        [
         "(55) 3792-1102"
        ],
        [
         "(61) 3307-2900"
        ],
        [
         "(92) 3643-3192"
        ],
        [
         "(81) 3184-3152"
        ],
        [
         "(61) 3316-5381"
        ],
        [
         "(53) 3263-1276"
        ],
        [
         "(27) 3636-2990"
        ],
        [
         "(55) 3414-1703"
        ],
        [
         "(63) 3218-2660"
        ],
        [
         "(51) 3333-2140"
        ],
        [
         "(21) 3938-7188"
        ],
        [
         "(71) 3202-7890"
        ],
        [
         "(49) 3652-3228"
        ],
        [
         "(18) 3375-1063"
        ],
        [
         "(51) 3214-9687"
        ],
        [
         "(85) 99989-4009"
        ],
        [
         "(81) 2126-8719"
        ],
        [
         "(88) 8130-9012"
        ],
        [
         "(45) 3559-1240"
        ],
        [
         "(11) 4711-3001"
        ],
        [
         "(33) 3734-1643"
        ],
        [
         "(11) 3897-3232"
        ],
        [
         "(14) 3811-1480"
        ],
        [
         "(24) 9997-0979"
        ],
        [
         "(47) 3632-7053"
        ],
        [
         "(32) 3379-8000"
        ],
        [
         "(51) 3747-1122"
        ],
        [
         "(53) 8124-7973"
        ],
        [
         "(84) 3212-1083"
        ],
        [
         "(83) 9984-7256"
        ],
        [
         "(32) 3721-7491"
        ],
        [
         "(53) 98474-2599"
        ],
        [
         "(28) 3545-1322"
        ],
        [
         "(77) 98802-0428"
        ],
        [
         "(47) 3399-0418"
        ],
        [
         "(51) 3731-2285"
        ],
        [
         "(49) 3019-7498"
        ],
        [
         "(31) 3553-5182"
        ],
        [
         "(47) 3623-1137"
        ],
        [
         "(49) 3323-4779"
        ],
        [
         "(81) 2121-0365"
        ],
        [
         "(81) 9272-0251"
        ],
        [
         "(51) 3320-3521"
        ],
        [
         "(22) 2726-3021"
        ],
        [
         "(79) 3261-1605"
        ],
        [
         "(51) 3308-4506"
        ],
        [
         "(34) 3831-5192"
        ],
        [
         "(19) 3876-5393"
        ],
        [
         "(37) 99106-5309"
        ],
        [
         "(19) 3790-3950"
        ],
        [
         "(51) 99855-8232"
        ],
        [
         "(73) 3632-3474"
        ],
        [
         "(35) 3829-1205"
        ],
        [
         "(32) 3537-1206"
        ],
        [
         "(62) 3371-4856"
        ],
        [
         "(27) 3235-7444"
        ],
        [
         "(51) 3663-1157"
        ],
        [
         "(71) 3329-4463"
        ],
        [
         "(11) 2630-8037"
        ],
        [
         "(11) 4703-6460"
        ],
        [
         "(41) 3622-2442"
        ],
        [
         "(34) 3231-9121"
        ],
        [
         "(19) 3544-8156"
        ],
        [
         "(47) 3542-0529"
        ],
        [
         "(41) 3321-3367"
        ],
        [
         "(67) 3316-9178"
        ],
        [
         "(11) 6236-6121"
        ],
        [
         "(79) 3281-2486"
        ],
        [
         "(51) 3308-3390"
        ],
        [
         "(69) 3216-7301"
        ],
        [
         "(98) 98732-0229"
        ],
        [
         "(19) 3272-4400"
        ],
        [
         "(12) 3862-6936"
        ],
        [
         "(71) 3117-6902"
        ],
        [
         "(32) 2101-1831"
        ],
        [
         "(18) 3269-1415"
        ],
        [
         "(55) 3222-7669"
        ],
        [
         "(42) 3459-1159"
        ],
        [
         "(31) 3561-1979"
        ],
        [
         "(98) 3212-8298"
        ],
        [
         "(61) 3206-9450"
        ],
        [
         "(85) 3374-0039"
        ],
        [
         "(43) 3378-2000"
        ],
        [
         "(47) 3386-1050"
        ],
        [
         "(11) 3664-3859"
        ],
        [
         "(43) 3337-6238"
        ],
        [
         "(51) 3635-2500"
        ],
        [
         "(35) 3829-1206"
        ],
        [
         "(55) 3798-1155"
        ],
        [
         "(44) 3909-3012"
        ],
        [
         "(88) 3511-2876"
        ],
        [
         "(91) 4009-8678"
        ],
        [
         "(92) 3644-2799"
        ],
        [
         "(54) 3322-1500"
        ],
        [
         "(83) 8812-9799"
        ],
        [
         "(88) 8131-7177"
        ],
        [
         "(24) 2237-3860"
        ],
        [
         "(73) 98818-3207"
        ],
        [
         "(11) 5576-4848"
        ],
        [
         "(69) 3421-2390"
        ],
        [
         "(16) 3041-0047"
        ],
        [
         "(61) 3629-1143"
        ],
        [
         "(62) 3224-8096"
        ],
        [
         "(83) 3099-0482"
        ],
        [
         "(33) 3267-2078"
        ],
        [
         "(11) 99212-7375"
        ],
        [
         "(98) 3232-2428"
        ],
        [
         "(32) 3279-1255"
        ],
        [
         "(11) 2144-7150"
        ],
        [
         "(21) 3131-3060"
        ],
        [
         "(45) 3576-7203"
        ],
        [
         "(48) 3646-2542"
        ],
        [
         "(13) 3233-6565"
        ],
        [
         "(51) 3755-2006"
        ],
        [
         "(82) 2121-8122"
        ],
        [
         "(84) 4005-9310"
        ],
        [
         "(31) 3559-1995"
        ],
        [
         "(62) 3241-4069"
        ],
        [
         "(31) 3839-2991"
        ],
        [
         "(63) 3212-7314"
        ],
        [
         "(12) 3834-1382"
        ],
        [
         "(51) 3240-1312"
        ],
        [
         "(19) 3826-4636"
        ],
        [
         "(55) 3422-1459"
        ],
        [
         "(79) 3179-1308"
        ],
        [
         "(24) 3111-4944"
        ],
        [
         "(68) 3233-1146"
        ],
        [
         "(12) 3892-2621"
        ],
        [
         "(12) 3671-7000"
        ],
        [
         "(48) 3657-1504"
        ],
        [
         "(84) 3531-3951"
        ],
        [
         "(21) 2333-5194"
        ],
        [
         "(83) 3383-1593"
        ],
        [
         "(11) 2648-0254"
        ],
        [
         "(71) 2203-4065"
        ],
        [
         "(91) 3210-0555"
        ],
        [
         "(71) 98791-5170"
        ],
        [
         "(88) 3546-1432"
        ],
        [
         "(62) 3251-0721"
        ],
        [
         "(35) 3741-2384"
        ],
        [
         "(31) 98733-1335"
        ],
        [
         "(61) 3445-8549"
        ],
        [
         "(11) 4131-1292"
        ],
        [
         "(38) 3531-1624"
        ],
        [
         "(85) 3253-2801"
        ],
        [
         "(19) 3466-9400"
        ],
        [
         "(49) 3442-4645"
        ],
        [
         "(51) 3086-3868"
        ],
        [
         "(53) 3284-3990"
        ],
        [
         "(82) 99324-3269"
        ],
        [
         "(71) 3115-4045"
        ],
        [
         "(31) 3269-1103"
        ],
        [
         "(12) 3668-9700"
        ],
        [
         "(21) 9926-5852"
        ],
        [
         "(47) 3535-0229"
        ],
        [
         "(53) 3242-8244"
        ],
        [
         "(49) 9104-5124"
        ],
        [
         "(55) 3784-1623"
        ],
        [
         "(16) 3382-6640"
        ],
        [
         "(55) 3377-1200"
        ],
        [
         "(24) 3361-5540"
        ],
        [
         "(31) 3557-2778"
        ],
        [
         "(11) 2203-0115"
        ],
        [
         "(92) 3582-3188"
        ],
        [
         "(31) 3341-5144"
        ],
        [
         "(85) 3388-9306"
        ],
        [
         "(91) 98861-6467"
        ],
        [
         "(54) 3381-9066"
        ],
        [
         "(21) 2756-7635"
        ],
        [
         "(67) 3345-3532"
        ],
        [
         "(64) 3668-1457"
        ],
        [
         "(88) 3611-2956"
        ],
        [
         "(46) 3524-4441"
        ],
        [
         "(31) 3846-5531"
        ],
        [
         "(18) 3625-3392"
        ],
        [
         "(24) 2438-0060"
        ],
        [
         "(55) 3505-4826"
        ],
        [
         "(92) 3633-1951"
        ],
        [
         "(55) 3221-2695"
        ],
        [
         "(51) 3592-4557"
        ],
        [
         "(67) 99902-3761"
        ],
        [
         "(91) 8858-5472"
        ],
        [
         "(88) 3102-1212"
        ],
        [
         "(91) 3184-3624"
        ],
        [
         "(63) 3379-1438"
        ],
        [
         "(12) 3105-7719"
        ],
        [
         "(87) 3861-3431"
        ],
        [
         "(54) 3333-1166"
        ],
        [
         "(14) 3413-9930"
        ],
        [
         "(27) 3323-9993"
        ],
        [
         "(18) 3282-1599"
        ],
        [
         "(22) 2764-1768"
        ],
        [
         "(91) 3085-1133"
        ],
        [
         "(21) 3527-1435"
        ],
        [
         "(47) 3422-5222"
        ],
        [
         "(83) 3354-1313"
        ],
        [
         "(21) 2233-9165"
        ],
        [
         "(45) 3121-4106"
        ],
        [
         "(19) 3656-0109"
        ],
        [
         "(13) 3448-7619"
        ],
        [
         "(41) 3381-5903"
        ],
        [
         "(48) 3621-3000"
        ],
        [
         "(21) 2562-7555"
        ],
        [
         "(84) 9645-9771"
        ],
        [
         "(81) 2126-8225"
        ],
        [
         "(48) 3267-1956"
        ],
        [
         "(47) 3363-5786"
        ],
        [
         "(53) 2128-1176"
        ],
        [
         "(31) 3551-1121"
        ],
        [
         "(21) 3787-4028"
        ],
        [
         "(84) 3202-5282"
        ],
        [
         "(21) 3789-0717"
        ],
        [
         "(37) 3277-1344"
        ],
        [
         "(24) 3340-8400"
        ],
        [
         "(32) 3371-6397"
        ],
        [
         "(11) 4701-6723"
        ],
        [
         "(83) 3457-2231"
        ],
        [
         "(85) 3273-3129"
        ],
        [
         "(68) 3901-2500"
        ],
        [
         "(41) 3432-1227"
        ],
        [
         "(51) 3982-1081"
        ],
        [
         "(35) 3349-8433"
        ],
        [
         "(43) 3371-4000"
        ],
        [
         "(81) 3184-3170"
        ],
        [
         "(43) 3371-5151"
        ],
        [
         "(31) 99920-8069"
        ],
        [
         "(28) 3522-5737"
        ],
        [
         "(65) 3056-1373"
        ],
        [
         "(38) 3621-1471"
        ],
        [
         "(84) 3211-9294"
        ],
        [
         "(19) 3255-7017"
        ],
        [
         "(48) 3431-7500"
        ],
        [
         "(22) 2534-1212"
        ],
        [
         "(91) 3241-2604"
        ],
        [
         "(42) 3624-0193"
        ],
        [
         "(22) 2770-3024"
        ],
        [
         "(21) 2717-0154"
        ],
        [
         "(31) 3822-3006"
        ],
        [
         "(84) 3342-4900"
        ],
        [
         "(82) 3372-3228"
        ],
        [
         "(83) 3362-2360"
        ],
        [
         "(71) 3322-9674"
        ],
        [
         "(74) 3541-9517"
        ],
        [
         "(37) 9988-2828"
        ],
        [
         "(38) 3531-1191"
        ],
        [
         "(71) 3283-5509"
        ],
        [
         "(31) 3769-2830"
        ],
        [
         "(51) 3308-4303"
        ],
        [
         "(41) 3232-9113"
        ],
        [
         "(34) 3239-4501"
        ],
        [
         "(38) 3428-1372"
        ],
        [
         "(34) 3663-1341"
        ],
        [
         "(51) 3733-1249"
        ],
        [
         "(51) 3637-7557"
        ],
        [
         "(67) 3316-9167"
        ],
        [
         "(55) 3358-1101"
        ],
        [
         "(54) 3445-1066"
        ],
        [
         "(35) 3690-2700"
        ],
        [
         "(45) 3277-1328"
        ],
        [
         "(47) 3394-0708"
        ],
        [
         "(19) 3813-1090"
        ],
        [
         "(19) 3758-8600"
        ],
        [
         "(16) 3397-8406"
        ],
        [
         "(27) 99952-0273"
        ],
        [
         "(47) 3367-0033"
        ],
        [
         "(19) 3844-4168"
        ],
        [
         "(85) 3229-1898"
        ],
        [
         "(71) 3321-4573"
        ],
        [
         "(62) 3209-6010"
        ],
        [
         "(47) 3384-1343"
        ],
        [
         "(44) 9963-1718"
        ],
        [
         "(55) 3322-6448"
        ],
        [
         "(17) 3342-2255"
        ],
        [
         "(75) 3335-2510"
        ],
        [
         "(17) 99140-7553"
        ],
        [
         "(12) 3971-2686"
        ],
        [
         "(85) 3361-1010"
        ],
        [
         "(44) 3293-1889"
        ],
        [
         "(53) 98121-5855"
        ],
        [
         "(32) 3462-4113"
        ],
        [
         "(62) 3371-1087"
        ],
        [
         "(51) 3228-7664"
        ],
        [
         "(18) 3362-2772"
        ],
        [
         "(83) 3218-5615"
        ],
        [
         "(41) 3323-3530"
        ],
        [
         "(27) 3382-6771"
        ],
        [
         "(35) 3533-1130"
        ],
        [
         "(61) 3376-1043"
        ],
        [
         "(81) 3221-8571"
        ],
        [
         "(16) 3332-3739"
        ],
        [
         "(67) 8475-3740"
        ],
        [
         "(53) 3233-8408"
        ],
        [
         "(16) 3382-1066"
        ],
        [
         "(46) 3560-1122"
        ],
        [
         "(11) 5576-2728"
        ],
        [
         "(21) 2229-3387"
        ],
        [
         "(51) 3462-1621"
        ],
        [
         "(54) 99981-4928"
        ],
        [
         "(21) 3731-1432"
        ],
        [
         "(91) 4009-8802"
        ],
        [
         "(48) 3665-6363"
        ],
        [
         "(77) 3421-3894"
        ],
        [
         "(16) 3253-9100"
        ],
        [
         "(34) 99971-3798"
        ],
        [
         "(41) 3361-1628"
        ],
        [
         "(14) 3342-9200"
        ],
        [
         "(51) 3289-8292"
        ],
        [
         "(85) 3207-7424"
        ],
        [
         "(65) 3266-6765"
        ],
        [
         "(34) 3214-0068"
        ],
        [
         "(11) 3091-3952"
        ],
        [
         "(62) 3201-4625"
        ],
        [
         "(51) 3216-9420"
        ],
        [
         "(11) 2296-4330"
        ],
        [
         "(48) 3721-9310"
        ],
        [
         "(34) 3356-8003"
        ],
        [
         "(31) 3571-9700"
        ],
        [
         "(49) 3552-0206"
        ],
        [
         "(77) 3451-1372"
        ],
        [
         "(48) 3445-8468"
        ],
        [
         "(85) 8753-8353"
        ],
        [
         "(14) 3529-2302"
        ],
        [
         "(17) 3661-1547"
        ],
        [
         "(79) 3231-1675"
        ],
        [
         "(46) 3552-1282"
        ],
        [
         "(12) 99762-2966"
        ],
        [
         "(32) 3379-2510"
        ],
        [
         "(21) 2332-9068"
        ],
        [
         "(67) 3291-4778"
        ],
        [
         "(21) 3133-3366"
        ],
        [
         "(71) 3241-6811"
        ],
        [
         "(32) 2102-7761"
        ],
        [
         "(62) 3201-4676"
        ],
        [
         "(31) 3752-1279"
        ],
        [
         "(24) 3064-9127"
        ],
        [
         "(87) 3871-7070"
        ],
        [
         "(47) 3632-2490"
        ],
        [
         "(42) 3523-6535"
        ],
        [
         "(55) 3361-4015"
        ],
        [
         "(83) 8787-8787"
        ],
        [
         "(48) 3523-1111"
        ],
        [
         "(24) 2233-0300"
        ],
        [
         "(41) 3304-8955"
        ],
        [
         "(44) 3649-0597"
        ],
        [
         "(21) 2590-6747"
        ],
        [
         "(37) 3222-7629"
        ],
        [
         "(11) 4495-8299"
        ],
        [
         "(22) 98175-0616"
        ],
        [
         "(48) 3535-1732"
        ],
        [
         "(75) 3241-1900"
        ],
        [
         "(33) 3764-2451"
        ],
        [
         "(98) 3224-0107"
        ],
        [
         "(11) 4824-1412"
        ],
        [
         "(31) 3409-5129"
        ],
        [
         "(83) 99638-1697"
        ],
        [
         "(62) 3357-5190"
        ],
        [
         "(84) 3232-6334"
        ],
        [
         "(65) 3644-1320"
        ],
        [
         "(82) 3551-2008"
        ],
        [
         "(54) 3358-1653"
        ],
        [
         "(14) 3492-1770"
        ],
        [
         "(24) 3353-3495"
        ],
        [
         "(82) 3214-1629"
        ],
        [
         "(54) 3041-1511"
        ],
        [
         "(16) 3984-9120"
        ],
        [
         "(21) 3395-1489"
        ],
        [
         "(88) 36441509"
        ],
        [
         "(65) 3261-1153"
        ],
        [
         "(55) 3220-8108"
        ],
        [
         "(83) 8838-9336"
        ],
        [
         "(41) 3372-4411"
        ],
        [
         "(11) 2627-9452"
        ],
        [
         "(41) 3313-7194"
        ],
        [
         "(35) 3863-1538"
        ],
        [
         "(87) 3831-3454"
        ],
        [
         "(14) 3493-2132"
        ],
        [
         "(11) 2065-8100"
        ],
        [
         "(67) 3932-1107"
        ],
        [
         "(53) 3503-2417"
        ],
        [
         "(15) 3542-1245"
        ],
        [
         "(49) 3642-0286"
        ],
        [
         "(32) 2102-3263"
        ],
        [
         "(55) 3257-3278"
        ],
        [
         "(62) 3524-1189"
        ],
        [
         "(62) 3901-1338"
        ],
        [
         "(22) 9215-2400"
        ],
        [
         "(63) 3363-3928"
        ],
        [
         "(16) 3636-6969"
        ],
        [
         "(49) 98818-9764"
        ],
        [
         "(88) 3545-1206"
        ],
        [
         "(47) 3375-1194"
        ],
        [
         "(16) 3835-5464"
        ],
        [
         "(98) 99189-0199"
        ],
        [
         "(12) 3625-5062"
        ],
        [
         "(83) 3255-8721"
        ],
        [
         "(43) 3535-4226"
        ],
        [
         "(42) 3457-2288"
        ],
        [
         "(85) 3101-1201"
        ],
        [
         "(88) 3564-0655"
        ],
        [
         "(68) 3212-4432"
        ],
        [
         "(84) 3211-6889"
        ],
        [
         "(88) 3581-6583"
        ],
        [
         "(18) 3264-1726"
        ],
        [
         "(71) 3336-3498"
        ],
        [
         "(88) 9983-5947"
        ],
        [
         "(61) 3325-6244"
        ],
        [
         "(35) 3235-2590"
        ],
        [
         "(81) 99944-1465"
        ],
        [
         "(21) 2262-0197"
        ],
        [
         "(83) 3221-1418"
        ],
        [
         "(11) 4584-1799"
        ],
        [
         "(92) 3643-3252"
        ],
        [
         "(21) 2240-2669"
        ],
        [
         "(81) 3743-1122"
        ],
        [
         "(31) 3307-1176"
        ],
        [
         "(12) 3625-5059"
        ],
        [
         "(11) 3091-3252"
        ],
        [
         "(31) 3835-3894"
        ],
        [
         "(48) 3261-1768"
        ],
        [
         "(83) 3232-9724"
        ],
        [
         "(71) 99924-1798"
        ],
        [
         "(62) 3946-1723"
        ],
        [
         "(31) 3651-8757"
        ],
        [
         "(82) 99645-0323"
        ],
        [
         "(54) 3453-2210"
        ],
        [
         "(62) 3356-1120"
        ],
        [
         "(54) 3446-2822"
        ],
        [
         "(93) 3522-1026"
        ],
        [
         "(64) 3632-4048"
        ],
        [
         "(54) 3261-6997"
        ],
        [
         "(11) 2627-3880"
        ],
        [
         "(79) 3226-3488"
        ],
        [
         "(49) 3321-7100"
        ],
        [
         "(11) 2627-9541"
        ],
        [
         "(87) 3843-1731"
        ],
        [
         "(66) 3531-8166"
        ],
        [
         "(54) 3324-3007"
        ],
        [
         "(21) 2234-2501"
        ],
        [
         "(14) 3733-1587"
        ],
        [
         "(21) 3890-6027"
        ],
        [
         "(85) 8736-5696"
        ],
        [
         "(55) 3421-4296"
        ],
        [
         "(48) 3465-1313"
        ],
        [
         "(51) 3677-1142"
        ],
        [
         "(68) 3222-7269"
        ],
        [
         "(82) 3338-3437"
        ],
        [
         "(81) 3320-6044"
        ],
        [
         "(48) 3665-6195"
        ],
        [
         "(19) 3671-9770"
        ],
        [
         "(21) 2221-9883"
        ],
        [
         "(81) 3626-8421"
        ],
        [
         "(41) 3281-5600"
        ],
        [
         "(51) 3214-9094"
        ],
        [
         "(42) 3912-7050"
        ],
        [
         "(85) 3101-8827"
        ],
        [
         "(32) 3462-9614"
        ],
        [
         "(21) 3835-1044"
        ],
        [
         "(11) 3646-4000"
        ],
        [
         "(38) 2101-7720"
        ],
        [
         "(67) 98446-3469"
        ],
        [
         "(11) 3032-3727"
        ],
        [
         "(41) 3462-3620"
        ],
        [
         "(51) 9864-9612"
        ],
        [
         "(22) 3831-1056"
        ],
        [
         "(15) 3243-1191"
        ],
        [
         "(41) 3362-1800"
        ],
        [
         "(81) 3322-5696"
        ],
        [
         "(44) 3523-7889"
        ],
        [
         "(82) 3421-2083"
        ],
        [
         "(61) 3388-4648"
        ],
        [
         "(83) 3221-6046"
        ],
        [
         "(84) 4006-5340"
        ],
        [
         "(91) 98415-2558"
        ],
        [
         "(13) 3288-2260"
        ],
        [
         "(91) 3216-6300"
        ],
        [
         "(85) 3366-9216"
        ],
        [
         "(83) 9903-2392"
        ],
        [
         "(83) 8398-8455"
        ],
        [
         "(11) 2749-2272"
        ],
        [
         "(48) 3355-8122"
        ],
        [
         "(81) 2126-8353"
        ],
        [
         "(24) 3371-4516"
        ],
        [
         "(51) 3664-1221"
        ],
        [
         "(11) 5212-3700"
        ],
        [
         "(92) 3301-8180"
        ],
        [
         "(68) 3227-4977"
        ],
        [
         "(87) 99943-0072"
        ],
        [
         "(49) 3453-1091"
        ],
        [
         "(53) 2128-2128"
        ],
        [
         "(44) 9958-5079"
        ],
        [
         "(51) 3714-1866"
        ],
        [
         "(31) 3409-7650"
        ],
        [
         "(31) 3861-4228"
        ],
        [
         "(81) 3182-8268"
        ],
        [
         "(13) 99778-7986"
        ],
        [
         "(16) 3667-0024"
        ],
        [
         "(55) 3328-1133"
        ],
        [
         "(14) 3811-6265"
        ],
        [
         "(62) 3506-7226"
        ],
        [
         "(65) 3613-9234"
        ],
        [
         "(96) 3223-5441"
        ],
        [
         "(75) 3621-4329"
        ],
        [
         "(19) 3481-9205"
        ],
        [
         "(16) 3761-7071"
        ],
        [
         "(27) 3327-4353"
        ],
        [
         "(21) 2490-2429"
        ],
        [
         "(88) 3631-7255"
        ],
        [
         "(21) 22111-7424"
        ],
        [
         "(88) 3628-0035"
        ],
        [
         "(74) 3531-1120"
        ],
        [
         "(21) 2253-2828"
        ],
        [
         "(41) 3271-9065"
        ],
        [
         "(54) 3278-1304"
        ],
        [
         "(88) 99969-5131"
        ],
        [
         "(11) 4761-9335"
        ],
        [
         "(83) 98787-1533"
        ],
        [
         "(19) 3296-1104"
        ],
        [
         "(47) 3381-7516"
        ],
        [
         "(88) 9618-3600"
        ],
        [
         "(89) 9985-5283"
        ],
        [
         "(41) 3310-3460"
        ],
        [
         "(22) 2774-5293"
        ],
        [
         "(16) 3711-9320"
        ],
        [
         "(82) 2122-7760"
        ],
        [
         "(51) 3479-2141"
        ],
        [
         "(83) 3362-2288"
        ],
        [
         "(92) 3582-2929"
        ],
        [
         "(47) 3433-4677"
        ],
        [
         "(12) 3895-8599"
        ],
        [
         "(62) 3371-7382"
        ],
        [
         "(83) 98853-4966"
        ],
        [
         "(83) 8893-1583"
        ],
        [
         "(13) 3568-8948"
        ],
        [
         "(31) 3769-2603"
        ],
        [
         "(32) 3234-1824"
        ],
        [
         "(41) 3271-1515"
        ],
        [
         "(27) 4009-7877"
        ],
        [
         "(22) 3843-3537"
        ],
        [
         "(54) 3462-8118"
        ],
        [
         "(19) 3585-5961"
        ],
        [
         "(35) 9709-9107"
        ],
        [
         "(17) 3212-7666"
        ],
        [
         "(21) 2153-1400"
        ],
        [
         "(88) 3529-1559"
        ],
        [
         "(22) 2778-4915"
        ],
        [
         "(86) 3252-2751"
        ],
        [
         "(51) 3320-2033"
        ],
        [
         "(11) 2159-3297"
        ],
        [
         "(48) 3222-0692"
        ],
        [
         "(88) 3515-2444"
        ],
        [
         "(51) 3731-1225"
        ],
        [
         "(84) 99167-6531"
        ],
        [
         "(27) 3266-1250"
        ],
        [
         "(31) 3734-1649"
        ],
        [
         "(83) 9101-6735"
        ],
        [
         "(45) 3252-2270"
        ],
        [
         "(27) 3145-5439"
        ],
        [
         "(19) 3843-4317"
        ],
        [
         "(43) 3557-1193"
        ],
        [
         "(55) 3221-3154"
        ],
        [
         "(47) 3381-7979"
        ],
        [
         "(38) 3546-1260"
        ],
        [
         "(16) 3761-2260"
        ],
        [
         "(65) 99955-4352"
        ],
        [
         "(92) 3621-6700"
        ],
        [
         "(21) 2652-5631"
        ],
        [
         "(24) 2247-5222"
        ],
        [
         "(37) 3523-2266"
        ],
        [
         "(91) 3205-3318"
        ],
        [
         "(16) 3711-9247"
        ],
        [
         "(88) 99642-9923"
        ],
        [
         "(21) 2717-2919"
        ],
        [
         "(81) 3355-3158"
        ],
        [
         "(67) 3318-5719"
        ],
        [
         "(55) 3535-2451"
        ],
        [
         "(82) 2122-3500"
        ],
        [
         "(11) 4521-6848"
        ],
        [
         "(53) 3232-6111"
        ],
        [
         "(54) 3771-4230"
        ],
        [
         "(92) 3622-4991"
        ],
        [
         "(71) 3384-5229"
        ],
        [
         "(85) 98749-5286"
        ],
        [
         "(32) 3371-7005"
        ],
        [
         "(11) 3662-7198"
        ],
        [
         "(16) 3602-3481"
        ],
        [
         "(16) 3623-2261"
        ],
        [
         "(21) 2299-2936"
        ],
        [
         "(55) 3541-1875"
        ],
        [
         "(87) 9991-6473"
        ],
        [
         "(19) 3852-3674"
        ],
        [
         "(11) 4799-2221"
        ],
        [
         "(31) 3581-3523"
        ],
        [
         "(35) 3326-1698"
        ],
        [
         "(71) 3117-6147"
        ],
        [
         "(82) 3223-7797"
        ],
        [
         "(51) 3592-1584"
        ],
        [
         "(54) 3441-2232"
        ],
        [
         "(51) 3653-1536"
        ],
        [
         "(48) 3237-8148"
        ],
        [
         "(11) 3815-9511"
        ],
        [
         "(47) 3222-0162"
        ],
        [
         "(27) 3753-1001"
        ],
        [
         "(35) 3453-1212"
        ],
        [
         "(61) 98451-6807"
        ],
        [
         "(53) 3223-0269"
        ],
        [
         "(11) 2117-4777"
        ],
        [
         "(37) 3521-4238"
        ],
        [
         "(49) 3566-6133"
        ],
        [
         "(51) 3210-5615"
        ],
        [
         "(85) 9476-8363"
        ],
        [
         "(66) 3521-9555"
        ],
        [
         "(19) 3878-4166"
        ],
        [
         "(31) 99618-3291"
        ],
        [
         "(51) 3406-7300"
        ],
        [
         "(31) 3273-3489"
        ],
        [
         "(88) 3647-1685"
        ],
        [
         "(51) 3352-7131"
        ],
        [
         "(51) 3407-9758"
        ],
        [
         "(41) 2118-5232"
        ],
        [
         "(19) 3735-5065"
        ],
        [
         "(17) 3525-0911"
        ],
        [
         "(31) 3484-1067"
        ],
        [
         "(32) 3333-2810"
        ],
        [
         "(11) 3331-4507"
        ],
        [
         "(43) 3440-1468"
        ],
        [
         "(24) 3342-9870"
        ],
        [
         "(31) 3409-8280"
        ],
        [
         "(97) 98412-4115"
        ],
        [
         "(81) 3728-6651"
        ],
        [
         "(13) 3871-1242"
        ],
        [
         "(75) 3338-2313"
        ],
        [
         "(61) 3445-7025"
        ],
        [
         "(71) 3117-6383"
        ],
        [
         "(48)  3645-6100 (Ramal 230)"
        ],
        [
         "(82) 3221-2658"
        ],
        [
         "(73) 3086-1871"
        ],
        [
         "(16) 3209-7638"
        ],
        [
         "(86) 98142-1361"
        ],
        [
         "(41) 3361-7229"
        ],
        [
         "(22) 2646-7340"
        ],
        [
         "(21) 2157-2895"
        ],
        [
         "(86) 3256-1433"
        ],
        [
         "(75) 3338-2156"
        ],
        [
         "(42) 3642-2469"
        ],
        [
         "(49) 0000-0000"
        ],
        [
         "(75) 99950-9604"
        ],
        [
         "(41) 3263-2757"
        ],
        [
         "(47) 3321-0200"
        ],
        [
         "(43) 3625-1115"
        ],
        [
         "(31) 3277-9248"
        ],
        [
         "(55) 3222-9962"
        ],
        [
         "(19) 3844-7786"
        ],
        [
         "(11) 3188-4303"
        ],
        [
         "(88) 9265-8330"
        ],
        [
         "(61) 3314-9674"
        ],
        [
         "(37) 3221-5729"
        ],
        [
         "(61) 3274-1727"
        ],
        [
         "(86) 9917-2992"
        ],
        [
         "(21) 2784-6900"
        ],
        [
         "(19) 3849-3051"
        ],
        [
         "(27) 3263-4863"
        ],
        [
         "(89) 3522-0804"
        ],
        [
         "(71) 3481-9232"
        ],
        [
         "(83) 9612-2244"
        ],
        [
         "(83) 3512-1228"
        ],
        [
         "(11) 3061-8419"
        ],
        [
         "(67) 3314-3693"
        ],
        [
         "(66) 3522-1008"
        ],
        [
         "(49) 3645-0159"
        ],
        [
         "(41) 3093-7461"
        ],
        [
         "(65) 3224-1438"
        ],
        [
         "(33) 99929-1274"
        ],
        [
         "(41) 3304-8912"
        ],
        [
         "(11) 3772-4301"
        ],
        [
         "(16) 3322-4887"
        ],
        [
         "(11) 4704-4621"
        ],
        [
         "(53) 3232-7507"
        ],
        [
         "(51) 9164-9136"
        ],
        [
         "(43) 3535-1233"
        ],
        [
         "(19) 3525-7036"
        ],
        [
         "(11) 4604-2999"
        ],
        [
         "(19) 3459-5911"
        ],
        [
         "(61) 3901-8680"
        ],
        [
         "(98) 3218-9906"
        ],
        [
         "(51) 3600-7890"
        ],
        [
         "(85) 3252-3741"
        ],
        [
         "(11) 2245-1900"
        ],
        [
         "(83) 3221-5346"
        ],
        [
         "(42) 3904-1614"
        ],
        [
         "(34) 3212-1692"
        ],
        [
         "(92) 3631-6047"
        ],
        [
         "(42) 2122-5534"
        ],
        [
         "(11) 4521-3020"
        ],
        [
         "(28) 99939-4243"
        ],
        [
         "(14) 3714-7200"
        ],
        [
         "(75) 3337-1152"
        ],
        [
         "(21) 2599-7100"
        ],
        [
         "(51) 3228-1445"
        ],
        [
         "(73) 3534-1413"
        ],
        [
         "(89) 99443-5634"
        ],
        [
         "(47) 3461-0133"
        ],
        [
         "(65) 3313-7387"
        ],
        [
         "(21) 3436-8220"
        ],
        [
         "(11) 2630-9600"
        ],
        [
         "(42) 3623-2072"
        ],
        [
         "(67) 3314-3544"
        ],
        [
         "(12) 3652-9222"
        ],
        [
         "(14) 3351-5199"
        ],
        [
         "(27) 3636-2587"
        ],
        [
         "(48) 3664-8110"
        ],
        [
         "(83) 3533-6000"
        ],
        [
         "(21) 2295-2532"
        ],
        [
         "(71) 3321-4477"
        ],
        [
         "(51) 2886-0634"
        ],
        [
         "(16) 3945-9363"
        ],
        [
         "(75) 3494-2000"
        ],
        [
         "(77) 3613-4417"
        ],
        [
         "(64) 3658-1396"
        ],
        [
         "(71) 3283-7634"
        ],
        [
         "(11) 5087-0955"
        ],
        [
         "(21) 3214-8702"
        ],
        [
         "(35) 3522-7050"
        ],
        [
         "(19) 3681-6424"
        ],
        [
         "(49) 3321-3235"
        ],
        [
         "(27) 3349-5328"
        ],
        [
         "(86) 3332-1764"
        ],
        [
         "(37) 3231-7790"
        ],
        [
         "(62) 3902-1193"
        ],
        [
         "(51) 3673-1316"
        ],
        [
         "(43) 3339-0808"
        ],
        [
         "(81) 3073-6340"
        ],
        [
         "(31) 3409-7633"
        ],
        [
         "(62) 3362-5095"
        ],
        [
         "(32) 3229-9070"
        ],
        [
         "(68) 3901-2680"
        ],
        [
         "(18) 3704-6888"
        ],
        [
         "(41) 3423-2892"
        ],
        [
         "(54) 3313-1436"
        ],
        [
         "(51) 3308-9855"
        ],
        [
         "(42) 3275-2269"
        ],
        [
         "(55) 3220-8339"
        ],
        [
         "(53) 3921-6291"
        ],
        [
         "(55) 9608-6790"
        ],
        [
         "(11) 4693-8000"
        ],
        [
         "(83) 3372-1900"
        ],
        [
         "(91) 4009-8813"
        ],
        [
         "(13) 3864-3094"
        ],
        [
         "(31) 3835-2156"
        ],
        [
         "(51) 3652-2034"
        ],
        [
         "(91) 3241-9700"
        ],
        [
         "(51) 3591-8853"
        ],
        [
         "(31) 3942-1656"
        ],
        [
         "(83) 3218-4505"
        ],
        [
         "(91) 3221-2552"
        ],
        [
         "(67) 3232-0303"
        ],
        [
         "(19) 3526-9312"
        ],
        [
         "(11) 3326-2700"
        ],
        [
         "(11) 3222-8049"
        ],
        [
         "(19) 3252-2598"
        ],
        [
         "(27) 3200-2711"
        ],
        [
         "(44) 3422-5018"
        ],
        [
         "(51) 3476-8366"
        ],
        [
         "(67) 3541-2122"
        ],
        [
         "(49) 3553-6283"
        ],
        [
         "(71) 98670-1205"
        ],
        [
         "(31) 3574-1277"
        ],
        [
         "(31) 3651-2388"
        ],
        [
         "(67) 3242-2471"
        ],
        [
         "(48) 3468-4105"
        ],
        [
         "(41) 3321-4783"
        ],
        [
         "(79) 3179-7471"
        ],
        [
         "(14) 3626-8569"
        ],
        [
         "(33) 98834-1217"
        ],
        [
         "(31) 3409-2396"
        ],
        [
         "(73) 9929-5897"
        ],
        [
         "(55) 3255-1506"
        ],
        [
         "(41) 3256-6443"
        ],
        [
         "(37) 3755-1100"
        ],
        [
         "(31) 3551-4661"
        ],
        [
         "(83) 3283-3869"
        ],
        [
         "(61) 3225-3000"
        ],
        [
         "(83) 3211-6207"
        ],
        [
         "(55) 3422-4585"
        ],
        [
         "(15) 3552-1875"
        ],
        [
         "(11) 3684-3822"
        ],
        [
         "(32) 3426-2115"
        ],
        [
         "(63) 3218-3312"
        ],
        [
         "(65) 3025-3221"
        ],
        [
         "(85) 3342-0906"
        ],
        [
         "(51) 3586-8800"
        ],
        [
         "(48) 2107-6230"
        ],
        [
         "(21) 8596-5184"
        ],
        [
         "(19) 3834-9433"
        ],
        [
         "(84) 4006-3002"
        ],
        [
         "(54) 3286-4040"
        ],
        [
         "(98) 3337-1515"
        ],
        [
         "(81) 3228-3248"
        ],
        [
         "(24) 2471-2961"
        ],
        [
         "(13) 3203-2905"
        ],
        [
         "(84) 3521-2756"
        ],
        [
         "(51) 3563-7946"
        ],
        [
         "(32) 3559-1901"
        ],
        [
         "(11) 2455-6497"
        ],
        [
         "(73) 3634-4242"
        ],
        [
         "(32) 3333-4820"
        ],
        [
         "(45) 3282-1355"
        ],
        [
         "(11) 2168-1876"
        ],
        [
         "(65) 3661-7160"
        ],
        [
         "(35) 3629-1100"
        ],
        [
         "(81) 2126-8708"
        ],
        [
         "(61) 3107-7963"
        ],
        [
         "(43) 3546-2343"
        ],
        [
         "(48) 3211-6061"
        ],
        [
         "(24) 3387-2214"
        ],
        [
         "(91) 3344-3526"
        ],
        [
         "(92) 3642-4607"
        ],
        [
         "(54) 3901-1316"
        ],
        [
         "(11) 3209-5465"
        ],
        [
         "(77) 3422-2559"
        ],
        [
         "(22) 3842-2900"
        ],
        [
         "(53) 3222-3856"
        ],
        [
         "(41) 3213-3700"
        ],
        [
         "(11) 3105-6899"
        ],
        [
         "(71) 3321-0070"
        ],
        [
         "(21) 2109-2222"
        ],
        [
         "(88) 3675-1044"
        ],
        [
         "(43) 3623-3100"
        ],
        [
         "(38) 99724-5512"
        ],
        [
         "(75) 3423-0307"
        ],
        [
         "(91) 4009-8677"
        ],
        [
         "(11) 4582-2468"
        ],
        [
         "(27) 3248-1156"
        ],
        [
         "(54) 3207-5117"
        ],
        [
         "(83) 3321-3906"
        ],
        [
         "(19) 3804-1078"
        ],
        [
         "(14) 3346-2010"
        ],
        [
         "(41) 3653-9910"
        ],
        [
         "(27) 3132-8395"
        ],
        [
         "(62) 3561-1128"
        ],
        [
         "(11) 3598-9715"
        ],
        [
         "(38) 3722-1758"
        ],
        [
         "(85) 3105-1291"
        ],
        [
         "(12) 3122-3674"
        ],
        [
         "(79) 3211-3579"
        ],
        [
         "(21) 2576-4296"
        ],
        [
         "(11) 3149-4000"
        ],
        [
         "(63) 3653-1987"
        ],
        [
         "(21) 3572-1963"
        ],
        [
         "(54) 2104-2988"
        ],
        [
         "(62) 3394-0086"
        ],
        [
         "(19) 3496-1438"
        ],
        [
         "(19) 3672-6529"
        ],
        [
         "(51) 3289-8275"
        ],
        [
         "(24) 9998-8901"
        ],
        [
         "(14) 3232-4721"
        ],
        [
         "(54) 3901-1422"
        ],
        [
         "(21) 3878-4200"
        ],
        [
         "(12) 3141-1100"
        ],
        [
         "(21) 2635-4291"
        ],
        [
         "(11) 4704-2654"
        ],
        [
         "(53) 3263-8043"
        ],
        [
         "(24) 3353-6455"
        ],
        [
         "(81) 99972-2214"
        ],
        [
         "(71) 3324-6760"
        ],
        [
         "(62) 3524-1196"
        ],
        [
         "(34) 3821-3756"
        ],
        [
         "(21) 3883-5600"
        ],
        [
         "(21) 3213-5161"
        ],
        [
         "(41) 3442-8246"
        ],
        [
         "(14) 3441-2321"
        ],
        [
         "(87) 3831-3860"
        ],
        [
         "(75) 3241-1450"
        ],
        [
         "(84) 3315-1734"
        ],
        [
         "(79) 3214-8491"
        ],
        [
         "(12) 3631-2928"
        ],
        [
         "(85) 3101-4934"
        ],
        [
         "(48) 9972-1735"
        ],
        [
         "(47) 3348-1335"
        ],
        [
         "(15) 3272-5879"
        ],
        [
         "(21) 2333-1188"
        ],
        [
         "(85) 3366-9245"
        ],
        [
         "(47) 3453-3499"
        ],
        [
         "(55) 3020-6423"
        ],
        [
         "(27) 3270-7076"
        ],
        [
         "(31) 3409-5810"
        ],
        [
         "(31) 3534-9000"
        ],
        [
         "(31) 3277-7443"
        ],
        [
         "(61) 3213-9276"
        ],
        [
         "(85) 9457-4026"
        ],
        [
         "(11) 4022-6832"
        ],
        [
         "(86) 9801-0710"
        ],
        [
         "(88) 3631-3211"
        ],
        [
         "(34) 3351-3186"
        ],
        [
         "(71) 3644-9830"
        ],
        [
         "(77) 3421-9165"
        ],
        [
         "(65) 3336-1213"
        ],
        [
         "(31) 3724-1765"
        ],
        [
         "(27) 3762-5196"
        ],
        [
         "(55) 3241-8674"
        ],
        [
         "(61) 3391-2342"
        ],
        [
         "(21) 3938-9461"
        ],
        [
         "(84) 3232-6864"
        ],
        [
         "(66) 98420-0763"
        ],
        [
         "(48) 3464-3430"
        ],
        [
         "(21) 3299-0600"
        ],
        [
         "(31) 3621-0467"
        ],
        [
         "(27) 3322-4807"
        ],
        [
         "(42) 3232-2297"
        ],
        [
         "(11) 3742-0077"
        ],
        [
         "(41) 3222-5193"
        ],
        [
         "(91) 3224-0871"
        ],
        [
         "(61) 98287-2545"
        ],
        [
         "(88) 3511-6006"
        ],
        [
         "(55) 3265-3103"
        ],
        [
         "(71) 3117-6139"
        ],
        [
         "(62) 3224-4622"
        ],
        [
         "(19) 3898-9900"
        ],
        [
         "(44) 3543-1260"
        ],
        [
         "(51) 3772-1283"
        ],
        [
         "(18) 3321-3957"
        ],
        [
         "(11) 4022-1248"
        ],
        [
         "(47) 3369-1681"
        ],
        [
         "(19) 3673-9500"
        ],
        [
         "(85) 3252-3561"
        ],
        [
         "(88) 99726-6170"
        ],
        [
         "(24) 2484-2273"
        ],
        [
         "(41) 3313-2045"
        ],
        [
         "(62) 3524-3758"
        ],
        [
         "(91) 4009-2213"
        ],
        [
         "(19) 3584-8300"
        ],
        [
         "(21) 3422-0831"
        ],
        [
         "(68) 3212-5875"
        ],
        [
         "(67) 3315-1885"
        ],
        [
         "(88) 8107-3055"
        ],
        [
         "(43) 3258-4366"
        ],
        [
         "(47) 3349-1665"
        ],
        [
         "(11) 98205-9817"
        ],
        [
         "(88) 9642-0654"
        ],
        [
         "(19) 3306-2934"
        ],
        [
         "(85) 3347-0364"
        ],
        [
         "(98) 3212-8296"
        ],
        [
         "(41) 3232-8367"
        ],
        [
         "(41) 9678-4399"
        ],
        [
         "(96) 3521-3293"
        ],
        [
         "(61) 2195-9797"
        ],
        [
         "(43) 3323-0082"
        ],
        [
         "(62) 3553-8553"
        ],
        [
         "(54) 3342-4068"
        ],
        [
         "(51) 3477-9144"
        ],
        [
         "(38) 98429-6612"
        ],
        [
         "(17) 3843-1481"
        ],
        [
         "(68) 3227-4455"
        ],
        [
         "(54) 3361-4475"
        ],
        [
         "(13) 3856-1002"
        ],
        [
         "(43) 3232-8121"
        ],
        [
         "(11) 9588-7725"
        ],
        [
         "(83) 3211-6263"
        ],
        [
         "(44) 3523-8280"
        ],
        [
         "(35) 3465-2467"
        ],
        [
         "(21) 2976-2548"
        ],
        [
         "(19) 3583-5637"
        ],
        [
         "(27) 3276-1031"
        ],
        [
         "(11) 99127-9841"
        ],
        [
         "(11) 3105-6118"
        ],
        [
         "(31) 3213-4320"
        ],
        [
         "(17) 3622-3000"
        ],
        [
         "(75) 3641-3727"
        ],
        [
         "(83) 8815-2972"
        ],
        [
         "(34) 99257-0982"
        ],
        [
         "(11) 4992-7730"
        ],
        [
         "(34) 99257-1160"
        ],
        [
         "(48) 3287-2436"
        ],
        [
         "(88) 3565-0334"
        ],
        [
         "(33) 3261-1048"
        ],
        [
         "(62) 3331-1299"
        ],
        [
         "(85) 9604-4482"
        ],
        [
         "(91) 4009-3024"
        ],
        [
         "(85) 3345-2300"
        ],
        [
         "(94) 3331-1197"
        ],
        [
         "(85) 3453-2770"
        ],
        [
         "(88) 99623-0051"
        ],
        [
         "(51) 3308-5384"
        ],
        [
         "(83) 3421-3639"
        ],
        [
         "(11) 2995-3254"
        ],
        [
         "(27) 3268-2550"
        ],
        [
         "(69) 3541-5534"
        ],
        [
         "(35) 3341-2832"
        ],
        [
         "(82) 3621-1824"
        ],
        [
         "(11) 5973-8490"
        ],
        [
         "(18) 3652-0590"
        ],
        [
         "(38) 3841-4800"
        ],
        [
         "(81) 9986-7358"
        ],
        [
         "(16) 3721-8692"
        ],
        [
         "(85) 3101-5550"
        ],
        [
         "(53) 3262-5033"
        ],
        [
         "(47) 3305-0019"
        ],
        [
         "(27) 3288-3067"
        ],
        [
         "(99) 3525-4719"
        ],
        [
         "(83) 3684-1000"
        ],
        [
         "(65) 3624-8374"
        ],
        [
         "(83) 3522-2675"
        ],
        [
         "(79) 3645-3093"
        ],
        [
         "(84) 3433-3988"
        ],
        [
         "(43) 3321-4224"
        ],
        [
         "(51) 3723-6003"
        ],
        [
         "(11) 99105-3470"
        ],
        [
         "(31) 3516-1025"
        ],
        [
         "(54) 3278-3208"
        ],
        [
         "(31) 3551-2739"
        ],
        [
         "(81) 3072-4386"
        ],
        [
         "(82) 3624-8008"
        ],
        [
         "(51) 3593-6233"
        ],
        [
         "(27) 3259-2357"
        ],
        [
         "(84) 99131-9932"
        ],
        [
         "(82) 3327-0728"
        ],
        [
         "(22) 2561-3311"
        ],
        [
         "(75) 99123-7570"
        ],
        [
         "(83) 3362-2300"
        ],
        [
         "(47) 3276-4550"
        ],
        [
         "(21) 2233-9338"
        ],
        [
         "(85) 3201-3901"
        ],
        [
         "(35) 3653-1856"
        ],
        [
         "(65) 3626-4186"
        ],
        [
         "(54) 3221-2426"
        ],
        [
         "(54) 3375-1188"
        ],
        [
         "(11) 4051-5408"
        ],
        [
         "(43) 3178-0392"
        ],
        [
         "(88) 3427-1399"
        ],
        [
         "(62) 3371-1200"
        ],
        [
         "(19) 3562-1207"
        ],
        [
         "(53) 3226-2127"
        ],
        [
         "(32) 99885-3578"
        ],
        [
         "(31) 3842-1400"
        ],
        [
         "(53) 3284-5513"
        ],
        [
         "(32) 3215-3850"
        ],
        [
         "(67) 3357-1500"
        ],
        [
         "(41) 9604-3992"
        ],
        [
         "(19) 3665-8044"
        ],
        [
         "(17) 3392-8800"
        ],
        [
         "(55) 3267-1100"
        ],
        [
         "(63) 3218-2419"
        ],
        [
         "(19) 3521-1472"
        ],
        [
         "(35) 3332-8038"
        ],
        [
         "(83) 3255-8705"
        ],
        [
         "(81) 3619-1145"
        ],
        [
         "(79) 3218-1551"
        ],
        [
         "(51) 3541-9200"
        ],
        [
         "(14) 99637-0460"
        ],
        [
         "(67) 3314-4630"
        ],
        [
         "(42) 3677-8440"
        ],
        [
         "(31) 98875-0892"
        ],
        [
         "(48) 3534-8000"
        ],
        [
         "(18) 3226-3399"
        ],
        [
         "(65) 3634-4858"
        ],
        [
         "(75) 3161-8750"
        ],
        [
         "(42) 3906-2179"
        ],
        [
         "(11) 2125-9400"
        ],
        [
         "(61) 3107-1920"
        ],
        [
         "(71) 3373-7154"
        ],
        [
         "(47) 3026-8000"
        ],
        [
         "(51) 3395-2718"
        ],
        [
         "(51) 2129-1199"
        ],
        [
         "(67) 3435-1165"
        ],
        [
         "(42) 9917-1930"
        ],
        [
         "(84) 3362-2317"
        ],
        [
         "(81) 3444-5174"
        ],
        [
         "(47) 3562-2353"
        ],
        [
         "(61) 3226-7753"
        ],
        [
         "(21) 2240-4747"
        ],
        [
         "(31) 3409-8352"
        ],
        [
         "(12) 3156-1000"
        ],
        [
         "(42) 3916-2189"
        ],
        [
         "(81) 3222-0431"
        ],
        [
         "(11) 3397-4001"
        ],
        [
         "(55) 3220-4565"
        ],
        [
         "(49) 3538-0176"
        ],
        [
         "(91) 3212-5525"
        ],
        [
         "(71) 3676-0321"
        ],
        [
         "(19) 3444-7962"
        ],
        [
         "(33) 3531-1290"
        ],
        [
         "(85) 3326-1120"
        ],
        [
         "(67) 3261-1203"
        ],
        [
         "(21) 2333-3130"
        ],
        [
         "(54) 3254-0113"
        ],
        [
         "(21) 3031-2741"
        ],
        [
         "(27) 3252-6029"
        ],
        [
         "(85) 3464-3108"
        ],
        [
         "(81) 3523-1147"
        ],
        [
         "(88) 99780-8062"
        ],
        [
         "(54) 3251-1557"
        ],
        [
         "(11) 4696-1332"
        ],
        [
         "(83) 3366-1121"
        ],
        [
         "(75) 3337-1020"
        ],
        [
         "(54) 3286-7307"
        ],
        [
         "(11) 3568-8200"
        ],
        [
         "(42) 3522-3031"
        ],
        [
         "(12) 3104-1505"
        ],
        [
         "(55) 3269-1022"
        ],
        [
         "(61) 3468-1262"
        ],
        [
         "(11) 9728-8195"
        ],
        [
         "(16) 3342-6002"
        ],
        [
         "(16) 3904-2750"
        ],
        [
         "(11) 3324-1000"
        ],
        [
         "(27) 3332-1612"
        ],
        [
         "(62) 0000-0000"
        ],
        [
         "(92) 3234-7821"
        ],
        [
         "(61) 3321-7353"
        ],
        [
         "(47) 3261-1287"
        ],
        [
         "(17) 3442-3797"
        ],
        [
         "(35) 3691-1010"
        ],
        [
         "(85) 3304-4130"
        ],
        [
         "(53) 3261-9063"
        ],
        [
         "(75) 3438-3442"
        ],
        [
         "(49) 3644-4024"
        ],
        [
         "(49) 3441-8566"
        ],
        [
         "(11) 3051-6986"
        ],
        [
         "(55) 3431-5730"
        ],
        [
         "(21) 2791-2866"
        ],
        [
         "(82) 3279-3461"
        ],
        [
         "(61) 3441-9618"
        ],
        [
         "(62) 3233-5773"
        ],
        [
         "(82) 9933-4926"
        ],
        [
         "(91) 98106-1856"
        ],
        [
         "(67) 3287-2904"
        ],
        [
         "(83) 3534-2206"
        ],
        [
         "(38) 3671-6237"
        ],
        [
         "(82) 3283-1459"
        ],
        [
         "(98) 3231-2943"
        ],
        [
         "(55) 3536-1250"
        ],
        [
         "(11) 3285-6986"
        ],
        [
         "(11) 5083-0199"
        ],
        [
         "(22) 99926-1322"
        ],
        [
         "(84) 99934-3677"
        ],
        [
         "(11) 7742-2507"
        ],
        [
         "(51) 3054-7695"
        ],
        [
         "(47) 3643-7664"
        ],
        [
         "(68) 3223-9240"
        ],
        [
         "(24) 3369-7693"
        ],
        [
         "(21) 3938-8230"
        ],
        [
         "(17) 3212-9152"
        ],
        [
         "(27) 3259-1182"
        ],
        [
         "(31) 98858-1060"
        ],
        [
         "(15) 3271-0955"
        ]
       ],
       "datasetInfos": [],
       "dbfsResultPath": null,
       "isJsonSchema": true,
       "metadata": {},
       "overflow": false,
       "plotOptions": {
        "customPlotOptions": {},
        "displayType": "table",
        "pivotAggregation": null,
        "pivotColumns": null,
        "xColumns": null,
        "yColumns": null
       },
       "removedWidgets": [],
       "schema": [
        {
         "metadata": "{}",
         "name": "Telefone",
         "type": "\"string\""
        }
       ],
       "type": "table"
      }
     },
     "output_type": "display_data"
    }
   ],
   "source": [
    "display(df3.select('Telefone').distinct())"
   ]
  }
 ],
 "metadata": {
  "application/vnd.databricks.v1+notebook": {
   "dashboards": [],
   "language": "python",
   "notebookMetadata": {
    "pythonIndentUnit": 4
   },
   "notebookName": "lab_04_museu",
   "widgets": {}
  }
 },
 "nbformat": 4,
 "nbformat_minor": 0
}
